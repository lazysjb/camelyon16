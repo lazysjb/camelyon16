{
 "cells": [
  {
   "cell_type": "code",
   "execution_count": 1,
   "metadata": {},
   "outputs": [],
   "source": [
    "from openslide import open_slide\n",
    "import os\n",
    "import numpy as np\n",
    "import matplotlib.pyplot as plt\n",
    "import cv2\n",
    "from PIL import Image, ImageDraw\n",
    "from glob import glob\n",
    "from tqdm import tqdm\n",
    "import pandas as pd"
   ]
  },
  {
   "cell_type": "code",
   "execution_count": 2,
   "metadata": {},
   "outputs": [],
   "source": [
    "SOURCE_DIR = os.path.expanduser('~/Projects/Columbia/Applied_DL/CamelyonProject/data/source_data/')\n",
    "DEST_DIR = '/home/sjb/Projects/Columbia/Applied_DL/CamelyonProject/data/bounding_boxes/mask/'"
   ]
  },
  {
   "cell_type": "code",
   "execution_count": 3,
   "metadata": {},
   "outputs": [],
   "source": [
    "slide_img_paths = [x for x in glob(SOURCE_DIR + 'tumor*.tif') if 'mask.tif' not in x]"
   ]
  },
  {
   "cell_type": "code",
   "execution_count": 159,
   "metadata": {},
   "outputs": [
    {
     "data": {
      "text/plain": [
       "['/home/sjb/Projects/Columbia/Applied_DL/CamelyonProject/data/source_data/tumor_023.tif',\n",
       " '/home/sjb/Projects/Columbia/Applied_DL/CamelyonProject/data/source_data/tumor_019.tif',\n",
       " '/home/sjb/Projects/Columbia/Applied_DL/CamelyonProject/data/source_data/tumor_096.tif',\n",
       " '/home/sjb/Projects/Columbia/Applied_DL/CamelyonProject/data/source_data/tumor_031.tif',\n",
       " '/home/sjb/Projects/Columbia/Applied_DL/CamelyonProject/data/source_data/tumor_016.tif',\n",
       " '/home/sjb/Projects/Columbia/Applied_DL/CamelyonProject/data/source_data/tumor_059.tif',\n",
       " '/home/sjb/Projects/Columbia/Applied_DL/CamelyonProject/data/source_data/tumor_012.tif',\n",
       " '/home/sjb/Projects/Columbia/Applied_DL/CamelyonProject/data/source_data/tumor_064.tif',\n",
       " '/home/sjb/Projects/Columbia/Applied_DL/CamelyonProject/data/source_data/tumor_101.tif',\n",
       " '/home/sjb/Projects/Columbia/Applied_DL/CamelyonProject/data/source_data/tumor_084.tif',\n",
       " '/home/sjb/Projects/Columbia/Applied_DL/CamelyonProject/data/source_data/tumor_078.tif',\n",
       " '/home/sjb/Projects/Columbia/Applied_DL/CamelyonProject/data/source_data/tumor_038.tif',\n",
       " '/home/sjb/Projects/Columbia/Applied_DL/CamelyonProject/data/source_data/tumor_075.tif',\n",
       " '/home/sjb/Projects/Columbia/Applied_DL/CamelyonProject/data/source_data/tumor_091.tif',\n",
       " '/home/sjb/Projects/Columbia/Applied_DL/CamelyonProject/data/source_data/tumor_094.tif',\n",
       " '/home/sjb/Projects/Columbia/Applied_DL/CamelyonProject/data/source_data/tumor_002.tif',\n",
       " '/home/sjb/Projects/Columbia/Applied_DL/CamelyonProject/data/source_data/tumor_110.tif',\n",
       " '/home/sjb/Projects/Columbia/Applied_DL/CamelyonProject/data/source_data/tumor_035.tif',\n",
       " '/home/sjb/Projects/Columbia/Applied_DL/CamelyonProject/data/source_data/tumor_057.tif',\n",
       " '/home/sjb/Projects/Columbia/Applied_DL/CamelyonProject/data/source_data/tumor_081.tif',\n",
       " '/home/sjb/Projects/Columbia/Applied_DL/CamelyonProject/data/source_data/tumor_001.tif',\n",
       " '/home/sjb/Projects/Columbia/Applied_DL/CamelyonProject/data/source_data/tumor_005.tif']"
      ]
     },
     "execution_count": 159,
     "metadata": {},
     "output_type": "execute_result"
    }
   ],
   "source": [
    "slide_img_paths"
   ]
  },
  {
   "cell_type": "code",
   "execution_count": 210,
   "metadata": {},
   "outputs": [],
   "source": [
    "sample_img_id = '031'\n",
    "sample_img_path = '/home/sjb/Projects/Columbia/Applied_DL/CamelyonProject/data/source_data/tumor_{}.tif'.format(sample_img_id)\n",
    "sample_mask_path = '/home/sjb/Projects/Columbia/Applied_DL/CamelyonProject/data/source_data/tumor_{}_mask.tif'.format(sample_img_id)"
   ]
  },
  {
   "cell_type": "code",
   "execution_count": 211,
   "metadata": {},
   "outputs": [],
   "source": [
    "sample_slide = open_slide(sample_img_path)\n",
    "sample_mask = open_slide(sample_mask_path)"
   ]
  },
  {
   "cell_type": "code",
   "execution_count": 212,
   "metadata": {},
   "outputs": [
    {
     "data": {
      "text/plain": [
       "(1.0, 2.0, 4.0, 8.0, 16.0, 32.0, 64.0, 128.0, 256.0, 512.0)"
      ]
     },
     "execution_count": 212,
     "metadata": {},
     "output_type": "execute_result"
    }
   ],
   "source": [
    "sample_slide.level_downsamples"
   ]
  },
  {
   "cell_type": "code",
   "execution_count": 213,
   "metadata": {},
   "outputs": [
    {
     "data": {
      "text/plain": [
       "(4.0, 32.0)"
      ]
     },
     "execution_count": 213,
     "metadata": {},
     "output_type": "execute_result"
    }
   ],
   "source": [
    "sample_slide.level_downsamples[2], sample_slide.level_downsamples[5]"
   ]
  },
  {
   "cell_type": "code",
   "execution_count": 214,
   "metadata": {},
   "outputs": [
    {
     "data": {
      "text/plain": [
       "22"
      ]
     },
     "execution_count": 214,
     "metadata": {},
     "output_type": "execute_result"
    }
   ],
   "source": [
    "len(slide_img_paths)"
   ]
  },
  {
   "cell_type": "code",
   "execution_count": 215,
   "metadata": {},
   "outputs": [],
   "source": [
    "# See https://openslide.org/api/python/#openslide.OpenSlide.read_region\n",
    "# Note: x,y coords are with respect to level 0.\n",
    "# There is an example below of working with coordinates\n",
    "# with respect to a higher zoom level.\n",
    "\n",
    "# Read a region from the slide\n",
    "# Return a numpy RBG array\n",
    "# def read_slide(slide, x, y, level, width, height, as_float=False):\n",
    "#     im = slide.read_region((x,y), level, (width, height))\n",
    "#     im = im.convert('RGB') # drop the alpha channel\n",
    "#     if as_float:\n",
    "#         im = np.asarray(im, dtype=np.float32)\n",
    "#     else:\n",
    "#         im = np.asarray(im)\n",
    "#     assert im.shape == (height, width, 3)\n",
    "#     return im\n",
    "\n",
    "def read_slide_pil(slide, x, y, level, width, height, as_float=False):\n",
    "    im = slide.read_region((x,y), level, (width, height))\n",
    "    im = im.convert('RGB') # drop the alpha channel\n",
    "    return im"
   ]
  },
  {
   "cell_type": "code",
   "execution_count": 216,
   "metadata": {},
   "outputs": [],
   "source": [
    "def get_normal_image_contours(cont_img, rgb_image, cont_img_tmp):\n",
    "    contours, _ = cv2.findContours(cont_img, cv2.RETR_EXTERNAL, cv2.CHAIN_APPROX_SIMPLE)\n",
    "    contours_tmp, _ = cv2.findContours(cont_img_tmp, cv2.RETR_EXTERNAL, cv2.CHAIN_APPROX_SIMPLE)\n",
    "    # print(contours)\n",
    "    boundingBoxes = [cv2.boundingRect(c) for c in contours]\n",
    "    # print(boundingBoxes)\n",
    "    contours_rgb_image_array = np.array(rgb_image)\n",
    "    contours_rgb_image_array_tmp = np.array(rgb_image)\n",
    "\n",
    "    line_color = (255, 0, 0)  # blue color code\n",
    "    cv2.drawContours(contours_rgb_image_array, contours, -1, line_color, 3)\n",
    "    cv2.drawContours(contours_rgb_image_array_tmp, contours_tmp, -1, line_color, 3)\n",
    "    # cv2.drawContours(mask_image, contours_mask, -1, line_color, 3)\n",
    "    return contours_rgb_image_array, boundingBoxes, contours_rgb_image_array_tmp"
   ]
  },
  {
   "cell_type": "code",
   "execution_count": 217,
   "metadata": {},
   "outputs": [],
   "source": [
    "def draw_bbox(slide_pil_img, bounding_boxes):\n",
    "    draw = ImageDraw.Draw(slide_pil_img)\n",
    "    for i, bounding_box in enumerate(bounding_boxes):\n",
    "        x = int(bounding_box[0])\n",
    "        y = int(bounding_box[1])\n",
    "        thickness = 5\n",
    "        for offset in range(thickness):\n",
    "            draw.rectangle([x + offset, y + offset, x + offset + bounding_box[2], y + offset + bounding_box[3]],\n",
    "                           outline=(255, 0, 0))"
   ]
  },
  {
   "cell_type": "code",
   "execution_count": 218,
   "metadata": {},
   "outputs": [],
   "source": [
    "def get_slide_with_bounding_box(slide):\n",
    "    slide_pil_image = read_slide_pil(slide, \n",
    "                         x=0, \n",
    "                         y=0, \n",
    "                         level=5, \n",
    "                         width=slide.level_dimensions[5][0], \n",
    "                         height=slide.level_dimensions[5][1])\n",
    "    \n",
    "    slide_img = np.array(slide_pil_image)\n",
    "    \n",
    "    hsv = cv2.cvtColor(slide_img, cv2.COLOR_BGR2HSV)\n",
    "        # [20, 20, 20]\n",
    "    lower_red = np.array([50, 50, 50])\n",
    "    # [255, 255, 255]\n",
    "    upper_red = np.array([200, 200, 200])\n",
    "    mask = cv2.inRange(hsv, lower_red, upper_red)\n",
    "    res = cv2.bitwise_and(slide_img, slide_img, mask=mask)\n",
    "\n",
    "    # (50, 50)\n",
    "#     close_kernel = np.ones((20, 20), dtype=np.uint8)\n",
    "#     close_kernel_tmp = np.ones((50, 50), dtype=np.uint8)\n",
    "    close_kernel = np.ones((50, 50), dtype=np.uint8)\n",
    "    close_kernel_tmp = np.ones((30, 30), dtype=np.uint8)\n",
    "    image_close = Image.fromarray(cv2.morphologyEx(np.array(mask), cv2.MORPH_CLOSE, close_kernel))\n",
    "    image_close_tmp = Image.fromarray(cv2.morphologyEx(np.array(mask), cv2.MORPH_CLOSE, close_kernel_tmp))\n",
    "    # (30, 30)\n",
    "#     open_kernel = np.ones((5, 5), dtype=np.uint8)\n",
    "#     open_kernel_tmp = np.ones((30, 30), dtype=np.uint8)\n",
    "    open_kernel = np.ones((30, 30), dtype=np.uint8)\n",
    "    open_kernel_tmp = np.ones((30, 30), dtype=np.uint8)\n",
    "    image_open = Image.fromarray(cv2.morphologyEx(np.array(image_close), cv2.MORPH_OPEN, open_kernel))\n",
    "    image_open_tmp = Image.fromarray(cv2.morphologyEx(np.array(image_close_tmp), cv2.MORPH_OPEN, open_kernel_tmp))\n",
    "    contour_rgb, bounding_boxes, contour_rgb_tmp = get_normal_image_contours(np.array(image_open),\n",
    "                                                                                  slide_img,\n",
    "                                                                                  np.array(image_open_tmp))\n",
    "    \n",
    "    \n",
    "    draw_bbox(slide_pil_image, bounding_boxes)\n",
    "    return image_open, contour_rgb"
   ]
  },
  {
   "cell_type": "code",
   "execution_count": 219,
   "metadata": {},
   "outputs": [],
   "source": [
    "sample_slide_pil_mask = read_slide_pil(sample_mask, \n",
    "                         x=0, \n",
    "                         y=0, \n",
    "                         level=5, \n",
    "                         width=sample_slide.level_dimensions[5][0], \n",
    "                         height=sample_slide.level_dimensions[5][1])"
   ]
  },
  {
   "cell_type": "code",
   "execution_count": 220,
   "metadata": {},
   "outputs": [],
   "source": [
    "sample_mask_arr = np.asarray(sample_slide_pil_mask)[:, :, 0]"
   ]
  },
  {
   "cell_type": "code",
   "execution_count": 221,
   "metadata": {},
   "outputs": [],
   "source": [
    "sample_slide_pil_image = read_slide_pil(sample_slide, \n",
    "                         x=0, \n",
    "                         y=0, \n",
    "                         level=5, \n",
    "                         width=sample_slide.level_dimensions[5][0], \n",
    "                         height=sample_slide.level_dimensions[5][1])\n",
    "    \n",
    "sample_slide_img_arr = np.array(sample_slide_pil_image)\n",
    "\n",
    "image_open, contour_rgb = get_slide_with_bounding_box(sample_slide)"
   ]
  },
  {
   "cell_type": "code",
   "execution_count": 222,
   "metadata": {},
   "outputs": [],
   "source": [
    "image_open_arr = np.asarray(image_open)"
   ]
  },
  {
   "cell_type": "code",
   "execution_count": 223,
   "metadata": {},
   "outputs": [
    {
     "data": {
      "text/plain": [
       "(6912, 3056)"
      ]
     },
     "execution_count": 223,
     "metadata": {},
     "output_type": "execute_result"
    }
   ],
   "source": [
    "image_open_arr.shape"
   ]
  },
  {
   "cell_type": "code",
   "execution_count": 224,
   "metadata": {},
   "outputs": [
    {
     "data": {
      "text/plain": [
       "<matplotlib.image.AxesImage at 0x7f0449eb89b0>"
      ]
     },
     "execution_count": 224,
     "metadata": {},
     "output_type": "execute_result"
    },
    {
     "data": {
      "image/png": "[encoded data removed]",
      "text/plain": [
       "<Figure size 1080x2880 with 1 Axes>"
      ]
     },
     "metadata": {
      "needs_background": "light"
     },
     "output_type": "display_data"
    }
   ],
   "source": [
    "plt.figure(figsize=(15, 40))\n",
    "# plt.imshow(sample_slide_img_arr)\n",
    "plt.imshow(image_open_arr, alpha=0.5)\n",
    "plt.imshow(sample_mask_arr, alpha=0.5)"
   ]
  },
  {
   "cell_type": "code",
   "execution_count": 225,
   "metadata": {},
   "outputs": [],
   "source": [
    "# for slide_img_path in slide_img_paths:\n",
    "#     slide = open_slide(slide_img_path)\n",
    "#     image_open, contour_rgb = get_slide_with_bounding_box(slide)\n",
    "#     image_open_arr = (np.asarray(image_open) / 255).astype(int)\n",
    "    \n",
    "#     base_name = os.path.basename(slide_img_path)\n",
    "#     dest_file_name = 'zoom5_opening_mask_' + base_name.replace('.tif', '.npy')\n",
    "    \n",
    "#     np.save(os.path.join(DEST_DIR, dest_file_name), image_open_arr)\n",
    "#     plt.figure(figsize=(15, 15))\n",
    "#     plt.imshow(contour_rgb)\n",
    "#     plt.imshow(image_open_arr, alpha=0.5)\n"
   ]
  },
  {
   "cell_type": "code",
   "execution_count": 156,
   "metadata": {},
   "outputs": [
    {
     "data": {
      "text/plain": [
       "(6864, 3056)"
      ]
     },
     "execution_count": 156,
     "metadata": {},
     "output_type": "execute_result"
    }
   ],
   "source": [
    "image_open_arr.shape"
   ]
  },
  {
   "cell_type": "code",
   "execution_count": null,
   "metadata": {},
   "outputs": [],
   "source": [
    "contour_rgb.shape"
   ]
  },
  {
   "cell_type": "code",
   "execution_count": null,
   "metadata": {},
   "outputs": [],
   "source": [
    "np.unique(image_open_arr)"
   ]
  },
  {
   "cell_type": "code",
   "execution_count": null,
   "metadata": {},
   "outputs": [],
   "source": []
  },
  {
   "cell_type": "code",
   "execution_count": null,
   "metadata": {},
   "outputs": [],
   "source": []
  },
  {
   "cell_type": "code",
   "execution_count": null,
   "metadata": {},
   "outputs": [],
   "source": [
    "slide_pil_image = read_slide_pil(slide, \n",
    "                         x=0, \n",
    "                         y=0, \n",
    "                         level=4, \n",
    "                         width=slide.level_dimensions[4][0], \n",
    "                         height=slide.level_dimensions[4][1])"
   ]
  },
  {
   "cell_type": "code",
   "execution_count": null,
   "metadata": {},
   "outputs": [],
   "source": [
    " slide_img = np.array(slide_pil_image)\n",
    "    \n",
    "hsv = cv2.cvtColor(slide_img, cv2.COLOR_BGR2HSV)\n",
    "    # [20, 20, 20]\n",
    "lower_red = np.array([30, 30, 30])\n",
    "# [255, 255, 255]\n",
    "upper_red = np.array([200, 200, 200])\n",
    "mask = cv2.inRange(hsv, lower_red, upper_red)\n",
    "res = cv2.bitwise_and(slide_img, slide_img, mask=mask)\n",
    "\n",
    "# (50, 50)\n",
    "close_kernel = np.ones((50, 50), dtype=np.uint8)\n",
    "close_kernel_tmp = np.ones((30, 30), dtype=np.uint8)\n",
    "image_close = Image.fromarray(cv2.morphologyEx(np.array(mask), cv2.MORPH_CLOSE, close_kernel))\n",
    "image_close_tmp = Image.fromarray(cv2.morphologyEx(np.array(mask), cv2.MORPH_CLOSE, close_kernel_tmp))\n",
    "# (30, 30)\n",
    "open_kernel = np.ones((30, 30), dtype=np.uint8)\n",
    "open_kernel_tmp = np.ones((30, 30), dtype=np.uint8)\n",
    "image_open = Image.fromarray(cv2.morphologyEx(np.array(image_close), cv2.MORPH_OPEN, open_kernel))\n",
    "image_open_tmp = Image.fromarray(cv2.morphologyEx(np.array(image_close_tmp), cv2.MORPH_OPEN, open_kernel_tmp))\n",
    "contour_rgb, bounding_boxes, contour_rgb_tmp = get_normal_image_contours(np.array(image_open),\n",
    "                                                                              slide_img,\n",
    "                                                                              np.array(image_open_tmp))"
   ]
  },
  {
   "cell_type": "code",
   "execution_count": null,
   "metadata": {},
   "outputs": [],
   "source": [
    "img_open_arr = np.asarray(image_open)"
   ]
  },
  {
   "cell_type": "code",
   "execution_count": null,
   "metadata": {},
   "outputs": [],
   "source": [
    "img_open_arr.shape"
   ]
  },
  {
   "cell_type": "code",
   "execution_count": null,
   "metadata": {},
   "outputs": [],
   "source": [
    "np.unique(img_open_arr)"
   ]
  },
  {
   "cell_type": "code",
   "execution_count": null,
   "metadata": {},
   "outputs": [],
   "source": [
    "sample_img_open_arr = (img_open_arr / 255).astype(np.uint8)"
   ]
  },
  {
   "cell_type": "code",
   "execution_count": null,
   "metadata": {},
   "outputs": [],
   "source": [
    "sample_img_open_arr.shape"
   ]
  },
  {
   "cell_type": "code",
   "execution_count": null,
   "metadata": {},
   "outputs": [],
   "source": [
    "np.save('tumor_091_binary_img_opening.npy', sample_img_open_arr)"
   ]
  },
  {
   "cell_type": "code",
   "execution_count": null,
   "metadata": {},
   "outputs": [],
   "source": []
  },
  {
   "cell_type": "code",
   "execution_count": null,
   "metadata": {},
   "outputs": [],
   "source": [
    "#image_open"
   ]
  },
  {
   "cell_type": "code",
   "execution_count": null,
   "metadata": {},
   "outputs": [],
   "source": [
    "slide_pil_with_bb, contour_rgb = get_slide_with_bouding_box(slide)\n",
    "contour_pil = Image.fromarray(contour_rgb, 'RGB')\n",
    "contour_arr = np.asarray(contour_pil)"
   ]
  },
  {
   "cell_type": "code",
   "execution_count": null,
   "metadata": {},
   "outputs": [],
   "source": [
    "plt.figure(figsize=(15, 15))\n",
    "\n",
    "plt.imshow(contour_arr)\n",
    "#plt.imshow(img_open_arr, alpha=0.2)\n",
    "plt.imshow(sample_img_open_arr, alpha=0.6)"
   ]
  },
  {
   "cell_type": "code",
   "execution_count": null,
   "metadata": {},
   "outputs": [],
   "source": []
  },
  {
   "cell_type": "code",
   "execution_count": null,
   "metadata": {},
   "outputs": [],
   "source": []
  },
  {
   "cell_type": "code",
   "execution_count": null,
   "metadata": {},
   "outputs": [],
   "source": [
    "meta_file_path = '/home/sjb/Projects/Columbia/Applied_DL/CamelyonProject/data/zoom_5_60_60_partition/meta/all_info_0.4_grayscale_tol.json'"
   ]
  },
  {
   "cell_type": "code",
   "execution_count": null,
   "metadata": {},
   "outputs": [],
   "source": [
    "meta_df = pd.read_json(meta_file_path, dtype=False)"
   ]
  },
  {
   "cell_type": "code",
   "execution_count": null,
   "metadata": {},
   "outputs": [],
   "source": [
    "meta_df = meta_df[meta_df['img_id'] == '091'].copy()"
   ]
  },
  {
   "cell_type": "code",
   "execution_count": null,
   "metadata": {},
   "outputs": [],
   "source": [
    "meta_file_names = meta_df['file_name'].values"
   ]
  },
  {
   "cell_type": "code",
   "execution_count": null,
   "metadata": {},
   "outputs": [],
   "source": [
    "slide.level_downsamples[4], slide.level_downsamples[5]"
   ]
  },
  {
   "cell_type": "code",
   "execution_count": null,
   "metadata": {},
   "outputs": [],
   "source": [
    "is_roi_list = []\n",
    "\n",
    "for file_name in meta_file_names:\n",
    "    row_id = int(file_name.split('_')[-2])\n",
    "    col_id = int(file_name.split('_')[-1].split('.')[0])\n",
    "    \n",
    "    x_start = row_id * 60 * 2\n",
    "    x_end = x_start + 60 * 2\n",
    "    y_start = col_id * 60 * 2\n",
    "    y_end = y_start + 60 * 2\n",
    "    \n",
    "    opening_patch = sample_img_open_arr[x_start:x_end, y_start:y_end]\n",
    "    \n",
    "    if opening_patch.sum() > 1:\n",
    "        is_roi = True\n",
    "    else:\n",
    "        is_roi = False\n",
    "    \n",
    "    is_roi_list.append(is_roi)"
   ]
  },
  {
   "cell_type": "code",
   "execution_count": null,
   "metadata": {},
   "outputs": [],
   "source": [
    "meta_df['is_roi'] = is_roi_list"
   ]
  },
  {
   "cell_type": "code",
   "execution_count": null,
   "metadata": {},
   "outputs": [],
   "source": [
    "roi_images = meta_df.loc[meta_df['is_roi'] == True, 'file_name'].values"
   ]
  },
  {
   "cell_type": "code",
   "execution_count": null,
   "metadata": {},
   "outputs": [],
   "source": [
    "roi_images = sorted(roi_images)"
   ]
  },
  {
   "cell_type": "code",
   "execution_count": null,
   "metadata": {},
   "outputs": [],
   "source": [
    "VAL_IMG_DIR = '../../../data/zoom_5_60_60_partition/test/slide/'"
   ]
  },
  {
   "cell_type": "code",
   "execution_count": null,
   "metadata": {},
   "outputs": [],
   "source": [
    "is_roi_dict = meta_df.set_index('file_name')['is_roi'].to_dict()"
   ]
  },
  {
   "cell_type": "code",
   "execution_count": null,
   "metadata": {},
   "outputs": [],
   "source": [
    "n_offsets = 2\n",
    "fig, axes = plt.subplots(n_offsets * 2 + 1, n_offsets * 2 + 1, figsize=(15, 15))\n",
    "# plt.tight_layout()\n",
    "n_rows = 5\n",
    "n_cols = 5\n",
    "\n",
    "center_row = 4\n",
    "center_col = 15\n",
    "\n",
    "for i in range(n_rows):\n",
    "    for j in range(n_cols):\n",
    "        row = center_row - n_offsets + i\n",
    "        col = center_col - n_offsets + j\n",
    "        \n",
    "        img_file = 'tumor_slide_{}_split_{}_{}.png'.format('091', row, col)\n",
    "#         mask_file = 'tumor_mask_{}_split_{}_{}.npy'.format(img_id, row, col)\n",
    "        \n",
    "        img_arr = np.asarray(Image.open(os.path.join(VAL_IMG_DIR, img_file)))\n",
    "#         mask_arr = np.load(os.path.join(VAL_MASK_DIR, mask_file))\n",
    "        \n",
    "        axes[i, j].set_axis_off()\n",
    "        axes[i, j].imshow(img_arr)\n",
    "        \n",
    "        if is_roi_dict[img_file]:\n",
    "            temp_mask = np.ones_like(img_arr)[:, :, 0]\n",
    "            axes[i, j].imshow(temp_mask, alpha=0.8)\n",
    "        \n",
    "#         axes[i, j].imshow(mask_arr, alpha=0.2)"
   ]
  },
  {
   "cell_type": "code",
   "execution_count": null,
   "metadata": {},
   "outputs": [],
   "source": []
  }
 ],
 "metadata": {
  "kernelspec": {
   "display_name": "Python 3",
   "language": "python",
   "name": "python3"
  },
  "language_info": {
   "codemirror_mode": {
    "name": "ipython",
    "version": 3
   },
   "file_extension": ".py",
   "mimetype": "text/x-python",
   "name": "python",
   "nbconvert_exporter": "python",
   "pygments_lexer": "ipython3",
   "version": "3.6.8"
  }
 },
 "nbformat": 4,
 "nbformat_minor": 2
}
