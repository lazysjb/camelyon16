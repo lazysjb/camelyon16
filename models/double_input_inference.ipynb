{
  "nbformat": 4,
  "nbformat_minor": 0,
  "metadata": {
    "colab": {
      "name": "double_input_inference.ipynb",
      "version": "0.3.2",
      "provenance": [],
      "collapsed_sections": [],
      "toc_visible": true
    },
    "kernelspec": {
      "name": "python3",
      "display_name": "Python 3"
    },
    "accelerator": "GPU"
  },
  "cells": [
    {
      "cell_type": "code",
      "metadata": {
        "id": "uFWIrvtZAcZh",
        "colab_type": "code",
        "outputId": "c7976eae-223f-4839-fb31-c1a10bdba3a3",
        "colab": {
          "base_uri": "https://localhost:8080/",
          "height": 524
        }
      },
      "source": [
        "!pip install tensorflow-gpu==2.0.0-alpha0"
      ],
      "execution_count": 0,
      "outputs": [
        {
          "output_type": "stream",
          "text": [
            "Collecting tensorflow-gpu==2.0.0-alpha0\n",
            "\u001b[?25l  Downloading https://files.pythonhosted.org/packages/1a/66/32cffad095253219d53f6b6c2a436637bbe45ac4e7be0244557210dc3918/tensorflow_gpu-2.0.0a0-cp36-cp36m-manylinux1_x86_64.whl (332.1MB)\n",
            "\u001b[K     |████████████████████████████████| 332.1MB 57kB/s \n",
            "\u001b[?25hCollecting tf-estimator-nightly<1.14.0.dev2019030116,>=1.14.0.dev2019030115 (from tensorflow-gpu==2.0.0-alpha0)\n",
            "\u001b[?25l  Downloading https://files.pythonhosted.org/packages/13/82/f16063b4eed210dc2ab057930ac1da4fbe1e91b7b051a6c8370b401e6ae7/tf_estimator_nightly-1.14.0.dev2019030115-py2.py3-none-any.whl (411kB)\n",
            "\u001b[K     |████████████████████████████████| 419kB 35.3MB/s \n",
            "\u001b[?25hRequirement already satisfied: gast>=0.2.0 in /usr/local/lib/python3.6/dist-packages (from tensorflow-gpu==2.0.0-alpha0) (0.2.2)\n",
            "Requirement already satisfied: absl-py>=0.7.0 in /usr/local/lib/python3.6/dist-packages (from tensorflow-gpu==2.0.0-alpha0) (0.7.1)\n",
            "Requirement already satisfied: keras-applications>=1.0.6 in /usr/local/lib/python3.6/dist-packages (from tensorflow-gpu==2.0.0-alpha0) (1.0.7)\n",
            "Collecting google-pasta>=0.1.2 (from tensorflow-gpu==2.0.0-alpha0)\n",
            "\u001b[?25l  Downloading https://files.pythonhosted.org/packages/f9/68/a14620bfb042691f532dcde8576ff82ee82e4c003cdc0a3dbee5f289cee6/google_pasta-0.1.6-py3-none-any.whl (51kB)\n",
            "\u001b[K     |████████████████████████████████| 61kB 13.2MB/s \n",
            "\u001b[?25hRequirement already satisfied: protobuf>=3.6.1 in /usr/local/lib/python3.6/dist-packages (from tensorflow-gpu==2.0.0-alpha0) (3.7.1)\n",
            "Requirement already satisfied: numpy<2.0,>=1.14.5 in /usr/local/lib/python3.6/dist-packages (from tensorflow-gpu==2.0.0-alpha0) (1.16.3)\n",
            "Requirement already satisfied: grpcio>=1.8.6 in /usr/local/lib/python3.6/dist-packages (from tensorflow-gpu==2.0.0-alpha0) (1.15.0)\n",
            "Requirement already satisfied: wheel>=0.26 in /usr/local/lib/python3.6/dist-packages (from tensorflow-gpu==2.0.0-alpha0) (0.33.4)\n",
            "Collecting tb-nightly<1.14.0a20190302,>=1.14.0a20190301 (from tensorflow-gpu==2.0.0-alpha0)\n",
            "\u001b[?25l  Downloading https://files.pythonhosted.org/packages/a9/51/aa1d756644bf4624c03844115e4ac4058eff77acd786b26315f051a4b195/tb_nightly-1.14.0a20190301-py3-none-any.whl (3.0MB)\n",
            "\u001b[K     |████████████████████████████████| 3.0MB 43.9MB/s \n",
            "\u001b[?25hRequirement already satisfied: termcolor>=1.1.0 in /usr/local/lib/python3.6/dist-packages (from tensorflow-gpu==2.0.0-alpha0) (1.1.0)\n",
            "Requirement already satisfied: six>=1.10.0 in /usr/local/lib/python3.6/dist-packages (from tensorflow-gpu==2.0.0-alpha0) (1.12.0)\n",
            "Requirement already satisfied: astor>=0.6.0 in /usr/local/lib/python3.6/dist-packages (from tensorflow-gpu==2.0.0-alpha0) (0.7.1)\n",
            "Requirement already satisfied: keras-preprocessing>=1.0.5 in /usr/local/lib/python3.6/dist-packages (from tensorflow-gpu==2.0.0-alpha0) (1.0.9)\n",
            "Requirement already satisfied: h5py in /usr/local/lib/python3.6/dist-packages (from keras-applications>=1.0.6->tensorflow-gpu==2.0.0-alpha0) (2.8.0)\n",
            "Requirement already satisfied: setuptools in /usr/local/lib/python3.6/dist-packages (from protobuf>=3.6.1->tensorflow-gpu==2.0.0-alpha0) (41.0.1)\n",
            "Requirement already satisfied: werkzeug>=0.11.15 in /usr/local/lib/python3.6/dist-packages (from tb-nightly<1.14.0a20190302,>=1.14.0a20190301->tensorflow-gpu==2.0.0-alpha0) (0.15.2)\n",
            "Requirement already satisfied: markdown>=2.6.8 in /usr/local/lib/python3.6/dist-packages (from tb-nightly<1.14.0a20190302,>=1.14.0a20190301->tensorflow-gpu==2.0.0-alpha0) (3.1)\n",
            "Installing collected packages: tf-estimator-nightly, google-pasta, tb-nightly, tensorflow-gpu\n",
            "Successfully installed google-pasta-0.1.6 tb-nightly-1.14.0a20190301 tensorflow-gpu-2.0.0a0 tf-estimator-nightly-1.14.0.dev2019030115\n"
          ],
          "name": "stdout"
        }
      ]
    },
    {
      "cell_type": "code",
      "metadata": {
        "id": "bbaydY1YApew",
        "colab_type": "code",
        "outputId": "d190a96f-a0ea-43e8-ff27-c323c3e28ca5",
        "colab": {
          "base_uri": "https://localhost:8080/",
          "height": 34
        }
      },
      "source": [
        "import tensorflow as tf\n",
        "tf.__version__"
      ],
      "execution_count": 0,
      "outputs": [
        {
          "output_type": "execute_result",
          "data": {
            "text/plain": [
              "'2.0.0-alpha0'"
            ]
          },
          "metadata": {
            "tags": []
          },
          "execution_count": 3
        }
      ]
    },
    {
      "cell_type": "code",
      "metadata": {
        "id": "J0IxqA8kAt0O",
        "colab_type": "code",
        "colab": {}
      },
      "source": [
        "# import libraries\n",
        "import os\n",
        "import zipfile\n",
        "import pandas as pd\n",
        "import matplotlib.pyplot as plt\n",
        "import numpy as np\n",
        "from tqdm import tqdm\n",
        "\n",
        "from tensorflow.keras import models, layers\n",
        "from tensorflow import keras"
      ],
      "execution_count": 0,
      "outputs": []
    },
    {
      "cell_type": "code",
      "metadata": {
        "id": "BhiQQgwzBzca",
        "colab_type": "code",
        "colab": {}
      },
      "source": [
        "SOURCE_ZIPFILE_ZOOM_1 = 'zoom_1_256_256_partition_test_only.zip'\n",
        "SOURCE_ZIPFILE_ZOOM_2 = 'zoom_2_256_256_partition_zoom_1_pair_test_only.zip'\n"
      ],
      "execution_count": 0,
      "outputs": []
    },
    {
      "cell_type": "code",
      "metadata": {
        "id": "gyantKsUXjfu",
        "colab_type": "code",
        "colab": {}
      },
      "source": [
        "BEST_MODEL_WEIGHT = 'combined_vgg_transfer_batch_norm_03-0.9627-0.1151.h5'"
      ],
      "execution_count": 0,
      "outputs": []
    },
    {
      "cell_type": "code",
      "metadata": {
        "id": "ybu0A3cP4rxi",
        "colab_type": "code",
        "colab": {}
      },
      "source": [
        "zipped_file_url_zoom_1 = 'https://storage.googleapis.com/applied-dl-sj/camelyon/input_data/new/{}'.format(SOURCE_ZIPFILE_ZOOM_1)\n",
        "zipped_file_url_zoom_2 = 'https://storage.googleapis.com/applied-dl-sj/camelyon/input_data/new/{}'.format(SOURCE_ZIPFILE_ZOOM_2)"
      ],
      "execution_count": 0,
      "outputs": []
    },
    {
      "cell_type": "code",
      "metadata": {
        "id": "vp8TEteo4kL9",
        "colab_type": "code",
        "outputId": "0f949909-93aa-49ce-e819-ecaf4b2c001d",
        "colab": {
          "base_uri": "https://localhost:8080/",
          "height": 138
        }
      },
      "source": [
        "!curl -O $zipped_file_url_zoom_1\n",
        "!curl -O $zipped_file_url_zoom_2"
      ],
      "execution_count": 0,
      "outputs": [
        {
          "output_type": "stream",
          "text": [
            "  % Total    % Received % Xferd  Average Speed   Time    Time     Time  Current\n",
            "                                 Dload  Upload   Total   Spent    Left  Speed\n",
            "100 6550M  100 6550M    0     0  56.6M      0  0:01:55  0:01:55 --:--:-- 71.6M\n",
            "  % Total    % Received % Xferd  Average Speed   Time    Time     Time  Current\n",
            "                                 Dload  Upload   Total   Spent    Left  Speed\n",
            "100 6512M  100 6512M    0     0  65.2M      0  0:01:39  0:01:39 --:--:-- 88.6M\n"
          ],
          "name": "stdout"
        }
      ]
    },
    {
      "cell_type": "code",
      "metadata": {
        "id": "m_gR5A6PA2yN",
        "colab_type": "code",
        "outputId": "dc46792c-9e93-4668-fff1-baa4dc9bdfc0",
        "colab": {
          "base_uri": "https://localhost:8080/",
          "height": 50
        }
      },
      "source": [
        "%%time\n",
        "\n",
        "# unzip data folders to root dir\n",
        "zf = zipfile.ZipFile(SOURCE_ZIPFILE_ZOOM_1)\n",
        "zf.extractall()\n",
        "\n",
        "zf = zipfile.ZipFile(SOURCE_ZIPFILE_ZOOM_2)\n",
        "zf.extractall()\n"
      ],
      "execution_count": 0,
      "outputs": [
        {
          "output_type": "stream",
          "text": [
            "CPU times: user 1min 32s, sys: 44.1 s, total: 2min 16s\n",
            "Wall time: 3min 57s\n"
          ],
          "name": "stdout"
        }
      ]
    },
    {
      "cell_type": "code",
      "metadata": {
        "id": "-dPj32rpDAv-",
        "colab_type": "code",
        "outputId": "481d3a41-60a6-4bfe-b071-ad98202d6ba6",
        "colab": {
          "base_uri": "https://localhost:8080/",
          "height": 87
        }
      },
      "source": [
        "build_model_code_url = 'https://storage.googleapis.com/applied-dl-sj/camelyon/source_code/model_build.py'\n",
        "\n",
        "!curl -O $build_model_code_url"
      ],
      "execution_count": 0,
      "outputs": [
        {
          "output_type": "stream",
          "text": [
            "  % Total    % Received % Xferd  Average Speed   Time    Time     Time  Current\n",
            "                                 Dload  Upload   Total   Spent    Left  Speed\n",
            "100  1659  100  1659    0     0   3796      0 --:--:-- --:--:-- --:--:--  3796\n"
          ],
          "name": "stdout"
        }
      ]
    },
    {
      "cell_type": "code",
      "metadata": {
        "id": "hWznJtmDFLym",
        "colab_type": "code",
        "outputId": "76d85aa1-b261-4e6d-a97b-c41235932ce7",
        "colab": {
          "base_uri": "https://localhost:8080/",
          "height": 87
        }
      },
      "source": [
        "model_weight_url = 'https://storage.googleapis.com/applied-dl-sj/camelyon/output_data/best_weights/{}'.format(BEST_MODEL_WEIGHT)\n",
        "\n",
        "!curl -O $model_weight_url"
      ],
      "execution_count": 0,
      "outputs": [
        {
          "output_type": "stream",
          "text": [
            "  % Total    % Received % Xferd  Average Speed   Time    Time     Time  Current\n",
            "                                 Dload  Upload   Total   Spent    Left  Speed\n",
            "100 89.1M  100 89.1M    0     0  44.1M      0  0:00:02  0:00:02 --:--:-- 44.1M\n"
          ],
          "name": "stdout"
        }
      ]
    },
    {
      "cell_type": "code",
      "metadata": {
        "id": "ioK1zLHwKvkt",
        "colab_type": "code",
        "colab": {}
      },
      "source": [
        ""
      ],
      "execution_count": 0,
      "outputs": []
    },
    {
      "cell_type": "markdown",
      "metadata": {
        "id": "HmVjnIVlA6b8",
        "colab_type": "text"
      },
      "source": [
        "### Preprocess Data"
      ]
    },
    {
      "cell_type": "code",
      "metadata": {
        "id": "sWf5EMJN0Pvx",
        "colab_type": "code",
        "colab": {}
      },
      "source": [
        "np.random.seed(828)"
      ],
      "execution_count": 0,
      "outputs": []
    },
    {
      "cell_type": "code",
      "metadata": {
        "id": "bPcFNe5luuzy",
        "colab_type": "code",
        "colab": {}
      },
      "source": [
        "IMG_DIR_ZOOM_1 = 'zoom_1_256_256_partition_test_only'\n",
        "IMG_DIR_ZOOM_2 = 'zoom_2_256_256_partition_zoom_1_pair_test_only'"
      ],
      "execution_count": 0,
      "outputs": []
    },
    {
      "cell_type": "code",
      "metadata": {
        "id": "xQZfQjq7L3eg",
        "colab_type": "code",
        "outputId": "d0c78649-de32-4356-cbd8-739ca09876f2",
        "colab": {
          "base_uri": "https://localhost:8080/",
          "height": 34
        }
      },
      "source": [
        "ls zoom_2_256_256_partition_zoom_1_pair_test_only/meta/"
      ],
      "execution_count": 0,
      "outputs": [
        {
          "output_type": "stream",
          "text": [
            "partition_meta_info.json\n"
          ],
          "name": "stdout"
        }
      ]
    },
    {
      "cell_type": "code",
      "metadata": {
        "id": "Wwm_9Yus6-iG",
        "colab_type": "code",
        "colab": {}
      },
      "source": [
        "meta_file_name = os.path.join(IMG_DIR_ZOOM_2, \n",
        "                              'meta',\n",
        "                              'partition_meta_info.json')\n",
        "\n",
        "# get metadata\n",
        "meta_df = pd.read_json(meta_file_name, dtype=False)"
      ],
      "execution_count": 0,
      "outputs": []
    },
    {
      "cell_type": "code",
      "metadata": {
        "id": "keyGVnT_7Q1S",
        "colab_type": "code",
        "outputId": "fbb68e04-a076-4b46-994e-930e133a1824",
        "colab": {
          "base_uri": "https://localhost:8080/",
          "height": 34
        }
      },
      "source": [
        "meta_df.shape"
      ],
      "execution_count": 0,
      "outputs": [
        {
          "output_type": "execute_result",
          "data": {
            "text/plain": [
              "(1245104, 8)"
            ]
          },
          "metadata": {
            "tags": []
          },
          "execution_count": 16
        }
      ]
    },
    {
      "cell_type": "code",
      "metadata": {
        "id": "I61ECqXyA_XS",
        "colab_type": "code",
        "colab": {}
      },
      "source": [
        "# filter\n",
        "filter_mask = (meta_df['type'] == 'test') & (meta_df['is_non_gray'] == 1) & \\\n",
        "              (meta_df['is_roi'] == 1)\n",
        "\n",
        "\n",
        "meta_df = meta_df[filter_mask].copy()"
      ],
      "execution_count": 0,
      "outputs": []
    },
    {
      "cell_type": "code",
      "metadata": {
        "id": "3aVsadUpWmyi",
        "colab_type": "code",
        "outputId": "303660a9-b4c3-4c30-bb64-a78b0f9a6309",
        "colab": {
          "base_uri": "https://localhost:8080/",
          "height": 34
        }
      },
      "source": [
        "meta_df.shape"
      ],
      "execution_count": 0,
      "outputs": [
        {
          "output_type": "execute_result",
          "data": {
            "text/plain": [
              "(19293, 8)"
            ]
          },
          "metadata": {
            "tags": []
          },
          "execution_count": 18
        }
      ]
    },
    {
      "cell_type": "code",
      "metadata": {
        "id": "ampePhAx7gd5",
        "colab_type": "code",
        "colab": {}
      },
      "source": [
        "meta_df['label'] = meta_df['label'].astype(str)"
      ],
      "execution_count": 0,
      "outputs": []
    },
    {
      "cell_type": "code",
      "metadata": {
        "id": "WG_CMM1ib_2D",
        "colab_type": "code",
        "outputId": "17654e09-a6e8-4263-9ded-0f6fb91a444d",
        "colab": {
          "base_uri": "https://localhost:8080/",
          "height": 215
        }
      },
      "source": [
        "meta_df.head()"
      ],
      "execution_count": 0,
      "outputs": [
        {
          "output_type": "execute_result",
          "data": {
            "text/html": [
              "<div>\n",
              "<style scoped>\n",
              "    .dataframe tbody tr th:only-of-type {\n",
              "        vertical-align: middle;\n",
              "    }\n",
              "\n",
              "    .dataframe tbody tr th {\n",
              "        vertical-align: top;\n",
              "    }\n",
              "\n",
              "    .dataframe thead th {\n",
              "        text-align: right;\n",
              "    }\n",
              "</style>\n",
              "<table border=\"1\" class=\"dataframe\">\n",
              "  <thead>\n",
              "    <tr style=\"text-align: right;\">\n",
              "      <th></th>\n",
              "      <th>file_name</th>\n",
              "      <th>ref_file_name</th>\n",
              "      <th>img_id</th>\n",
              "      <th>is_non_gray</th>\n",
              "      <th>is_roi</th>\n",
              "      <th>label</th>\n",
              "      <th>non_gray_ratio</th>\n",
              "      <th>type</th>\n",
              "    </tr>\n",
              "  </thead>\n",
              "  <tbody>\n",
              "    <tr>\n",
              "      <th>1032041</th>\n",
              "      <td>tumor_slide_002_split_184_58_overlap_128_offse...</td>\n",
              "      <td>tumor_slide_002_split_184_58.png</td>\n",
              "      <td>002</td>\n",
              "      <td>1</td>\n",
              "      <td>1</td>\n",
              "      <td>0</td>\n",
              "      <td>0.939255</td>\n",
              "      <td>test</td>\n",
              "    </tr>\n",
              "    <tr>\n",
              "      <th>1032061</th>\n",
              "      <td>tumor_slide_057_split_242_50_overlap_128_offse...</td>\n",
              "      <td>tumor_slide_057_split_242_50.png</td>\n",
              "      <td>057</td>\n",
              "      <td>1</td>\n",
              "      <td>1</td>\n",
              "      <td>0</td>\n",
              "      <td>0.558640</td>\n",
              "      <td>test</td>\n",
              "    </tr>\n",
              "    <tr>\n",
              "      <th>1032121</th>\n",
              "      <td>tumor_slide_057_split_249_47_overlap_128_offse...</td>\n",
              "      <td>tumor_slide_057_split_249_47.png</td>\n",
              "      <td>057</td>\n",
              "      <td>1</td>\n",
              "      <td>1</td>\n",
              "      <td>0</td>\n",
              "      <td>0.944595</td>\n",
              "      <td>test</td>\n",
              "    </tr>\n",
              "    <tr>\n",
              "      <th>1032175</th>\n",
              "      <td>tumor_slide_002_split_226_123_overlap_128_offs...</td>\n",
              "      <td>tumor_slide_002_split_226_123.png</td>\n",
              "      <td>002</td>\n",
              "      <td>1</td>\n",
              "      <td>1</td>\n",
              "      <td>0</td>\n",
              "      <td>0.688614</td>\n",
              "      <td>test</td>\n",
              "    </tr>\n",
              "    <tr>\n",
              "      <th>1032180</th>\n",
              "      <td>tumor_slide_057_split_217_56_overlap_128_offse...</td>\n",
              "      <td>tumor_slide_057_split_217_56.png</td>\n",
              "      <td>057</td>\n",
              "      <td>1</td>\n",
              "      <td>1</td>\n",
              "      <td>0</td>\n",
              "      <td>0.413834</td>\n",
              "      <td>test</td>\n",
              "    </tr>\n",
              "  </tbody>\n",
              "</table>\n",
              "</div>"
            ],
            "text/plain": [
              "                                                 file_name  ...  type\n",
              "1032041  tumor_slide_002_split_184_58_overlap_128_offse...  ...  test\n",
              "1032061  tumor_slide_057_split_242_50_overlap_128_offse...  ...  test\n",
              "1032121  tumor_slide_057_split_249_47_overlap_128_offse...  ...  test\n",
              "1032175  tumor_slide_002_split_226_123_overlap_128_offs...  ...  test\n",
              "1032180  tumor_slide_057_split_217_56_overlap_128_offse...  ...  test\n",
              "\n",
              "[5 rows x 8 columns]"
            ]
          },
          "metadata": {
            "tags": []
          },
          "execution_count": 20
        }
      ]
    },
    {
      "cell_type": "code",
      "metadata": {
        "id": "JBtH0LR-1cVS",
        "colab_type": "code",
        "colab": {}
      },
      "source": [
        ""
      ],
      "execution_count": 0,
      "outputs": []
    },
    {
      "cell_type": "code",
      "metadata": {
        "id": "Vj5XIIWa55sS",
        "colab_type": "code",
        "colab": {}
      },
      "source": [
        "BATCH_SIZE = 64\n",
        "TARGET_IMG_SIZE = (256, 256)"
      ],
      "execution_count": 0,
      "outputs": []
    },
    {
      "cell_type": "code",
      "metadata": {
        "id": "eUMk4_zoZ6Q5",
        "colab_type": "code",
        "colab": {}
      },
      "source": [
        "# specify image data generator with augmentation\n",
        "datagen = tf.keras.preprocessing.image.ImageDataGenerator(rescale=1./255)\n",
        "\n",
        "def custom_generator_for_pair(generator, df, zoom_1_dir, zoom_2_dir):\n",
        "\n",
        "    genX1 = generator.flow_from_dataframe(dataframe=df, \n",
        "                                          directory=zoom_1_dir,\n",
        "                                          x_col='ref_file_name', \n",
        "                                          y_col='label',\n",
        "                                          class_mode='binary', \n",
        "                                          target_size=TARGET_IMG_SIZE, \n",
        "                                          batch_size=BATCH_SIZE,\n",
        "                                          drop_duplicates=False,\n",
        "                                          shuffle=False)\n",
        "    \n",
        "    genX2 = generator.flow_from_dataframe(dataframe=df, \n",
        "                                          directory=zoom_2_dir,\n",
        "                                          x_col='file_name', \n",
        "                                          y_col='label',\n",
        "                                          class_mode='binary', \n",
        "                                          target_size=TARGET_IMG_SIZE, \n",
        "                                          batch_size=BATCH_SIZE,\n",
        "                                          drop_duplicates=False,\n",
        "                                          shuffle=False)\n",
        "\n",
        "    while True:\n",
        "        X1i = genX1.next()\n",
        "        X2i = genX2.next()\n",
        "        yield [X1i[0], X2i[0]], X2i[1]  #Yield both images and their mutual label"
      ],
      "execution_count": 0,
      "outputs": []
    },
    {
      "cell_type": "code",
      "metadata": {
        "id": "vuGvGzmp5u42",
        "colab_type": "code",
        "colab": {}
      },
      "source": [
        "test_generator = custom_generator_for_pair(datagen,\n",
        "                                           meta_df,\n",
        "                                           os.path.join(\n",
        "                                                IMG_DIR_ZOOM_1,\n",
        "                                                'test',\n",
        "                                                'slide'),\n",
        "                                           os.path.join(\n",
        "                                                IMG_DIR_ZOOM_2,\n",
        "                                                'test',\n",
        "                                                'slide'),\n",
        "                                           \n",
        "                                           )"
      ],
      "execution_count": 0,
      "outputs": []
    },
    {
      "cell_type": "code",
      "metadata": {
        "id": "pjj3JFE01mPR",
        "colab_type": "code",
        "colab": {}
      },
      "source": [
        "steps_per_epoch = meta_df.shape[0] // BATCH_SIZE + 1  # +1 added to ensure generator reaches full cycle - if meta_df is perfectly divisible by BATCH_SIZE, +1 should be removed"
      ],
      "execution_count": 0,
      "outputs": []
    },
    {
      "cell_type": "code",
      "metadata": {
        "id": "Z3p_BhwvdCW_",
        "colab_type": "code",
        "colab": {}
      },
      "source": [
        "# temp = np.array([])\n",
        "\n",
        "# for i in tqdm(range(steps_per_epoch)):\n",
        "#     temp_batch = next(test_generator)\n",
        "#     temp = np.concatenate((temp, temp_batch[1]))"
      ],
      "execution_count": 0,
      "outputs": []
    },
    {
      "cell_type": "code",
      "metadata": {
        "id": "A7tZB6BH4hoc",
        "colab_type": "code",
        "colab": {}
      },
      "source": [
        "# temp.shape, meta_df.shape"
      ],
      "execution_count": 0,
      "outputs": []
    },
    {
      "cell_type": "code",
      "metadata": {
        "id": "qHWtWwws4Hin",
        "colab_type": "code",
        "colab": {}
      },
      "source": [
        "# y_label = meta_df['label'].astype(float).values"
      ],
      "execution_count": 0,
      "outputs": []
    },
    {
      "cell_type": "code",
      "metadata": {
        "id": "57npdg5o2XhR",
        "colab_type": "code",
        "colab": {}
      },
      "source": [
        "# assert np.abs(temp - y_label).max() < 1e-8"
      ],
      "execution_count": 0,
      "outputs": []
    },
    {
      "cell_type": "code",
      "metadata": {
        "id": "AtJbQBKDEKkM",
        "colab_type": "code",
        "colab": {}
      },
      "source": [
        ""
      ],
      "execution_count": 0,
      "outputs": []
    },
    {
      "cell_type": "markdown",
      "metadata": {
        "id": "2fns3ZtaEKzM",
        "colab_type": "text"
      },
      "source": [
        "### Build model"
      ]
    },
    {
      "cell_type": "code",
      "metadata": {
        "id": "SbH-wDBaLsLO",
        "colab_type": "code",
        "colab": {}
      },
      "source": [
        "from model_build import build_vgg16_double_input"
      ],
      "execution_count": 0,
      "outputs": []
    },
    {
      "cell_type": "code",
      "metadata": {
        "id": "ezGO-XYtDyQG",
        "colab_type": "code",
        "outputId": "ca632b60-eaf2-43ea-fe83-a711b91c3a2b",
        "colab": {
          "base_uri": "https://localhost:8080/",
          "height": 70
        }
      },
      "source": [
        "model = build_vgg16_double_input(input_shape=(256, 256, 3))"
      ],
      "execution_count": 0,
      "outputs": [
        {
          "output_type": "stream",
          "text": [
            "Downloading data from https://github.com/fchollet/deep-learning-models/releases/download/v0.1/vgg16_weights_tf_dim_ordering_tf_kernels_notop.h5\n",
            "58892288/58889256 [==============================] - 2s 0us/step\n"
          ],
          "name": "stdout"
        }
      ]
    },
    {
      "cell_type": "code",
      "metadata": {
        "id": "a1soH4KCE2hf",
        "colab_type": "code",
        "outputId": "f2a508bd-2fc3-4d57-8ccb-99a1cc46ab02",
        "colab": {
          "base_uri": "https://localhost:8080/",
          "height": 608
        }
      },
      "source": [
        "# compile model\n",
        "model.compile(optimizer='adam', \n",
        "              loss='binary_crossentropy', \n",
        "              metrics=['acc'])\n",
        "\n",
        "# print model architecture\n",
        "model.summary()"
      ],
      "execution_count": 0,
      "outputs": [
        {
          "output_type": "stream",
          "text": [
            "Model: \"model\"\n",
            "__________________________________________________________________________________________________\n",
            "Layer (type)                    Output Shape         Param #     Connected to                     \n",
            "==================================================================================================\n",
            "input_2 (InputLayer)            [(None, 256, 256, 3) 0                                            \n",
            "__________________________________________________________________________________________________\n",
            "input_3 (InputLayer)            [(None, 256, 256, 3) 0                                            \n",
            "__________________________________________________________________________________________________\n",
            "vgg16 (Model)                   (None, 8, 8, 512)    14714688    input_2[0][0]                    \n",
            "                                                                 input_3[0][0]                    \n",
            "__________________________________________________________________________________________________\n",
            "flatten (Flatten)               (None, 32768)        0           vgg16[1][0]                      \n",
            "__________________________________________________________________________________________________\n",
            "flatten_1 (Flatten)             (None, 32768)        0           vgg16[2][0]                      \n",
            "__________________________________________________________________________________________________\n",
            "concatenate (Concatenate)       (None, 65536)        0           flatten[0][0]                    \n",
            "                                                                 flatten_1[0][0]                  \n",
            "__________________________________________________________________________________________________\n",
            "batch_normalization_v2 (BatchNo (None, 65536)        262144      concatenate[0][0]                \n",
            "__________________________________________________________________________________________________\n",
            "dropout (Dropout)               (None, 65536)        0           batch_normalization_v2[0][0]     \n",
            "__________________________________________________________________________________________________\n",
            "dense (Dense)                   (None, 128)          8388736     dropout[0][0]                    \n",
            "__________________________________________________________________________________________________\n",
            "batch_normalization_v2_1 (Batch (None, 128)          512         dense[0][0]                      \n",
            "__________________________________________________________________________________________________\n",
            "dropout_1 (Dropout)             (None, 128)          0           batch_normalization_v2_1[0][0]   \n",
            "__________________________________________________________________________________________________\n",
            "dense_1 (Dense)                 (None, 1)            129         dropout_1[0][0]                  \n",
            "==================================================================================================\n",
            "Total params: 23,366,209\n",
            "Trainable params: 8,520,193\n",
            "Non-trainable params: 14,846,016\n",
            "__________________________________________________________________________________________________\n"
          ],
          "name": "stdout"
        }
      ]
    },
    {
      "cell_type": "code",
      "metadata": {
        "id": "gRqsb9ZKfcH4",
        "colab_type": "code",
        "outputId": "d1f172cb-385c-434d-e799-10b1f34f16ab",
        "colab": {
          "base_uri": "https://localhost:8080/",
          "height": 34
        }
      },
      "source": [
        "steps_per_epoch"
      ],
      "execution_count": 0,
      "outputs": [
        {
          "output_type": "execute_result",
          "data": {
            "text/plain": [
              "302"
            ]
          },
          "metadata": {
            "tags": []
          },
          "execution_count": 36
        }
      ]
    },
    {
      "cell_type": "code",
      "metadata": {
        "id": "vHB4kJU7xKrn",
        "colab_type": "code",
        "colab": {}
      },
      "source": [
        "model.load_weights(BEST_MODEL_WEIGHT)"
      ],
      "execution_count": 0,
      "outputs": []
    },
    {
      "cell_type": "code",
      "metadata": {
        "id": "iFcO7nITwmlq",
        "colab_type": "code",
        "outputId": "f94bd23b-e2c4-4720-9ba3-68a0218a3ddf",
        "colab": {
          "base_uri": "https://localhost:8080/",
          "height": 84
        }
      },
      "source": [
        "%%time\n",
        "\n",
        "y_pred_prob = model.predict_generator(test_generator,\n",
        "                                      steps=steps_per_epoch)"
      ],
      "execution_count": 0,
      "outputs": [
        {
          "output_type": "stream",
          "text": [
            "Found 19293 images belonging to 2 classes.\n",
            "Found 19293 images belonging to 2 classes.\n",
            "CPU times: user 5min 5s, sys: 1min 41s, total: 6min 46s\n",
            "Wall time: 7min 16s\n"
          ],
          "name": "stdout"
        }
      ]
    },
    {
      "cell_type": "code",
      "metadata": {
        "id": "1ZA3KAOBeLon",
        "colab_type": "code",
        "outputId": "6bcef651-b635-4109-8da1-4b4e5c73cdda",
        "colab": {
          "base_uri": "https://localhost:8080/",
          "height": 34
        }
      },
      "source": [
        "y_pred_prob.shape, meta_df.shape"
      ],
      "execution_count": 0,
      "outputs": [
        {
          "output_type": "execute_result",
          "data": {
            "text/plain": [
              "((19293, 1), (19293, 8))"
            ]
          },
          "metadata": {
            "tags": []
          },
          "execution_count": 39
        }
      ]
    },
    {
      "cell_type": "code",
      "metadata": {
        "id": "ZztZg7Yhw2h9",
        "colab_type": "code",
        "colab": {}
      },
      "source": [
        "meta_df['y_pred_prob'] = y_pred_prob.flatten()"
      ],
      "execution_count": 0,
      "outputs": []
    },
    {
      "cell_type": "code",
      "metadata": {
        "id": "-PTZL4z_w_ut",
        "colab_type": "code",
        "colab": {}
      },
      "source": [
        "meta_df.to_pickle('zoom_1_256_256_test_inference_result_dual_input.pkl')"
      ],
      "execution_count": 0,
      "outputs": []
    },
    {
      "cell_type": "code",
      "metadata": {
        "id": "gMA3lEtoGd02",
        "colab_type": "code",
        "colab": {}
      },
      "source": [
        ""
      ],
      "execution_count": 0,
      "outputs": []
    }
  ]
}