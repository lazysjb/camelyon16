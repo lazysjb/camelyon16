{
  "nbformat": 4,
  "nbformat_minor": 0,
  "metadata": {
    "colab": {
      "name": "single_input_inference.ipynb",
      "version": "0.3.2",
      "provenance": [],
      "collapsed_sections": [],
      "toc_visible": true
    },
    "kernelspec": {
      "name": "python3",
      "display_name": "Python 3"
    },
    "accelerator": "GPU"
  },
  "cells": [
    {
      "cell_type": "code",
      "metadata": {
        "id": "uFWIrvtZAcZh",
        "colab_type": "code",
        "colab": {}
      },
      "source": [
        "# !pip install tensorflow-gpu==2.0.0-alpha0"
      ],
      "execution_count": 0,
      "outputs": []
    },
    {
      "cell_type": "code",
      "metadata": {
        "id": "bbaydY1YApew",
        "colab_type": "code",
        "colab": {
          "base_uri": "https://localhost:8080/",
          "height": 34
        },
        "outputId": "cf1cb26f-4594-4b93-e9c5-4f18b7fac7bb"
      },
      "source": [
        "import tensorflow as tf\n",
        "tf.__version__"
      ],
      "execution_count": 4,
      "outputs": [
        {
          "output_type": "execute_result",
          "data": {
            "text/plain": [
              "'2.0.0-alpha0'"
            ]
          },
          "metadata": {
            "tags": []
          },
          "execution_count": 4
        }
      ]
    },
    {
      "cell_type": "code",
      "metadata": {
        "id": "J0IxqA8kAt0O",
        "colab_type": "code",
        "colab": {}
      },
      "source": [
        "# import libraries\n",
        "import os\n",
        "import zipfile\n",
        "import pandas as pd\n",
        "import tensorflow as tf\n",
        "import matplotlib.pyplot as plt\n",
        "import numpy as np\n",
        "\n",
        "from tensorflow.keras import models, layers\n",
        "from tensorflow import keras"
      ],
      "execution_count": 0,
      "outputs": []
    },
    {
      "cell_type": "code",
      "metadata": {
        "id": "BhiQQgwzBzca",
        "colab_type": "code",
        "colab": {}
      },
      "source": [
        "SOURCE_ZIPFILE = 'zoom_1_256_256_partition_test_only.zip'\n",
        "BEST_MODEL_WEIGHT = 'vgg_zoom1_256_256_09-0.9554-0.1437.h5'"
      ],
      "execution_count": 0,
      "outputs": []
    },
    {
      "cell_type": "code",
      "metadata": {
        "id": "ybu0A3cP4rxi",
        "colab_type": "code",
        "colab": {}
      },
      "source": [
        "zipped_file_url = 'https://storage.googleapis.com/applied-dl-sj/camelyon/input_data/new/{}'.format(SOURCE_ZIPFILE)"
      ],
      "execution_count": 0,
      "outputs": []
    },
    {
      "cell_type": "code",
      "metadata": {
        "id": "vp8TEteo4kL9",
        "colab_type": "code",
        "outputId": "086383f5-503b-4d82-dbc2-1047eaad1b87",
        "colab": {
          "base_uri": "https://localhost:8080/",
          "height": 87
        }
      },
      "source": [
        "!curl -O $zipped_file_url"
      ],
      "execution_count": 0,
      "outputs": [
        {
          "output_type": "stream",
          "text": [
            "  % Total    % Received % Xferd  Average Speed   Time    Time     Time  Current\n",
            "                                 Dload  Upload   Total   Spent    Left  Speed\n",
            "100 6550M  100 6550M    0     0   133M      0  0:00:49  0:00:49 --:--:--  132M\n"
          ],
          "name": "stdout"
        }
      ]
    },
    {
      "cell_type": "code",
      "metadata": {
        "id": "m_gR5A6PA2yN",
        "colab_type": "code",
        "outputId": "2b31b66c-74e0-4a0a-a8f1-c5a12c1d7272",
        "colab": {
          "base_uri": "https://localhost:8080/",
          "height": 50
        }
      },
      "source": [
        "%%time\n",
        "\n",
        "# unzip data folders to root dir\n",
        "zf = zipfile.ZipFile(SOURCE_ZIPFILE)\n",
        "zf.extractall()\n"
      ],
      "execution_count": 0,
      "outputs": [
        {
          "output_type": "stream",
          "text": [
            "CPU times: user 47.5 s, sys: 20.2 s, total: 1min 7s\n",
            "Wall time: 1min 53s\n"
          ],
          "name": "stdout"
        }
      ]
    },
    {
      "cell_type": "code",
      "metadata": {
        "id": "-dPj32rpDAv-",
        "colab_type": "code",
        "outputId": "388bffd1-67e8-41d0-98fd-a09099b49e60",
        "colab": {
          "base_uri": "https://localhost:8080/",
          "height": 87
        }
      },
      "source": [
        "build_model_code_url = 'https://storage.googleapis.com/applied-dl-sj/camelyon/source_code/model_build.py'\n",
        "\n",
        "!curl -O $build_model_code_url"
      ],
      "execution_count": 0,
      "outputs": [
        {
          "output_type": "stream",
          "text": [
            "  % Total    % Received % Xferd  Average Speed   Time    Time     Time  Current\n",
            "                                 Dload  Upload   Total   Spent    Left  Speed\n",
            "100   521  100   521    0     0   2846      0 --:--:-- --:--:-- --:--:--  2862\n"
          ],
          "name": "stdout"
        }
      ]
    },
    {
      "cell_type": "code",
      "metadata": {
        "id": "hWznJtmDFLym",
        "colab_type": "code",
        "outputId": "514f3a73-4a3b-40d3-beca-6e34f69869fb",
        "colab": {
          "base_uri": "https://localhost:8080/",
          "height": 87
        }
      },
      "source": [
        "model_weight_url = 'https://storage.googleapis.com/applied-dl-sj/camelyon/output_data/best_weights/{}'.format(BEST_MODEL_WEIGHT)\n",
        "\n",
        "!curl -O $model_weight_url"
      ],
      "execution_count": 0,
      "outputs": [
        {
          "output_type": "stream",
          "text": [
            "  % Total    % Received % Xferd  Average Speed   Time    Time     Time  Current\n",
            "                                 Dload  Upload   Total   Spent    Left  Speed\n",
            "100 72.1M  100 72.1M    0     0  42.7M      0  0:00:01  0:00:01 --:--:-- 42.7M\n"
          ],
          "name": "stdout"
        }
      ]
    },
    {
      "cell_type": "code",
      "metadata": {
        "id": "ioK1zLHwKvkt",
        "colab_type": "code",
        "colab": {}
      },
      "source": [
        ""
      ],
      "execution_count": 0,
      "outputs": []
    },
    {
      "cell_type": "markdown",
      "metadata": {
        "id": "HmVjnIVlA6b8",
        "colab_type": "text"
      },
      "source": [
        "### Preprocess Data"
      ]
    },
    {
      "cell_type": "code",
      "metadata": {
        "id": "sWf5EMJN0Pvx",
        "colab_type": "code",
        "colab": {}
      },
      "source": [
        "np.random.seed(828)"
      ],
      "execution_count": 0,
      "outputs": []
    },
    {
      "cell_type": "code",
      "metadata": {
        "id": "bPcFNe5luuzy",
        "colab_type": "code",
        "colab": {}
      },
      "source": [
        "IMG_DIR = 'zoom_1_256_256_partition_test_only'"
      ],
      "execution_count": 0,
      "outputs": []
    },
    {
      "cell_type": "code",
      "metadata": {
        "id": "xQZfQjq7L3eg",
        "colab_type": "code",
        "outputId": "d1ecad85-29ec-4ccc-c553-e808c17212c0",
        "colab": {
          "base_uri": "https://localhost:8080/",
          "height": 34
        }
      },
      "source": [
        "ls zoom_1_256_256_partition_test_only/meta/"
      ],
      "execution_count": 10,
      "outputs": [
        {
          "output_type": "stream",
          "text": [
            "partition_meta_info.json\n"
          ],
          "name": "stdout"
        }
      ]
    },
    {
      "cell_type": "code",
      "metadata": {
        "id": "Wwm_9Yus6-iG",
        "colab_type": "code",
        "colab": {}
      },
      "source": [
        "meta_file_name = os.path.join(IMG_DIR, \n",
        "                              'meta',\n",
        "                              'partition_meta_info.json')\n",
        "\n",
        "# get metadata\n",
        "meta_df = pd.read_json(meta_file_name, dtype=False)"
      ],
      "execution_count": 0,
      "outputs": []
    },
    {
      "cell_type": "code",
      "metadata": {
        "id": "3tEDE4D37Aoo",
        "colab_type": "code",
        "outputId": "f7a8b5a3-d4fb-4799-8016-c0538ac621f8",
        "colab": {
          "base_uri": "https://localhost:8080/",
          "height": 151
        }
      },
      "source": [
        "meta_df.dtypes"
      ],
      "execution_count": 12,
      "outputs": [
        {
          "output_type": "execute_result",
          "data": {
            "text/plain": [
              "file_name          object\n",
              "img_id             object\n",
              "is_non_gray         int64\n",
              "is_roi              int64\n",
              "label               int64\n",
              "non_gray_ratio    float64\n",
              "type               object\n",
              "dtype: object"
            ]
          },
          "metadata": {
            "tags": []
          },
          "execution_count": 12
        }
      ]
    },
    {
      "cell_type": "code",
      "metadata": {
        "id": "keyGVnT_7Q1S",
        "colab_type": "code",
        "outputId": "51256fd2-0a3a-4be0-fa6b-27910a5fc90f",
        "colab": {
          "base_uri": "https://localhost:8080/",
          "height": 34
        }
      },
      "source": [
        "meta_df.shape"
      ],
      "execution_count": 13,
      "outputs": [
        {
          "output_type": "execute_result",
          "data": {
            "text/plain": [
              "(1266294, 7)"
            ]
          },
          "metadata": {
            "tags": []
          },
          "execution_count": 13
        }
      ]
    },
    {
      "cell_type": "code",
      "metadata": {
        "id": "I61ECqXyA_XS",
        "colab_type": "code",
        "outputId": "d7b46891-bc0e-46b6-d327-df6c9e5fe06f",
        "colab": {
          "base_uri": "https://localhost:8080/",
          "height": 215
        }
      },
      "source": [
        "# filter\n",
        "filter_mask = (meta_df['type'] == 'test') & (meta_df['is_non_gray'] == 1) & \\\n",
        "              (meta_df['is_roi'] == 1)\n",
        "\n",
        "\n",
        "meta_df = meta_df[filter_mask].copy()\n",
        "meta_df.head()"
      ],
      "execution_count": 14,
      "outputs": [
        {
          "output_type": "execute_result",
          "data": {
            "text/html": [
              "<div>\n",
              "<style scoped>\n",
              "    .dataframe tbody tr th:only-of-type {\n",
              "        vertical-align: middle;\n",
              "    }\n",
              "\n",
              "    .dataframe tbody tr th {\n",
              "        vertical-align: top;\n",
              "    }\n",
              "\n",
              "    .dataframe thead th {\n",
              "        text-align: right;\n",
              "    }\n",
              "</style>\n",
              "<table border=\"1\" class=\"dataframe\">\n",
              "  <thead>\n",
              "    <tr style=\"text-align: right;\">\n",
              "      <th></th>\n",
              "      <th>file_name</th>\n",
              "      <th>img_id</th>\n",
              "      <th>is_non_gray</th>\n",
              "      <th>is_roi</th>\n",
              "      <th>label</th>\n",
              "      <th>non_gray_ratio</th>\n",
              "      <th>type</th>\n",
              "    </tr>\n",
              "  </thead>\n",
              "  <tbody>\n",
              "    <tr>\n",
              "      <th>100086</th>\n",
              "      <td>tumor_slide_002_split_186_53.png</td>\n",
              "      <td>002</td>\n",
              "      <td>1</td>\n",
              "      <td>1</td>\n",
              "      <td>0</td>\n",
              "      <td>0.948151</td>\n",
              "      <td>test</td>\n",
              "    </tr>\n",
              "    <tr>\n",
              "      <th>100094</th>\n",
              "      <td>tumor_slide_002_split_295_97.png</td>\n",
              "      <td>002</td>\n",
              "      <td>1</td>\n",
              "      <td>1</td>\n",
              "      <td>0</td>\n",
              "      <td>0.713028</td>\n",
              "      <td>test</td>\n",
              "    </tr>\n",
              "    <tr>\n",
              "      <th>100137</th>\n",
              "      <td>tumor_slide_002_split_217_80.png</td>\n",
              "      <td>002</td>\n",
              "      <td>1</td>\n",
              "      <td>1</td>\n",
              "      <td>0</td>\n",
              "      <td>0.802109</td>\n",
              "      <td>test</td>\n",
              "    </tr>\n",
              "    <tr>\n",
              "      <th>100157</th>\n",
              "      <td>tumor_slide_002_split_219_46.png</td>\n",
              "      <td>002</td>\n",
              "      <td>1</td>\n",
              "      <td>1</td>\n",
              "      <td>0</td>\n",
              "      <td>0.868195</td>\n",
              "      <td>test</td>\n",
              "    </tr>\n",
              "    <tr>\n",
              "      <th>100169</th>\n",
              "      <td>tumor_slide_002_split_288_103.png</td>\n",
              "      <td>002</td>\n",
              "      <td>1</td>\n",
              "      <td>1</td>\n",
              "      <td>0</td>\n",
              "      <td>0.760559</td>\n",
              "      <td>test</td>\n",
              "    </tr>\n",
              "  </tbody>\n",
              "</table>\n",
              "</div>"
            ],
            "text/plain": [
              "                                file_name img_id  ...  non_gray_ratio  type\n",
              "100086   tumor_slide_002_split_186_53.png    002  ...        0.948151  test\n",
              "100094   tumor_slide_002_split_295_97.png    002  ...        0.713028  test\n",
              "100137   tumor_slide_002_split_217_80.png    002  ...        0.802109  test\n",
              "100157   tumor_slide_002_split_219_46.png    002  ...        0.868195  test\n",
              "100169  tumor_slide_002_split_288_103.png    002  ...        0.760559  test\n",
              "\n",
              "[5 rows x 7 columns]"
            ]
          },
          "metadata": {
            "tags": []
          },
          "execution_count": 14
        }
      ]
    },
    {
      "cell_type": "code",
      "metadata": {
        "id": "3aVsadUpWmyi",
        "colab_type": "code",
        "outputId": "2696b558-1f47-401d-cfbc-47ecfb847c7e",
        "colab": {
          "base_uri": "https://localhost:8080/",
          "height": 34
        }
      },
      "source": [
        "meta_df.shape"
      ],
      "execution_count": 15,
      "outputs": [
        {
          "output_type": "execute_result",
          "data": {
            "text/plain": [
              "(19304, 7)"
            ]
          },
          "metadata": {
            "tags": []
          },
          "execution_count": 15
        }
      ]
    },
    {
      "cell_type": "code",
      "metadata": {
        "id": "ampePhAx7gd5",
        "colab_type": "code",
        "colab": {}
      },
      "source": [
        "meta_df['label'] = meta_df['label'].astype(str)"
      ],
      "execution_count": 0,
      "outputs": []
    },
    {
      "cell_type": "code",
      "metadata": {
        "id": "raKW77nODQPD",
        "colab_type": "code",
        "outputId": "6b913d99-2350-4341-a8f5-1d25cc1e473c",
        "colab": {
          "base_uri": "https://localhost:8080/",
          "height": 34
        }
      },
      "source": [
        "# specify image data generator with augmentation\n",
        "datagen = tf.keras.preprocessing.image.ImageDataGenerator(rescale=1./255)\n",
        "\n",
        "# read data from the train directory\n",
        "test_generator = datagen.flow_from_dataframe(dataframe=meta_df, \n",
        "                                            directory=os.path.join(\n",
        "                                                IMG_DIR,\n",
        "                                                'test',\n",
        "                                                'slide'),\n",
        "                                            x_col='file_name', \n",
        "                                            y_col='label',\n",
        "                                            class_mode='binary', \n",
        "                                            target_size=(256, 256), \n",
        "                                            shuffle=False,\n",
        "                                            batch_size=64)"
      ],
      "execution_count": 17,
      "outputs": [
        {
          "output_type": "stream",
          "text": [
            "Found 19304 images belonging to 2 classes.\n"
          ],
          "name": "stdout"
        }
      ]
    },
    {
      "cell_type": "code",
      "metadata": {
        "id": "AtJbQBKDEKkM",
        "colab_type": "code",
        "colab": {}
      },
      "source": [
        ""
      ],
      "execution_count": 0,
      "outputs": []
    },
    {
      "cell_type": "markdown",
      "metadata": {
        "id": "2fns3ZtaEKzM",
        "colab_type": "text"
      },
      "source": [
        "### Build model"
      ]
    },
    {
      "cell_type": "code",
      "metadata": {
        "id": "SbH-wDBaLsLO",
        "colab_type": "code",
        "colab": {}
      },
      "source": [
        "from model_build import build_vgg16_single_input"
      ],
      "execution_count": 0,
      "outputs": []
    },
    {
      "cell_type": "code",
      "metadata": {
        "id": "ezGO-XYtDyQG",
        "colab_type": "code",
        "colab": {}
      },
      "source": [
        "model = build_vgg16_single_input(input_shape=(256, 256, 3))"
      ],
      "execution_count": 0,
      "outputs": []
    },
    {
      "cell_type": "code",
      "metadata": {
        "id": "a1soH4KCE2hf",
        "colab_type": "code",
        "outputId": "ff2dd1dd-56a2-42b8-db25-ad52a2a4ced8",
        "colab": {
          "base_uri": "https://localhost:8080/",
          "height": 319
        }
      },
      "source": [
        "# compile model\n",
        "model.compile(optimizer='adam', \n",
        "              loss='binary_crossentropy', \n",
        "              metrics=['acc'])\n",
        "\n",
        "# print model architecture\n",
        "model.summary()"
      ],
      "execution_count": 20,
      "outputs": [
        {
          "output_type": "stream",
          "text": [
            "Model: \"sequential\"\n",
            "_________________________________________________________________\n",
            "Layer (type)                 Output Shape              Param #   \n",
            "=================================================================\n",
            "vgg16 (Model)                (None, 8, 8, 512)         14714688  \n",
            "_________________________________________________________________\n",
            "flatten (Flatten)            (None, 32768)             0         \n",
            "_________________________________________________________________\n",
            "dropout (Dropout)            (None, 32768)             0         \n",
            "_________________________________________________________________\n",
            "dense (Dense)                (None, 128)               4194432   \n",
            "_________________________________________________________________\n",
            "dense_1 (Dense)              (None, 1)                 129       \n",
            "=================================================================\n",
            "Total params: 18,909,249\n",
            "Trainable params: 4,194,561\n",
            "Non-trainable params: 14,714,688\n",
            "_________________________________________________________________\n"
          ],
          "name": "stdout"
        }
      ]
    },
    {
      "cell_type": "code",
      "metadata": {
        "id": "vKbOGs71Xkhj",
        "colab_type": "code",
        "colab": {}
      },
      "source": [
        ""
      ],
      "execution_count": 0,
      "outputs": []
    },
    {
      "cell_type": "code",
      "metadata": {
        "id": "vHB4kJU7xKrn",
        "colab_type": "code",
        "colab": {}
      },
      "source": [
        "model.load_weights(BEST_MODEL_WEIGHT)"
      ],
      "execution_count": 0,
      "outputs": []
    },
    {
      "cell_type": "code",
      "metadata": {
        "id": "iFcO7nITwmlq",
        "colab_type": "code",
        "outputId": "41a35e47-6e3e-434e-b20a-49eff7a92222",
        "colab": {
          "base_uri": "https://localhost:8080/",
          "height": 50
        }
      },
      "source": [
        "%%time\n",
        "\n",
        "y_pred_prob = model.predict_generator(test_generator)"
      ],
      "execution_count": 22,
      "outputs": [
        {
          "output_type": "stream",
          "text": [
            "CPU times: user 2min 48s, sys: 55 s, total: 3min 43s\n",
            "Wall time: 3min 52s\n"
          ],
          "name": "stdout"
        }
      ]
    },
    {
      "cell_type": "code",
      "metadata": {
        "id": "ZztZg7Yhw2h9",
        "colab_type": "code",
        "colab": {}
      },
      "source": [
        "meta_df['y_pred_prob'] = y_pred_prob.flatten()"
      ],
      "execution_count": 0,
      "outputs": []
    },
    {
      "cell_type": "code",
      "metadata": {
        "id": "-PTZL4z_w_ut",
        "colab_type": "code",
        "colab": {}
      },
      "source": [
        "meta_df.to_pickle('zoom_1_256_256_test_inference_result_single_input.pkl')"
      ],
      "execution_count": 0,
      "outputs": []
    },
    {
      "cell_type": "code",
      "metadata": {
        "id": "gMA3lEtoGd02",
        "colab_type": "code",
        "colab": {}
      },
      "source": [
        ""
      ],
      "execution_count": 0,
      "outputs": []
    }
  ]
}