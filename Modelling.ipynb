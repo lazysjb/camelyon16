{
  "nbformat": 4,
  "nbformat_minor": 0,
  "metadata": {
    "colab": {
      "name": "Modelling.ipynb",
      "version": "0.3.2",
      "provenance": [],
      "collapsed_sections": [],
      "include_colab_link": true
    },
    "kernelspec": {
      "name": "python3",
      "display_name": "Python 3"
    },
    "accelerator": "GPU"
  },
  "cells": [
    {
      "cell_type": "markdown",
      "metadata": {
        "id": "view-in-github",
        "colab_type": "text"
      },
      "source": [
        "<a href=\"https://colab.research.google.com/github/lazysjb/camelyon16/blob/master/Modelling.ipynb\" target=\"_parent\"><img src=\"https://colab.research.google.com/assets/colab-badge.svg\" alt=\"Open In Colab\"/></a>"
      ]
    },
    {
      "metadata": {
        "id": "fFCVwD_Uhj6D",
        "colab_type": "text"
      },
      "cell_type": "markdown",
      "source": [
        "# Modelling "
      ]
    },
    {
      "metadata": {
        "id": "0kQSxNyDhpKu",
        "colab_type": "text"
      },
      "cell_type": "markdown",
      "source": [
        "## Get Moduels and Data"
      ]
    },
    {
      "metadata": {
        "id": "vAPWhepvn180",
        "colab_type": "code",
        "outputId": "51d4bfd6-c6f1-4016-d750-b5b2f87e0d8c",
        "colab": {
          "base_uri": "https://localhost:8080/",
          "height": 373
        }
      },
      "cell_type": "code",
      "source": [
        "# install tensorflow \n",
        "!pip install tensorflow\n"
      ],
      "execution_count": 0,
      "outputs": [
        {
          "output_type": "stream",
          "text": [
            "Requirement already satisfied: tensorflow in /usr/local/lib/python3.6/dist-packages (1.13.1)\n",
            "Requirement already satisfied: tensorflow-estimator<1.14.0rc0,>=1.13.0 in /usr/local/lib/python3.6/dist-packages (from tensorflow) (1.13.0)\n",
            "Requirement already satisfied: gast>=0.2.0 in /usr/local/lib/python3.6/dist-packages (from tensorflow) (0.2.2)\n",
            "Requirement already satisfied: keras-preprocessing>=1.0.5 in /usr/local/lib/python3.6/dist-packages (from tensorflow) (1.0.9)\n",
            "Requirement already satisfied: termcolor>=1.1.0 in /usr/local/lib/python3.6/dist-packages (from tensorflow) (1.1.0)\n",
            "Requirement already satisfied: grpcio>=1.8.6 in /usr/local/lib/python3.6/dist-packages (from tensorflow) (1.15.0)\n",
            "Requirement already satisfied: absl-py>=0.1.6 in /usr/local/lib/python3.6/dist-packages (from tensorflow) (0.7.1)\n",
            "Requirement already satisfied: keras-applications>=1.0.6 in /usr/local/lib/python3.6/dist-packages (from tensorflow) (1.0.7)\n",
            "Requirement already satisfied: numpy>=1.13.3 in /usr/local/lib/python3.6/dist-packages (from tensorflow) (1.14.6)\n",
            "Requirement already satisfied: tensorboard<1.14.0,>=1.13.0 in /usr/local/lib/python3.6/dist-packages (from tensorflow) (1.13.1)\n",
            "Requirement already satisfied: protobuf>=3.6.1 in /usr/local/lib/python3.6/dist-packages (from tensorflow) (3.7.1)\n",
            "Requirement already satisfied: astor>=0.6.0 in /usr/local/lib/python3.6/dist-packages (from tensorflow) (0.7.1)\n",
            "Requirement already satisfied: six>=1.10.0 in /usr/local/lib/python3.6/dist-packages (from tensorflow) (1.11.0)\n",
            "Requirement already satisfied: wheel>=0.26 in /usr/local/lib/python3.6/dist-packages (from tensorflow) (0.33.1)\n",
            "Requirement already satisfied: mock>=2.0.0 in /usr/local/lib/python3.6/dist-packages (from tensorflow-estimator<1.14.0rc0,>=1.13.0->tensorflow) (2.0.0)\n",
            "Requirement already satisfied: h5py in /usr/local/lib/python3.6/dist-packages (from keras-applications>=1.0.6->tensorflow) (2.8.0)\n",
            "Requirement already satisfied: werkzeug>=0.11.15 in /usr/local/lib/python3.6/dist-packages (from tensorboard<1.14.0,>=1.13.0->tensorflow) (0.15.2)\n",
            "Requirement already satisfied: markdown>=2.6.8 in /usr/local/lib/python3.6/dist-packages (from tensorboard<1.14.0,>=1.13.0->tensorflow) (3.1)\n",
            "Requirement already satisfied: setuptools in /usr/local/lib/python3.6/dist-packages (from protobuf>=3.6.1->tensorflow) (40.9.0)\n",
            "Requirement already satisfied: pbr>=0.11 in /usr/local/lib/python3.6/dist-packages (from mock>=2.0.0->tensorflow-estimator<1.14.0rc0,>=1.13.0->tensorflow) (5.1.3)\n"
          ],
          "name": "stdout"
        }
      ]
    },
    {
      "metadata": {
        "id": "4iKAidrlfYSw",
        "colab_type": "code",
        "colab": {}
      },
      "cell_type": "code",
      "source": [
        "# import libraries\n",
        "from google.colab import drive\n",
        "import os\n",
        "import zipfile\n",
        "import pandas as pd\n",
        "import tensorflow as tf\n",
        "import matplotlib.pyplot as plt"
      ],
      "execution_count": 0,
      "outputs": []
    },
    {
      "metadata": {
        "id": "w0Wku3kufenz",
        "colab_type": "code",
        "outputId": "5c614154-7f18-43ff-df17-4a11818cd359",
        "colab": {
          "base_uri": "https://localhost:8080/",
          "height": 121
        }
      },
      "cell_type": "code",
      "source": [
        "# mount drive\n",
        "drive.mount('/content/gdrive')"
      ],
      "execution_count": 0,
      "outputs": [
        {
          "output_type": "stream",
          "text": [
            "Go to this URL in a browser: https://accounts.google.com/o/oauth2/auth?client_id=947318989803-6bn6qk8qdgf4n4g3pfee6491hc0brc4i.apps.googleusercontent.com&redirect_uri=urn%3Aietf%3Awg%3Aoauth%3A2.0%3Aoob&scope=email%20https%3A%2F%2Fwww.googleapis.com%2Fauth%2Fdocs.test%20https%3A%2F%2Fwww.googleapis.com%2Fauth%2Fdrive%20https%3A%2F%2Fwww.googleapis.com%2Fauth%2Fdrive.photos.readonly%20https%3A%2F%2Fwww.googleapis.com%2Fauth%2Fpeopleapi.readonly&response_type=code\n",
            "\n",
            "Enter your authorization code:\n",
            "··········\n",
            "Mounted at /content/gdrive\n"
          ],
          "name": "stdout"
        }
      ]
    },
    {
      "metadata": {
        "id": "4j5h8RLMgAtJ",
        "colab_type": "code",
        "outputId": "5676de93-60b9-4863-ecab-62fdcbd07bbb",
        "colab": {
          "base_uri": "https://localhost:8080/",
          "height": 84
        }
      },
      "cell_type": "code",
      "source": [
        "# working directory\n",
        "path = 'gdrive/My Drive/STUDY/Columbia/Term 2/Applied Deep Learning/Project/Final Training Data/shared_files'\n",
        "os.listdir(path)\n"
      ],
      "execution_count": 0,
      "outputs": [
        {
          "output_type": "execute_result",
          "data": {
            "text/plain": [
              "['train_val_test_split.json',\n",
              " 'tumor_img_meta_info.json',\n",
              " 'zoom_5_60_60_partition.zip',\n",
              " 'zoom_5_60_60_partition']"
            ]
          },
          "metadata": {
            "tags": []
          },
          "execution_count": 4
        }
      ]
    },
    {
      "metadata": {
        "id": "ToY97xsAgk5U",
        "colab_type": "code",
        "colab": {}
      },
      "cell_type": "code",
      "source": [
        "# unzip data folders to root dir\n",
        "zf = zipfile.ZipFile(os.path.join(path, 'zoom_5_60_60_partition.zip'))\n",
        "zf.extractall()\n"
      ],
      "execution_count": 0,
      "outputs": []
    },
    {
      "metadata": {
        "id": "bIx7pQ2Ek_e1",
        "colab_type": "text"
      },
      "cell_type": "markdown",
      "source": [
        "## Preprocess Data"
      ]
    },
    {
      "metadata": {
        "id": "MhFe4OfTjpG8",
        "colab_type": "code",
        "outputId": "fca26b6d-70e6-47be-832d-ee4ad947f2a5",
        "colab": {
          "base_uri": "https://localhost:8080/",
          "height": 34
        }
      },
      "cell_type": "code",
      "source": [
        "!ls zoom_5_60_60_partition/train"
      ],
      "execution_count": 0,
      "outputs": [
        {
          "output_type": "stream",
          "text": [
            "mask  slide\n"
          ],
          "name": "stdout"
        }
      ]
    },
    {
      "metadata": {
        "id": "zhg1hQw8lRkH",
        "colab_type": "code",
        "outputId": "5d106806-1563-4089-f3cc-bf4e0eb3e64e",
        "colab": {
          "base_uri": "https://localhost:8080/",
          "height": 195
        }
      },
      "cell_type": "code",
      "source": [
        "# get metadata\n",
        "df_meta_greyscale = pd.read_json('zoom_5_60_60_partition/meta/all_info_0.4_grayscale_tol.json')\n",
        "df_meta_greyscale.head()"
      ],
      "execution_count": 0,
      "outputs": [
        {
          "output_type": "execute_result",
          "data": {
            "text/html": [
              "<div>\n",
              "<style scoped>\n",
              "    .dataframe tbody tr th:only-of-type {\n",
              "        vertical-align: middle;\n",
              "    }\n",
              "\n",
              "    .dataframe tbody tr th {\n",
              "        vertical-align: top;\n",
              "    }\n",
              "\n",
              "    .dataframe thead th {\n",
              "        text-align: right;\n",
              "    }\n",
              "</style>\n",
              "<table border=\"1\" class=\"dataframe\">\n",
              "  <thead>\n",
              "    <tr style=\"text-align: right;\">\n",
              "      <th></th>\n",
              "      <th>file_name</th>\n",
              "      <th>img_id</th>\n",
              "      <th>include</th>\n",
              "      <th>label</th>\n",
              "      <th>non_gray_ratio</th>\n",
              "      <th>type</th>\n",
              "    </tr>\n",
              "  </thead>\n",
              "  <tbody>\n",
              "    <tr>\n",
              "      <th>0</th>\n",
              "      <td>tumor_slide_001_split_25_26.png</td>\n",
              "      <td>1</td>\n",
              "      <td>0</td>\n",
              "      <td>0</td>\n",
              "      <td>0.000000</td>\n",
              "      <td>val</td>\n",
              "    </tr>\n",
              "    <tr>\n",
              "      <th>1</th>\n",
              "      <td>tumor_slide_001_split_25_32.png</td>\n",
              "      <td>1</td>\n",
              "      <td>0</td>\n",
              "      <td>0</td>\n",
              "      <td>0.000000</td>\n",
              "      <td>val</td>\n",
              "    </tr>\n",
              "    <tr>\n",
              "      <th>2</th>\n",
              "      <td>tumor_slide_001_split_77_12.png</td>\n",
              "      <td>1</td>\n",
              "      <td>0</td>\n",
              "      <td>0</td>\n",
              "      <td>0.043333</td>\n",
              "      <td>val</td>\n",
              "    </tr>\n",
              "    <tr>\n",
              "      <th>3</th>\n",
              "      <td>tumor_slide_001_split_31_47.png</td>\n",
              "      <td>1</td>\n",
              "      <td>0</td>\n",
              "      <td>0</td>\n",
              "      <td>0.000556</td>\n",
              "      <td>val</td>\n",
              "    </tr>\n",
              "    <tr>\n",
              "      <th>4</th>\n",
              "      <td>tumor_slide_001_split_79_17.png</td>\n",
              "      <td>1</td>\n",
              "      <td>0</td>\n",
              "      <td>0</td>\n",
              "      <td>0.031389</td>\n",
              "      <td>val</td>\n",
              "    </tr>\n",
              "  </tbody>\n",
              "</table>\n",
              "</div>"
            ],
            "text/plain": [
              "                         file_name  img_id  include  label  non_gray_ratio  \\\n",
              "0  tumor_slide_001_split_25_26.png       1        0      0        0.000000   \n",
              "1  tumor_slide_001_split_25_32.png       1        0      0        0.000000   \n",
              "2  tumor_slide_001_split_77_12.png       1        0      0        0.043333   \n",
              "3  tumor_slide_001_split_31_47.png       1        0      0        0.000556   \n",
              "4  tumor_slide_001_split_79_17.png       1        0      0        0.031389   \n",
              "\n",
              "  type  \n",
              "0  val  \n",
              "1  val  \n",
              "2  val  \n",
              "3  val  \n",
              "4  val  "
            ]
          },
          "metadata": {
            "tags": []
          },
          "execution_count": 7
        }
      ]
    },
    {
      "metadata": {
        "id": "WWNNM35aOY95",
        "colab_type": "code",
        "colab": {}
      },
      "cell_type": "code",
      "source": [
        "# cast target as string (keras needs strings)\n",
        "%%capture\n",
        "df_meta_greyscale.loc[:, 'label'] = df_meta_greyscale.label.astype('str')"
      ],
      "execution_count": 0,
      "outputs": []
    },
    {
      "metadata": {
        "id": "xLIO57stpIH3",
        "colab_type": "code",
        "outputId": "702188bc-5e2c-4e8b-ead4-ba6d66ed54c7",
        "colab": {
          "base_uri": "https://localhost:8080/",
          "height": 195
        }
      },
      "cell_type": "code",
      "source": [
        "# get patches with sufficient tissue\n",
        "df_train = df_meta_greyscale.loc[(df_meta_greyscale.include == 1) & (df_meta_greyscale['type'] == 'train'),:]\n",
        "\n",
        "df_train.head()"
      ],
      "execution_count": 0,
      "outputs": [
        {
          "output_type": "execute_result",
          "data": {
            "text/html": [
              "<div>\n",
              "<style scoped>\n",
              "    .dataframe tbody tr th:only-of-type {\n",
              "        vertical-align: middle;\n",
              "    }\n",
              "\n",
              "    .dataframe tbody tr th {\n",
              "        vertical-align: top;\n",
              "    }\n",
              "\n",
              "    .dataframe thead th {\n",
              "        text-align: right;\n",
              "    }\n",
              "</style>\n",
              "<table border=\"1\" class=\"dataframe\">\n",
              "  <thead>\n",
              "    <tr style=\"text-align: right;\">\n",
              "      <th></th>\n",
              "      <th>file_name</th>\n",
              "      <th>img_id</th>\n",
              "      <th>include</th>\n",
              "      <th>label</th>\n",
              "      <th>non_gray_ratio</th>\n",
              "      <th>type</th>\n",
              "    </tr>\n",
              "  </thead>\n",
              "  <tbody>\n",
              "    <tr>\n",
              "      <th>11567</th>\n",
              "      <td>tumor_slide_005_split_90_25.png</td>\n",
              "      <td>5</td>\n",
              "      <td>1</td>\n",
              "      <td>0</td>\n",
              "      <td>0.476667</td>\n",
              "      <td>train</td>\n",
              "    </tr>\n",
              "    <tr>\n",
              "      <th>11582</th>\n",
              "      <td>tumor_slide_005_split_87_15.png</td>\n",
              "      <td>5</td>\n",
              "      <td>1</td>\n",
              "      <td>0</td>\n",
              "      <td>0.966667</td>\n",
              "      <td>train</td>\n",
              "    </tr>\n",
              "    <tr>\n",
              "      <th>11608</th>\n",
              "      <td>tumor_slide_005_split_89_10.png</td>\n",
              "      <td>5</td>\n",
              "      <td>1</td>\n",
              "      <td>0</td>\n",
              "      <td>0.805278</td>\n",
              "      <td>train</td>\n",
              "    </tr>\n",
              "    <tr>\n",
              "      <th>11618</th>\n",
              "      <td>tumor_slide_005_split_89_11.png</td>\n",
              "      <td>5</td>\n",
              "      <td>1</td>\n",
              "      <td>0</td>\n",
              "      <td>0.978889</td>\n",
              "      <td>train</td>\n",
              "    </tr>\n",
              "    <tr>\n",
              "      <th>11627</th>\n",
              "      <td>tumor_slide_005_split_80_21.png</td>\n",
              "      <td>5</td>\n",
              "      <td>1</td>\n",
              "      <td>0</td>\n",
              "      <td>0.822222</td>\n",
              "      <td>train</td>\n",
              "    </tr>\n",
              "  </tbody>\n",
              "</table>\n",
              "</div>"
            ],
            "text/plain": [
              "                             file_name  img_id  include label  non_gray_ratio  \\\n",
              "11567  tumor_slide_005_split_90_25.png       5        1     0        0.476667   \n",
              "11582  tumor_slide_005_split_87_15.png       5        1     0        0.966667   \n",
              "11608  tumor_slide_005_split_89_10.png       5        1     0        0.805278   \n",
              "11618  tumor_slide_005_split_89_11.png       5        1     0        0.978889   \n",
              "11627  tumor_slide_005_split_80_21.png       5        1     0        0.822222   \n",
              "\n",
              "        type  \n",
              "11567  train  \n",
              "11582  train  \n",
              "11608  train  \n",
              "11618  train  \n",
              "11627  train  "
            ]
          },
          "metadata": {
            "tags": []
          },
          "execution_count": 9
        }
      ]
    },
    {
      "metadata": {
        "id": "EwX-WbvxsY87",
        "colab_type": "code",
        "outputId": "667ca91f-94a8-4d67-9ce4-d8b846fad388",
        "colab": {
          "base_uri": "https://localhost:8080/",
          "height": 195
        }
      },
      "cell_type": "code",
      "source": [
        "# get patches with sufficient tissue\n",
        "df_val = df_meta_greyscale.loc[(df_meta_greyscale.include == 1) & (df_meta_greyscale['type'] == 'val'),:]\n",
        "\n",
        "df_val.head()"
      ],
      "execution_count": 0,
      "outputs": [
        {
          "output_type": "execute_result",
          "data": {
            "text/html": [
              "<div>\n",
              "<style scoped>\n",
              "    .dataframe tbody tr th:only-of-type {\n",
              "        vertical-align: middle;\n",
              "    }\n",
              "\n",
              "    .dataframe tbody tr th {\n",
              "        vertical-align: top;\n",
              "    }\n",
              "\n",
              "    .dataframe thead th {\n",
              "        text-align: right;\n",
              "    }\n",
              "</style>\n",
              "<table border=\"1\" class=\"dataframe\">\n",
              "  <thead>\n",
              "    <tr style=\"text-align: right;\">\n",
              "      <th></th>\n",
              "      <th>file_name</th>\n",
              "      <th>img_id</th>\n",
              "      <th>include</th>\n",
              "      <th>label</th>\n",
              "      <th>non_gray_ratio</th>\n",
              "      <th>type</th>\n",
              "    </tr>\n",
              "  </thead>\n",
              "  <tbody>\n",
              "    <tr>\n",
              "      <th>5</th>\n",
              "      <td>tumor_slide_001_split_70_33.png</td>\n",
              "      <td>1</td>\n",
              "      <td>1</td>\n",
              "      <td>0</td>\n",
              "      <td>0.975833</td>\n",
              "      <td>val</td>\n",
              "    </tr>\n",
              "    <tr>\n",
              "      <th>9</th>\n",
              "      <td>tumor_slide_001_split_70_27.png</td>\n",
              "      <td>1</td>\n",
              "      <td>1</td>\n",
              "      <td>0</td>\n",
              "      <td>0.985556</td>\n",
              "      <td>val</td>\n",
              "    </tr>\n",
              "    <tr>\n",
              "      <th>28</th>\n",
              "      <td>tumor_slide_001_split_0_46.png</td>\n",
              "      <td>1</td>\n",
              "      <td>1</td>\n",
              "      <td>0</td>\n",
              "      <td>0.666944</td>\n",
              "      <td>val</td>\n",
              "    </tr>\n",
              "    <tr>\n",
              "      <th>45</th>\n",
              "      <td>tumor_slide_001_split_60_22.png</td>\n",
              "      <td>1</td>\n",
              "      <td>1</td>\n",
              "      <td>0</td>\n",
              "      <td>0.960278</td>\n",
              "      <td>val</td>\n",
              "    </tr>\n",
              "    <tr>\n",
              "      <th>52</th>\n",
              "      <td>tumor_slide_001_split_41_13.png</td>\n",
              "      <td>1</td>\n",
              "      <td>1</td>\n",
              "      <td>0</td>\n",
              "      <td>0.997500</td>\n",
              "      <td>val</td>\n",
              "    </tr>\n",
              "  </tbody>\n",
              "</table>\n",
              "</div>"
            ],
            "text/plain": [
              "                          file_name  img_id  include label  non_gray_ratio  \\\n",
              "5   tumor_slide_001_split_70_33.png       1        1     0        0.975833   \n",
              "9   tumor_slide_001_split_70_27.png       1        1     0        0.985556   \n",
              "28   tumor_slide_001_split_0_46.png       1        1     0        0.666944   \n",
              "45  tumor_slide_001_split_60_22.png       1        1     0        0.960278   \n",
              "52  tumor_slide_001_split_41_13.png       1        1     0        0.997500   \n",
              "\n",
              "   type  \n",
              "5   val  \n",
              "9   val  \n",
              "28  val  \n",
              "45  val  \n",
              "52  val  "
            ]
          },
          "metadata": {
            "tags": []
          },
          "execution_count": 10
        }
      ]
    },
    {
      "metadata": {
        "id": "lQ4Y9BExPpN_",
        "colab_type": "code",
        "outputId": "a359b99c-3aa1-4037-9899-9c0015be5a30",
        "colab": {
          "base_uri": "https://localhost:8080/",
          "height": 195
        }
      },
      "cell_type": "code",
      "source": [
        "# get patches with sufficient tissue\n",
        "df_test = df_meta_greyscale.loc[(df_meta_greyscale.include == 1) & (df_meta_greyscale['type'] == 'test'),:]\n",
        "\n",
        "df_test.head()"
      ],
      "execution_count": 0,
      "outputs": [
        {
          "output_type": "execute_result",
          "data": {
            "text/html": [
              "<div>\n",
              "<style scoped>\n",
              "    .dataframe tbody tr th:only-of-type {\n",
              "        vertical-align: middle;\n",
              "    }\n",
              "\n",
              "    .dataframe tbody tr th {\n",
              "        vertical-align: top;\n",
              "    }\n",
              "\n",
              "    .dataframe thead th {\n",
              "        text-align: right;\n",
              "    }\n",
              "</style>\n",
              "<table border=\"1\" class=\"dataframe\">\n",
              "  <thead>\n",
              "    <tr style=\"text-align: right;\">\n",
              "      <th></th>\n",
              "      <th>file_name</th>\n",
              "      <th>img_id</th>\n",
              "      <th>include</th>\n",
              "      <th>label</th>\n",
              "      <th>non_gray_ratio</th>\n",
              "      <th>type</th>\n",
              "    </tr>\n",
              "  </thead>\n",
              "  <tbody>\n",
              "    <tr>\n",
              "      <th>5777</th>\n",
              "      <td>tumor_slide_002_split_52_16.png</td>\n",
              "      <td>2</td>\n",
              "      <td>1</td>\n",
              "      <td>0</td>\n",
              "      <td>0.422500</td>\n",
              "      <td>test</td>\n",
              "    </tr>\n",
              "    <tr>\n",
              "      <th>5783</th>\n",
              "      <td>tumor_slide_002_split_55_23.png</td>\n",
              "      <td>2</td>\n",
              "      <td>1</td>\n",
              "      <td>0</td>\n",
              "      <td>0.912500</td>\n",
              "      <td>test</td>\n",
              "    </tr>\n",
              "    <tr>\n",
              "      <th>5803</th>\n",
              "      <td>tumor_slide_002_split_63_36.png</td>\n",
              "      <td>2</td>\n",
              "      <td>1</td>\n",
              "      <td>0</td>\n",
              "      <td>0.886389</td>\n",
              "      <td>test</td>\n",
              "    </tr>\n",
              "    <tr>\n",
              "      <th>5854</th>\n",
              "      <td>tumor_slide_002_split_61_33.png</td>\n",
              "      <td>2</td>\n",
              "      <td>1</td>\n",
              "      <td>0</td>\n",
              "      <td>0.938333</td>\n",
              "      <td>test</td>\n",
              "    </tr>\n",
              "    <tr>\n",
              "      <th>5903</th>\n",
              "      <td>tumor_slide_002_split_50_13.png</td>\n",
              "      <td>2</td>\n",
              "      <td>1</td>\n",
              "      <td>0</td>\n",
              "      <td>0.949444</td>\n",
              "      <td>test</td>\n",
              "    </tr>\n",
              "  </tbody>\n",
              "</table>\n",
              "</div>"
            ],
            "text/plain": [
              "                            file_name  img_id  include label  non_gray_ratio  \\\n",
              "5777  tumor_slide_002_split_52_16.png       2        1     0        0.422500   \n",
              "5783  tumor_slide_002_split_55_23.png       2        1     0        0.912500   \n",
              "5803  tumor_slide_002_split_63_36.png       2        1     0        0.886389   \n",
              "5854  tumor_slide_002_split_61_33.png       2        1     0        0.938333   \n",
              "5903  tumor_slide_002_split_50_13.png       2        1     0        0.949444   \n",
              "\n",
              "      type  \n",
              "5777  test  \n",
              "5783  test  \n",
              "5803  test  \n",
              "5854  test  \n",
              "5903  test  "
            ]
          },
          "metadata": {
            "tags": []
          },
          "execution_count": 11
        }
      ]
    },
    {
      "metadata": {
        "id": "YFfNpxAF9IDC",
        "colab_type": "code",
        "outputId": "9a0c837e-6818-49e0-9740-f54f300ab35c",
        "colab": {
          "base_uri": "https://localhost:8080/",
          "height": 67
        }
      },
      "cell_type": "code",
      "source": [
        "# downsampled df \n",
        "df_train['label'].value_counts()\n"
      ],
      "execution_count": 0,
      "outputs": [
        {
          "output_type": "execute_result",
          "data": {
            "text/plain": [
              "0    3967\n",
              "1     695\n",
              "Name: label, dtype: int64"
            ]
          },
          "metadata": {
            "tags": []
          },
          "execution_count": 12
        }
      ]
    },
    {
      "metadata": {
        "id": "KxUi4ESC9fGp",
        "colab_type": "code",
        "colab": {}
      },
      "cell_type": "code",
      "source": [
        "df_down = pd.concat([df_train[df_train['label'] == '0'].sample(1000), df_train[df_train['label'] == '1']], axis = 0)"
      ],
      "execution_count": 0,
      "outputs": []
    },
    {
      "metadata": {
        "id": "DJntrC93Dqwl",
        "colab_type": "code",
        "outputId": "410e5a55-5235-4924-dad1-a356de3e12f1",
        "colab": {
          "base_uri": "https://localhost:8080/",
          "height": 195
        }
      },
      "cell_type": "code",
      "source": [
        "df_down.head()"
      ],
      "execution_count": 0,
      "outputs": [
        {
          "output_type": "execute_result",
          "data": {
            "text/html": [
              "<div>\n",
              "<style scoped>\n",
              "    .dataframe tbody tr th:only-of-type {\n",
              "        vertical-align: middle;\n",
              "    }\n",
              "\n",
              "    .dataframe tbody tr th {\n",
              "        vertical-align: top;\n",
              "    }\n",
              "\n",
              "    .dataframe thead th {\n",
              "        text-align: right;\n",
              "    }\n",
              "</style>\n",
              "<table border=\"1\" class=\"dataframe\">\n",
              "  <thead>\n",
              "    <tr style=\"text-align: right;\">\n",
              "      <th></th>\n",
              "      <th>file_name</th>\n",
              "      <th>img_id</th>\n",
              "      <th>include</th>\n",
              "      <th>label</th>\n",
              "      <th>non_gray_ratio</th>\n",
              "      <th>type</th>\n",
              "    </tr>\n",
              "  </thead>\n",
              "  <tbody>\n",
              "    <tr>\n",
              "      <th>78214</th>\n",
              "      <td>tumor_slide_094_split_11_50.png</td>\n",
              "      <td>94</td>\n",
              "      <td>1</td>\n",
              "      <td>0</td>\n",
              "      <td>0.626667</td>\n",
              "      <td>train</td>\n",
              "    </tr>\n",
              "    <tr>\n",
              "      <th>46124</th>\n",
              "      <td>tumor_slide_035_split_114_10.png</td>\n",
              "      <td>35</td>\n",
              "      <td>1</td>\n",
              "      <td>0</td>\n",
              "      <td>0.542222</td>\n",
              "      <td>train</td>\n",
              "    </tr>\n",
              "    <tr>\n",
              "      <th>86082</th>\n",
              "      <td>tumor_slide_101_split_9_27.png</td>\n",
              "      <td>101</td>\n",
              "      <td>1</td>\n",
              "      <td>0</td>\n",
              "      <td>1.000000</td>\n",
              "      <td>train</td>\n",
              "    </tr>\n",
              "    <tr>\n",
              "      <th>70132</th>\n",
              "      <td>tumor_slide_075_split_23_6.png</td>\n",
              "      <td>75</td>\n",
              "      <td>1</td>\n",
              "      <td>0</td>\n",
              "      <td>0.428889</td>\n",
              "      <td>train</td>\n",
              "    </tr>\n",
              "    <tr>\n",
              "      <th>86894</th>\n",
              "      <td>tumor_slide_110_split_12_39.png</td>\n",
              "      <td>110</td>\n",
              "      <td>1</td>\n",
              "      <td>0</td>\n",
              "      <td>0.479444</td>\n",
              "      <td>train</td>\n",
              "    </tr>\n",
              "  </tbody>\n",
              "</table>\n",
              "</div>"
            ],
            "text/plain": [
              "                              file_name  img_id  include label  \\\n",
              "78214   tumor_slide_094_split_11_50.png      94        1     0   \n",
              "46124  tumor_slide_035_split_114_10.png      35        1     0   \n",
              "86082    tumor_slide_101_split_9_27.png     101        1     0   \n",
              "70132    tumor_slide_075_split_23_6.png      75        1     0   \n",
              "86894   tumor_slide_110_split_12_39.png     110        1     0   \n",
              "\n",
              "       non_gray_ratio   type  \n",
              "78214        0.626667  train  \n",
              "46124        0.542222  train  \n",
              "86082        1.000000  train  \n",
              "70132        0.428889  train  \n",
              "86894        0.479444  train  "
            ]
          },
          "metadata": {
            "tags": []
          },
          "execution_count": 14
        }
      ]
    },
    {
      "metadata": {
        "id": "uwad5EJaGEQD",
        "colab_type": "code",
        "colab": {}
      },
      "cell_type": "code",
      "source": [
        "df_up = pd.concat([df_train, df_train[df_train['label'] == '1'].sample(3500, replace=True)], axis = 0)"
      ],
      "execution_count": 0,
      "outputs": []
    },
    {
      "metadata": {
        "id": "H-T2HTotGMZE",
        "colab_type": "code",
        "outputId": "15047245-8ce4-4401-8485-41ce0f6a7d13",
        "colab": {
          "base_uri": "https://localhost:8080/",
          "height": 67
        }
      },
      "cell_type": "code",
      "source": [
        "df_up.label.value_counts()"
      ],
      "execution_count": 0,
      "outputs": [
        {
          "output_type": "execute_result",
          "data": {
            "text/plain": [
              "1    4195\n",
              "0    3967\n",
              "Name: label, dtype: int64"
            ]
          },
          "metadata": {
            "tags": []
          },
          "execution_count": 16
        }
      ]
    },
    {
      "metadata": {
        "id": "MrzA5-KhmUq4",
        "colab_type": "code",
        "outputId": "dde2d724-6c3a-4b55-d8b8-c1694673e1fc",
        "colab": {
          "base_uri": "https://localhost:8080/",
          "height": 34
        }
      },
      "cell_type": "code",
      "source": [
        "# specify image data generator with augmentation\n",
        "datagen = tf.keras.preprocessing.image.ImageDataGenerator(rescale=1./255,\n",
        "                                                         rotation_range=180,\n",
        "                                                         horizontal_flip=True,\n",
        "                                                         vertical_flip = True)\n",
        "\n",
        "# datagen = tf.keras.preprocessing.image.ImageDataGenerator(rescale=1./255)\n",
        "\n",
        "# read data from the train directory\n",
        "train_generator = datagen.flow_from_dataframe(dataframe = df_up, \n",
        "                                              directory = 'zoom_5_60_60_partition/train/slide',\n",
        "                                              x_col = 'file_name', \n",
        "                                              y_col='label',\n",
        "                                              class_mode='binary', \n",
        "                                              target_size=(60,60), \n",
        "                                              batch_size=32,\n",
        "                                              drop_duplicates=False)\n",
        "\n"
      ],
      "execution_count": 0,
      "outputs": [
        {
          "output_type": "stream",
          "text": [
            "Found 8162 images belonging to 2 classes.\n"
          ],
          "name": "stdout"
        }
      ]
    },
    {
      "metadata": {
        "id": "xtcfsYoBiMg7",
        "colab_type": "code",
        "outputId": "f0f4fce5-5cc8-4e0b-f5ac-d2abc8847b86",
        "colab": {
          "base_uri": "https://localhost:8080/",
          "height": 34
        }
      },
      "cell_type": "code",
      "source": [
        "len(train_generator)"
      ],
      "execution_count": 0,
      "outputs": [
        {
          "output_type": "execute_result",
          "data": {
            "text/plain": [
              "256"
            ]
          },
          "metadata": {
            "tags": []
          },
          "execution_count": 18
        }
      ]
    },
    {
      "metadata": {
        "id": "VQb6Vw_eP8DF",
        "colab_type": "code",
        "outputId": "0e5d6c59-1287-4ba0-f178-93a5ee4fe2f1",
        "colab": {
          "base_uri": "https://localhost:8080/",
          "height": 34
        }
      },
      "cell_type": "code",
      "source": [
        "# specify image data generator with augmentation\n",
        "datagen = tf.keras.preprocessing.image.ImageDataGenerator(rescale=1./255)\n",
        "\n",
        "# read data from the train directory\n",
        "val_generator = datagen.flow_from_dataframe(dataframe = df_val, \n",
        "                                              directory = 'zoom_5_60_60_partition/val/slide',\n",
        "                                              x_col = 'file_name', \n",
        "                                              y_col='label',\n",
        "                                              class_mode='binary', \n",
        "                                              target_size=(60,60), \n",
        "                                              batch_size=32)\n",
        "\n"
      ],
      "execution_count": 0,
      "outputs": [
        {
          "output_type": "stream",
          "text": [
            "Found 1283 images belonging to 2 classes.\n"
          ],
          "name": "stdout"
        }
      ]
    },
    {
      "metadata": {
        "id": "2y4r0qoAjBlC",
        "colab_type": "code",
        "outputId": "1ac11c92-1bfd-44e6-8e38-23822449e976",
        "colab": {
          "base_uri": "https://localhost:8080/",
          "height": 34
        }
      },
      "cell_type": "code",
      "source": [
        "len(val_generator)"
      ],
      "execution_count": 0,
      "outputs": [
        {
          "output_type": "execute_result",
          "data": {
            "text/plain": [
              "41"
            ]
          },
          "metadata": {
            "tags": []
          },
          "execution_count": 20
        }
      ]
    },
    {
      "metadata": {
        "id": "JN3UZpAyJ4FH",
        "colab_type": "code",
        "outputId": "be5bab39-8aaa-471a-be72-033afbc554f7",
        "colab": {
          "base_uri": "https://localhost:8080/",
          "height": 159
        }
      },
      "cell_type": "code",
      "source": [
        "# plot augmented images\n",
        "def plotImages(images_arr):\n",
        "    fig, axes = plt.subplots(1, 5, figsize=(10,10))\n",
        "    axes = axes.flatten()\n",
        "    for img, ax in zip( images_arr, axes):\n",
        "        ax.grid(False)\n",
        "        ax.imshow(img)\n",
        "    plt.tight_layout()\n",
        "    plt.show()\n",
        "    \n",
        "    \n",
        "augmented_images = [train_generator[0][0][0] for i in range(5)]\n",
        "\n",
        "plotImages(augmented_images)"
      ],
      "execution_count": 0,
      "outputs": [
        {
          "output_type": "display_data",
          "data": {
            "image/png": "[encoded data removed]",
            "text/plain": [
              "<Figure size 720x720 with 5 Axes>"
            ]
          },
          "metadata": {
            "tags": []
          }
        }
      ]
    },
    {
      "metadata": {
        "id": "9cdGLMMdQ9Ce",
        "colab_type": "text"
      },
      "cell_type": "markdown",
      "source": [
        "## Train Model"
      ]
    },
    {
      "metadata": {
        "id": "T83cXCxGJuZl",
        "colab_type": "code",
        "outputId": "e71b8eaa-1d8b-4619-9c6b-ffc40d8bb219",
        "colab": {
          "base_uri": "https://localhost:8080/",
          "height": 87
        }
      },
      "cell_type": "code",
      "source": [
        "# specify model architecture\n",
        "model = tf.keras.Sequential()\n",
        "model.add(tf.keras.layers.Conv2D(64, (3, 3), activation='relu', input_shape=(60, 60, 3)))\n",
        "model.add(tf.keras.layers.Conv2D(128, (3, 3), activation='relu'))\n",
        "#model.add(tf.keras.layers.MaxPooling2D((2, 2)))\n",
        "model.add(tf.keras.layers.Conv2D(256, (3, 3), activation='relu'))\n",
        "#model.add(tf.keras.layers.Conv2D(128, (3, 3), activation='relu'))\n",
        "model.add(tf.keras.layers.MaxPooling2D((2, 2)))\n",
        "model.add(tf.keras.layers.Flatten())\n",
        "#model.add(tf.keras.layers.Dropout(0.2))\n",
        "model.add(tf.keras.layers.Dense(128, activation='relu'))\n",
        "model.add(tf.keras.layers.Dense(1, activation='sigmoid'))\n"
      ],
      "execution_count": 0,
      "outputs": [
        {
          "output_type": "stream",
          "text": [
            "WARNING:tensorflow:From /usr/local/lib/python3.6/dist-packages/tensorflow/python/ops/resource_variable_ops.py:435: colocate_with (from tensorflow.python.framework.ops) is deprecated and will be removed in a future version.\n",
            "Instructions for updating:\n",
            "Colocations handled automatically by placer.\n"
          ],
          "name": "stdout"
        }
      ]
    },
    {
      "metadata": {
        "id": "V8TmDpGWeM06",
        "colab_type": "code",
        "outputId": "8ff5a285-06bb-41b3-c993-b416b50e10e3",
        "colab": {
          "base_uri": "https://localhost:8080/",
          "height": 370
        }
      },
      "cell_type": "code",
      "source": [
        "# compile model\n",
        "model.compile(optimizer='adam', \n",
        "              loss='binary_crossentropy', \n",
        "              metrics=['accuracy'])\n",
        "\n",
        "# print model architecture\n",
        "model.summary()"
      ],
      "execution_count": 0,
      "outputs": [
        {
          "output_type": "stream",
          "text": [
            "_________________________________________________________________\n",
            "Layer (type)                 Output Shape              Param #   \n",
            "=================================================================\n",
            "conv2d (Conv2D)              (None, 58, 58, 64)        1792      \n",
            "_________________________________________________________________\n",
            "conv2d_1 (Conv2D)            (None, 56, 56, 128)       73856     \n",
            "_________________________________________________________________\n",
            "conv2d_2 (Conv2D)            (None, 54, 54, 256)       295168    \n",
            "_________________________________________________________________\n",
            "max_pooling2d (MaxPooling2D) (None, 27, 27, 256)       0         \n",
            "_________________________________________________________________\n",
            "flatten (Flatten)            (None, 186624)            0         \n",
            "_________________________________________________________________\n",
            "dense (Dense)                (None, 128)               23888000  \n",
            "_________________________________________________________________\n",
            "dense_1 (Dense)              (None, 1)                 129       \n",
            "=================================================================\n",
            "Total params: 24,258,945\n",
            "Trainable params: 24,258,945\n",
            "Non-trainable params: 0\n",
            "_________________________________________________________________\n"
          ],
          "name": "stdout"
        }
      ]
    },
    {
      "metadata": {
        "id": "B3EGiVZjLYCU",
        "colab_type": "code",
        "outputId": "db915dad-b2ac-4e14-84c8-3cf5fbd00975",
        "colab": {
          "base_uri": "https://localhost:8080/",
          "height": 1095
        }
      },
      "cell_type": "code",
      "source": [
        "EPOCHS = 20\n",
        "\n",
        "history = model.fit_generator(train_generator,\n",
        "                   epochs = EPOCHS,\n",
        "                   validation_data = val_generator,\n",
        "                   verbose=1)"
      ],
      "execution_count": 0,
      "outputs": [
        {
          "output_type": "stream",
          "text": [
            "WARNING:tensorflow:From /usr/local/lib/python3.6/dist-packages/tensorflow/python/ops/math_ops.py:3066: to_int32 (from tensorflow.python.ops.math_ops) is deprecated and will be removed in a future version.\n",
            "Instructions for updating:\n",
            "Use tf.cast instead.\n",
            "Epoch 1/20\n",
            "41/41 [==============================] - 2s 52ms/step - loss: 0.7499 - acc: 0.4622\n",
            "256/256 [==============================] - 36s 142ms/step - loss: 0.5540 - acc: 0.7203 - val_loss: 0.7499 - val_acc: 0.4622\n",
            "Epoch 2/20\n",
            "41/41 [==============================] - 2s 49ms/step - loss: 0.3884 - acc: 0.8807\n",
            "256/256 [==============================] - 32s 125ms/step - loss: 0.4860 - acc: 0.7616 - val_loss: 0.3884 - val_acc: 0.8807\n",
            "Epoch 3/20\n",
            "41/41 [==============================] - 2s 50ms/step - loss: 0.4432 - acc: 0.8807\n",
            "256/256 [==============================] - 32s 125ms/step - loss: 0.4570 - acc: 0.7724 - val_loss: 0.4432 - val_acc: 0.8807\n",
            "Epoch 4/20\n",
            "41/41 [==============================] - 2s 49ms/step - loss: 0.4221 - acc: 0.8807\n",
            "256/256 [==============================] - 32s 125ms/step - loss: 0.4386 - acc: 0.7809 - val_loss: 0.4221 - val_acc: 0.8807\n",
            "Epoch 5/20\n",
            "41/41 [==============================] - 2s 51ms/step - loss: 0.5508 - acc: 0.8620\n",
            "256/256 [==============================] - 32s 125ms/step - loss: 0.4132 - acc: 0.7960 - val_loss: 0.5508 - val_acc: 0.8620\n",
            "Epoch 6/20\n",
            "41/41 [==============================] - 2s 48ms/step - loss: 0.5863 - acc: 0.7202\n",
            "256/256 [==============================] - 32s 124ms/step - loss: 0.4029 - acc: 0.8016 - val_loss: 0.5863 - val_acc: 0.7202\n",
            "Epoch 7/20\n",
            "41/41 [==============================] - 2s 48ms/step - loss: 0.5198 - acc: 0.7514\n",
            "256/256 [==============================] - 32s 124ms/step - loss: 0.4007 - acc: 0.8099 - val_loss: 0.5198 - val_acc: 0.7514\n",
            "Epoch 8/20\n",
            "41/41 [==============================] - 2s 48ms/step - loss: 0.5634 - acc: 0.7077\n",
            "256/256 [==============================] - 32s 123ms/step - loss: 0.3847 - acc: 0.8193 - val_loss: 0.5634 - val_acc: 0.7077\n",
            "Epoch 9/20\n",
            "41/41 [==============================] - 2s 48ms/step - loss: 0.5064 - acc: 0.7802\n",
            "256/256 [==============================] - 32s 123ms/step - loss: 0.3708 - acc: 0.8314 - val_loss: 0.5064 - val_acc: 0.7802\n",
            "Epoch 10/20\n",
            "41/41 [==============================] - 2s 49ms/step - loss: 0.5200 - acc: 0.7973\n",
            "256/256 [==============================] - 32s 124ms/step - loss: 0.3337 - acc: 0.8494 - val_loss: 0.5200 - val_acc: 0.7973\n",
            "Epoch 11/20\n",
            "41/41 [==============================] - 2s 49ms/step - loss: 0.3521 - acc: 0.8784\n",
            "256/256 [==============================] - 32s 125ms/step - loss: 0.3226 - acc: 0.8570 - val_loss: 0.3521 - val_acc: 0.8784\n",
            "Epoch 12/20\n",
            "41/41 [==============================] - 2s 49ms/step - loss: 1.1797 - acc: 0.5433\n",
            "256/256 [==============================] - 32s 124ms/step - loss: 0.3107 - acc: 0.8635 - val_loss: 1.1797 - val_acc: 0.5433\n",
            "Epoch 13/20\n",
            "41/41 [==============================] - 2s 47ms/step - loss: 0.7951 - acc: 0.6251\n",
            "256/256 [==============================] - 32s 124ms/step - loss: 0.3436 - acc: 0.8514 - val_loss: 0.7951 - val_acc: 0.6251\n",
            "Epoch 14/20\n",
            "41/41 [==============================] - 2s 46ms/step - loss: 0.8136 - acc: 0.6750\n",
            "256/256 [==============================] - 32s 124ms/step - loss: 0.3015 - acc: 0.8680 - val_loss: 0.8136 - val_acc: 0.6750\n",
            "Epoch 15/20\n",
            "41/41 [==============================] - 2s 48ms/step - loss: 0.8548 - acc: 0.6056\n",
            "256/256 [==============================] - 31s 123ms/step - loss: 0.2824 - acc: 0.8787 - val_loss: 0.8548 - val_acc: 0.6056\n",
            "Epoch 16/20\n",
            "41/41 [==============================] - 2s 46ms/step - loss: 0.5564 - acc: 0.7685\n",
            "256/256 [==============================] - 32s 123ms/step - loss: 0.2774 - acc: 0.8776 - val_loss: 0.5564 - val_acc: 0.7685\n",
            "Epoch 17/20\n",
            "41/41 [==============================] - 2s 48ms/step - loss: 0.7846 - acc: 0.6960\n",
            "256/256 [==============================] - 32s 123ms/step - loss: 0.3115 - acc: 0.8654 - val_loss: 0.7846 - val_acc: 0.6960\n",
            "Epoch 18/20\n",
            "41/41 [==============================] - 2s 47ms/step - loss: 0.8219 - acc: 0.6828\n",
            "256/256 [==============================] - 32s 123ms/step - loss: 0.2787 - acc: 0.8747 - val_loss: 0.8219 - val_acc: 0.6828\n",
            "Epoch 19/20\n",
            "41/41 [==============================] - 2s 47ms/step - loss: 0.6691 - acc: 0.6555\n",
            "256/256 [==============================] - 32s 123ms/step - loss: 0.2976 - acc: 0.8704 - val_loss: 0.6691 - val_acc: 0.6555\n",
            "Epoch 20/20\n",
            "41/41 [==============================] - 2s 49ms/step - loss: 0.4522 - acc: 0.8200\n",
            "256/256 [==============================] - 32s 123ms/step - loss: 0.2700 - acc: 0.8812 - val_loss: 0.4522 - val_acc: 0.8200\n"
          ],
          "name": "stdout"
        }
      ]
    },
    {
      "metadata": {
        "id": "EKuuoJG-Y_FU",
        "colab_type": "code",
        "colab": {}
      },
      "cell_type": "code",
      "source": [
        "# try again with balanced class weights\n",
        "import sklearn\n",
        "import numpy as np\n",
        "\n",
        "y_train = df_train['label']\n",
        "\n",
        "class_weights = sklearn.utils.class_weight.compute_class_weight('balanced',\n",
        "                                                 np.unique(y_train),\n",
        "                                                 y_train)\n"
      ],
      "execution_count": 0,
      "outputs": []
    },
    {
      "metadata": {
        "id": "UMOBA0CU5wG7",
        "colab_type": "code",
        "outputId": "ce9a45a2-91cb-4b30-d699-77fa888a9385",
        "colab": {
          "base_uri": "https://localhost:8080/",
          "height": 34
        }
      },
      "cell_type": "code",
      "source": [
        "class_weights"
      ],
      "execution_count": 0,
      "outputs": [
        {
          "output_type": "execute_result",
          "data": {
            "text/plain": [
              "array([0.58759768, 3.35395683])"
            ]
          },
          "metadata": {
            "tags": []
          },
          "execution_count": 26
        }
      ]
    },
    {
      "metadata": {
        "id": "oPh0egB2jeCu",
        "colab_type": "code",
        "colab": {}
      },
      "cell_type": "code",
      "source": [
        "# create class weights dictionary\n",
        "cw = dict(zip([0,1], class_weights))\n",
        "# doesnt work for some reason "
      ],
      "execution_count": 0,
      "outputs": []
    },
    {
      "metadata": {
        "id": "zcOU6KS47l9t",
        "colab_type": "code",
        "outputId": "f2d67c93-45f0-4819-d380-025d2e039d78",
        "colab": {
          "base_uri": "https://localhost:8080/",
          "height": 34
        }
      },
      "cell_type": "code",
      "source": [
        "cw"
      ],
      "execution_count": 0,
      "outputs": [
        {
          "output_type": "execute_result",
          "data": {
            "text/plain": [
              "{0: 0.587597680867154, 1: 3.353956834532374}"
            ]
          },
          "metadata": {
            "tags": []
          },
          "execution_count": 28
        }
      ]
    },
    {
      "metadata": {
        "id": "762pzh9RmfJA",
        "colab_type": "code",
        "colab": {}
      },
      "cell_type": "code",
      "source": [
        "# specify model architecture\n",
        "model_2 = tf.keras.Sequential()\n",
        "model_2.add(tf.keras.layers.Flatten(input_shape = (60, 60, 3)))\n",
        "model_2.add(tf.keras.layers.Dense(512, activation='tanh'))\n",
        "model_2.add(tf.keras.layers.Dense(256, activation='relu'))\n",
        "model_2.add(tf.keras.layers.Dense(128, activation='tanh'))\n",
        "model_2.add(tf.keras.layers.Dense(1, activation='sigmoid'))\n"
      ],
      "execution_count": 0,
      "outputs": []
    },
    {
      "metadata": {
        "id": "wGAR-3M-er-L",
        "colab_type": "code",
        "outputId": "55cbb384-11d1-461f-9773-15939b995785",
        "colab": {
          "base_uri": "https://localhost:8080/",
          "height": 302
        }
      },
      "cell_type": "code",
      "source": [
        "# recompile model\n",
        "model_2.compile(optimizer='adam', \n",
        "              loss='binary_crossentropy', \n",
        "              metrics=['accuracy'])\n",
        "\n",
        "model_2.summary()"
      ],
      "execution_count": 0,
      "outputs": [
        {
          "output_type": "stream",
          "text": [
            "_________________________________________________________________\n",
            "Layer (type)                 Output Shape              Param #   \n",
            "=================================================================\n",
            "flatten_2 (Flatten)          (None, 10800)             0         \n",
            "_________________________________________________________________\n",
            "dense_6 (Dense)              (None, 512)               5530112   \n",
            "_________________________________________________________________\n",
            "dense_7 (Dense)              (None, 256)               131328    \n",
            "_________________________________________________________________\n",
            "dense_8 (Dense)              (None, 128)               32896     \n",
            "_________________________________________________________________\n",
            "dense_9 (Dense)              (None, 1)                 129       \n",
            "=================================================================\n",
            "Total params: 5,694,465\n",
            "Trainable params: 5,694,465\n",
            "Non-trainable params: 0\n",
            "_________________________________________________________________\n"
          ],
          "name": "stdout"
        }
      ]
    },
    {
      "metadata": {
        "id": "mVrZmaTWde1G",
        "colab_type": "code",
        "outputId": "7a3240f4-05f8-4965-bb0c-cbcb04e5aa11",
        "colab": {
          "base_uri": "https://localhost:8080/",
          "height": 558
        }
      },
      "cell_type": "code",
      "source": [
        "EPOCHS = 10\n",
        "\n",
        "model_2.fit_generator(train_generator,\n",
        "                   epochs = EPOCHS,\n",
        "                   validation_data = val_generator,\n",
        "                   #class_weight = cw,\n",
        "                   shuffle=True)"
      ],
      "execution_count": 0,
      "outputs": [
        {
          "output_type": "stream",
          "text": [
            "Epoch 1/10\n",
            "41/41 [==============================] - 2s 43ms/step - loss: 0.6241 - acc: 0.8807\n",
            "256/256 [==============================] - 21s 83ms/step - loss: 0.7107 - acc: 0.5002 - val_loss: 0.6241 - val_acc: 0.8807\n",
            "Epoch 2/10\n",
            "41/41 [==============================] - 2s 42ms/step - loss: 0.7516 - acc: 0.1193\n",
            "256/256 [==============================] - 21s 83ms/step - loss: 0.6949 - acc: 0.5047 - val_loss: 0.7516 - val_acc: 0.1193\n",
            "Epoch 3/10\n",
            "41/41 [==============================] - 2s 41ms/step - loss: 0.7323 - acc: 0.1193\n",
            "256/256 [==============================] - 21s 83ms/step - loss: 0.6949 - acc: 0.5083 - val_loss: 0.7323 - val_acc: 0.1193\n",
            "Epoch 4/10\n",
            "41/41 [==============================] - 2s 43ms/step - loss: 0.7577 - acc: 0.1193\n",
            "256/256 [==============================] - 21s 83ms/step - loss: 0.6956 - acc: 0.5007 - val_loss: 0.7577 - val_acc: 0.1193\n",
            "Epoch 5/10\n",
            "41/41 [==============================] - 2s 41ms/step - loss: 0.6436 - acc: 0.8807\n",
            "256/256 [==============================] - 21s 83ms/step - loss: 0.6965 - acc: 0.5034 - val_loss: 0.6436 - val_acc: 0.8807\n",
            "Epoch 6/10\n",
            "41/41 [==============================] - 2s 42ms/step - loss: 0.7045 - acc: 0.1193\n",
            "256/256 [==============================] - 21s 81ms/step - loss: 0.6968 - acc: 0.4951 - val_loss: 0.7045 - val_acc: 0.1193\n",
            "Epoch 7/10\n",
            "41/41 [==============================] - 2s 39ms/step - loss: 0.6486 - acc: 0.8807\n",
            "256/256 [==============================] - 21s 83ms/step - loss: 0.6955 - acc: 0.4971 - val_loss: 0.6486 - val_acc: 0.8807\n",
            "Epoch 8/10\n",
            "41/41 [==============================] - 2s 40ms/step - loss: 0.6805 - acc: 0.8807\n",
            "256/256 [==============================] - 21s 81ms/step - loss: 0.6948 - acc: 0.5056 - val_loss: 0.6805 - val_acc: 0.8807\n",
            "Epoch 9/10\n",
            "41/41 [==============================] - 2s 41ms/step - loss: 0.7000 - acc: 0.1193\n",
            "256/256 [==============================] - 22s 84ms/step - loss: 0.6980 - acc: 0.4985 - val_loss: 0.7000 - val_acc: 0.1193\n",
            "Epoch 10/10\n",
            "41/41 [==============================] - 2s 40ms/step - loss: 0.7069 - acc: 0.1193\n",
            "256/256 [==============================] - 21s 82ms/step - loss: 0.6961 - acc: 0.5032 - val_loss: 0.7069 - val_acc: 0.1193\n"
          ],
          "name": "stdout"
        },
        {
          "output_type": "execute_result",
          "data": {
            "text/plain": [
              "<tensorflow.python.keras.callbacks.History at 0x7feb3c59b6d8>"
            ]
          },
          "metadata": {
            "tags": []
          },
          "execution_count": 39
        }
      ]
    },
    {
      "metadata": {
        "id": "c3IoQaWoPnKy",
        "colab_type": "code",
        "outputId": "b67d08c7-a165-4758-92be-d7d6f28aa048",
        "colab": {
          "base_uri": "https://localhost:8080/",
          "height": 134
        }
      },
      "cell_type": "code",
      "source": [
        "model.predict(val_generator)"
      ],
      "execution_count": 0,
      "outputs": [
        {
          "output_type": "execute_result",
          "data": {
            "text/plain": [
              "array([[0.2554441 ],\n",
              "       [0.90633047],\n",
              "       [0.2586465 ],\n",
              "       ...,\n",
              "       [0.09441949],\n",
              "       [0.0263592 ],\n",
              "       [0.3309168 ]], dtype=float32)"
            ]
          },
          "metadata": {
            "tags": []
          },
          "execution_count": 32
        }
      ]
    },
    {
      "metadata": {
        "id": "W4fYbpnfP6Jo",
        "colab_type": "code",
        "outputId": "e7c8a3b6-dfb3-4afe-8412-c62c984a419a",
        "colab": {
          "base_uri": "https://localhost:8080/",
          "height": 67
        }
      },
      "cell_type": "code",
      "source": [
        "y_val = df_val['label']\n",
        "\n",
        "\n",
        "y_val.value_counts(normalize=True)"
      ],
      "execution_count": 0,
      "outputs": [
        {
          "output_type": "execute_result",
          "data": {
            "text/plain": [
              "0    0.880748\n",
              "1    0.119252\n",
              "Name: label, dtype: float64"
            ]
          },
          "metadata": {
            "tags": []
          },
          "execution_count": 33
        }
      ]
    },
    {
      "metadata": {
        "id": "dCNg2u-uQ75Z",
        "colab_type": "text"
      },
      "cell_type": "markdown",
      "source": [
        ""
      ]
    },
    {
      "metadata": {
        "id": "C90CCkyUi_7l",
        "colab_type": "code",
        "outputId": "f02b2277-500e-4977-e8f0-b1c7f1cba7c0",
        "colab": {
          "base_uri": "https://localhost:8080/",
          "height": 34
        }
      },
      "cell_type": "code",
      "source": [
        "1/0.119252"
      ],
      "execution_count": 0,
      "outputs": [
        {
          "output_type": "execute_result",
          "data": {
            "text/plain": [
              "8.385603595746822"
            ]
          },
          "metadata": {
            "tags": []
          },
          "execution_count": 34
        }
      ]
    },
    {
      "metadata": {
        "id": "9Dp0sHvuqBCV",
        "colab_type": "code",
        "outputId": "9f8d5bff-edd0-4bb3-8657-612e66d7ee7b",
        "colab": {
          "base_uri": "https://localhost:8080/",
          "height": 34
        }
      },
      "cell_type": "code",
      "source": [
        "cw = {'0': 1, '1':  }\n",
        "cw"
      ],
      "execution_count": 0,
      "outputs": [
        {
          "output_type": "execute_result",
          "data": {
            "text/plain": [
              "{'0': 1, '1': 2}"
            ]
          },
          "metadata": {
            "tags": []
          },
          "execution_count": 36
        }
      ]
    },
    {
      "metadata": {
        "id": "imnc8jJGchfz",
        "colab_type": "text"
      },
      "cell_type": "markdown",
      "source": [
        "## Use Transfer Learning"
      ]
    },
    {
      "metadata": {
        "id": "v0Ah7FAzqQop",
        "colab_type": "code",
        "colab": {}
      },
      "cell_type": "code",
      "source": [
        "from keras.applications.xception Xception"
      ],
      "execution_count": 0,
      "outputs": []
    },
    {
      "metadata": {
        "id": "7HhL28WS8hd9",
        "colab_type": "code",
        "colab": {}
      },
      "cell_type": "code",
      "source": [
        ""
      ],
      "execution_count": 0,
      "outputs": []
    }
  ]
}