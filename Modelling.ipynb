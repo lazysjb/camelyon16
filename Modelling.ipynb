{
  "nbformat": 4,
  "nbformat_minor": 0,
  "metadata": {
    "colab": {
      "name": "Modelling.ipynb",
      "version": "0.3.2",
      "provenance": [],
      "collapsed_sections": [],
      "toc_visible": true,
      "include_colab_link": true
    },
    "kernelspec": {
      "name": "python3",
      "display_name": "Python 3"
    },
    "accelerator": "GPU"
  },
  "cells": [
    {
      "cell_type": "markdown",
      "metadata": {
        "id": "view-in-github",
        "colab_type": "text"
      },
      "source": [
        "<a href=\"https://colab.research.google.com/github/lazysjb/camelyon16/blob/master/Modelling.ipynb\" target=\"_parent\"><img src=\"https://colab.research.google.com/assets/colab-badge.svg\" alt=\"Open In Colab\"/></a>"
      ]
    },
    {
      "cell_type": "markdown",
      "metadata": {
        "id": "fFCVwD_Uhj6D",
        "colab_type": "text"
      },
      "source": [
        "# Modelling "
      ]
    },
    {
      "cell_type": "markdown",
      "metadata": {
        "id": "0kQSxNyDhpKu",
        "colab_type": "text"
      },
      "source": [
        "## Get Moduels and Data"
      ]
    },
    {
      "cell_type": "code",
      "metadata": {
        "id": "vAPWhepvn180",
        "colab_type": "code",
        "colab": {}
      },
      "source": [
        "# install tensorflow \n",
        "#!pip install tensorflow\n",
        "#!pip install Keras --upgrade\n",
        "\n"
      ],
      "execution_count": 0,
      "outputs": []
    },
    {
      "cell_type": "code",
      "metadata": {
        "id": "4iKAidrlfYSw",
        "colab_type": "code",
        "outputId": "f5b8d1b3-2dfd-40b2-81e2-4c020ddd674e",
        "colab": {
          "base_uri": "https://localhost:8080/",
          "height": 34
        }
      },
      "source": [
        "# import libraries\n",
        "from google.colab import drive\n",
        "import os\n",
        "import keras\n",
        "import zipfile\n",
        "import pandas as pd\n",
        "import tensorflow as tf\n",
        "import matplotlib.pyplot as plt"
      ],
      "execution_count": 0,
      "outputs": [
        {
          "output_type": "stream",
          "text": [
            "Using TensorFlow backend.\n"
          ],
          "name": "stderr"
        }
      ]
    },
    {
      "cell_type": "code",
      "metadata": {
        "id": "w0Wku3kufenz",
        "colab_type": "code",
        "outputId": "ce9100e0-a807-480f-be34-0ad89195de97",
        "colab": {
          "base_uri": "https://localhost:8080/",
          "height": 122
        }
      },
      "source": [
        "# mount drive\n",
        "\n",
        "drive.mount('/content/gdrive')"
      ],
      "execution_count": 0,
      "outputs": [
        {
          "output_type": "stream",
          "text": [
            "Go to this URL in a browser: https://accounts.google.com/o/oauth2/auth?client_id=947318989803-6bn6qk8qdgf4n4g3pfee6491hc0brc4i.apps.googleusercontent.com&redirect_uri=urn%3Aietf%3Awg%3Aoauth%3A2.0%3Aoob&scope=email%20https%3A%2F%2Fwww.googleapis.com%2Fauth%2Fdocs.test%20https%3A%2F%2Fwww.googleapis.com%2Fauth%2Fdrive%20https%3A%2F%2Fwww.googleapis.com%2Fauth%2Fdrive.photos.readonly%20https%3A%2F%2Fwww.googleapis.com%2Fauth%2Fpeopleapi.readonly&response_type=code\n",
            "\n",
            "Enter your authorization code:\n",
            "··········\n",
            "Mounted at /content/gdrive\n"
          ],
          "name": "stdout"
        }
      ]
    },
    {
      "cell_type": "code",
      "metadata": {
        "id": "4j5h8RLMgAtJ",
        "colab_type": "code",
        "outputId": "10cf50e4-d5ba-4b4b-81d9-ce0b7684eba6",
        "colab": {
          "base_uri": "https://localhost:8080/",
          "height": 170
        }
      },
      "source": [
        "# working directory\n",
        "path = 'gdrive/My Drive/STUDY/Columbia/Term 2/Applied Deep Learning/Project/Final Training Data/shared_files'\n",
        "os.listdir(path)\n"
      ],
      "execution_count": 0,
      "outputs": [
        {
          "output_type": "execute_result",
          "data": {
            "text/plain": [
              "['train_val_test_split.json',\n",
              " 'tumor_img_meta_info.json',\n",
              " 'zoom_5_60_60_partition.zip',\n",
              " 'zoom_5_60_60_partition',\n",
              " 'zoom_2_200_200_partition.zip',\n",
              " 'bounding_boxes',\n",
              " 'all_info_0.4_grayscale_tol_with_roi.json',\n",
              " 'zoom_1_256_256_partition_truncated.zip',\n",
              " 'zoom_2_256_256_zoom_1_pair_truncated.zip']"
            ]
          },
          "metadata": {
            "tags": []
          },
          "execution_count": 3
        }
      ]
    },
    {
      "cell_type": "code",
      "metadata": {
        "id": "ToY97xsAgk5U",
        "colab_type": "code",
        "colab": {}
      },
      "source": [
        "# unzip data folders to root dir\n",
        "zf = zipfile.ZipFile(os.path.join(path, 'zoom_1_256_256_partition_truncated.zip'))\n",
        "zf.extractall()\n"
      ],
      "execution_count": 0,
      "outputs": []
    },
    {
      "cell_type": "code",
      "metadata": {
        "id": "kQi2wNaVhAQ9",
        "colab_type": "code",
        "outputId": "f8d35513-55da-470a-d209-5756fac9237e",
        "colab": {
          "base_uri": "https://localhost:8080/",
          "height": 34
        }
      },
      "source": [
        "os.listdir(os.path.join('zoom_1_256_256_partition_truncated'))"
      ],
      "execution_count": 0,
      "outputs": [
        {
          "output_type": "execute_result",
          "data": {
            "text/plain": [
              "['meta', 'train', 'val']"
            ]
          },
          "metadata": {
            "tags": []
          },
          "execution_count": 5
        }
      ]
    },
    {
      "cell_type": "markdown",
      "metadata": {
        "id": "bIx7pQ2Ek_e1",
        "colab_type": "text"
      },
      "source": [
        "## Preprocess Data"
      ]
    },
    {
      "cell_type": "code",
      "metadata": {
        "id": "zhg1hQw8lRkH",
        "colab_type": "code",
        "outputId": "9c567a05-9db4-4aa2-cd9e-f6a0332c6d24",
        "colab": {
          "base_uri": "https://localhost:8080/",
          "height": 204
        }
      },
      "source": [
        "# get metadata\n",
        "df_meta_greyscale = pd.read_json('zoom_1_256_256_partition_truncated/meta/all_info_0.4_grayscale_tol.json')\n",
        "df_meta_greyscale.head()"
      ],
      "execution_count": 0,
      "outputs": [
        {
          "output_type": "execute_result",
          "data": {
            "text/html": [
              "<div>\n",
              "<style scoped>\n",
              "    .dataframe tbody tr th:only-of-type {\n",
              "        vertical-align: middle;\n",
              "    }\n",
              "\n",
              "    .dataframe tbody tr th {\n",
              "        vertical-align: top;\n",
              "    }\n",
              "\n",
              "    .dataframe thead th {\n",
              "        text-align: right;\n",
              "    }\n",
              "</style>\n",
              "<table border=\"1\" class=\"dataframe\">\n",
              "  <thead>\n",
              "    <tr style=\"text-align: right;\">\n",
              "      <th></th>\n",
              "      <th>file_name</th>\n",
              "      <th>img_id</th>\n",
              "      <th>include</th>\n",
              "      <th>label</th>\n",
              "      <th>non_gray_ratio</th>\n",
              "      <th>type</th>\n",
              "    </tr>\n",
              "  </thead>\n",
              "  <tbody>\n",
              "    <tr>\n",
              "      <th>0</th>\n",
              "      <td>tumor_slide_001_split_249_24.png</td>\n",
              "      <td>1</td>\n",
              "      <td>0</td>\n",
              "      <td>0</td>\n",
              "      <td>0.016266</td>\n",
              "      <td>val</td>\n",
              "    </tr>\n",
              "    <tr>\n",
              "      <th>1</th>\n",
              "      <td>tumor_slide_001_split_31_127.png</td>\n",
              "      <td>1</td>\n",
              "      <td>0</td>\n",
              "      <td>0</td>\n",
              "      <td>0.004410</td>\n",
              "      <td>val</td>\n",
              "    </tr>\n",
              "    <tr>\n",
              "      <th>2</th>\n",
              "      <td>tumor_slide_001_split_108_188.png</td>\n",
              "      <td>1</td>\n",
              "      <td>0</td>\n",
              "      <td>0</td>\n",
              "      <td>0.000320</td>\n",
              "      <td>val</td>\n",
              "    </tr>\n",
              "    <tr>\n",
              "      <th>3</th>\n",
              "      <td>tumor_slide_001_split_406_51.png</td>\n",
              "      <td>1</td>\n",
              "      <td>0</td>\n",
              "      <td>0</td>\n",
              "      <td>0.000000</td>\n",
              "      <td>val</td>\n",
              "    </tr>\n",
              "    <tr>\n",
              "      <th>4</th>\n",
              "      <td>tumor_slide_001_split_160_72.png</td>\n",
              "      <td>1</td>\n",
              "      <td>1</td>\n",
              "      <td>0</td>\n",
              "      <td>0.720123</td>\n",
              "      <td>val</td>\n",
              "    </tr>\n",
              "  </tbody>\n",
              "</table>\n",
              "</div>"
            ],
            "text/plain": [
              "                           file_name  img_id  include  label  non_gray_ratio  \\\n",
              "0   tumor_slide_001_split_249_24.png       1        0      0        0.016266   \n",
              "1   tumor_slide_001_split_31_127.png       1        0      0        0.004410   \n",
              "2  tumor_slide_001_split_108_188.png       1        0      0        0.000320   \n",
              "3   tumor_slide_001_split_406_51.png       1        0      0        0.000000   \n",
              "4   tumor_slide_001_split_160_72.png       1        1      0        0.720123   \n",
              "\n",
              "  type  \n",
              "0  val  \n",
              "1  val  \n",
              "2  val  \n",
              "3  val  \n",
              "4  val  "
            ]
          },
          "metadata": {
            "tags": []
          },
          "execution_count": 6
        }
      ]
    },
    {
      "cell_type": "code",
      "metadata": {
        "id": "WWNNM35aOY95",
        "colab_type": "code",
        "colab": {}
      },
      "source": [
        "# cast target as string (keras needs strings)\n",
        "%%capture\n",
        "df_meta_greyscale.loc[:, 'label'] = df_meta_greyscale.label.astype('str')"
      ],
      "execution_count": 0,
      "outputs": []
    },
    {
      "cell_type": "code",
      "metadata": {
        "id": "xLIO57stpIH3",
        "colab_type": "code",
        "outputId": "c856ce29-97a1-44c9-b615-80d00889d449",
        "colab": {
          "base_uri": "https://localhost:8080/",
          "height": 204
        }
      },
      "source": [
        "# get patches with sufficient tissue\n",
        "df_train = df_meta_greyscale.loc[(df_meta_greyscale.include == 1) & (df_meta_greyscale['type'] == 'train'),:]\n",
        "\n",
        "df_train.head()"
      ],
      "execution_count": 0,
      "outputs": [
        {
          "output_type": "execute_result",
          "data": {
            "text/html": [
              "<div>\n",
              "<style scoped>\n",
              "    .dataframe tbody tr th:only-of-type {\n",
              "        vertical-align: middle;\n",
              "    }\n",
              "\n",
              "    .dataframe tbody tr th {\n",
              "        vertical-align: top;\n",
              "    }\n",
              "\n",
              "    .dataframe thead th {\n",
              "        text-align: right;\n",
              "    }\n",
              "</style>\n",
              "<table border=\"1\" class=\"dataframe\">\n",
              "  <thead>\n",
              "    <tr style=\"text-align: right;\">\n",
              "      <th></th>\n",
              "      <th>file_name</th>\n",
              "      <th>img_id</th>\n",
              "      <th>include</th>\n",
              "      <th>label</th>\n",
              "      <th>non_gray_ratio</th>\n",
              "      <th>type</th>\n",
              "    </tr>\n",
              "  </thead>\n",
              "  <tbody>\n",
              "    <tr>\n",
              "      <th>164479</th>\n",
              "      <td>tumor_slide_075_split_91_58.png</td>\n",
              "      <td>75</td>\n",
              "      <td>1</td>\n",
              "      <td>0</td>\n",
              "      <td>0.924896</td>\n",
              "      <td>train</td>\n",
              "    </tr>\n",
              "    <tr>\n",
              "      <th>164493</th>\n",
              "      <td>tumor_slide_075_split_33_151.png</td>\n",
              "      <td>75</td>\n",
              "      <td>1</td>\n",
              "      <td>0</td>\n",
              "      <td>0.956192</td>\n",
              "      <td>train</td>\n",
              "    </tr>\n",
              "    <tr>\n",
              "      <th>164505</th>\n",
              "      <td>tumor_slide_075_split_27_147.png</td>\n",
              "      <td>75</td>\n",
              "      <td>1</td>\n",
              "      <td>0</td>\n",
              "      <td>0.791580</td>\n",
              "      <td>train</td>\n",
              "    </tr>\n",
              "    <tr>\n",
              "      <th>164515</th>\n",
              "      <td>tumor_slide_075_split_31_150.png</td>\n",
              "      <td>75</td>\n",
              "      <td>1</td>\n",
              "      <td>0</td>\n",
              "      <td>0.973175</td>\n",
              "      <td>train</td>\n",
              "    </tr>\n",
              "    <tr>\n",
              "      <th>164523</th>\n",
              "      <td>tumor_slide_075_split_81_32.png</td>\n",
              "      <td>75</td>\n",
              "      <td>1</td>\n",
              "      <td>0</td>\n",
              "      <td>0.949036</td>\n",
              "      <td>train</td>\n",
              "    </tr>\n",
              "  </tbody>\n",
              "</table>\n",
              "</div>"
            ],
            "text/plain": [
              "                               file_name  img_id  include label  \\\n",
              "164479   tumor_slide_075_split_91_58.png      75        1     0   \n",
              "164493  tumor_slide_075_split_33_151.png      75        1     0   \n",
              "164505  tumor_slide_075_split_27_147.png      75        1     0   \n",
              "164515  tumor_slide_075_split_31_150.png      75        1     0   \n",
              "164523   tumor_slide_075_split_81_32.png      75        1     0   \n",
              "\n",
              "        non_gray_ratio   type  \n",
              "164479        0.924896  train  \n",
              "164493        0.956192  train  \n",
              "164505        0.791580  train  \n",
              "164515        0.973175  train  \n",
              "164523        0.949036  train  "
            ]
          },
          "metadata": {
            "tags": []
          },
          "execution_count": 8
        }
      ]
    },
    {
      "cell_type": "code",
      "metadata": {
        "id": "EwX-WbvxsY87",
        "colab_type": "code",
        "outputId": "0d73f0f9-2bc2-4448-f42c-ef117ac17dd8",
        "colab": {
          "base_uri": "https://localhost:8080/",
          "height": 204
        }
      },
      "source": [
        "# get patches with sufficient tissue\n",
        "df_val = df_meta_greyscale.loc[(df_meta_greyscale.include == 1) & (df_meta_greyscale['type'] == 'val'),:]\n",
        "\n",
        "df_val.head()"
      ],
      "execution_count": 0,
      "outputs": [
        {
          "output_type": "execute_result",
          "data": {
            "text/html": [
              "<div>\n",
              "<style scoped>\n",
              "    .dataframe tbody tr th:only-of-type {\n",
              "        vertical-align: middle;\n",
              "    }\n",
              "\n",
              "    .dataframe tbody tr th {\n",
              "        vertical-align: top;\n",
              "    }\n",
              "\n",
              "    .dataframe thead th {\n",
              "        text-align: right;\n",
              "    }\n",
              "</style>\n",
              "<table border=\"1\" class=\"dataframe\">\n",
              "  <thead>\n",
              "    <tr style=\"text-align: right;\">\n",
              "      <th></th>\n",
              "      <th>file_name</th>\n",
              "      <th>img_id</th>\n",
              "      <th>include</th>\n",
              "      <th>label</th>\n",
              "      <th>non_gray_ratio</th>\n",
              "      <th>type</th>\n",
              "    </tr>\n",
              "  </thead>\n",
              "  <tbody>\n",
              "    <tr>\n",
              "      <th>4</th>\n",
              "      <td>tumor_slide_001_split_160_72.png</td>\n",
              "      <td>1</td>\n",
              "      <td>1</td>\n",
              "      <td>0</td>\n",
              "      <td>0.720123</td>\n",
              "      <td>val</td>\n",
              "    </tr>\n",
              "    <tr>\n",
              "      <th>7</th>\n",
              "      <td>tumor_slide_001_split_258_99.png</td>\n",
              "      <td>1</td>\n",
              "      <td>1</td>\n",
              "      <td>0</td>\n",
              "      <td>0.939560</td>\n",
              "      <td>val</td>\n",
              "    </tr>\n",
              "    <tr>\n",
              "      <th>24</th>\n",
              "      <td>tumor_slide_001_split_1_80.png</td>\n",
              "      <td>1</td>\n",
              "      <td>1</td>\n",
              "      <td>0</td>\n",
              "      <td>0.999939</td>\n",
              "      <td>val</td>\n",
              "    </tr>\n",
              "    <tr>\n",
              "      <th>27</th>\n",
              "      <td>tumor_slide_001_split_163_69.png</td>\n",
              "      <td>1</td>\n",
              "      <td>1</td>\n",
              "      <td>0</td>\n",
              "      <td>0.519699</td>\n",
              "      <td>val</td>\n",
              "    </tr>\n",
              "    <tr>\n",
              "      <th>43</th>\n",
              "      <td>tumor_slide_001_split_257_132.png</td>\n",
              "      <td>1</td>\n",
              "      <td>1</td>\n",
              "      <td>0</td>\n",
              "      <td>0.921066</td>\n",
              "      <td>val</td>\n",
              "    </tr>\n",
              "  </tbody>\n",
              "</table>\n",
              "</div>"
            ],
            "text/plain": [
              "                            file_name  img_id  include label  non_gray_ratio  \\\n",
              "4    tumor_slide_001_split_160_72.png       1        1     0        0.720123   \n",
              "7    tumor_slide_001_split_258_99.png       1        1     0        0.939560   \n",
              "24     tumor_slide_001_split_1_80.png       1        1     0        0.999939   \n",
              "27   tumor_slide_001_split_163_69.png       1        1     0        0.519699   \n",
              "43  tumor_slide_001_split_257_132.png       1        1     0        0.921066   \n",
              "\n",
              "   type  \n",
              "4   val  \n",
              "7   val  \n",
              "24  val  \n",
              "27  val  \n",
              "43  val  "
            ]
          },
          "metadata": {
            "tags": []
          },
          "execution_count": 9
        }
      ]
    },
    {
      "cell_type": "code",
      "metadata": {
        "id": "lQ4Y9BExPpN_",
        "colab_type": "code",
        "outputId": "4235fb4b-9523-45a9-d1d4-fa1344655ba5",
        "colab": {
          "base_uri": "https://localhost:8080/",
          "height": 204
        }
      },
      "source": [
        "# get patches with sufficient tissue\n",
        "df_test = df_meta_greyscale.loc[(df_meta_greyscale.include == 1) & (df_meta_greyscale['type'] == 'test'),:]\n",
        "\n",
        "df_test.head()"
      ],
      "execution_count": 0,
      "outputs": [
        {
          "output_type": "execute_result",
          "data": {
            "text/html": [
              "<div>\n",
              "<style scoped>\n",
              "    .dataframe tbody tr th:only-of-type {\n",
              "        vertical-align: middle;\n",
              "    }\n",
              "\n",
              "    .dataframe tbody tr th {\n",
              "        vertical-align: top;\n",
              "    }\n",
              "\n",
              "    .dataframe thead th {\n",
              "        text-align: right;\n",
              "    }\n",
              "</style>\n",
              "<table border=\"1\" class=\"dataframe\">\n",
              "  <thead>\n",
              "    <tr style=\"text-align: right;\">\n",
              "      <th></th>\n",
              "      <th>file_name</th>\n",
              "      <th>img_id</th>\n",
              "      <th>include</th>\n",
              "      <th>label</th>\n",
              "      <th>non_gray_ratio</th>\n",
              "      <th>type</th>\n",
              "    </tr>\n",
              "  </thead>\n",
              "  <tbody>\n",
              "    <tr>\n",
              "      <th>82521</th>\n",
              "      <td>tumor_slide_002_split_295_93.png</td>\n",
              "      <td>2</td>\n",
              "      <td>1</td>\n",
              "      <td>0</td>\n",
              "      <td>0.637207</td>\n",
              "      <td>test</td>\n",
              "    </tr>\n",
              "    <tr>\n",
              "      <th>82534</th>\n",
              "      <td>tumor_slide_002_split_230_120.png</td>\n",
              "      <td>2</td>\n",
              "      <td>1</td>\n",
              "      <td>0</td>\n",
              "      <td>0.614243</td>\n",
              "      <td>test</td>\n",
              "    </tr>\n",
              "    <tr>\n",
              "      <th>82538</th>\n",
              "      <td>tumor_slide_002_split_178_61.png</td>\n",
              "      <td>2</td>\n",
              "      <td>1</td>\n",
              "      <td>0</td>\n",
              "      <td>0.898911</td>\n",
              "      <td>test</td>\n",
              "    </tr>\n",
              "    <tr>\n",
              "      <th>82574</th>\n",
              "      <td>tumor_slide_002_split_228_132.png</td>\n",
              "      <td>2</td>\n",
              "      <td>1</td>\n",
              "      <td>0</td>\n",
              "      <td>0.756683</td>\n",
              "      <td>test</td>\n",
              "    </tr>\n",
              "    <tr>\n",
              "      <th>82576</th>\n",
              "      <td>tumor_slide_002_split_190_71.png</td>\n",
              "      <td>2</td>\n",
              "      <td>1</td>\n",
              "      <td>0</td>\n",
              "      <td>0.420761</td>\n",
              "      <td>test</td>\n",
              "    </tr>\n",
              "  </tbody>\n",
              "</table>\n",
              "</div>"
            ],
            "text/plain": [
              "                               file_name  img_id  include label  \\\n",
              "82521   tumor_slide_002_split_295_93.png       2        1     0   \n",
              "82534  tumor_slide_002_split_230_120.png       2        1     0   \n",
              "82538   tumor_slide_002_split_178_61.png       2        1     0   \n",
              "82574  tumor_slide_002_split_228_132.png       2        1     0   \n",
              "82576   tumor_slide_002_split_190_71.png       2        1     0   \n",
              "\n",
              "       non_gray_ratio  type  \n",
              "82521        0.637207  test  \n",
              "82534        0.614243  test  \n",
              "82538        0.898911  test  \n",
              "82574        0.756683  test  \n",
              "82576        0.420761  test  "
            ]
          },
          "metadata": {
            "tags": []
          },
          "execution_count": 10
        }
      ]
    },
    {
      "cell_type": "code",
      "metadata": {
        "id": "YFfNpxAF9IDC",
        "colab_type": "code",
        "outputId": "75b49fab-2058-4261-f7d5-caa63fe6daa0",
        "colab": {
          "base_uri": "https://localhost:8080/",
          "height": 68
        }
      },
      "source": [
        "# downsample df \n",
        "df_train['label'].value_counts()\n"
      ],
      "execution_count": 0,
      "outputs": [
        {
          "output_type": "execute_result",
          "data": {
            "text/plain": [
              "0    55515\n",
              "1     7344\n",
              "Name: label, dtype: int64"
            ]
          },
          "metadata": {
            "tags": []
          },
          "execution_count": 11
        }
      ]
    },
    {
      "cell_type": "code",
      "metadata": {
        "id": "KxUi4ESC9fGp",
        "colab_type": "code",
        "colab": {}
      },
      "source": [
        "df_down = pd.concat([df_train[df_train['label'] == '0'].sample(7344), df_train[df_train['label'] == '1']], axis = 0)"
      ],
      "execution_count": 0,
      "outputs": []
    },
    {
      "cell_type": "code",
      "metadata": {
        "id": "DJntrC93Dqwl",
        "colab_type": "code",
        "outputId": "4c2c28fb-3f39-4ad0-8a9a-0ccb2fd8fae8",
        "colab": {
          "base_uri": "https://localhost:8080/",
          "height": 204
        }
      },
      "source": [
        "df_down.head()"
      ],
      "execution_count": 0,
      "outputs": [
        {
          "output_type": "execute_result",
          "data": {
            "text/html": [
              "<div>\n",
              "<style scoped>\n",
              "    .dataframe tbody tr th:only-of-type {\n",
              "        vertical-align: middle;\n",
              "    }\n",
              "\n",
              "    .dataframe tbody tr th {\n",
              "        vertical-align: top;\n",
              "    }\n",
              "\n",
              "    .dataframe thead th {\n",
              "        text-align: right;\n",
              "    }\n",
              "</style>\n",
              "<table border=\"1\" class=\"dataframe\">\n",
              "  <thead>\n",
              "    <tr style=\"text-align: right;\">\n",
              "      <th></th>\n",
              "      <th>file_name</th>\n",
              "      <th>img_id</th>\n",
              "      <th>include</th>\n",
              "      <th>label</th>\n",
              "      <th>non_gray_ratio</th>\n",
              "      <th>type</th>\n",
              "    </tr>\n",
              "  </thead>\n",
              "  <tbody>\n",
              "    <tr>\n",
              "      <th>284036</th>\n",
              "      <td>tumor_slide_084_split_93_61.png</td>\n",
              "      <td>84</td>\n",
              "      <td>1</td>\n",
              "      <td>0</td>\n",
              "      <td>0.608353</td>\n",
              "      <td>train</td>\n",
              "    </tr>\n",
              "    <tr>\n",
              "      <th>939129</th>\n",
              "      <td>tumor_slide_035_split_171_67.png</td>\n",
              "      <td>35</td>\n",
              "      <td>1</td>\n",
              "      <td>0</td>\n",
              "      <td>0.937119</td>\n",
              "      <td>train</td>\n",
              "    </tr>\n",
              "    <tr>\n",
              "      <th>234681</th>\n",
              "      <td>tumor_slide_081_split_88_93.png</td>\n",
              "      <td>81</td>\n",
              "      <td>1</td>\n",
              "      <td>0</td>\n",
              "      <td>0.998550</td>\n",
              "      <td>train</td>\n",
              "    </tr>\n",
              "    <tr>\n",
              "      <th>307892</th>\n",
              "      <td>tumor_slide_094_split_27_44.png</td>\n",
              "      <td>94</td>\n",
              "      <td>1</td>\n",
              "      <td>0</td>\n",
              "      <td>0.455231</td>\n",
              "      <td>train</td>\n",
              "    </tr>\n",
              "    <tr>\n",
              "      <th>843739</th>\n",
              "      <td>tumor_slide_023_split_247_47.png</td>\n",
              "      <td>23</td>\n",
              "      <td>1</td>\n",
              "      <td>0</td>\n",
              "      <td>0.692673</td>\n",
              "      <td>train</td>\n",
              "    </tr>\n",
              "  </tbody>\n",
              "</table>\n",
              "</div>"
            ],
            "text/plain": [
              "                               file_name  img_id  include label  \\\n",
              "284036   tumor_slide_084_split_93_61.png      84        1     0   \n",
              "939129  tumor_slide_035_split_171_67.png      35        1     0   \n",
              "234681   tumor_slide_081_split_88_93.png      81        1     0   \n",
              "307892   tumor_slide_094_split_27_44.png      94        1     0   \n",
              "843739  tumor_slide_023_split_247_47.png      23        1     0   \n",
              "\n",
              "        non_gray_ratio   type  \n",
              "284036        0.608353  train  \n",
              "939129        0.937119  train  \n",
              "234681        0.998550  train  \n",
              "307892        0.455231  train  \n",
              "843739        0.692673  train  "
            ]
          },
          "metadata": {
            "tags": []
          },
          "execution_count": 13
        }
      ]
    },
    {
      "cell_type": "code",
      "metadata": {
        "id": "hbivJH-_kFcZ",
        "colab_type": "code",
        "outputId": "849b0fc8-d2b5-4536-e556-8e5ea27941d4",
        "colab": {
          "base_uri": "https://localhost:8080/",
          "height": 68
        }
      },
      "source": [
        "df_down.label.value_counts()"
      ],
      "execution_count": 0,
      "outputs": [
        {
          "output_type": "execute_result",
          "data": {
            "text/plain": [
              "0    7344\n",
              "1    7344\n",
              "Name: label, dtype: int64"
            ]
          },
          "metadata": {
            "tags": []
          },
          "execution_count": 14
        }
      ]
    },
    {
      "cell_type": "code",
      "metadata": {
        "id": "uwad5EJaGEQD",
        "colab_type": "code",
        "colab": {}
      },
      "source": [
        "df_up = pd.concat([df_train, df_train[df_train['label'] == '1'].sample(48000, replace=True)], axis = 0)"
      ],
      "execution_count": 0,
      "outputs": []
    },
    {
      "cell_type": "code",
      "metadata": {
        "id": "H-T2HTotGMZE",
        "colab_type": "code",
        "outputId": "e9d40fed-1b92-466a-ac9d-2004ddb58ba0",
        "colab": {
          "base_uri": "https://localhost:8080/",
          "height": 68
        }
      },
      "source": [
        "df_up.label.value_counts()"
      ],
      "execution_count": 0,
      "outputs": [
        {
          "output_type": "execute_result",
          "data": {
            "text/plain": [
              "0    55515\n",
              "1    55344\n",
              "Name: label, dtype: int64"
            ]
          },
          "metadata": {
            "tags": []
          },
          "execution_count": 16
        }
      ]
    },
    {
      "cell_type": "code",
      "metadata": {
        "id": "MrzA5-KhmUq4",
        "colab_type": "code",
        "outputId": "b9cf4bfe-76e7-4b2e-82c7-a22535368ef1",
        "colab": {
          "base_uri": "https://localhost:8080/",
          "height": 34
        }
      },
      "source": [
        "# specify image data generator with augmentation\n",
        "datagen = tf.keras.preprocessing.image.ImageDataGenerator(rescale=1./255,\n",
        "                                                         horizontal_flip=True,\n",
        "                                                         vertical_flip = True)\n",
        "\n",
        "datagen = tf.keras.preprocessing.image.ImageDataGenerator(rescale=1./255)\n",
        "\n",
        "# read data from the train directory\n",
        "train_generator = datagen.flow_from_dataframe(dataframe = df_down, \n",
        "                                              directory = 'zoom_1_256_256_partition_truncated/train/slide',\n",
        "                                              x_col = 'file_name', \n",
        "                                              y_col='label',\n",
        "                                              class_mode='binary', \n",
        "                                              target_size=(256,256), \n",
        "                                              batch_size=64,\n",
        "                                              drop_duplicates=False)\n",
        "\n"
      ],
      "execution_count": 0,
      "outputs": [
        {
          "output_type": "stream",
          "text": [
            "Found 14079 images belonging to 2 classes.\n"
          ],
          "name": "stdout"
        }
      ]
    },
    {
      "cell_type": "code",
      "metadata": {
        "id": "xtcfsYoBiMg7",
        "colab_type": "code",
        "outputId": "48b0b667-a90b-48bc-e7dd-c6ecfdfc145d",
        "colab": {
          "base_uri": "https://localhost:8080/",
          "height": 34
        }
      },
      "source": [
        "len(train_generator)"
      ],
      "execution_count": 0,
      "outputs": [
        {
          "output_type": "execute_result",
          "data": {
            "text/plain": [
              "220"
            ]
          },
          "metadata": {
            "tags": []
          },
          "execution_count": 18
        }
      ]
    },
    {
      "cell_type": "code",
      "metadata": {
        "id": "VQb6Vw_eP8DF",
        "colab_type": "code",
        "outputId": "4dda1e3b-40aa-4d0e-942d-737b040116e9",
        "colab": {
          "base_uri": "https://localhost:8080/",
          "height": 34
        }
      },
      "source": [
        "# specify image data generator with augmentation\n",
        "datagen = tf.keras.preprocessing.image.ImageDataGenerator(rescale=1./255)\n",
        "\n",
        "# read data from the train directory\n",
        "val_generator = datagen.flow_from_dataframe(dataframe = df_val, \n",
        "                                              directory = 'zoom_1_256_256_partition_truncated/val/slide',\n",
        "                                              x_col = 'file_name', \n",
        "                                              y_col='label',\n",
        "                                              class_mode='binary', \n",
        "                                              target_size=(256,256), \n",
        "                                              batch_size=64)\n",
        "\n"
      ],
      "execution_count": 0,
      "outputs": [
        {
          "output_type": "stream",
          "text": [
            "Found 16239 images belonging to 2 classes.\n"
          ],
          "name": "stdout"
        }
      ]
    },
    {
      "cell_type": "code",
      "metadata": {
        "id": "2y4r0qoAjBlC",
        "colab_type": "code",
        "outputId": "63749db1-ae59-484d-a96c-2bbc7d7f9729",
        "colab": {
          "base_uri": "https://localhost:8080/",
          "height": 34
        }
      },
      "source": [
        "len(val_generator)"
      ],
      "execution_count": 0,
      "outputs": [
        {
          "output_type": "execute_result",
          "data": {
            "text/plain": [
              "254"
            ]
          },
          "metadata": {
            "tags": []
          },
          "execution_count": 20
        }
      ]
    },
    {
      "cell_type": "code",
      "metadata": {
        "id": "JN3UZpAyJ4FH",
        "colab_type": "code",
        "outputId": "8dce99f7-545b-41c1-ab21-92acc97dbec1",
        "colab": {
          "base_uri": "https://localhost:8080/",
          "height": 153
        }
      },
      "source": [
        "# plot augmented images\n",
        "def plotImages(images_arr):\n",
        "    fig, axes = plt.subplots(1, 5, figsize=(10,10))\n",
        "    axes = axes.flatten()\n",
        "    for img, ax in zip( images_arr, axes):\n",
        "        ax.grid(False)\n",
        "        ax.imshow(img)\n",
        "    plt.tight_layout()\n",
        "    plt.show()\n",
        "    \n",
        "    \n",
        "augmented_images = [train_generator[0][0][0] for i in range(5)]\n",
        "\n",
        "plotImages(augmented_images)"
      ],
      "execution_count": 0,
      "outputs": [
        {
          "output_type": "display_data",
          "data": {
            "image/png": "[encoded data removed]",
            "text/plain": [
              "<Figure size 720x720 with 5 Axes>"
            ]
          },
          "metadata": {
            "tags": []
          }
        }
      ]
    },
    {
      "cell_type": "markdown",
      "metadata": {
        "id": "KCdy71qwmAEN",
        "colab_type": "text"
      },
      "source": [
        "## Naive baseline"
      ]
    },
    {
      "cell_type": "code",
      "metadata": {
        "id": "dbZB_UI9mibb",
        "colab_type": "code",
        "outputId": "92beecb9-9bbc-4eee-c327-e737d266034d",
        "colab": {
          "base_uri": "https://localhost:8080/",
          "height": 69
        }
      },
      "source": [
        "df_val['label'].value_counts(normalize = True)"
      ],
      "execution_count": 0,
      "outputs": [
        {
          "output_type": "execute_result",
          "data": {
            "text/plain": [
              "0    0.923048\n",
              "1    0.076952\n",
              "Name: label, dtype: float64"
            ]
          },
          "metadata": {
            "tags": []
          },
          "execution_count": 67
        }
      ]
    },
    {
      "cell_type": "markdown",
      "metadata": {
        "id": "9cdGLMMdQ9Ce",
        "colab_type": "text"
      },
      "source": [
        "##  Baseline model"
      ]
    },
    {
      "cell_type": "code",
      "metadata": {
        "id": "T83cXCxGJuZl",
        "colab_type": "code",
        "colab": {}
      },
      "source": [
        "# specify model architecture\n",
        "model = tf.keras.Sequential()\n",
        "model.add(tf.keras.layers.Conv2D(64, (3, 3), activation='relu', input_shape=(256, 256, 3)))\n",
        "model.add(tf.keras.layers.Conv2D(32, (3, 3), activation='relu'))\n",
        "#model.add(tf.keras.layers.MaxPooling2D((2, 2)))\n",
        "model.add(tf.keras.layers.Conv2D(32, (3, 3), activation='relu'))\n",
        "#model.add(tf.keras.layers.Conv2D(128, (3, 3), activation='relu'))\n",
        "model.add(tf.keras.layers.MaxPooling2D((2, 2)))\n",
        "model.add(tf.keras.layers.Flatten())\n",
        "#model.add(tf.keras.layers.Dropout(0.2))\n",
        "model.add(tf.keras.layers.Dense(64, activation='relu'))\n",
        "model.add(tf.keras.layers.Dense(1, activation='sigmoid'))\n"
      ],
      "execution_count": 0,
      "outputs": []
    },
    {
      "cell_type": "code",
      "metadata": {
        "id": "V8TmDpGWeM06",
        "colab_type": "code",
        "outputId": "26b4e476-1381-4974-d905-2572fe06df8f",
        "colab": {
          "base_uri": "https://localhost:8080/",
          "height": 380
        }
      },
      "source": [
        "# compile model\n",
        "model.compile(optimizer='adam', \n",
        "              loss='binary_crossentropy', \n",
        "              metrics=['accuracy'])\n",
        "\n",
        "# print model architecture\n",
        "model.summary()"
      ],
      "execution_count": 0,
      "outputs": [
        {
          "output_type": "stream",
          "text": [
            "_________________________________________________________________\n",
            "Layer (type)                 Output Shape              Param #   \n",
            "=================================================================\n",
            "conv2d_12 (Conv2D)           (None, 254, 254, 64)      1792      \n",
            "_________________________________________________________________\n",
            "conv2d_13 (Conv2D)           (None, 252, 252, 32)      18464     \n",
            "_________________________________________________________________\n",
            "conv2d_14 (Conv2D)           (None, 250, 250, 32)      9248      \n",
            "_________________________________________________________________\n",
            "max_pooling2d_4 (MaxPooling2 (None, 125, 125, 32)      0         \n",
            "_________________________________________________________________\n",
            "flatten_5 (Flatten)          (None, 500000)            0         \n",
            "_________________________________________________________________\n",
            "dense_11 (Dense)             (None, 64)                32000064  \n",
            "_________________________________________________________________\n",
            "dense_12 (Dense)             (None, 1)                 65        \n",
            "=================================================================\n",
            "Total params: 32,029,633\n",
            "Trainable params: 32,029,633\n",
            "Non-trainable params: 0\n",
            "_________________________________________________________________\n"
          ],
          "name": "stdout"
        }
      ]
    },
    {
      "cell_type": "code",
      "metadata": {
        "id": "B3EGiVZjLYCU",
        "colab_type": "code",
        "outputId": "3bf966af-e14d-47cc-c571-9ff3536cf659",
        "colab": {
          "base_uri": "https://localhost:8080/",
          "height": 762
        }
      },
      "source": [
        "EPOCHS = 20\n",
        "\n",
        "history_1 = model.fit_generator(train_generator,\n",
        "                   epochs = EPOCHS,\n",
        "                   validation_data = val_generator,\n",
        "                   verbose=1)"
      ],
      "execution_count": 0,
      "outputs": [
        {
          "output_type": "stream",
          "text": [
            "Epoch 1/20\n",
            "254/254 [==============================] - 113s 446ms/step - loss: 1.4097 - acc: 0.9125\n",
            "221/221 [==============================] - 207s 936ms/step - loss: 8.3722 - acc: 0.4786 - val_loss: 1.4097 - val_acc: 0.9125\n",
            "Epoch 2/20\n",
            "254/254 [==============================] - 108s 425ms/step - loss: 1.4089 - acc: 0.9125\n",
            "221/221 [==============================] - 217s 980ms/step - loss: 8.4032 - acc: 0.4786 - val_loss: 1.4089 - val_acc: 0.9125\n",
            "Epoch 3/20\n",
            "254/254 [==============================] - 108s 426ms/step - loss: 1.4104 - acc: 0.9125\n",
            "221/221 [==============================] - 218s 985ms/step - loss: 8.4032 - acc: 0.4786 - val_loss: 1.4104 - val_acc: 0.9125\n",
            "Epoch 4/20\n",
            "254/254 [==============================] - 109s 429ms/step - loss: 1.4111 - acc: 0.9125\n",
            "221/221 [==============================] - 218s 985ms/step - loss: 8.3692 - acc: 0.4786 - val_loss: 1.4111 - val_acc: 0.9125\n",
            "Epoch 5/20\n",
            "254/254 [==============================] - 108s 425ms/step - loss: 1.4104 - acc: 0.9125\n",
            "221/221 [==============================] - 217s 981ms/step - loss: 8.4372 - acc: 0.4786 - val_loss: 1.4104 - val_acc: 0.9125\n",
            "Epoch 6/20\n",
            "254/254 [==============================] - 108s 427ms/step - loss: 1.4104 - acc: 0.9125\n",
            "221/221 [==============================] - 218s 985ms/step - loss: 8.3862 - acc: 0.4786 - val_loss: 1.4104 - val_acc: 0.9125\n",
            "Epoch 7/20\n",
            "254/254 [==============================] - 111s 438ms/step - loss: 1.4104 - acc: 0.9125\n",
            "221/221 [==============================] - 221s 1s/step - loss: 8.4372 - acc: 0.4786 - val_loss: 1.4104 - val_acc: 0.9125\n",
            "Epoch 8/20\n",
            " 86/254 [=========>....................] - ETA: 2:14 - loss: 1.3324 - acc: 0.9173"
          ],
          "name": "stdout"
        },
        {
          "output_type": "error",
          "ename": "KeyboardInterrupt",
          "evalue": "ignored",
          "traceback": [
            "\u001b[0;31m---------------------------------------------------------------------------\u001b[0m",
            "\u001b[0;31mKeyboardInterrupt\u001b[0m                         Traceback (most recent call last)",
            "\u001b[0;32m<ipython-input-70-90ad9dc41640>\u001b[0m in \u001b[0;36m<module>\u001b[0;34m()\u001b[0m\n\u001b[1;32m      4\u001b[0m                    \u001b[0mepochs\u001b[0m \u001b[0;34m=\u001b[0m \u001b[0mEPOCHS\u001b[0m\u001b[0;34m,\u001b[0m\u001b[0;34m\u001b[0m\u001b[0;34m\u001b[0m\u001b[0m\n\u001b[1;32m      5\u001b[0m                    \u001b[0mvalidation_data\u001b[0m \u001b[0;34m=\u001b[0m \u001b[0mval_generator\u001b[0m\u001b[0;34m,\u001b[0m\u001b[0;34m\u001b[0m\u001b[0;34m\u001b[0m\u001b[0m\n\u001b[0;32m----> 6\u001b[0;31m                    verbose=1)\n\u001b[0m",
            "\u001b[0;32m/usr/local/lib/python3.6/dist-packages/tensorflow/python/keras/engine/training.py\u001b[0m in \u001b[0;36mfit_generator\u001b[0;34m(self, generator, steps_per_epoch, epochs, verbose, callbacks, validation_data, validation_steps, class_weight, max_queue_size, workers, use_multiprocessing, shuffle, initial_epoch)\u001b[0m\n\u001b[1;32m   1424\u001b[0m         \u001b[0muse_multiprocessing\u001b[0m\u001b[0;34m=\u001b[0m\u001b[0muse_multiprocessing\u001b[0m\u001b[0;34m,\u001b[0m\u001b[0;34m\u001b[0m\u001b[0;34m\u001b[0m\u001b[0m\n\u001b[1;32m   1425\u001b[0m         \u001b[0mshuffle\u001b[0m\u001b[0;34m=\u001b[0m\u001b[0mshuffle\u001b[0m\u001b[0;34m,\u001b[0m\u001b[0;34m\u001b[0m\u001b[0;34m\u001b[0m\u001b[0m\n\u001b[0;32m-> 1426\u001b[0;31m         initial_epoch=initial_epoch)\n\u001b[0m\u001b[1;32m   1427\u001b[0m \u001b[0;34m\u001b[0m\u001b[0m\n\u001b[1;32m   1428\u001b[0m   def evaluate_generator(self,\n",
            "\u001b[0;32m/usr/local/lib/python3.6/dist-packages/tensorflow/python/keras/engine/training_generator.py\u001b[0m in \u001b[0;36mmodel_iteration\u001b[0;34m(model, data, steps_per_epoch, epochs, verbose, callbacks, validation_data, validation_steps, class_weight, max_queue_size, workers, use_multiprocessing, shuffle, initial_epoch, mode, batch_size, **kwargs)\u001b[0m\n\u001b[1;32m    223\u001b[0m           \u001b[0muse_multiprocessing\u001b[0m\u001b[0;34m=\u001b[0m\u001b[0muse_multiprocessing\u001b[0m\u001b[0;34m,\u001b[0m\u001b[0;34m\u001b[0m\u001b[0;34m\u001b[0m\u001b[0m\n\u001b[1;32m    224\u001b[0m           \u001b[0mmax_queue_size\u001b[0m\u001b[0;34m=\u001b[0m\u001b[0mmax_queue_size\u001b[0m\u001b[0;34m,\u001b[0m\u001b[0;34m\u001b[0m\u001b[0;34m\u001b[0m\u001b[0m\n\u001b[0;32m--> 225\u001b[0;31m           mode='test')\n\u001b[0m\u001b[1;32m    226\u001b[0m \u001b[0;34m\u001b[0m\u001b[0m\n\u001b[1;32m    227\u001b[0m       \u001b[0;32mif\u001b[0m \u001b[0;32mnot\u001b[0m \u001b[0misinstance\u001b[0m\u001b[0;34m(\u001b[0m\u001b[0mval_results\u001b[0m\u001b[0;34m,\u001b[0m \u001b[0mlist\u001b[0m\u001b[0;34m)\u001b[0m\u001b[0;34m:\u001b[0m\u001b[0;34m\u001b[0m\u001b[0;34m\u001b[0m\u001b[0m\n",
            "\u001b[0;32m/usr/local/lib/python3.6/dist-packages/tensorflow/python/keras/engine/training_generator.py\u001b[0m in \u001b[0;36mmodel_iteration\u001b[0;34m(model, data, steps_per_epoch, epochs, verbose, callbacks, validation_data, validation_steps, class_weight, max_queue_size, workers, use_multiprocessing, shuffle, initial_epoch, mode, batch_size, **kwargs)\u001b[0m\n\u001b[1;32m    175\u001b[0m \u001b[0;34m\u001b[0m\u001b[0m\n\u001b[1;32m    176\u001b[0m     \u001b[0;32mfor\u001b[0m \u001b[0mstep\u001b[0m \u001b[0;32min\u001b[0m \u001b[0mrange\u001b[0m\u001b[0;34m(\u001b[0m\u001b[0msteps_per_epoch\u001b[0m\u001b[0;34m)\u001b[0m\u001b[0;34m:\u001b[0m\u001b[0;34m\u001b[0m\u001b[0;34m\u001b[0m\u001b[0m\n\u001b[0;32m--> 177\u001b[0;31m       \u001b[0mbatch_data\u001b[0m \u001b[0;34m=\u001b[0m \u001b[0m_get_next_batch\u001b[0m\u001b[0;34m(\u001b[0m\u001b[0moutput_generator\u001b[0m\u001b[0;34m,\u001b[0m \u001b[0mmode\u001b[0m\u001b[0;34m)\u001b[0m\u001b[0;34m\u001b[0m\u001b[0;34m\u001b[0m\u001b[0m\n\u001b[0m\u001b[1;32m    178\u001b[0m       \u001b[0;32mif\u001b[0m \u001b[0mbatch_data\u001b[0m \u001b[0;32mis\u001b[0m \u001b[0;32mNone\u001b[0m\u001b[0;34m:\u001b[0m\u001b[0;34m\u001b[0m\u001b[0;34m\u001b[0m\u001b[0m\n\u001b[1;32m    179\u001b[0m         \u001b[0mcallbacks\u001b[0m\u001b[0;34m.\u001b[0m\u001b[0mmodel\u001b[0m\u001b[0;34m.\u001b[0m\u001b[0mstop_training\u001b[0m \u001b[0;34m=\u001b[0m \u001b[0;32mTrue\u001b[0m\u001b[0;34m\u001b[0m\u001b[0;34m\u001b[0m\u001b[0m\n",
            "\u001b[0;32m/usr/local/lib/python3.6/dist-packages/tensorflow/python/keras/engine/training_generator.py\u001b[0m in \u001b[0;36m_get_next_batch\u001b[0;34m(output_generator, mode)\u001b[0m\n\u001b[1;32m    256\u001b[0m   \u001b[0;34m\"\"\"Retrieves the next batch of input data.\"\"\"\u001b[0m\u001b[0;34m\u001b[0m\u001b[0;34m\u001b[0m\u001b[0m\n\u001b[1;32m    257\u001b[0m   \u001b[0;32mtry\u001b[0m\u001b[0;34m:\u001b[0m\u001b[0;34m\u001b[0m\u001b[0;34m\u001b[0m\u001b[0m\n\u001b[0;32m--> 258\u001b[0;31m     \u001b[0mgenerator_output\u001b[0m \u001b[0;34m=\u001b[0m \u001b[0mnext\u001b[0m\u001b[0;34m(\u001b[0m\u001b[0moutput_generator\u001b[0m\u001b[0;34m)\u001b[0m\u001b[0;34m\u001b[0m\u001b[0;34m\u001b[0m\u001b[0m\n\u001b[0m\u001b[1;32m    259\u001b[0m   \u001b[0;32mexcept\u001b[0m \u001b[0;34m(\u001b[0m\u001b[0merrors\u001b[0m\u001b[0;34m.\u001b[0m\u001b[0mOutOfRangeError\u001b[0m\u001b[0;34m,\u001b[0m \u001b[0mStopIteration\u001b[0m\u001b[0;34m)\u001b[0m\u001b[0;34m:\u001b[0m\u001b[0;34m\u001b[0m\u001b[0;34m\u001b[0m\u001b[0m\n\u001b[1;32m    260\u001b[0m     \u001b[0;31m# Returning `None` will trigger looping to stop.\u001b[0m\u001b[0;34m\u001b[0m\u001b[0;34m\u001b[0m\u001b[0;34m\u001b[0m\u001b[0m\n",
            "\u001b[0;32m/usr/local/lib/python3.6/dist-packages/tensorflow/python/keras/utils/data_utils.py\u001b[0m in \u001b[0;36mget\u001b[0;34m(self)\u001b[0m\n\u001b[1;32m    647\u001b[0m     \u001b[0;32mtry\u001b[0m\u001b[0;34m:\u001b[0m\u001b[0;34m\u001b[0m\u001b[0;34m\u001b[0m\u001b[0m\n\u001b[1;32m    648\u001b[0m       \u001b[0;32mwhile\u001b[0m \u001b[0mself\u001b[0m\u001b[0;34m.\u001b[0m\u001b[0mis_running\u001b[0m\u001b[0;34m(\u001b[0m\u001b[0;34m)\u001b[0m\u001b[0;34m:\u001b[0m\u001b[0;34m\u001b[0m\u001b[0;34m\u001b[0m\u001b[0m\n\u001b[0;32m--> 649\u001b[0;31m         \u001b[0minputs\u001b[0m \u001b[0;34m=\u001b[0m \u001b[0mself\u001b[0m\u001b[0;34m.\u001b[0m\u001b[0mqueue\u001b[0m\u001b[0;34m.\u001b[0m\u001b[0mget\u001b[0m\u001b[0;34m(\u001b[0m\u001b[0mblock\u001b[0m\u001b[0;34m=\u001b[0m\u001b[0;32mTrue\u001b[0m\u001b[0;34m)\u001b[0m\u001b[0;34m.\u001b[0m\u001b[0mget\u001b[0m\u001b[0;34m(\u001b[0m\u001b[0;34m)\u001b[0m\u001b[0;34m\u001b[0m\u001b[0;34m\u001b[0m\u001b[0m\n\u001b[0m\u001b[1;32m    650\u001b[0m         \u001b[0mself\u001b[0m\u001b[0;34m.\u001b[0m\u001b[0mqueue\u001b[0m\u001b[0;34m.\u001b[0m\u001b[0mtask_done\u001b[0m\u001b[0;34m(\u001b[0m\u001b[0;34m)\u001b[0m\u001b[0;34m\u001b[0m\u001b[0;34m\u001b[0m\u001b[0m\n\u001b[1;32m    651\u001b[0m         \u001b[0;32mif\u001b[0m \u001b[0minputs\u001b[0m \u001b[0;32mis\u001b[0m \u001b[0;32mnot\u001b[0m \u001b[0;32mNone\u001b[0m\u001b[0;34m:\u001b[0m\u001b[0;34m\u001b[0m\u001b[0;34m\u001b[0m\u001b[0m\n",
            "\u001b[0;32m/usr/lib/python3.6/multiprocessing/pool.py\u001b[0m in \u001b[0;36mget\u001b[0;34m(self, timeout)\u001b[0m\n\u001b[1;32m    662\u001b[0m \u001b[0;34m\u001b[0m\u001b[0m\n\u001b[1;32m    663\u001b[0m     \u001b[0;32mdef\u001b[0m \u001b[0mget\u001b[0m\u001b[0;34m(\u001b[0m\u001b[0mself\u001b[0m\u001b[0;34m,\u001b[0m \u001b[0mtimeout\u001b[0m\u001b[0;34m=\u001b[0m\u001b[0;32mNone\u001b[0m\u001b[0;34m)\u001b[0m\u001b[0;34m:\u001b[0m\u001b[0;34m\u001b[0m\u001b[0;34m\u001b[0m\u001b[0m\n\u001b[0;32m--> 664\u001b[0;31m         \u001b[0mself\u001b[0m\u001b[0;34m.\u001b[0m\u001b[0mwait\u001b[0m\u001b[0;34m(\u001b[0m\u001b[0mtimeout\u001b[0m\u001b[0;34m)\u001b[0m\u001b[0;34m\u001b[0m\u001b[0;34m\u001b[0m\u001b[0m\n\u001b[0m\u001b[1;32m    665\u001b[0m         \u001b[0;32mif\u001b[0m \u001b[0;32mnot\u001b[0m \u001b[0mself\u001b[0m\u001b[0;34m.\u001b[0m\u001b[0mready\u001b[0m\u001b[0;34m(\u001b[0m\u001b[0;34m)\u001b[0m\u001b[0;34m:\u001b[0m\u001b[0;34m\u001b[0m\u001b[0;34m\u001b[0m\u001b[0m\n\u001b[1;32m    666\u001b[0m             \u001b[0;32mraise\u001b[0m \u001b[0mTimeoutError\u001b[0m\u001b[0;34m\u001b[0m\u001b[0;34m\u001b[0m\u001b[0m\n",
            "\u001b[0;32m/usr/lib/python3.6/multiprocessing/pool.py\u001b[0m in \u001b[0;36mwait\u001b[0;34m(self, timeout)\u001b[0m\n\u001b[1;32m    659\u001b[0m \u001b[0;34m\u001b[0m\u001b[0m\n\u001b[1;32m    660\u001b[0m     \u001b[0;32mdef\u001b[0m \u001b[0mwait\u001b[0m\u001b[0;34m(\u001b[0m\u001b[0mself\u001b[0m\u001b[0;34m,\u001b[0m \u001b[0mtimeout\u001b[0m\u001b[0;34m=\u001b[0m\u001b[0;32mNone\u001b[0m\u001b[0;34m)\u001b[0m\u001b[0;34m:\u001b[0m\u001b[0;34m\u001b[0m\u001b[0;34m\u001b[0m\u001b[0m\n\u001b[0;32m--> 661\u001b[0;31m         \u001b[0mself\u001b[0m\u001b[0;34m.\u001b[0m\u001b[0m_event\u001b[0m\u001b[0;34m.\u001b[0m\u001b[0mwait\u001b[0m\u001b[0;34m(\u001b[0m\u001b[0mtimeout\u001b[0m\u001b[0;34m)\u001b[0m\u001b[0;34m\u001b[0m\u001b[0;34m\u001b[0m\u001b[0m\n\u001b[0m\u001b[1;32m    662\u001b[0m \u001b[0;34m\u001b[0m\u001b[0m\n\u001b[1;32m    663\u001b[0m     \u001b[0;32mdef\u001b[0m \u001b[0mget\u001b[0m\u001b[0;34m(\u001b[0m\u001b[0mself\u001b[0m\u001b[0;34m,\u001b[0m \u001b[0mtimeout\u001b[0m\u001b[0;34m=\u001b[0m\u001b[0;32mNone\u001b[0m\u001b[0;34m)\u001b[0m\u001b[0;34m:\u001b[0m\u001b[0;34m\u001b[0m\u001b[0;34m\u001b[0m\u001b[0m\n",
            "\u001b[0;32m/usr/lib/python3.6/threading.py\u001b[0m in \u001b[0;36mwait\u001b[0;34m(self, timeout)\u001b[0m\n\u001b[1;32m    549\u001b[0m             \u001b[0msignaled\u001b[0m \u001b[0;34m=\u001b[0m \u001b[0mself\u001b[0m\u001b[0;34m.\u001b[0m\u001b[0m_flag\u001b[0m\u001b[0;34m\u001b[0m\u001b[0;34m\u001b[0m\u001b[0m\n\u001b[1;32m    550\u001b[0m             \u001b[0;32mif\u001b[0m \u001b[0;32mnot\u001b[0m \u001b[0msignaled\u001b[0m\u001b[0;34m:\u001b[0m\u001b[0;34m\u001b[0m\u001b[0;34m\u001b[0m\u001b[0m\n\u001b[0;32m--> 551\u001b[0;31m                 \u001b[0msignaled\u001b[0m \u001b[0;34m=\u001b[0m \u001b[0mself\u001b[0m\u001b[0;34m.\u001b[0m\u001b[0m_cond\u001b[0m\u001b[0;34m.\u001b[0m\u001b[0mwait\u001b[0m\u001b[0;34m(\u001b[0m\u001b[0mtimeout\u001b[0m\u001b[0;34m)\u001b[0m\u001b[0;34m\u001b[0m\u001b[0;34m\u001b[0m\u001b[0m\n\u001b[0m\u001b[1;32m    552\u001b[0m             \u001b[0;32mreturn\u001b[0m \u001b[0msignaled\u001b[0m\u001b[0;34m\u001b[0m\u001b[0;34m\u001b[0m\u001b[0m\n\u001b[1;32m    553\u001b[0m \u001b[0;34m\u001b[0m\u001b[0m\n",
            "\u001b[0;32m/usr/lib/python3.6/threading.py\u001b[0m in \u001b[0;36mwait\u001b[0;34m(self, timeout)\u001b[0m\n\u001b[1;32m    293\u001b[0m         \u001b[0;32mtry\u001b[0m\u001b[0;34m:\u001b[0m    \u001b[0;31m# restore state no matter what (e.g., KeyboardInterrupt)\u001b[0m\u001b[0;34m\u001b[0m\u001b[0;34m\u001b[0m\u001b[0m\n\u001b[1;32m    294\u001b[0m             \u001b[0;32mif\u001b[0m \u001b[0mtimeout\u001b[0m \u001b[0;32mis\u001b[0m \u001b[0;32mNone\u001b[0m\u001b[0;34m:\u001b[0m\u001b[0;34m\u001b[0m\u001b[0;34m\u001b[0m\u001b[0m\n\u001b[0;32m--> 295\u001b[0;31m                 \u001b[0mwaiter\u001b[0m\u001b[0;34m.\u001b[0m\u001b[0macquire\u001b[0m\u001b[0;34m(\u001b[0m\u001b[0;34m)\u001b[0m\u001b[0;34m\u001b[0m\u001b[0;34m\u001b[0m\u001b[0m\n\u001b[0m\u001b[1;32m    296\u001b[0m                 \u001b[0mgotit\u001b[0m \u001b[0;34m=\u001b[0m \u001b[0;32mTrue\u001b[0m\u001b[0;34m\u001b[0m\u001b[0;34m\u001b[0m\u001b[0m\n\u001b[1;32m    297\u001b[0m             \u001b[0;32melse\u001b[0m\u001b[0;34m:\u001b[0m\u001b[0;34m\u001b[0m\u001b[0;34m\u001b[0m\u001b[0m\n",
            "\u001b[0;31mKeyboardInterrupt\u001b[0m: "
          ]
        }
      ]
    },
    {
      "cell_type": "markdown",
      "metadata": {
        "id": "Y-3ZsSabkHY7",
        "colab_type": "text"
      },
      "source": [
        "## Adjusted class weights model"
      ]
    },
    {
      "cell_type": "code",
      "metadata": {
        "id": "EKuuoJG-Y_FU",
        "colab_type": "code",
        "outputId": "03bc64c9-454b-4574-facc-5a1d6154e148",
        "colab": {
          "base_uri": "https://localhost:8080/",
          "height": 35
        }
      },
      "source": [
        "# try again with balanced class weights\n",
        "import sklearn\n",
        "import numpy as np\n",
        "\n",
        "y_train = df_train['label']\n",
        "\n",
        "class_weights = sklearn.utils.class_weight.compute_class_weight('balanced',\n",
        "                                                 np.unique(y_train),\n",
        "                                                 y_train)\n",
        "\n",
        "class_weights"
      ],
      "execution_count": 0,
      "outputs": [
        {
          "output_type": "execute_result",
          "data": {
            "text/plain": [
              "array([0.58759768, 3.35395683])"
            ]
          },
          "metadata": {
            "tags": []
          },
          "execution_count": 47
        }
      ]
    },
    {
      "cell_type": "code",
      "metadata": {
        "id": "oPh0egB2jeCu",
        "colab_type": "code",
        "outputId": "7049730f-ad30-4ab8-d9ad-11ab5a31e2ad",
        "colab": {
          "base_uri": "https://localhost:8080/",
          "height": 35
        }
      },
      "source": [
        "# create class weights dictionary\n",
        "cw = dict(zip([0,1], class_weights))\n",
        "# doesnt work for some reason \n",
        "cw"
      ],
      "execution_count": 0,
      "outputs": [
        {
          "output_type": "execute_result",
          "data": {
            "text/plain": [
              "{0: 0.587597680867154, 1: 3.353956834532374}"
            ]
          },
          "metadata": {
            "tags": []
          },
          "execution_count": 48
        }
      ]
    },
    {
      "cell_type": "code",
      "metadata": {
        "id": "762pzh9RmfJA",
        "colab_type": "code",
        "colab": {}
      },
      "source": [
        "# specify model architecture\n",
        "model_2 = tf.keras.Sequential()\n",
        "\n",
        "model_2.add(tf.keras.layers.Conv2D(64, (3, 3), activation='relu', input_shape=(60, 60, 3)))\n",
        "model_2.add(tf.keras.layers.Conv2D(64, (3, 3), activation='relu'))\n",
        "model_2.add(tf.keras.layers.MaxPooling2D((2, 2)))\n",
        "model_2.add(tf.keras.layers.Conv2D(64, (3, 3), activation='relu'))\n",
        "model_2.add(tf.keras.layers.Conv2D(64, (3, 3), activation='relu'))\n",
        "model_2.add(tf.keras.layers.MaxPooling2D((2, 2)))\n",
        "\n",
        "model_2.add(tf.keras.layers.Flatten())\n",
        "model_2.add(tf.keras.layers.Flatten(input_shape = (60, 60, 3)))\n",
        "model_2.add(tf.keras.layers.Dense(256, activation='relu'))\n",
        "model_2.add(tf.keras.layers.Dense(128, activation='tanh'))\n",
        "model_2.add(tf.keras.layers.Dense(1, activation='sigmoid'))\n"
      ],
      "execution_count": 0,
      "outputs": []
    },
    {
      "cell_type": "code",
      "metadata": {
        "id": "wGAR-3M-er-L",
        "colab_type": "code",
        "outputId": "b5e15d3c-509a-4c8f-9e93-9be52741f273",
        "colab": {
          "base_uri": "https://localhost:8080/",
          "height": 518
        }
      },
      "source": [
        "# recompile model\n",
        "model_2.compile(optimizer='adam', \n",
        "              loss='binary_crossentropy', \n",
        "              metrics=['accuracy'])\n",
        "\n",
        "model_2.summary()"
      ],
      "execution_count": 0,
      "outputs": [
        {
          "output_type": "stream",
          "text": [
            "_________________________________________________________________\n",
            "Layer (type)                 Output Shape              Param #   \n",
            "=================================================================\n",
            "conv2d (Conv2D)              (None, 58, 58, 64)        1792      \n",
            "_________________________________________________________________\n",
            "conv2d_1 (Conv2D)            (None, 56, 56, 64)        36928     \n",
            "_________________________________________________________________\n",
            "max_pooling2d (MaxPooling2D) (None, 28, 28, 64)        0         \n",
            "_________________________________________________________________\n",
            "conv2d_2 (Conv2D)            (None, 26, 26, 64)        36928     \n",
            "_________________________________________________________________\n",
            "conv2d_3 (Conv2D)            (None, 24, 24, 64)        36928     \n",
            "_________________________________________________________________\n",
            "max_pooling2d_1 (MaxPooling2 (None, 12, 12, 64)        0         \n",
            "_________________________________________________________________\n",
            "flatten_3 (Flatten)          (None, 9216)              0         \n",
            "_________________________________________________________________\n",
            "flatten_4 (Flatten)          (None, 9216)              0         \n",
            "_________________________________________________________________\n",
            "dense_9 (Dense)              (None, 256)               2359552   \n",
            "_________________________________________________________________\n",
            "dense_10 (Dense)             (None, 128)               32896     \n",
            "_________________________________________________________________\n",
            "dense_11 (Dense)             (None, 1)                 129       \n",
            "=================================================================\n",
            "Total params: 2,505,153\n",
            "Trainable params: 2,505,153\n",
            "Non-trainable params: 0\n",
            "_________________________________________________________________\n"
          ],
          "name": "stdout"
        }
      ]
    },
    {
      "cell_type": "code",
      "metadata": {
        "id": "mVrZmaTWde1G",
        "colab_type": "code",
        "outputId": "7de0a5cc-7ab4-42e7-d874-8418b497e6cc",
        "colab": {
          "base_uri": "https://localhost:8080/",
          "height": 2110
        }
      },
      "source": [
        "EPOCHS = 40\n",
        "\n",
        "history_2 = model_2.fit_generator(train_generator,\n",
        "                   epochs = EPOCHS,\n",
        "                   validation_data = val_generator,\n",
        "                   class_weight = class_weights,\n",
        "                   shuffle=True)"
      ],
      "execution_count": 0,
      "outputs": [
        {
          "output_type": "stream",
          "text": [
            "Epoch 1/40\n",
            "41/41 [==============================] - 1s 27ms/step - loss: 0.4047 - acc: 0.8807\n",
            "256/256 [==============================] - 16s 61ms/step - loss: 0.6417 - acc: 0.6007 - val_loss: 0.4047 - val_acc: 0.8807\n",
            "Epoch 2/40\n",
            "41/41 [==============================] - 1s 27ms/step - loss: 0.3819 - acc: 0.8807\n",
            "256/256 [==============================] - 16s 62ms/step - loss: 0.4836 - acc: 0.7635 - val_loss: 0.3819 - val_acc: 0.8807\n",
            "Epoch 3/40\n",
            "41/41 [==============================] - 1s 27ms/step - loss: 0.4504 - acc: 0.8691\n",
            "256/256 [==============================] - 15s 59ms/step - loss: 0.4575 - acc: 0.7765 - val_loss: 0.4504 - val_acc: 0.8691\n",
            "Epoch 4/40\n",
            "41/41 [==============================] - 1s 31ms/step - loss: 0.3667 - acc: 0.8807\n",
            "256/256 [==============================] - 16s 63ms/step - loss: 0.4310 - acc: 0.7904 - val_loss: 0.3667 - val_acc: 0.8807\n",
            "Epoch 5/40\n",
            "41/41 [==============================] - 1s 26ms/step - loss: 0.3291 - acc: 0.8807\n",
            "256/256 [==============================] - 15s 60ms/step - loss: 0.4260 - acc: 0.7937 - val_loss: 0.3291 - val_acc: 0.8807\n",
            "Epoch 6/40\n",
            "41/41 [==============================] - 1s 26ms/step - loss: 0.3884 - acc: 0.8714\n",
            "256/256 [==============================] - 15s 59ms/step - loss: 0.4070 - acc: 0.8051 - val_loss: 0.3884 - val_acc: 0.8714\n",
            "Epoch 7/40\n",
            "41/41 [==============================] - 1s 25ms/step - loss: 0.3195 - acc: 0.8807\n",
            "256/256 [==============================] - 15s 59ms/step - loss: 0.4011 - acc: 0.8127 - val_loss: 0.3195 - val_acc: 0.8807\n",
            "Epoch 8/40\n",
            "41/41 [==============================] - 1s 27ms/step - loss: 0.4832 - acc: 0.7763\n",
            "256/256 [==============================] - 15s 59ms/step - loss: 0.3818 - acc: 0.8285 - val_loss: 0.4832 - val_acc: 0.7763\n",
            "Epoch 9/40\n",
            "41/41 [==============================] - 1s 32ms/step - loss: 0.3196 - acc: 0.8769\n",
            "256/256 [==============================] - 15s 61ms/step - loss: 0.3877 - acc: 0.8246 - val_loss: 0.3196 - val_acc: 0.8769\n",
            "Epoch 10/40\n",
            "41/41 [==============================] - 1s 27ms/step - loss: 0.4630 - acc: 0.7903\n",
            "256/256 [==============================] - 16s 63ms/step - loss: 0.4084 - acc: 0.8076 - val_loss: 0.4630 - val_acc: 0.7903\n",
            "Epoch 11/40\n",
            "41/41 [==============================] - 1s 25ms/step - loss: 0.6134 - acc: 0.6984\n",
            "256/256 [==============================] - 15s 58ms/step - loss: 0.3761 - acc: 0.8292 - val_loss: 0.6134 - val_acc: 0.6984\n",
            "Epoch 12/40\n",
            "41/41 [==============================] - 1s 27ms/step - loss: 0.6855 - acc: 0.6726\n",
            "256/256 [==============================] - 15s 59ms/step - loss: 0.3589 - acc: 0.8396 - val_loss: 0.6855 - val_acc: 0.6726\n",
            "Epoch 13/40\n",
            "41/41 [==============================] - 1s 26ms/step - loss: 0.7504 - acc: 0.5900\n",
            "256/256 [==============================] - 15s 58ms/step - loss: 0.3485 - acc: 0.8438 - val_loss: 0.7504 - val_acc: 0.5900\n",
            "Epoch 14/40\n",
            "41/41 [==============================] - 1s 31ms/step - loss: 0.5005 - acc: 0.7849\n",
            "256/256 [==============================] - 16s 62ms/step - loss: 0.3298 - acc: 0.8488 - val_loss: 0.5005 - val_acc: 0.7849\n",
            "Epoch 15/40\n",
            "41/41 [==============================] - 1s 26ms/step - loss: 0.5224 - acc: 0.7857\n",
            "256/256 [==============================] - 16s 64ms/step - loss: 0.3292 - acc: 0.8525 - val_loss: 0.5224 - val_acc: 0.7857\n",
            "Epoch 16/40\n",
            "41/41 [==============================] - 1s 25ms/step - loss: 0.4384 - acc: 0.8301\n",
            "256/256 [==============================] - 15s 58ms/step - loss: 0.3209 - acc: 0.8547 - val_loss: 0.4384 - val_acc: 0.8301\n",
            "Epoch 17/40\n",
            "41/41 [==============================] - 1s 28ms/step - loss: 0.4815 - acc: 0.8106\n",
            "256/256 [==============================] - 15s 59ms/step - loss: 0.3103 - acc: 0.8609 - val_loss: 0.4815 - val_acc: 0.8106\n",
            "Epoch 18/40\n",
            "41/41 [==============================] - 1s 26ms/step - loss: 1.3411 - acc: 0.4770\n",
            "256/256 [==============================] - 15s 59ms/step - loss: 0.3150 - acc: 0.8603 - val_loss: 1.3411 - val_acc: 0.4770\n",
            "Epoch 19/40\n",
            "41/41 [==============================] - 1s 26ms/step - loss: 0.5112 - acc: 0.8176\n",
            "256/256 [==============================] - 15s 58ms/step - loss: 0.3156 - acc: 0.8603 - val_loss: 0.5112 - val_acc: 0.8176\n",
            "Epoch 20/40\n",
            "41/41 [==============================] - 1s 26ms/step - loss: 0.3449 - acc: 0.8652\n",
            "256/256 [==============================] - 16s 64ms/step - loss: 0.2955 - acc: 0.8647 - val_loss: 0.3449 - val_acc: 0.8652\n",
            "Epoch 21/40\n",
            "41/41 [==============================] - 1s 27ms/step - loss: 0.4407 - acc: 0.8145\n",
            "256/256 [==============================] - 15s 59ms/step - loss: 0.3115 - acc: 0.8618 - val_loss: 0.4407 - val_acc: 0.8145\n",
            "Epoch 22/40\n",
            "41/41 [==============================] - 1s 26ms/step - loss: 0.9402 - acc: 0.6500\n",
            "256/256 [==============================] - 16s 62ms/step - loss: 0.2760 - acc: 0.8770 - val_loss: 0.9402 - val_acc: 0.6500\n",
            "Epoch 23/40\n",
            "41/41 [==============================] - 1s 26ms/step - loss: 0.3859 - acc: 0.8449\n",
            "256/256 [==============================] - 15s 58ms/step - loss: 0.2986 - acc: 0.8684 - val_loss: 0.3859 - val_acc: 0.8449\n",
            "Epoch 24/40\n",
            "41/41 [==============================] - 1s 26ms/step - loss: 0.3481 - acc: 0.8644\n",
            "256/256 [==============================] - 15s 58ms/step - loss: 0.2780 - acc: 0.8749 - val_loss: 0.3481 - val_acc: 0.8644\n",
            "Epoch 25/40\n",
            "41/41 [==============================] - 1s 30ms/step - loss: 0.5696 - acc: 0.7888\n",
            "256/256 [==============================] - 16s 63ms/step - loss: 0.2849 - acc: 0.8680 - val_loss: 0.5696 - val_acc: 0.7888\n",
            "Epoch 26/40\n",
            "41/41 [==============================] - 1s 26ms/step - loss: 0.3559 - acc: 0.8652\n",
            "256/256 [==============================] - 15s 59ms/step - loss: 0.2755 - acc: 0.8763 - val_loss: 0.3559 - val_acc: 0.8652\n",
            "Epoch 27/40\n",
            "41/41 [==============================] - 1s 26ms/step - loss: 0.4198 - acc: 0.8379\n",
            "256/256 [==============================] - 15s 59ms/step - loss: 0.2742 - acc: 0.8760 - val_loss: 0.4198 - val_acc: 0.8379\n",
            "Epoch 28/40\n",
            "41/41 [==============================] - 1s 26ms/step - loss: 0.8967 - acc: 0.6867\n",
            "256/256 [==============================] - 15s 58ms/step - loss: 0.2574 - acc: 0.8851 - val_loss: 0.8967 - val_acc: 0.6867\n",
            "Epoch 29/40\n",
            "41/41 [==============================] - 1s 27ms/step - loss: 0.5214 - acc: 0.7794\n",
            "256/256 [==============================] - 15s 59ms/step - loss: 0.2630 - acc: 0.8840 - val_loss: 0.5214 - val_acc: 0.7794\n",
            "Epoch 30/40\n",
            "41/41 [==============================] - 1s 31ms/step - loss: 1.1089 - acc: 0.6150\n",
            "256/256 [==============================] - 15s 60ms/step - loss: 0.2573 - acc: 0.8843 - val_loss: 1.1089 - val_acc: 0.6150\n",
            "Epoch 31/40\n",
            "41/41 [==============================] - 1s 26ms/step - loss: 0.4701 - acc: 0.8340\n",
            "256/256 [==============================] - 16s 62ms/step - loss: 0.2562 - acc: 0.8868 - val_loss: 0.4701 - val_acc: 0.8340\n",
            "Epoch 32/40\n",
            "41/41 [==============================] - 1s 26ms/step - loss: 0.8197 - acc: 0.7132\n",
            "256/256 [==============================] - 15s 58ms/step - loss: 0.2501 - acc: 0.8840 - val_loss: 0.8197 - val_acc: 0.7132\n",
            "Epoch 33/40\n",
            "41/41 [==============================] - 1s 26ms/step - loss: 0.8583 - acc: 0.7233\n",
            "256/256 [==============================] - 15s 58ms/step - loss: 0.2439 - acc: 0.8901 - val_loss: 0.8583 - val_acc: 0.7233\n",
            "Epoch 34/40\n",
            "41/41 [==============================] - 1s 26ms/step - loss: 0.6020 - acc: 0.8036\n",
            "256/256 [==============================] - 15s 58ms/step - loss: 0.2511 - acc: 0.8880 - val_loss: 0.6020 - val_acc: 0.8036\n",
            "Epoch 35/40\n",
            "41/41 [==============================] - 1s 27ms/step - loss: 0.8077 - acc: 0.6773\n",
            "256/256 [==============================] - 17s 65ms/step - loss: 0.2478 - acc: 0.8885 - val_loss: 0.8077 - val_acc: 0.6773\n",
            "Epoch 36/40\n",
            "41/41 [==============================] - 1s 26ms/step - loss: 0.7168 - acc: 0.7264\n",
            "256/256 [==============================] - 16s 63ms/step - loss: 0.2336 - acc: 0.8962 - val_loss: 0.7168 - val_acc: 0.7264\n",
            "Epoch 37/40\n",
            "41/41 [==============================] - 1s 26ms/step - loss: 0.4491 - acc: 0.8402\n",
            "256/256 [==============================] - 15s 59ms/step - loss: 0.2372 - acc: 0.8930 - val_loss: 0.4491 - val_acc: 0.8402\n",
            "Epoch 38/40\n",
            "41/41 [==============================] - 1s 26ms/step - loss: 0.5667 - acc: 0.7662\n",
            "256/256 [==============================] - 15s 58ms/step - loss: 0.2282 - acc: 0.8998 - val_loss: 0.5667 - val_acc: 0.7662\n",
            "Epoch 39/40\n",
            "41/41 [==============================] - 1s 25ms/step - loss: 0.5672 - acc: 0.7708\n",
            "256/256 [==============================] - 15s 58ms/step - loss: 0.2274 - acc: 0.8982 - val_loss: 0.5672 - val_acc: 0.7708\n",
            "Epoch 40/40\n",
            "41/41 [==============================] - 1s 27ms/step - loss: 0.7063 - acc: 0.7896\n",
            "256/256 [==============================] - 15s 58ms/step - loss: 0.2212 - acc: 0.8989 - val_loss: 0.7063 - val_acc: 0.7896\n"
          ],
          "name": "stdout"
        }
      ]
    },
    {
      "cell_type": "code",
      "metadata": {
        "id": "c3IoQaWoPnKy",
        "colab_type": "code",
        "outputId": "b67d08c7-a165-4758-92be-d7d6f28aa048",
        "colab": {
          "base_uri": "https://localhost:8080/",
          "height": 134
        }
      },
      "source": [
        "model.predict(val_generator)"
      ],
      "execution_count": 0,
      "outputs": [
        {
          "output_type": "execute_result",
          "data": {
            "text/plain": [
              "array([[0.2554441 ],\n",
              "       [0.90633047],\n",
              "       [0.2586465 ],\n",
              "       ...,\n",
              "       [0.09441949],\n",
              "       [0.0263592 ],\n",
              "       [0.3309168 ]], dtype=float32)"
            ]
          },
          "metadata": {
            "tags": []
          },
          "execution_count": 32
        }
      ]
    },
    {
      "cell_type": "code",
      "metadata": {
        "id": "W4fYbpnfP6Jo",
        "colab_type": "code",
        "outputId": "e7c8a3b6-dfb3-4afe-8412-c62c984a419a",
        "colab": {
          "base_uri": "https://localhost:8080/",
          "height": 67
        }
      },
      "source": [
        "y_val = df_val['label']\n",
        "y_val.value_counts(normalize=True)"
      ],
      "execution_count": 0,
      "outputs": [
        {
          "output_type": "execute_result",
          "data": {
            "text/plain": [
              "0    0.880748\n",
              "1    0.119252\n",
              "Name: label, dtype: float64"
            ]
          },
          "metadata": {
            "tags": []
          },
          "execution_count": 33
        }
      ]
    },
    {
      "cell_type": "markdown",
      "metadata": {
        "id": "imnc8jJGchfz",
        "colab_type": "text"
      },
      "source": [
        "## Use Transfer Learning"
      ]
    },
    {
      "cell_type": "code",
      "metadata": {
        "id": "v0Ah7FAzqQop",
        "colab_type": "code",
        "colab": {}
      },
      "source": [
        "from tensorflow.keras.applications import VGG16"
      ],
      "execution_count": 0,
      "outputs": []
    },
    {
      "cell_type": "code",
      "metadata": {
        "id": "7HhL28WS8hd9",
        "colab_type": "code",
        "colab": {}
      },
      "source": [
        "conv_base_1 = VGG16(weights='imagenet',\n",
        "                    include_top=False, \n",
        "                    input_shape=(256, 256, 3))\n"
      ],
      "execution_count": 0,
      "outputs": []
    },
    {
      "cell_type": "code",
      "metadata": {
        "id": "nXFeFJH3p7dY",
        "colab_type": "code",
        "outputId": "2fb416f1-1c58-49ad-8e3d-8b16d852aa25",
        "colab": {
          "base_uri": "https://localhost:8080/",
          "height": 795
        }
      },
      "source": [
        "conv_base_1.summary()"
      ],
      "execution_count": 0,
      "outputs": [
        {
          "output_type": "stream",
          "text": [
            "_________________________________________________________________\n",
            "Layer (type)                 Output Shape              Param #   \n",
            "=================================================================\n",
            "input_2 (InputLayer)         (None, 256, 256, 3)       0         \n",
            "_________________________________________________________________\n",
            "block1_conv1 (Conv2D)        (None, 256, 256, 64)      1792      \n",
            "_________________________________________________________________\n",
            "block1_conv2 (Conv2D)        (None, 256, 256, 64)      36928     \n",
            "_________________________________________________________________\n",
            "block1_pool (MaxPooling2D)   (None, 128, 128, 64)      0         \n",
            "_________________________________________________________________\n",
            "block2_conv1 (Conv2D)        (None, 128, 128, 128)     73856     \n",
            "_________________________________________________________________\n",
            "block2_conv2 (Conv2D)        (None, 128, 128, 128)     147584    \n",
            "_________________________________________________________________\n",
            "block2_pool (MaxPooling2D)   (None, 64, 64, 128)       0         \n",
            "_________________________________________________________________\n",
            "block3_conv1 (Conv2D)        (None, 64, 64, 256)       295168    \n",
            "_________________________________________________________________\n",
            "block3_conv2 (Conv2D)        (None, 64, 64, 256)       590080    \n",
            "_________________________________________________________________\n",
            "block3_conv3 (Conv2D)        (None, 64, 64, 256)       590080    \n",
            "_________________________________________________________________\n",
            "block3_pool (MaxPooling2D)   (None, 32, 32, 256)       0         \n",
            "_________________________________________________________________\n",
            "block4_conv1 (Conv2D)        (None, 32, 32, 512)       1180160   \n",
            "_________________________________________________________________\n",
            "block4_conv2 (Conv2D)        (None, 32, 32, 512)       2359808   \n",
            "_________________________________________________________________\n",
            "block4_conv3 (Conv2D)        (None, 32, 32, 512)       2359808   \n",
            "_________________________________________________________________\n",
            "block4_pool (MaxPooling2D)   (None, 16, 16, 512)       0         \n",
            "_________________________________________________________________\n",
            "block5_conv1 (Conv2D)        (None, 16, 16, 512)       2359808   \n",
            "_________________________________________________________________\n",
            "block5_conv2 (Conv2D)        (None, 16, 16, 512)       2359808   \n",
            "_________________________________________________________________\n",
            "block5_conv3 (Conv2D)        (None, 16, 16, 512)       2359808   \n",
            "_________________________________________________________________\n",
            "block5_pool (MaxPooling2D)   (None, 8, 8, 512)         0         \n",
            "=================================================================\n",
            "Total params: 14,714,688\n",
            "Trainable params: 14,714,688\n",
            "Non-trainable params: 0\n",
            "_________________________________________________________________\n"
          ],
          "name": "stdout"
        }
      ]
    },
    {
      "cell_type": "code",
      "metadata": {
        "id": "aGBUClEhoeRF",
        "colab_type": "code",
        "colab": {}
      },
      "source": [
        "# instantiate model\n",
        "model_1 = tf.keras.models.Sequential()\n",
        "\n",
        "model_1.add(conv_base_1)\n",
        "model_1.add(tf.keras.layers.Flatten())\n",
        "model_1.add(tf.keras.layers.Dense(256, activation='relu'))\n",
        "model_1.add(tf.keras.layers.Dropout(rate = 0.4))\n",
        "model_1.add(tf.keras.layers.Dense(256, activation='relu'))\n",
        "model_1.add(tf.keras.layers.Dropout(rate = 0.4))\n",
        "model_1.add(tf.keras.layers.Dense(128, activation='relu'))\n",
        "model_1.add(tf.keras.layers.Dropout(rate = 0.4))\n",
        "model_1.add(tf.keras.layers.Dense(1, activation='sigmoid'))\n",
        "\n",
        "conv_base_1.trainable = False\n",
        "\n",
        "model_1.compile(loss='binary_crossentropy',\n",
        "              optimizer='adam',\n",
        "              metrics=['acc'])"
      ],
      "execution_count": 0,
      "outputs": []
    },
    {
      "cell_type": "code",
      "metadata": {
        "id": "FOuCylvyowVZ",
        "colab_type": "code",
        "outputId": "4f2cfe2b-658d-4254-80f2-4da86ba59f34",
        "colab": {
          "base_uri": "https://localhost:8080/",
          "height": 449
        }
      },
      "source": [
        "model_1.summary()"
      ],
      "execution_count": 0,
      "outputs": [
        {
          "output_type": "stream",
          "text": [
            "_________________________________________________________________\n",
            "Layer (type)                 Output Shape              Param #   \n",
            "=================================================================\n",
            "vgg16 (Model)                (None, 8, 8, 512)         14714688  \n",
            "_________________________________________________________________\n",
            "flatten_8 (Flatten)          (None, 32768)             0         \n",
            "_________________________________________________________________\n",
            "dense_21 (Dense)             (None, 256)               8388864   \n",
            "_________________________________________________________________\n",
            "dropout_6 (Dropout)          (None, 256)               0         \n",
            "_________________________________________________________________\n",
            "dense_22 (Dense)             (None, 256)               65792     \n",
            "_________________________________________________________________\n",
            "dropout_7 (Dropout)          (None, 256)               0         \n",
            "_________________________________________________________________\n",
            "dense_23 (Dense)             (None, 128)               32896     \n",
            "_________________________________________________________________\n",
            "dropout_8 (Dropout)          (None, 128)               0         \n",
            "_________________________________________________________________\n",
            "dense_24 (Dense)             (None, 1)                 129       \n",
            "=================================================================\n",
            "Total params: 23,202,369\n",
            "Trainable params: 8,487,681\n",
            "Non-trainable params: 14,714,688\n",
            "_________________________________________________________________\n"
          ],
          "name": "stdout"
        }
      ]
    },
    {
      "cell_type": "code",
      "metadata": {
        "id": "AqgXczp0v9vQ",
        "colab_type": "code",
        "outputId": "8f768748-cbf5-4186-d267-83f0d3f92355",
        "colab": {
          "base_uri": "https://localhost:8080/",
          "height": 694
        }
      },
      "source": [
        "history_transfer = model_1.fit_generator(train_generator,\n",
        "                   epochs = 20,\n",
        "                   validation_data = val_generator,\n",
        "                   verbose=1)"
      ],
      "execution_count": 0,
      "outputs": [
        {
          "output_type": "stream",
          "text": [
            "Epoch 1/20\n",
            "254/254 [==============================] - 129s 506ms/step - loss: 0.2292 - acc: 0.9336\n",
            "221/221 [==============================] - 241s 1s/step - loss: 0.3913 - acc: 0.8503 - val_loss: 0.2292 - val_acc: 0.9336\n",
            "Epoch 2/20\n",
            "254/254 [==============================] - 121s 477ms/step - loss: 0.1976 - acc: 0.9514\n",
            "221/221 [==============================] - 225s 1s/step - loss: 0.2880 - acc: 0.8847 - val_loss: 0.1976 - val_acc: 0.9514\n",
            "Epoch 3/20\n",
            "254/254 [==============================] - 121s 476ms/step - loss: 0.1494 - acc: 0.9594\n",
            "221/221 [==============================] - 227s 1s/step - loss: 0.2716 - acc: 0.8853 - val_loss: 0.1494 - val_acc: 0.9594\n",
            "Epoch 4/20\n",
            "254/254 [==============================] - 123s 486ms/step - loss: 0.2165 - acc: 0.9485\n",
            "221/221 [==============================] - 227s 1s/step - loss: 0.2473 - acc: 0.8963 - val_loss: 0.2165 - val_acc: 0.9485\n",
            "Epoch 5/20\n",
            "254/254 [==============================] - 128s 503ms/step - loss: 0.1804 - acc: 0.9545\n",
            "221/221 [==============================] - 232s 1s/step - loss: 0.2436 - acc: 0.9024 - val_loss: 0.1804 - val_acc: 0.9545\n",
            "Epoch 6/20\n",
            "254/254 [==============================] - 139s 548ms/step - loss: 0.1846 - acc: 0.9503\n",
            "221/221 [==============================] - 244s 1s/step - loss: 0.2396 - acc: 0.8989 - val_loss: 0.1846 - val_acc: 0.9503\n",
            "Epoch 7/20\n",
            "254/254 [==============================] - 184s 725ms/step - loss: 0.2209 - acc: 0.9529\n",
            "221/221 [==============================] - 342s 2s/step - loss: 0.2180 - acc: 0.9114 - val_loss: 0.2209 - val_acc: 0.9529\n",
            "Epoch 8/20\n",
            "254/254 [==============================] - 166s 652ms/step - loss: 0.2599 - acc: 0.9499\n",
            "221/221 [==============================] - 321s 1s/step - loss: 0.2228 - acc: 0.9060 - val_loss: 0.2599 - val_acc: 0.9499\n",
            "Epoch 9/20\n",
            "254/254 [==============================] - 124s 487ms/step - loss: 0.2031 - acc: 0.9473\n",
            "221/221 [==============================] - 229s 1s/step - loss: 0.2285 - acc: 0.9028 - val_loss: 0.2031 - val_acc: 0.9473\n",
            "Epoch 10/20\n",
            "254/254 [==============================] - 125s 493ms/step - loss: 0.2135 - acc: 0.9515\n",
            "221/221 [==============================] - 232s 1s/step - loss: 0.2120 - acc: 0.9116 - val_loss: 0.2135 - val_acc: 0.9515\n",
            "Epoch 11/20\n",
            "254/254 [==============================] - 126s 497ms/step - loss: 0.2087 - acc: 0.9552\n",
            "221/221 [==============================] - 231s 1s/step - loss: 0.2126 - acc: 0.9124 - val_loss: 0.2087 - val_acc: 0.9552\n",
            "Epoch 12/20\n",
            "254/254 [==============================] - 127s 498ms/step - loss: 0.2302 - acc: 0.9524\n",
            "221/221 [==============================] - 232s 1s/step - loss: 0.2073 - acc: 0.9147 - val_loss: 0.2302 - val_acc: 0.9524\n",
            "Epoch 13/20\n",
            "205/254 [=======================>......] - ETA: 24s - loss: 0.2085 - acc: 0.9446"
          ],
          "name": "stdout"
        }
      ]
    },
    {
      "cell_type": "markdown",
      "metadata": {
        "id": "h51wu8qa4crA",
        "colab_type": "text"
      },
      "source": [
        "## Grid search model"
      ]
    },
    {
      "cell_type": "code",
      "metadata": {
        "id": "NitMEGDZd3jK",
        "colab_type": "code",
        "colab": {}
      },
      "source": [
        "def make_model(units_1, units_2, reg_str_1, reg_str_2):\n",
        "  \n",
        "  conv_base_1 = VGG16(weights='imagenet',\n",
        "                    include_top=False, \n",
        "                    input_shape=(60, 60, 3))\n",
        "  \n",
        "  model = tf.keras.models.Sequential()\n",
        "  \n",
        "  model_1.add(conv_base_1)\n",
        "  \n",
        "  model_1.add(tf.keras.layers.Flatten())\n",
        "  \n",
        "  model_1.add(tf.keras.layers.Dense(units_1, activation='relu',\n",
        "                                   kernel_regularizer=keras.regularizers.l2(l= reg_str_1)))\n",
        "  \n",
        "  model_1.add(tf.keras.layers.Dense(units_2, activation='relu',\n",
        "                                   kernel_regularizer=keras.regularizers.l2(l= reg_str_2)))\n",
        "  \n",
        "  model_1.add(tf.keras.layers.Dense(1, activation='sigmoid'))\n",
        "  \n",
        "  conv_base_1.trainable = False\n",
        "\n",
        "  model.compile(optimizer = 'adam', \n",
        "                  loss='binary_crossentropy',\n",
        "                 metrics=['acc'])\n",
        "  \n",
        "  return model"
      ],
      "execution_count": 0,
      "outputs": []
    },
    {
      "cell_type": "code",
      "metadata": {
        "id": "131veQyP8ddo",
        "colab_type": "code",
        "colab": {}
      },
      "source": [
        "from keras.wrappers.scikit_learn import KerasClassifier\n",
        "from sklearn.model_selection import GridSearchCV, StratifiedShuffleSplit "
      ],
      "execution_count": 0,
      "outputs": []
    },
    {
      "cell_type": "code",
      "metadata": {
        "id": "MtK5D4Y8j8zF",
        "colab_type": "code",
        "outputId": "bc18dff0-83df-4868-931a-39e92bfbee40",
        "colab": {
          "base_uri": "https://localhost:8080/",
          "height": 345
        }
      },
      "source": [
        "clf = KerasClassifier(make_model)\n",
        "\n",
        "param_grid = {'epochs': [30],\n",
        "              'units_1': [128,256], \n",
        "              'units_2': [64,128],\n",
        "              'reg_str_1': np.logspace(-3,3,3),\n",
        "              'reg_str_2': np.logspace(-3,3,3)\n",
        "             }\n",
        "\n",
        "grid = GridSearchCV(clf, param_grid=param_grid, cv= StratifiedShuffleSplit(1))\n",
        "grid.fit(train_generator)"
      ],
      "execution_count": 0,
      "outputs": [
        {
          "output_type": "error",
          "ename": "TypeError",
          "evalue": "ignored",
          "traceback": [
            "\u001b[0;31m---------------------------------------------------------------------------\u001b[0m",
            "\u001b[0;31mTypeError\u001b[0m                                 Traceback (most recent call last)",
            "\u001b[0;32m<ipython-input-63-a3bade673d83>\u001b[0m in \u001b[0;36m<module>\u001b[0;34m()\u001b[0m\n\u001b[1;32m      9\u001b[0m \u001b[0;34m\u001b[0m\u001b[0m\n\u001b[1;32m     10\u001b[0m \u001b[0mgrid\u001b[0m \u001b[0;34m=\u001b[0m \u001b[0mGridSearchCV\u001b[0m\u001b[0;34m(\u001b[0m\u001b[0mclf\u001b[0m\u001b[0;34m,\u001b[0m \u001b[0mparam_grid\u001b[0m\u001b[0;34m=\u001b[0m\u001b[0mparam_grid\u001b[0m\u001b[0;34m,\u001b[0m \u001b[0mcv\u001b[0m\u001b[0;34m=\u001b[0m \u001b[0mStratifiedShuffleSplit\u001b[0m\u001b[0;34m(\u001b[0m\u001b[0;36m1\u001b[0m\u001b[0;34m)\u001b[0m\u001b[0;34m)\u001b[0m\u001b[0;34m\u001b[0m\u001b[0;34m\u001b[0m\u001b[0m\n\u001b[0;32m---> 11\u001b[0;31m \u001b[0mgrid\u001b[0m\u001b[0;34m.\u001b[0m\u001b[0mfit\u001b[0m\u001b[0;34m(\u001b[0m\u001b[0mtrain_generator\u001b[0m\u001b[0;34m)\u001b[0m\u001b[0;34m\u001b[0m\u001b[0;34m\u001b[0m\u001b[0m\n\u001b[0m",
            "\u001b[0;32m/usr/local/lib/python3.6/dist-packages/sklearn/model_selection/_search.py\u001b[0m in \u001b[0;36mfit\u001b[0;34m(self, X, y, groups, **fit_params)\u001b[0m\n\u001b[1;32m    720\u001b[0m                 \u001b[0;32mreturn\u001b[0m \u001b[0mresults_container\u001b[0m\u001b[0;34m[\u001b[0m\u001b[0;36m0\u001b[0m\u001b[0;34m]\u001b[0m\u001b[0;34m\u001b[0m\u001b[0;34m\u001b[0m\u001b[0m\n\u001b[1;32m    721\u001b[0m \u001b[0;34m\u001b[0m\u001b[0m\n\u001b[0;32m--> 722\u001b[0;31m             \u001b[0mself\u001b[0m\u001b[0;34m.\u001b[0m\u001b[0m_run_search\u001b[0m\u001b[0;34m(\u001b[0m\u001b[0mevaluate_candidates\u001b[0m\u001b[0;34m)\u001b[0m\u001b[0;34m\u001b[0m\u001b[0;34m\u001b[0m\u001b[0m\n\u001b[0m\u001b[1;32m    723\u001b[0m \u001b[0;34m\u001b[0m\u001b[0m\n\u001b[1;32m    724\u001b[0m         \u001b[0mresults\u001b[0m \u001b[0;34m=\u001b[0m \u001b[0mresults_container\u001b[0m\u001b[0;34m[\u001b[0m\u001b[0;36m0\u001b[0m\u001b[0;34m]\u001b[0m\u001b[0;34m\u001b[0m\u001b[0;34m\u001b[0m\u001b[0m\n",
            "\u001b[0;32m/usr/local/lib/python3.6/dist-packages/sklearn/model_selection/_search.py\u001b[0m in \u001b[0;36m_run_search\u001b[0;34m(self, evaluate_candidates)\u001b[0m\n\u001b[1;32m   1189\u001b[0m     \u001b[0;32mdef\u001b[0m \u001b[0m_run_search\u001b[0m\u001b[0;34m(\u001b[0m\u001b[0mself\u001b[0m\u001b[0;34m,\u001b[0m \u001b[0mevaluate_candidates\u001b[0m\u001b[0;34m)\u001b[0m\u001b[0;34m:\u001b[0m\u001b[0;34m\u001b[0m\u001b[0;34m\u001b[0m\u001b[0m\n\u001b[1;32m   1190\u001b[0m         \u001b[0;34m\"\"\"Search all candidates in param_grid\"\"\"\u001b[0m\u001b[0;34m\u001b[0m\u001b[0;34m\u001b[0m\u001b[0m\n\u001b[0;32m-> 1191\u001b[0;31m         \u001b[0mevaluate_candidates\u001b[0m\u001b[0;34m(\u001b[0m\u001b[0mParameterGrid\u001b[0m\u001b[0;34m(\u001b[0m\u001b[0mself\u001b[0m\u001b[0;34m.\u001b[0m\u001b[0mparam_grid\u001b[0m\u001b[0;34m)\u001b[0m\u001b[0;34m)\u001b[0m\u001b[0;34m\u001b[0m\u001b[0;34m\u001b[0m\u001b[0m\n\u001b[0m\u001b[1;32m   1192\u001b[0m \u001b[0;34m\u001b[0m\u001b[0m\n\u001b[1;32m   1193\u001b[0m \u001b[0;34m\u001b[0m\u001b[0m\n",
            "\u001b[0;32m/usr/local/lib/python3.6/dist-packages/sklearn/model_selection/_search.py\u001b[0m in \u001b[0;36mevaluate_candidates\u001b[0;34m(candidate_params)\u001b[0m\n\u001b[1;32m    709\u001b[0m                                \u001b[0;32mfor\u001b[0m \u001b[0mparameters\u001b[0m\u001b[0;34m,\u001b[0m \u001b[0;34m(\u001b[0m\u001b[0mtrain\u001b[0m\u001b[0;34m,\u001b[0m \u001b[0mtest\u001b[0m\u001b[0;34m)\u001b[0m\u001b[0;34m\u001b[0m\u001b[0;34m\u001b[0m\u001b[0m\n\u001b[1;32m    710\u001b[0m                                in product(candidate_params,\n\u001b[0;32m--> 711\u001b[0;31m                                           cv.split(X, y, groups)))\n\u001b[0m\u001b[1;32m    712\u001b[0m \u001b[0;34m\u001b[0m\u001b[0m\n\u001b[1;32m    713\u001b[0m                 \u001b[0mall_candidate_params\u001b[0m\u001b[0;34m.\u001b[0m\u001b[0mextend\u001b[0m\u001b[0;34m(\u001b[0m\u001b[0mcandidate_params\u001b[0m\u001b[0;34m)\u001b[0m\u001b[0;34m\u001b[0m\u001b[0;34m\u001b[0m\u001b[0m\n",
            "\u001b[0;32m/usr/local/lib/python3.6/dist-packages/sklearn/model_selection/_split.py\u001b[0m in \u001b[0;36msplit\u001b[0;34m(self, X, y, groups)\u001b[0m\n\u001b[1;32m   1771\u001b[0m         \u001b[0mto\u001b[0m \u001b[0man\u001b[0m \u001b[0minteger\u001b[0m\u001b[0;34m.\u001b[0m\u001b[0;34m\u001b[0m\u001b[0;34m\u001b[0m\u001b[0m\n\u001b[1;32m   1772\u001b[0m         \"\"\"\n\u001b[0;32m-> 1773\u001b[0;31m         \u001b[0my\u001b[0m \u001b[0;34m=\u001b[0m \u001b[0mcheck_array\u001b[0m\u001b[0;34m(\u001b[0m\u001b[0my\u001b[0m\u001b[0;34m,\u001b[0m \u001b[0mensure_2d\u001b[0m\u001b[0;34m=\u001b[0m\u001b[0;32mFalse\u001b[0m\u001b[0;34m,\u001b[0m \u001b[0mdtype\u001b[0m\u001b[0;34m=\u001b[0m\u001b[0;32mNone\u001b[0m\u001b[0;34m)\u001b[0m\u001b[0;34m\u001b[0m\u001b[0;34m\u001b[0m\u001b[0m\n\u001b[0m\u001b[1;32m   1774\u001b[0m         \u001b[0;32mreturn\u001b[0m \u001b[0msuper\u001b[0m\u001b[0;34m(\u001b[0m\u001b[0mStratifiedShuffleSplit\u001b[0m\u001b[0;34m,\u001b[0m \u001b[0mself\u001b[0m\u001b[0;34m)\u001b[0m\u001b[0;34m.\u001b[0m\u001b[0msplit\u001b[0m\u001b[0;34m(\u001b[0m\u001b[0mX\u001b[0m\u001b[0;34m,\u001b[0m \u001b[0my\u001b[0m\u001b[0;34m,\u001b[0m \u001b[0mgroups\u001b[0m\u001b[0;34m)\u001b[0m\u001b[0;34m\u001b[0m\u001b[0;34m\u001b[0m\u001b[0m\n\u001b[1;32m   1775\u001b[0m \u001b[0;34m\u001b[0m\u001b[0m\n",
            "\u001b[0;32m/usr/local/lib/python3.6/dist-packages/sklearn/utils/validation.py\u001b[0m in \u001b[0;36mcheck_array\u001b[0;34m(array, accept_sparse, accept_large_sparse, dtype, order, copy, force_all_finite, ensure_2d, allow_nd, ensure_min_samples, ensure_min_features, warn_on_dtype, estimator)\u001b[0m\n\u001b[1;32m    575\u001b[0m     \u001b[0mshape_repr\u001b[0m \u001b[0;34m=\u001b[0m \u001b[0m_shape_repr\u001b[0m\u001b[0;34m(\u001b[0m\u001b[0marray\u001b[0m\u001b[0;34m.\u001b[0m\u001b[0mshape\u001b[0m\u001b[0;34m)\u001b[0m\u001b[0;34m\u001b[0m\u001b[0;34m\u001b[0m\u001b[0m\n\u001b[1;32m    576\u001b[0m     \u001b[0;32mif\u001b[0m \u001b[0mensure_min_samples\u001b[0m \u001b[0;34m>\u001b[0m \u001b[0;36m0\u001b[0m\u001b[0;34m:\u001b[0m\u001b[0;34m\u001b[0m\u001b[0;34m\u001b[0m\u001b[0m\n\u001b[0;32m--> 577\u001b[0;31m         \u001b[0mn_samples\u001b[0m \u001b[0;34m=\u001b[0m \u001b[0m_num_samples\u001b[0m\u001b[0;34m(\u001b[0m\u001b[0marray\u001b[0m\u001b[0;34m)\u001b[0m\u001b[0;34m\u001b[0m\u001b[0;34m\u001b[0m\u001b[0m\n\u001b[0m\u001b[1;32m    578\u001b[0m         \u001b[0;32mif\u001b[0m \u001b[0mn_samples\u001b[0m \u001b[0;34m<\u001b[0m \u001b[0mensure_min_samples\u001b[0m\u001b[0;34m:\u001b[0m\u001b[0;34m\u001b[0m\u001b[0;34m\u001b[0m\u001b[0m\n\u001b[1;32m    579\u001b[0m             raise ValueError(\"Found array with %d sample(s) (shape=%s) while a\"\n",
            "\u001b[0;32m/usr/local/lib/python3.6/dist-packages/sklearn/utils/validation.py\u001b[0m in \u001b[0;36m_num_samples\u001b[0;34m(x)\u001b[0m\n\u001b[1;32m    140\u001b[0m         \u001b[0;32mif\u001b[0m \u001b[0mlen\u001b[0m\u001b[0;34m(\u001b[0m\u001b[0mx\u001b[0m\u001b[0;34m.\u001b[0m\u001b[0mshape\u001b[0m\u001b[0;34m)\u001b[0m \u001b[0;34m==\u001b[0m \u001b[0;36m0\u001b[0m\u001b[0;34m:\u001b[0m\u001b[0;34m\u001b[0m\u001b[0;34m\u001b[0m\u001b[0m\n\u001b[1;32m    141\u001b[0m             raise TypeError(\"Singleton array %r cannot be considered\"\n\u001b[0;32m--> 142\u001b[0;31m                             \" a valid collection.\" % x)\n\u001b[0m\u001b[1;32m    143\u001b[0m         \u001b[0;31m# Check that shape is returning an integer or default to len\u001b[0m\u001b[0;34m\u001b[0m\u001b[0;34m\u001b[0m\u001b[0;34m\u001b[0m\u001b[0m\n\u001b[1;32m    144\u001b[0m         \u001b[0;31m# Dask dataframes may not return numeric shape[0] value\u001b[0m\u001b[0;34m\u001b[0m\u001b[0;34m\u001b[0m\u001b[0;34m\u001b[0m\u001b[0m\n",
            "\u001b[0;31mTypeError\u001b[0m: Singleton array array(None, dtype=object) cannot be considered a valid collection."
          ]
        }
      ]
    },
    {
      "cell_type": "markdown",
      "metadata": {
        "id": "bD4W-DcBiC6L",
        "colab_type": "text"
      },
      "source": [
        "##More complex convolutional model"
      ]
    },
    {
      "cell_type": "code",
      "metadata": {
        "id": "iBNno4RtiKu_",
        "colab_type": "code",
        "colab": {}
      },
      "source": [
        "model_conv_1 = tf.keras.Sequential([\n",
        "    \n",
        "    tf.keras.layers.Conv2D(32, kernel_size=(3,3), input_shape = (256,256,3)),\n",
        "    tf.keras.layers.Activation('relu'),\n",
        "    tf.keras.layers.BatchNormalization(),   \n",
        "    \n",
        "    tf.keras.layers.Conv2D(32, (3, 3)),\n",
        "    tf.keras.layers.Activation('relu'),\n",
        "    tf.keras.layers.BatchNormalization(), \n",
        "    \n",
        "    tf.keras.layers.MaxPooling2D(pool_size=(2, 2)), \n",
        "    \n",
        "    tf.keras.layers.Conv2D(32, (3, 3)),\n",
        "    tf.keras.layers.Activation('relu'),\n",
        "    tf.keras.layers.BatchNormalization(), \n",
        "    \n",
        "    tf.keras.layers.Conv2D(32, (3, 3)),\n",
        "    tf.keras.layers.Activation('relu'),\n",
        "    tf.keras.layers.BatchNormalization(), \n",
        "    \n",
        "    tf.keras.layers.MaxPooling2D(pool_size=(2, 2)),  \n",
        "    \n",
        "    tf.keras.layers.Conv2D(32, (3, 3)),\n",
        "    tf.keras.layers.Activation('relu'),\n",
        "    tf.keras.layers.BatchNormalization(), \n",
        "    \n",
        "    tf.keras.layers.Conv2D(32, (3, 3)),\n",
        "    tf.keras.layers.Activation('relu'),\n",
        "    tf.keras.layers.BatchNormalization(), \n",
        "    \n",
        "    tf.keras.layers.MaxPooling2D(pool_size=(2, 2)),  \n",
        "    \n",
        "    tf.keras.layers.Flatten(), \n",
        "    \n",
        "    tf.keras.layers.Dense(128, activation='relu'),\n",
        "    tf.keras.layers.Dropout(rate = 0.3),\n",
        "    tf.keras.layers.Dense(128, activation='relu'),\n",
        "    tf.keras.layers.Dropout(rate = 0.3),\n",
        "    tf.keras.layers.Dense(64, activation='relu'),\n",
        "    tf.keras.layers.Dropout(rate = 0.15),\n",
        "\n",
        "    tf.keras.layers.Dense(1, activation='sigmoid')\n",
        "    ])\n",
        "\n",
        "model_conv_1.compile(loss = 'binary_crossentropy', optimizer = 'adam', metrics = ['accuracy'])\n"
      ],
      "execution_count": 0,
      "outputs": []
    },
    {
      "cell_type": "code",
      "metadata": {
        "id": "P1EmyxrckZkl",
        "colab_type": "code",
        "outputId": "bc88c678-31a5-426d-89ef-f8535816f7c9",
        "colab": {
          "base_uri": "https://localhost:8080/",
          "height": 1140
        }
      },
      "source": [
        "model_conv_1.summary()"
      ],
      "execution_count": 0,
      "outputs": [
        {
          "output_type": "stream",
          "text": [
            "_________________________________________________________________\n",
            "Layer (type)                 Output Shape              Param #   \n",
            "=================================================================\n",
            "conv2d_21 (Conv2D)           (None, 254, 254, 32)      896       \n",
            "_________________________________________________________________\n",
            "activation_6 (Activation)    (None, 254, 254, 32)      0         \n",
            "_________________________________________________________________\n",
            "batch_normalization_v1_6 (Ba (None, 254, 254, 32)      128       \n",
            "_________________________________________________________________\n",
            "conv2d_22 (Conv2D)           (None, 252, 252, 32)      9248      \n",
            "_________________________________________________________________\n",
            "activation_7 (Activation)    (None, 252, 252, 32)      0         \n",
            "_________________________________________________________________\n",
            "batch_normalization_v1_7 (Ba (None, 252, 252, 32)      128       \n",
            "_________________________________________________________________\n",
            "max_pooling2d_8 (MaxPooling2 (None, 126, 126, 32)      0         \n",
            "_________________________________________________________________\n",
            "conv2d_23 (Conv2D)           (None, 124, 124, 32)      9248      \n",
            "_________________________________________________________________\n",
            "activation_8 (Activation)    (None, 124, 124, 32)      0         \n",
            "_________________________________________________________________\n",
            "batch_normalization_v1_8 (Ba (None, 124, 124, 32)      128       \n",
            "_________________________________________________________________\n",
            "conv2d_24 (Conv2D)           (None, 122, 122, 32)      9248      \n",
            "_________________________________________________________________\n",
            "activation_9 (Activation)    (None, 122, 122, 32)      0         \n",
            "_________________________________________________________________\n",
            "batch_normalization_v1_9 (Ba (None, 122, 122, 32)      128       \n",
            "_________________________________________________________________\n",
            "max_pooling2d_9 (MaxPooling2 (None, 61, 61, 32)        0         \n",
            "_________________________________________________________________\n",
            "conv2d_25 (Conv2D)           (None, 59, 59, 32)        9248      \n",
            "_________________________________________________________________\n",
            "activation_10 (Activation)   (None, 59, 59, 32)        0         \n",
            "_________________________________________________________________\n",
            "batch_normalization_v1_10 (B (None, 59, 59, 32)        128       \n",
            "_________________________________________________________________\n",
            "conv2d_26 (Conv2D)           (None, 57, 57, 32)        9248      \n",
            "_________________________________________________________________\n",
            "activation_11 (Activation)   (None, 57, 57, 32)        0         \n",
            "_________________________________________________________________\n",
            "batch_normalization_v1_11 (B (None, 57, 57, 32)        128       \n",
            "_________________________________________________________________\n",
            "max_pooling2d_10 (MaxPooling (None, 28, 28, 32)        0         \n",
            "_________________________________________________________________\n",
            "flatten_7 (Flatten)          (None, 25088)             0         \n",
            "_________________________________________________________________\n",
            "dense_17 (Dense)             (None, 128)               3211392   \n",
            "_________________________________________________________________\n",
            "dropout_3 (Dropout)          (None, 128)               0         \n",
            "_________________________________________________________________\n",
            "dense_18 (Dense)             (None, 128)               16512     \n",
            "_________________________________________________________________\n",
            "dropout_4 (Dropout)          (None, 128)               0         \n",
            "_________________________________________________________________\n",
            "dense_19 (Dense)             (None, 64)                8256      \n",
            "_________________________________________________________________\n",
            "dropout_5 (Dropout)          (None, 64)                0         \n",
            "_________________________________________________________________\n",
            "dense_20 (Dense)             (None, 1)                 65        \n",
            "=================================================================\n",
            "Total params: 3,284,129\n",
            "Trainable params: 3,283,745\n",
            "Non-trainable params: 384\n",
            "_________________________________________________________________\n"
          ],
          "name": "stdout"
        }
      ]
    },
    {
      "cell_type": "code",
      "metadata": {
        "id": "n3gAMHQZlK-h",
        "colab_type": "code",
        "colab": {}
      },
      "source": [
        "history_conv_1 = model_conv_1.fit_generator(train_generator, validation_data= val_generator, epochs = 100)"
      ],
      "execution_count": 0,
      "outputs": []
    },
    {
      "cell_type": "markdown",
      "metadata": {
        "id": "d5TVoRE8tNea",
        "colab_type": "text"
      },
      "source": [
        "## Even bigger"
      ]
    },
    {
      "cell_type": "code",
      "metadata": {
        "id": "DPJpdD04tQSR",
        "colab_type": "code",
        "colab": {}
      },
      "source": [
        "model_conv_2 = tf.keras.Sequential([\n",
        "    \n",
        "    tf.keras.layers.Conv2D(64, kernel_size=(3,3), input_shape = (60,60,3), padding='same'),\n",
        "    tf.keras.layers.Activation('relu'),\n",
        "    tf.keras.layers.BatchNormalization(),   \n",
        "    \n",
        "    tf.keras.layers.Conv2D(64, (3, 3), padding='same'),\n",
        "    tf.keras.layers.Activation('relu'),\n",
        "    tf.keras.layers.BatchNormalization(), \n",
        "    \n",
        "    tf.keras.layers.MaxPooling2D(pool_size=(2, 2)), \n",
        "    \n",
        "    tf.keras.layers.Conv2D(32, (3, 3), padding='same'),\n",
        "    tf.keras.layers.Activation('relu'),\n",
        "    tf.keras.layers.BatchNormalization(), \n",
        "    \n",
        "    tf.keras.layers.Conv2D(32, (3, 3), padding='same'),\n",
        "    tf.keras.layers.Activation('relu'),\n",
        "    tf.keras.layers.BatchNormalization(), \n",
        "    \n",
        "    tf.keras.layers.MaxPooling2D(pool_size=(2, 2)),  \n",
        "    \n",
        "    tf.keras.layers.Conv2D(32, (3, 3), padding='same'),\n",
        "    tf.keras.layers.Activation('relu'),\n",
        "    tf.keras.layers.BatchNormalization(), \n",
        "    \n",
        "    tf.keras.layers.Conv2D(32, (3, 3), padding='same'),\n",
        "    tf.keras.layers.Activation('relu'),\n",
        "    tf.keras.layers.BatchNormalization(), \n",
        "    \n",
        "    tf.keras.layers.MaxPooling2D(pool_size=(2, 2)),  \n",
        "    \n",
        "    tf.keras.layers.Flatten(), \n",
        "    \n",
        "    tf.keras.layers.Dense(128, activation='relu'),\n",
        "    tf.keras.layers.Dropout(rate = 0.5),\n",
        "    tf.keras.layers.Dense(128, activation='relu'),\n",
        "    tf.keras.layers.Dropout(rate = 0.5),\n",
        "    tf.keras.layers.Dense(64, activation='relu'),\n",
        "    tf.keras.layers.Dropout(rate = 0.25),\n",
        "\n",
        "    tf.keras.layers.Dense(1, activation='sigmoid')\n",
        "    ])\n",
        "\n",
        "model_conv_2.compile(loss = 'binary_crossentropy', optimizer = 'adam', metrics = ['accuracy'])\n"
      ],
      "execution_count": 0,
      "outputs": []
    },
    {
      "cell_type": "code",
      "metadata": {
        "id": "cm7Mz7PTtYn8",
        "colab_type": "code",
        "outputId": "ea315c85-efeb-4bc5-8cb3-8b9490835324",
        "colab": {
          "base_uri": "https://localhost:8080/",
          "height": 3751
        }
      },
      "source": [
        "history_conv_2 = model_conv_1.fit_generator(train_generator, validation_data= val_generator, epochs = 100)"
      ],
      "execution_count": 0,
      "outputs": [
        {
          "output_type": "stream",
          "text": [
            "Epoch 1/100\n",
            "41/41 [==============================] - 1s 22ms/step - loss: 1.3814 - acc: 0.8737\n",
            "256/256 [==============================] - 8s 33ms/step - loss: 0.0269 - acc: 0.9938 - val_loss: 1.3814 - val_acc: 0.8737\n",
            "Epoch 2/100\n",
            "41/41 [==============================] - 1s 21ms/step - loss: 1.8202 - acc: 0.8784\n",
            "256/256 [==============================] - 8s 33ms/step - loss: 0.0123 - acc: 0.9969 - val_loss: 1.8202 - val_acc: 0.8784\n",
            "Epoch 3/100\n",
            "41/41 [==============================] - 1s 25ms/step - loss: 1.8930 - acc: 0.8589\n",
            "256/256 [==============================] - 9s 36ms/step - loss: 0.0174 - acc: 0.9963 - val_loss: 1.8930 - val_acc: 0.8589\n",
            "Epoch 4/100\n",
            "41/41 [==============================] - 1s 21ms/step - loss: 1.1924 - acc: 0.8457\n",
            "256/256 [==============================] - 9s 36ms/step - loss: 0.0467 - acc: 0.9941 - val_loss: 1.1924 - val_acc: 0.8457\n",
            "Epoch 5/100\n",
            "41/41 [==============================] - 1s 21ms/step - loss: 1.9406 - acc: 0.8659\n",
            "256/256 [==============================] - 9s 33ms/step - loss: 0.0162 - acc: 0.9958 - val_loss: 1.9406 - val_acc: 0.8659\n",
            "Epoch 6/100\n",
            "41/41 [==============================] - 1s 21ms/step - loss: 2.0328 - acc: 0.8683\n",
            "256/256 [==============================] - 8s 33ms/step - loss: 0.0057 - acc: 0.9977 - val_loss: 2.0328 - val_acc: 0.8683\n",
            "Epoch 7/100\n",
            "41/41 [==============================] - 1s 21ms/step - loss: 1.9774 - acc: 0.8644\n",
            "256/256 [==============================] - 8s 33ms/step - loss: 0.0245 - acc: 0.9952 - val_loss: 1.9774 - val_acc: 0.8644\n",
            "Epoch 8/100\n",
            "41/41 [==============================] - 1s 21ms/step - loss: 1.9806 - acc: 0.8722\n",
            "256/256 [==============================] - 9s 33ms/step - loss: 0.0068 - acc: 0.9987 - val_loss: 1.9806 - val_acc: 0.8722\n",
            "Epoch 9/100\n",
            "41/41 [==============================] - 1s 20ms/step - loss: 1.7850 - acc: 0.8691\n",
            "256/256 [==============================] - 8s 33ms/step - loss: 0.0191 - acc: 0.9955 - val_loss: 1.7850 - val_acc: 0.8691\n",
            "Epoch 10/100\n",
            "41/41 [==============================] - 1s 21ms/step - loss: 1.9704 - acc: 0.8714\n",
            "256/256 [==============================] - 9s 34ms/step - loss: 0.0042 - acc: 0.9989 - val_loss: 1.9704 - val_acc: 0.8714\n",
            "Epoch 11/100\n",
            "41/41 [==============================] - 1s 21ms/step - loss: 1.7889 - acc: 0.8714\n",
            "256/256 [==============================] - 8s 33ms/step - loss: 0.0015 - acc: 0.9995 - val_loss: 1.7889 - val_acc: 0.8714\n",
            "Epoch 12/100\n",
            "41/41 [==============================] - 1s 25ms/step - loss: 2.0046 - acc: 0.8613\n",
            "256/256 [==============================] - 9s 34ms/step - loss: 0.0040 - acc: 0.9987 - val_loss: 2.0046 - val_acc: 0.8613\n",
            "Epoch 13/100\n",
            "41/41 [==============================] - 1s 21ms/step - loss: 2.0259 - acc: 0.8730\n",
            "256/256 [==============================] - 10s 38ms/step - loss: 0.0043 - acc: 0.9989 - val_loss: 2.0259 - val_acc: 0.8730\n",
            "Epoch 14/100\n",
            "41/41 [==============================] - 1s 21ms/step - loss: 2.0258 - acc: 0.8698\n",
            "256/256 [==============================] - 8s 33ms/step - loss: 6.6150e-04 - acc: 0.9998 - val_loss: 2.0258 - val_acc: 0.8698\n",
            "Epoch 15/100\n",
            "41/41 [==============================] - 1s 21ms/step - loss: 1.5445 - acc: 0.8613\n",
            "256/256 [==============================] - 8s 33ms/step - loss: 0.0266 - acc: 0.9925 - val_loss: 1.5445 - val_acc: 0.8613\n",
            "Epoch 16/100\n",
            "41/41 [==============================] - 1s 21ms/step - loss: 1.9194 - acc: 0.8090\n",
            "256/256 [==============================] - 8s 33ms/step - loss: 0.0092 - acc: 0.9980 - val_loss: 1.9194 - val_acc: 0.8090\n",
            "Epoch 17/100\n",
            "41/41 [==============================] - 1s 23ms/step - loss: 1.1487 - acc: 0.8293\n",
            "256/256 [==============================] - 9s 36ms/step - loss: 0.0465 - acc: 0.9945 - val_loss: 1.1487 - val_acc: 0.8293\n",
            "Epoch 18/100\n",
            "41/41 [==============================] - 1s 21ms/step - loss: 1.9620 - acc: 0.8589\n",
            "256/256 [==============================] - 8s 33ms/step - loss: 0.0146 - acc: 0.9949 - val_loss: 1.9620 - val_acc: 0.8589\n",
            "Epoch 19/100\n",
            "41/41 [==============================] - 1s 21ms/step - loss: 1.7291 - acc: 0.8628\n",
            "256/256 [==============================] - 8s 33ms/step - loss: 0.0264 - acc: 0.9939 - val_loss: 1.7291 - val_acc: 0.8628\n",
            "Epoch 20/100\n",
            "41/41 [==============================] - 1s 21ms/step - loss: 2.0821 - acc: 0.8613\n",
            "256/256 [==============================] - 8s 33ms/step - loss: 0.0068 - acc: 0.9978 - val_loss: 2.0821 - val_acc: 0.8613\n",
            "Epoch 21/100\n",
            "41/41 [==============================] - 1s 21ms/step - loss: 1.9602 - acc: 0.8628\n",
            "256/256 [==============================] - 8s 33ms/step - loss: 0.0056 - acc: 0.9980 - val_loss: 1.9602 - val_acc: 0.8628\n",
            "Epoch 22/100\n",
            "41/41 [==============================] - 1s 25ms/step - loss: 1.9184 - acc: 0.8589\n",
            "256/256 [==============================] - 10s 38ms/step - loss: 0.0478 - acc: 0.9944 - val_loss: 1.9184 - val_acc: 0.8589\n",
            "Epoch 23/100\n",
            "41/41 [==============================] - 1s 22ms/step - loss: 1.8211 - acc: 0.8348\n",
            "256/256 [==============================] - 9s 34ms/step - loss: 0.0129 - acc: 0.9963 - val_loss: 1.8211 - val_acc: 0.8348\n",
            "Epoch 24/100\n",
            "41/41 [==============================] - 1s 25ms/step - loss: 1.8266 - acc: 0.8558\n",
            "256/256 [==============================] - 10s 38ms/step - loss: 0.0095 - acc: 0.9973 - val_loss: 1.8266 - val_acc: 0.8558\n",
            "Epoch 25/100\n",
            "41/41 [==============================] - 1s 21ms/step - loss: 1.9222 - acc: 0.8628\n",
            "256/256 [==============================] - 9s 36ms/step - loss: 0.0030 - acc: 0.9994 - val_loss: 1.9222 - val_acc: 0.8628\n",
            "Epoch 26/100\n",
            "41/41 [==============================] - 1s 21ms/step - loss: 1.8938 - acc: 0.8589\n",
            "256/256 [==============================] - 8s 33ms/step - loss: 0.0050 - acc: 0.9989 - val_loss: 1.8938 - val_acc: 0.8589\n",
            "Epoch 27/100\n",
            "41/41 [==============================] - 1s 20ms/step - loss: 1.8052 - acc: 0.8776\n",
            "256/256 [==============================] - 8s 33ms/step - loss: 0.0355 - acc: 0.9934 - val_loss: 1.8052 - val_acc: 0.8776\n",
            "Epoch 28/100\n",
            "41/41 [==============================] - 1s 21ms/step - loss: 1.9555 - acc: 0.8620\n",
            "256/256 [==============================] - 8s 33ms/step - loss: 0.0070 - acc: 0.9974 - val_loss: 1.9555 - val_acc: 0.8620\n",
            "Epoch 29/100\n",
            "41/41 [==============================] - 1s 21ms/step - loss: 1.9656 - acc: 0.8737\n",
            "256/256 [==============================] - 8s 33ms/step - loss: 0.0026 - acc: 0.9994 - val_loss: 1.9656 - val_acc: 0.8737\n",
            "Epoch 30/100\n",
            "41/41 [==============================] - 1s 21ms/step - loss: 1.8533 - acc: 0.8488\n",
            "256/256 [==============================] - 8s 33ms/step - loss: 0.0099 - acc: 0.9985 - val_loss: 1.8533 - val_acc: 0.8488\n",
            "Epoch 31/100\n",
            "41/41 [==============================] - 1s 25ms/step - loss: 1.9734 - acc: 0.8722\n",
            "256/256 [==============================] - 9s 37ms/step - loss: 0.0057 - acc: 0.9989 - val_loss: 1.9734 - val_acc: 0.8722\n",
            "Epoch 32/100\n",
            "41/41 [==============================] - 1s 21ms/step - loss: 1.8790 - acc: 0.8636\n",
            "256/256 [==============================] - 9s 34ms/step - loss: 0.0312 - acc: 0.9934 - val_loss: 1.8790 - val_acc: 0.8636\n",
            "Epoch 33/100\n",
            "41/41 [==============================] - 1s 21ms/step - loss: 2.0036 - acc: 0.8667\n",
            "256/256 [==============================] - 8s 33ms/step - loss: 8.8543e-04 - acc: 0.9999 - val_loss: 2.0036 - val_acc: 0.8667\n",
            "Epoch 34/100\n",
            "41/41 [==============================] - 1s 22ms/step - loss: 1.9467 - acc: 0.8511\n",
            "256/256 [==============================] - 8s 33ms/step - loss: 0.0084 - acc: 0.9983 - val_loss: 1.9467 - val_acc: 0.8511\n",
            "Epoch 35/100\n",
            "41/41 [==============================] - 1s 21ms/step - loss: 1.9283 - acc: 0.8745\n",
            "256/256 [==============================] - 8s 33ms/step - loss: 0.0040 - acc: 0.9988 - val_loss: 1.9283 - val_acc: 0.8745\n",
            "Epoch 36/100\n",
            "41/41 [==============================] - 1s 21ms/step - loss: 5.0901 - acc: 0.4248\n",
            "256/256 [==============================] - 8s 33ms/step - loss: 0.0383 - acc: 0.9966 - val_loss: 5.0901 - val_acc: 0.4248\n",
            "Epoch 37/100\n",
            "41/41 [==============================] - 1s 21ms/step - loss: 1.8607 - acc: 0.8730\n",
            "256/256 [==============================] - 8s 33ms/step - loss: 0.0193 - acc: 0.9942 - val_loss: 1.8607 - val_acc: 0.8730\n",
            "Epoch 38/100\n",
            "41/41 [==============================] - 1s 21ms/step - loss: 1.9645 - acc: 0.8652\n",
            "256/256 [==============================] - 8s 32ms/step - loss: 0.0061 - acc: 0.9979 - val_loss: 1.9645 - val_acc: 0.8652\n",
            "Epoch 39/100\n",
            "41/41 [==============================] - 1s 21ms/step - loss: 1.8911 - acc: 0.8753\n",
            "256/256 [==============================] - 8s 33ms/step - loss: 0.0055 - acc: 0.9987 - val_loss: 1.8911 - val_acc: 0.8753\n",
            "Epoch 40/100\n",
            "41/41 [==============================] - 1s 25ms/step - loss: 2.0292 - acc: 0.8667\n",
            "256/256 [==============================] - 9s 35ms/step - loss: 0.0152 - acc: 0.9967 - val_loss: 2.0292 - val_acc: 0.8667\n",
            "Epoch 41/100\n",
            "41/41 [==============================] - 1s 21ms/step - loss: 1.8041 - acc: 0.8636\n",
            "256/256 [==============================] - 9s 36ms/step - loss: 0.0061 - acc: 0.9975 - val_loss: 1.8041 - val_acc: 0.8636\n",
            "Epoch 42/100\n",
            "41/41 [==============================] - 1s 21ms/step - loss: 2.0671 - acc: 0.8628\n",
            "256/256 [==============================] - 8s 33ms/step - loss: 0.0042 - acc: 0.9990 - val_loss: 2.0671 - val_acc: 0.8628\n",
            "Epoch 43/100\n",
            "41/41 [==============================] - 1s 21ms/step - loss: 1.9888 - acc: 0.8628\n",
            "256/256 [==============================] - 8s 33ms/step - loss: 0.0068 - acc: 0.9989 - val_loss: 1.9888 - val_acc: 0.8628\n",
            "Epoch 44/100\n",
            "41/41 [==============================] - 1s 21ms/step - loss: 1.9430 - acc: 0.8472\n",
            "256/256 [==============================] - 8s 33ms/step - loss: 0.0059 - acc: 0.9979 - val_loss: 1.9430 - val_acc: 0.8472\n",
            "Epoch 45/100\n",
            "41/41 [==============================] - 1s 21ms/step - loss: 1.6402 - acc: 0.8667\n",
            "256/256 [==============================] - 8s 33ms/step - loss: 0.0019 - acc: 0.9993 - val_loss: 1.6402 - val_acc: 0.8667\n",
            "Epoch 46/100\n",
            "41/41 [==============================] - 1s 21ms/step - loss: 1.9500 - acc: 0.8597\n",
            "256/256 [==============================] - 8s 32ms/step - loss: 0.0047 - acc: 0.9993 - val_loss: 1.9500 - val_acc: 0.8597\n",
            "Epoch 47/100\n",
            "41/41 [==============================] - 1s 21ms/step - loss: 1.9622 - acc: 0.8613\n",
            "256/256 [==============================] - 8s 33ms/step - loss: 0.0382 - acc: 0.9941 - val_loss: 1.9622 - val_acc: 0.8613\n",
            "Epoch 48/100\n",
            "41/41 [==============================] - 1s 21ms/step - loss: 1.9500 - acc: 0.8652\n",
            "256/256 [==============================] - 8s 33ms/step - loss: 0.0053 - acc: 0.9982 - val_loss: 1.9500 - val_acc: 0.8652\n",
            "Epoch 49/100\n",
            "41/41 [==============================] - 1s 21ms/step - loss: 2.1416 - acc: 0.8535\n",
            "256/256 [==============================] - 8s 33ms/step - loss: 0.0044 - acc: 0.9991 - val_loss: 2.1416 - val_acc: 0.8535\n",
            "Epoch 50/100\n",
            "41/41 [==============================] - 1s 25ms/step - loss: 1.9831 - acc: 0.8691\n",
            "256/256 [==============================] - 10s 38ms/step - loss: 0.0026 - acc: 0.9993 - val_loss: 1.9831 - val_acc: 0.8691\n",
            "Epoch 51/100\n",
            "41/41 [==============================] - 1s 21ms/step - loss: 1.9985 - acc: 0.8745\n",
            "256/256 [==============================] - 9s 33ms/step - loss: 0.0019 - acc: 0.9993 - val_loss: 1.9985 - val_acc: 0.8745\n",
            "Epoch 52/100\n",
            "41/41 [==============================] - 1s 25ms/step - loss: 2.2096 - acc: 0.8465\n",
            "256/256 [==============================] - 9s 34ms/step - loss: 0.0043 - acc: 0.9989 - val_loss: 2.2096 - val_acc: 0.8465\n",
            "Epoch 53/100\n",
            "41/41 [==============================] - 1s 21ms/step - loss: 2.0370 - acc: 0.8558\n",
            "256/256 [==============================] - 9s 35ms/step - loss: 0.0031 - acc: 0.9987 - val_loss: 2.0370 - val_acc: 0.8558\n",
            "Epoch 54/100\n",
            "41/41 [==============================] - 1s 21ms/step - loss: 1.9505 - acc: 0.8488\n",
            "256/256 [==============================] - 8s 33ms/step - loss: 0.0131 - acc: 0.9963 - val_loss: 1.9505 - val_acc: 0.8488\n",
            "Epoch 55/100\n",
            "41/41 [==============================] - 1s 21ms/step - loss: 2.0516 - acc: 0.8628\n",
            "256/256 [==============================] - 8s 33ms/step - loss: 0.0322 - acc: 0.9993 - val_loss: 2.0516 - val_acc: 0.8628\n",
            "Epoch 56/100\n",
            "41/41 [==============================] - 1s 21ms/step - loss: 1.5779 - acc: 0.8730\n",
            "256/256 [==============================] - 8s 33ms/step - loss: 0.0331 - acc: 0.9920 - val_loss: 1.5779 - val_acc: 0.8730\n",
            "Epoch 57/100\n",
            "41/41 [==============================] - 1s 21ms/step - loss: 1.9733 - acc: 0.8675\n",
            "256/256 [==============================] - 8s 33ms/step - loss: 0.0025 - acc: 0.9990 - val_loss: 1.9733 - val_acc: 0.8675\n",
            "Epoch 58/100\n",
            "41/41 [==============================] - 1s 21ms/step - loss: 1.7805 - acc: 0.8737\n",
            "256/256 [==============================] - 8s 33ms/step - loss: 0.0087 - acc: 0.9978 - val_loss: 1.7805 - val_acc: 0.8737\n",
            "Epoch 59/100\n",
            "41/41 [==============================] - 1s 25ms/step - loss: 1.6589 - acc: 0.8667\n",
            "256/256 [==============================] - 9s 36ms/step - loss: 0.0029 - acc: 0.9993 - val_loss: 1.6589 - val_acc: 0.8667\n",
            "Epoch 60/100\n",
            "41/41 [==============================] - 1s 25ms/step - loss: 1.6406 - acc: 0.8698\n",
            "256/256 [==============================] - 10s 39ms/step - loss: 0.0049 - acc: 0.9987 - val_loss: 1.6406 - val_acc: 0.8698\n",
            "Epoch 61/100\n",
            "41/41 [==============================] - 1s 21ms/step - loss: 1.9171 - acc: 0.8753\n",
            "256/256 [==============================] - 9s 36ms/step - loss: 0.0031 - acc: 0.9993 - val_loss: 1.9171 - val_acc: 0.8753\n",
            "Epoch 62/100\n",
            "41/41 [==============================] - 1s 21ms/step - loss: 1.5895 - acc: 0.8613\n",
            "256/256 [==============================] - 8s 33ms/step - loss: 0.0145 - acc: 0.9963 - val_loss: 1.5895 - val_acc: 0.8613\n",
            "Epoch 63/100\n",
            "41/41 [==============================] - 1s 21ms/step - loss: 1.8754 - acc: 0.8644\n",
            "256/256 [==============================] - 8s 33ms/step - loss: 0.0213 - acc: 0.9944 - val_loss: 1.8754 - val_acc: 0.8644\n",
            "Epoch 64/100\n",
            "41/41 [==============================] - 1s 21ms/step - loss: 1.9322 - acc: 0.8644\n",
            "256/256 [==============================] - 8s 33ms/step - loss: 0.0078 - acc: 0.9987 - val_loss: 1.9322 - val_acc: 0.8644\n",
            "Epoch 65/100\n",
            "41/41 [==============================] - 1s 21ms/step - loss: 1.9987 - acc: 0.8675\n",
            "256/256 [==============================] - 8s 33ms/step - loss: 0.0023 - acc: 0.9993 - val_loss: 1.9987 - val_acc: 0.8675\n",
            "Epoch 66/100\n",
            "41/41 [==============================] - 1s 21ms/step - loss: 1.2628 - acc: 0.8496\n",
            "256/256 [==============================] - 8s 33ms/step - loss: 0.0362 - acc: 0.9922 - val_loss: 1.2628 - val_acc: 0.8496\n",
            "Epoch 67/100\n",
            "41/41 [==============================] - 1s 21ms/step - loss: 1.9791 - acc: 0.8698\n",
            "256/256 [==============================] - 8s 33ms/step - loss: 0.0141 - acc: 0.9956 - val_loss: 1.9791 - val_acc: 0.8698\n",
            "Epoch 68/100\n",
            "41/41 [==============================] - 1s 25ms/step - loss: 1.2802 - acc: 0.8613\n",
            "256/256 [==============================] - 9s 35ms/step - loss: 0.0158 - acc: 0.9963 - val_loss: 1.2802 - val_acc: 0.8613\n",
            "Epoch 69/100\n",
            "41/41 [==============================] - 1s 21ms/step - loss: 1.7735 - acc: 0.8652\n",
            "256/256 [==============================] - 9s 36ms/step - loss: 0.0083 - acc: 0.9978 - val_loss: 1.7735 - val_acc: 0.8652\n",
            "Epoch 70/100\n",
            "41/41 [==============================] - 1s 21ms/step - loss: 1.6004 - acc: 0.8706\n",
            "256/256 [==============================] - 10s 39ms/step - loss: 0.0565 - acc: 0.9931 - val_loss: 1.6004 - val_acc: 0.8706\n",
            "Epoch 71/100\n",
            "41/41 [==============================] - 1s 22ms/step - loss: 1.8566 - acc: 0.8675\n",
            "256/256 [==============================] - 9s 33ms/step - loss: 0.0066 - acc: 0.9983 - val_loss: 1.8566 - val_acc: 0.8675\n",
            "Epoch 72/100\n",
            "143/256 [===============>..............] - ETA: 3s - loss: 0.0053 - acc: 0.9980"
          ],
          "name": "stdout"
        }
      ]
    },
    {
      "cell_type": "markdown",
      "metadata": {
        "id": "QL44m4ObiLH-",
        "colab_type": "text"
      },
      "source": [
        "## Model with residual connections"
      ]
    },
    {
      "cell_type": "code",
      "metadata": {
        "id": "0oy889cAiNMe",
        "colab_type": "code",
        "colab": {}
      },
      "source": [
        "inputs = tf.keras.layers.Input(shape=(28,28,1))\n",
        "\n",
        "conv1_1 = tf.keras.layers.Conv2D(32, (3,3), activation='relu', padding = 'same')(inputs)\n",
        "conv1_2 = tf.keras.layers.Conv2D(32, (3, 3), activation='relu', padding='same')(conv1_1)\n",
        "maxpool1 = tf.keras.layers.MaxPooling2D(pool_size=(2, 2))(conv1_2)\n",
        "\n",
        "\n",
        "conv2_1 = tf.keras.layers.Conv2D(32, (3, 3), activation='relu', padding='same')(maxpool1)\n",
        "conv2_2 = tf.keras.layers.Conv2D(32, (3, 3), activation='relu', padding='same')(conv2_1)\n",
        "skip2 = tf.keras.layers.add([maxpool1, conv2_2])\n",
        "maxpool2 = tf.keras.layers.MaxPooling2D(pool_size=(2, 2))(skip2)\n",
        "\n",
        "conv3_1 = tf.keras.layers.Conv2D(32, (3, 3), activation='relu', padding='same')(maxpool2)\n",
        "conv3_2 = tf.keras.layers.Conv2D(32, (3, 3), activation='relu', padding='same')(conv3_1)\n",
        "skip3 = tf.keras.layers.add([maxpool2, conv3_2])\n",
        "maxpool3 = tf.keras.layers.MaxPooling2D(pool_size=(2, 2))(skip3)\n",
        "\n",
        "\n",
        "flat = tf.keras.layers.Flatten()(maxpool3)\n",
        "dense = tf.keras.layers.Dense(64, activation='relu')(flat)\n",
        "predictions = tf.keras.layers.Dense(10, activation='softmax')(dense)\n",
        "\n",
        "model_skip = tf.keras.models.Model(inputs=inputs, outputs=predictions)\n",
        "\n",
        "model_skip.compile(loss = 'sparse_categorical_crossentropy', optimizer = 'adam', metrics= ['accuracy'])\n",
        "\n"
      ],
      "execution_count": 0,
      "outputs": []
    },
    {
      "cell_type": "markdown",
      "metadata": {
        "id": "1I5DqwD5Fwaq",
        "colab_type": "text"
      },
      "source": [
        "## Much bigger with residual connections"
      ]
    },
    {
      "cell_type": "code",
      "metadata": {
        "id": "cOBkyb9bFzxF",
        "colab_type": "code",
        "colab": {}
      },
      "source": [
        "inputs = Input(shape=(256, 256, 1))\n",
        "\n",
        "x1 = Conv2D(32, (3, 3), activation='relu', padding='same')(inputs)\n",
        "x1 = Conv2D(32, (3, 3), activation='relu', padding='same')(x1)\n",
        "x1 = Conv2D(32, (3, 3), activation='relu', padding='same')(x1)\n",
        "x1 = Conv2D(32, (3, 3), activation='relu', padding='same')(x1)\n",
        "x1 = Conv2D(32, (3, 3), activation='relu', padding='same')(x1)\n",
        "maxpool1 = MaxPooling2D(pool_size=(2, 2))(x1)\n",
        "\n",
        "x2 = Conv2D(32, (3, 3), activation='relu', padding='same')(maxpool1)\n",
        "x2 = Conv2D(32, (3, 3), activation='relu', padding='same')(x2)\n",
        "x2 = Conv2D(32, (3, 3), activation='relu', padding='same')(x2)\n",
        "x2 = Conv2D(32, (3, 3), activation='relu', padding='same')(x2)\n",
        "x2 = Conv2D(32, (3, 3), activation='relu', padding='same')(x2)\n",
        "\n",
        "\n",
        "x2 = Conv2D(32, (3, 3), activation='relu', padding='same')(x2)\n",
        "x2 = Conv2D(32, (3, 3), activation='relu', padding='same')(x2)\n",
        "x2 = Conv2D(32, (3, 3), activation='relu', padding='same')(x2)\n",
        "x2 = Conv2D(32, (3, 3), activation='relu', padding='same')(x2)\n",
        "x2 = Conv2D(32, (3, 3), activation='relu', padding='same')(x2)\n",
        "\n",
        "\n",
        "x2 = Conv2D(32, (3, 3), activation='relu', padding='same')(x2)\n",
        "x2 = Conv2D(32, (3, 3), activation='relu', padding='same')(x2)\n",
        "x2 = Conv2D(32, (3, 3), activation='relu', padding='same')(x2)\n",
        "x2 = Conv2D(32, (3, 3), activation='relu', padding='same')(x2)\n",
        "x2 = Conv2D(32, (3, 3), activation='relu', padding='same')(x2)\n",
        "skip2 = add([maxpool1, x2])\n",
        "maxpool2 = MaxPooling2D(pool_size=(2, 2))(skip2)\n",
        "\n",
        "x3 = Conv2D(32, (3, 3), activation='relu', padding='same')(maxpool2)\n",
        "x3 = Conv2D(32, (3, 3), activation='relu', padding='same')(x3)\n",
        "x3 = Conv2D(32, (3, 3), activation='relu', padding='same')(x3)\n",
        "x3 = Conv2D(32, (3, 3), activation='relu', padding='same')(x3)\n",
        "x3 = Conv2D(32, (3, 3), activation='relu', padding='same')(x3)\n",
        "\n",
        "x3 = Conv2D(32, (3, 3), activation='relu', padding='same')(x3)\n",
        "x3 = Conv2D(32, (3, 3), activation='relu', padding='same')(x3)\n",
        "x3 = Conv2D(32, (3, 3), activation='relu', padding='same')(x3)\n",
        "x3 = Conv2D(32, (3, 3), activation='relu', padding='same')(x3)\n",
        "x3 = Conv2D(32, (3, 3), activation='relu', padding='same')(x3)\n",
        "\n",
        "x3 = Conv2D(32, (3, 3), activation='relu', padding='same')(x3)\n",
        "x3 = Conv2D(32, (3, 3), activation='relu', padding='same')(x3)\n",
        "x3 = Conv2D(32, (3, 3), activation='relu', padding='same')(x3)\n",
        "x3 = Conv2D(32, (3, 3), activation='relu', padding='same')(x3)\n",
        "x3 = Conv2D(32, (3, 3), activation='relu', padding='same')(x3)\n",
        "skip3 = add([maxpool2, x3])\n",
        "maxpool3 = MaxPooling2D(pool_size=(2, 2))(skip3)\n",
        "\n",
        "x4 = Conv2D(32, (3, 3), activation='relu', padding='same')(maxpool3)\n",
        "x4 = Conv2D(32, (3, 3), activation='relu', padding='same')(x4)\n",
        "x4 = Conv2D(32, (3, 3), activation='relu', padding='same')(x4)\n",
        "x4 = Conv2D(32, (3, 3), activation='relu', padding='same')(x4)\n",
        "x4 = Conv2D(32, (3, 3), activation='relu', padding='same')(x4)\n",
        "\n",
        "x4 = Conv2D(32, (3, 3), activation='relu', padding='same')(x4)\n",
        "x4 = Conv2D(32, (3, 3), activation='relu', padding='same')(x4)\n",
        "x4 = Conv2D(32, (3, 3), activation='relu', padding='same')(x4)\n",
        "x4 = Conv2D(32, (3, 3), activation='relu', padding='same')(x4)\n",
        "x4 = Conv2D(32, (3, 3), activation='relu', padding='same')(x4)\n",
        "\n",
        "x4 = Conv2D(32, (3, 3), activation='relu', padding='same')(x4)\n",
        "x4 = Conv2D(32, (3, 3), activation='relu', padding='same')(x4)\n",
        "x4 = Conv2D(32, (3, 3), activation='relu', padding='same')(x4)\n",
        "x4 = Conv2D(32, (3, 3), activation='relu', padding='same')(x4)\n",
        "x4 = Conv2D(32, (3, 3), activation='relu', padding='same')(x4)\n",
        "skip4 = add([maxpool3, x4])\n",
        "maxpool4 = MaxPooling2D(pool_size=(2, 2))(skip4)\n",
        "\n",
        "flat = Flatten()(maxpool4)\n",
        "dense = Dense(128, activation='relu')(flat)\n",
        "dense = Dense(64, activation='relu')(dense)\n",
        "predictions = Dense(1, activation='sigmoid')(dense)\n",
        "\n",
        "model_skip = Model(inputs=inputs, outputs=predictions)\n",
        "\n",
        "model_skip.compile(loss = 'sparse_categorical_crossentropy', optimizer = 'adam', metrics= ['accuracy'])\n"
      ],
      "execution_count": 0,
      "outputs": []
    },
    {
      "cell_type": "markdown",
      "metadata": {
        "id": "cr9rrG238vzr",
        "colab_type": "text"
      },
      "source": [
        "## Model with multiple inputs"
      ]
    },
    {
      "cell_type": "code",
      "metadata": {
        "id": "cdLODZrb-ova",
        "colab_type": "code",
        "colab": {}
      },
      "source": [
        "from tensorflow.keras.layers import Input, Dense, concatenate, Conv2D\n",
        "from tensorflow.keras.models import Model"
      ],
      "execution_count": 0,
      "outputs": []
    },
    {
      "cell_type": "code",
      "metadata": {
        "id": "of3_eDKNmCqv",
        "colab_type": "code",
        "colab": {}
      },
      "source": [
        "# define two sets of inputs\n",
        "zoom_1 = Input(shape=(256,256,1))\n",
        "zoom_2 = Input(shape=(256,256,1))\n",
        " \n",
        "# process zoom level 1 patch\n",
        "conv_1 = Conv2D(32, (3,3), padding = 'same', activation=\"relu\")(zoom_1)\n",
        "conv_1 = Conv2D(32, (3,3), padding = 'same', activation=\"relu\")(conv_1)\n",
        "conv_1 = Model(inputs=zoom_1, outputs=conv_1)\n",
        " \n",
        "# process zoom level 2 patch\n",
        "conv_2 = Conv2D(32, (3,3), padding = 'same', activation=\"relu\")(zoom_2)\n",
        "conv_2 = Conv2D(32, (3,3), padding = 'same', activation=\"relu\")(conv_2)\n",
        "conv_2 = Conv2D(32, (3,3), padding = 'same', activation=\"relu\")(conv_2)\n",
        "conv_2 = Model(inputs=zoom_2, outputs=conv_2)\n",
        " \n",
        "# combine output of convolutional layers\n",
        "combined = concatenate([conv_1.output, conv_2.output])\n",
        " \n",
        "# fully connected layer after combined outputs\n",
        "z = Dense(2, activation=\"relu\")(combined)\n",
        "z = Dense(1, activation=\"linear\")(z)\n",
        " \n",
        "# instantiate model\n",
        "model = Model(inputs=[conv_1.input, conv_2.input], outputs=z)"
      ],
      "execution_count": 0,
      "outputs": []
    },
    {
      "cell_type": "code",
      "metadata": {
        "id": "GPqZrBnamb8-",
        "colab_type": "code",
        "outputId": "843e4788-3030-42e0-8968-cf6be3a15444",
        "colab": {
          "base_uri": "https://localhost:8080/",
          "height": 493
        }
      },
      "source": [
        "model.summary()"
      ],
      "execution_count": 0,
      "outputs": [
        {
          "output_type": "stream",
          "text": [
            "__________________________________________________________________________________________________\n",
            "Layer (type)                    Output Shape         Param #     Connected to                     \n",
            "==================================================================================================\n",
            "input_24 (InputLayer)           (None, 256, 256, 1)  0                                            \n",
            "__________________________________________________________________________________________________\n",
            "input_23 (InputLayer)           (None, 256, 256, 1)  0                                            \n",
            "__________________________________________________________________________________________________\n",
            "conv2d_11 (Conv2D)              (None, 256, 256, 32) 320         input_24[0][0]                   \n",
            "__________________________________________________________________________________________________\n",
            "conv2d_9 (Conv2D)               (None, 256, 256, 32) 320         input_23[0][0]                   \n",
            "__________________________________________________________________________________________________\n",
            "conv2d_12 (Conv2D)              (None, 256, 256, 32) 9248        conv2d_11[0][0]                  \n",
            "__________________________________________________________________________________________________\n",
            "conv2d_10 (Conv2D)              (None, 256, 256, 32) 9248        conv2d_9[0][0]                   \n",
            "__________________________________________________________________________________________________\n",
            "conv2d_13 (Conv2D)              (None, 256, 256, 32) 9248        conv2d_12[0][0]                  \n",
            "__________________________________________________________________________________________________\n",
            "concatenate_6 (Concatenate)     (None, 256, 256, 64) 0           conv2d_10[0][0]                  \n",
            "                                                                 conv2d_13[0][0]                  \n",
            "__________________________________________________________________________________________________\n",
            "dense_40 (Dense)                (None, 256, 256, 2)  130         concatenate_6[0][0]              \n",
            "__________________________________________________________________________________________________\n",
            "dense_41 (Dense)                (None, 256, 256, 1)  3           dense_40[0][0]                   \n",
            "==================================================================================================\n",
            "Total params: 28,517\n",
            "Trainable params: 28,517\n",
            "Non-trainable params: 0\n",
            "__________________________________________________________________________________________________\n"
          ],
          "name": "stdout"
        }
      ]
    },
    {
      "cell_type": "code",
      "metadata": {
        "id": "9C-Gmkc9BVgH",
        "colab_type": "code",
        "colab": {}
      },
      "source": [
        "import pydot\n",
        "import graphviz\n",
        "import matplotlib.image as mpimg\n",
        "import matplotlib.pyplot as plt"
      ],
      "execution_count": 0,
      "outputs": []
    },
    {
      "cell_type": "code",
      "metadata": {
        "id": "-dGwOSme-n5h",
        "colab_type": "code",
        "outputId": "0a5aef2e-5530-4260-e4c2-b8be3191bcfc",
        "colab": {
          "base_uri": "https://localhost:8080/",
          "height": 1117
        }
      },
      "source": [
        "\n",
        "\n",
        "image_path = 'model.png'\n",
        "keras.utils.plot_model(model, \n",
        "                       show_shapes=True,\n",
        "                       to_file=image_path)\n",
        "\n",
        "plt.figure(dpi=300)\n",
        "imgplot = plt.imshow(mpimg.imread(image_path))\n",
        "plt.axis('off')\n",
        "plt.title('Basic Architecture of Multiple Input Model')\n",
        "plt.show()"
      ],
      "execution_count": 0,
      "outputs": [
        {
          "output_type": "display_data",
          "data": {
            "image/png": "[encoded data removed]",
            "text/plain": [
              "<Figure size 1800x1200 with 1 Axes>"
            ]
          },
          "metadata": {
            "tags": []
          }
        }
      ]
    },
    {
      "cell_type": "code",
      "metadata": {
        "id": "LC3Yu8gsAFe9",
        "colab_type": "code",
        "colab": {}
      },
      "source": [
        ""
      ],
      "execution_count": 0,
      "outputs": []
    }
  ]
}