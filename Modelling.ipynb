{
  "nbformat": 4,
  "nbformat_minor": 0,
  "metadata": {
    "colab": {
      "name": "Modelling.ipynb",
      "version": "0.3.2",
      "provenance": [],
      "collapsed_sections": [],
      "include_colab_link": true
    },
    "kernelspec": {
      "name": "python3",
      "display_name": "Python 3"
    },
    "accelerator": "GPU"
  },
  "cells": [
    {
      "cell_type": "markdown",
      "metadata": {
        "id": "view-in-github",
        "colab_type": "text"
      },
      "source": [
        "<a href=\"https://colab.research.google.com/github/lazysjb/camelyon16/blob/master/Modelling.ipynb\" target=\"_parent\"><img src=\"https://colab.research.google.com/assets/colab-badge.svg\" alt=\"Open In Colab\"/></a>"
      ]
    },
    {
      "metadata": {
        "id": "fFCVwD_Uhj6D",
        "colab_type": "text"
      },
      "cell_type": "markdown",
      "source": [
        "# Modelling "
      ]
    },
    {
      "metadata": {
        "id": "0kQSxNyDhpKu",
        "colab_type": "text"
      },
      "cell_type": "markdown",
      "source": [
        "## Get Moduels and Data"
      ]
    },
    {
      "metadata": {
        "id": "vAPWhepvn180",
        "colab_type": "code",
        "outputId": "205ca56d-43b2-4cdb-dc89-ad03ca8fb05a",
        "colab": {
          "base_uri": "https://localhost:8080/",
          "height": 35
        }
      },
      "cell_type": "code",
      "source": [
        "# install tensorflow \n",
        "#!pip install tensorflow\n",
        "#!pip install Keras --upgrade\n",
        "\n"
      ],
      "execution_count": 6,
      "outputs": [
        {
          "output_type": "stream",
          "text": [
            "/bin/bash: Keras: command not found\n"
          ],
          "name": "stdout"
        }
      ]
    },
    {
      "metadata": {
        "id": "4iKAidrlfYSw",
        "colab_type": "code",
        "colab": {
          "base_uri": "https://localhost:8080/",
          "height": 35
        },
        "outputId": "ec54ddd1-4eeb-4a1c-9ffe-5c27063e40ad"
      },
      "cell_type": "code",
      "source": [
        "# import libraries\n",
        "from google.colab import drive\n",
        "import os\n",
        "import keras\n",
        "import zipfile\n",
        "import pandas as pd\n",
        "import tensorflow as tf\n",
        "import matplotlib.pyplot as plt"
      ],
      "execution_count": 8,
      "outputs": [
        {
          "output_type": "stream",
          "text": [
            "Using TensorFlow backend.\n"
          ],
          "name": "stderr"
        }
      ]
    },
    {
      "metadata": {
        "id": "w0Wku3kufenz",
        "colab_type": "code",
        "outputId": "3d0f66f7-a3bc-47be-de7f-3d7df8379531",
        "colab": {
          "base_uri": "https://localhost:8080/",
          "height": 124
        }
      },
      "cell_type": "code",
      "source": [
        "# mount drive\n",
        "drive.mount('/content/gdrive')"
      ],
      "execution_count": 9,
      "outputs": [
        {
          "output_type": "stream",
          "text": [
            "Go to this URL in a browser: https://accounts.google.com/o/oauth2/auth?client_id=947318989803-6bn6qk8qdgf4n4g3pfee6491hc0brc4i.apps.googleusercontent.com&redirect_uri=urn%3Aietf%3Awg%3Aoauth%3A2.0%3Aoob&scope=email%20https%3A%2F%2Fwww.googleapis.com%2Fauth%2Fdocs.test%20https%3A%2F%2Fwww.googleapis.com%2Fauth%2Fdrive%20https%3A%2F%2Fwww.googleapis.com%2Fauth%2Fdrive.photos.readonly%20https%3A%2F%2Fwww.googleapis.com%2Fauth%2Fpeopleapi.readonly&response_type=code\n",
            "\n",
            "Enter your authorization code:\n",
            "··········\n",
            "Mounted at /content/gdrive\n"
          ],
          "name": "stdout"
        }
      ]
    },
    {
      "metadata": {
        "id": "4j5h8RLMgAtJ",
        "colab_type": "code",
        "outputId": "ec3ad1fb-8e9a-4477-e000-d58997550fd3",
        "colab": {
          "base_uri": "https://localhost:8080/",
          "height": 173
        }
      },
      "cell_type": "code",
      "source": [
        "# working directory\n",
        "path = 'gdrive/My Drive/STUDY/Columbia/Term 2/Applied Deep Learning/Project/Final Training Data/shared_files'\n",
        "os.listdir(path)\n"
      ],
      "execution_count": 10,
      "outputs": [
        {
          "output_type": "execute_result",
          "data": {
            "text/plain": [
              "['train_val_test_split.json',\n",
              " 'tumor_img_meta_info.json',\n",
              " 'zoom_5_60_60_partition.zip',\n",
              " 'zoom_5_60_60_partition',\n",
              " 'zoom_2_200_200_partition.zip',\n",
              " 'bounding_boxes',\n",
              " 'all_info_0.4_grayscale_tol_with_roi.json',\n",
              " 'zoom_1_256_256_partition.zip',\n",
              " 'zoom_1_256_256_partition_truncated.zip']"
            ]
          },
          "metadata": {
            "tags": []
          },
          "execution_count": 10
        }
      ]
    },
    {
      "metadata": {
        "id": "ToY97xsAgk5U",
        "colab_type": "code",
        "colab": {}
      },
      "cell_type": "code",
      "source": [
        "# unzip data folders to root dir\n",
        "zf = zipfile.ZipFile(os.path.join(path, 'zoom_5_60_60_partition.zip'))\n",
        "zf.extractall()\n"
      ],
      "execution_count": 0,
      "outputs": []
    },
    {
      "metadata": {
        "id": "bIx7pQ2Ek_e1",
        "colab_type": "text"
      },
      "cell_type": "markdown",
      "source": [
        "## Preprocess Data"
      ]
    },
    {
      "metadata": {
        "id": "MhFe4OfTjpG8",
        "colab_type": "code",
        "outputId": "5af2c9aa-73bf-4296-95e3-6d93305a2bbe",
        "colab": {
          "base_uri": "https://localhost:8080/",
          "height": 35
        }
      },
      "cell_type": "code",
      "source": [
        "!ls zoom_5_60_60_partition/train"
      ],
      "execution_count": 12,
      "outputs": [
        {
          "output_type": "stream",
          "text": [
            "mask  slide\n"
          ],
          "name": "stdout"
        }
      ]
    },
    {
      "metadata": {
        "id": "zhg1hQw8lRkH",
        "colab_type": "code",
        "outputId": "8e07de25-0bae-47ac-9ccf-0127e0f3221b",
        "colab": {
          "base_uri": "https://localhost:8080/",
          "height": 198
        }
      },
      "cell_type": "code",
      "source": [
        "# get metadata\n",
        "df_meta_greyscale = pd.read_json('zoom_5_60_60_partition/meta/all_info_0.4_grayscale_tol.json')\n",
        "df_meta_greyscale.head()"
      ],
      "execution_count": 13,
      "outputs": [
        {
          "output_type": "execute_result",
          "data": {
            "text/html": [
              "<div>\n",
              "<style scoped>\n",
              "    .dataframe tbody tr th:only-of-type {\n",
              "        vertical-align: middle;\n",
              "    }\n",
              "\n",
              "    .dataframe tbody tr th {\n",
              "        vertical-align: top;\n",
              "    }\n",
              "\n",
              "    .dataframe thead th {\n",
              "        text-align: right;\n",
              "    }\n",
              "</style>\n",
              "<table border=\"1\" class=\"dataframe\">\n",
              "  <thead>\n",
              "    <tr style=\"text-align: right;\">\n",
              "      <th></th>\n",
              "      <th>file_name</th>\n",
              "      <th>img_id</th>\n",
              "      <th>include</th>\n",
              "      <th>label</th>\n",
              "      <th>non_gray_ratio</th>\n",
              "      <th>type</th>\n",
              "    </tr>\n",
              "  </thead>\n",
              "  <tbody>\n",
              "    <tr>\n",
              "      <th>0</th>\n",
              "      <td>tumor_slide_001_split_25_26.png</td>\n",
              "      <td>1</td>\n",
              "      <td>0</td>\n",
              "      <td>0</td>\n",
              "      <td>0.000000</td>\n",
              "      <td>val</td>\n",
              "    </tr>\n",
              "    <tr>\n",
              "      <th>1</th>\n",
              "      <td>tumor_slide_001_split_25_32.png</td>\n",
              "      <td>1</td>\n",
              "      <td>0</td>\n",
              "      <td>0</td>\n",
              "      <td>0.000000</td>\n",
              "      <td>val</td>\n",
              "    </tr>\n",
              "    <tr>\n",
              "      <th>2</th>\n",
              "      <td>tumor_slide_001_split_77_12.png</td>\n",
              "      <td>1</td>\n",
              "      <td>0</td>\n",
              "      <td>0</td>\n",
              "      <td>0.043333</td>\n",
              "      <td>val</td>\n",
              "    </tr>\n",
              "    <tr>\n",
              "      <th>3</th>\n",
              "      <td>tumor_slide_001_split_31_47.png</td>\n",
              "      <td>1</td>\n",
              "      <td>0</td>\n",
              "      <td>0</td>\n",
              "      <td>0.000556</td>\n",
              "      <td>val</td>\n",
              "    </tr>\n",
              "    <tr>\n",
              "      <th>4</th>\n",
              "      <td>tumor_slide_001_split_79_17.png</td>\n",
              "      <td>1</td>\n",
              "      <td>0</td>\n",
              "      <td>0</td>\n",
              "      <td>0.031389</td>\n",
              "      <td>val</td>\n",
              "    </tr>\n",
              "  </tbody>\n",
              "</table>\n",
              "</div>"
            ],
            "text/plain": [
              "                         file_name  img_id  include  label  non_gray_ratio  \\\n",
              "0  tumor_slide_001_split_25_26.png       1        0      0        0.000000   \n",
              "1  tumor_slide_001_split_25_32.png       1        0      0        0.000000   \n",
              "2  tumor_slide_001_split_77_12.png       1        0      0        0.043333   \n",
              "3  tumor_slide_001_split_31_47.png       1        0      0        0.000556   \n",
              "4  tumor_slide_001_split_79_17.png       1        0      0        0.031389   \n",
              "\n",
              "  type  \n",
              "0  val  \n",
              "1  val  \n",
              "2  val  \n",
              "3  val  \n",
              "4  val  "
            ]
          },
          "metadata": {
            "tags": []
          },
          "execution_count": 13
        }
      ]
    },
    {
      "metadata": {
        "id": "WWNNM35aOY95",
        "colab_type": "code",
        "colab": {}
      },
      "cell_type": "code",
      "source": [
        "# cast target as string (keras needs strings)\n",
        "%%capture\n",
        "df_meta_greyscale.loc[:, 'label'] = df_meta_greyscale.label.astype('str')"
      ],
      "execution_count": 0,
      "outputs": []
    },
    {
      "metadata": {
        "id": "xLIO57stpIH3",
        "colab_type": "code",
        "outputId": "52e706a2-7007-4eab-9a4b-a69d27ee599d",
        "colab": {
          "base_uri": "https://localhost:8080/",
          "height": 198
        }
      },
      "cell_type": "code",
      "source": [
        "# get patches with sufficient tissue\n",
        "df_train = df_meta_greyscale.loc[(df_meta_greyscale.include == 1) & (df_meta_greyscale['type'] == 'train'),:]\n",
        "\n",
        "df_train.head()"
      ],
      "execution_count": 15,
      "outputs": [
        {
          "output_type": "execute_result",
          "data": {
            "text/html": [
              "<div>\n",
              "<style scoped>\n",
              "    .dataframe tbody tr th:only-of-type {\n",
              "        vertical-align: middle;\n",
              "    }\n",
              "\n",
              "    .dataframe tbody tr th {\n",
              "        vertical-align: top;\n",
              "    }\n",
              "\n",
              "    .dataframe thead th {\n",
              "        text-align: right;\n",
              "    }\n",
              "</style>\n",
              "<table border=\"1\" class=\"dataframe\">\n",
              "  <thead>\n",
              "    <tr style=\"text-align: right;\">\n",
              "      <th></th>\n",
              "      <th>file_name</th>\n",
              "      <th>img_id</th>\n",
              "      <th>include</th>\n",
              "      <th>label</th>\n",
              "      <th>non_gray_ratio</th>\n",
              "      <th>type</th>\n",
              "    </tr>\n",
              "  </thead>\n",
              "  <tbody>\n",
              "    <tr>\n",
              "      <th>11567</th>\n",
              "      <td>tumor_slide_005_split_90_25.png</td>\n",
              "      <td>5</td>\n",
              "      <td>1</td>\n",
              "      <td>0</td>\n",
              "      <td>0.476667</td>\n",
              "      <td>train</td>\n",
              "    </tr>\n",
              "    <tr>\n",
              "      <th>11582</th>\n",
              "      <td>tumor_slide_005_split_87_15.png</td>\n",
              "      <td>5</td>\n",
              "      <td>1</td>\n",
              "      <td>0</td>\n",
              "      <td>0.966667</td>\n",
              "      <td>train</td>\n",
              "    </tr>\n",
              "    <tr>\n",
              "      <th>11608</th>\n",
              "      <td>tumor_slide_005_split_89_10.png</td>\n",
              "      <td>5</td>\n",
              "      <td>1</td>\n",
              "      <td>0</td>\n",
              "      <td>0.805278</td>\n",
              "      <td>train</td>\n",
              "    </tr>\n",
              "    <tr>\n",
              "      <th>11618</th>\n",
              "      <td>tumor_slide_005_split_89_11.png</td>\n",
              "      <td>5</td>\n",
              "      <td>1</td>\n",
              "      <td>0</td>\n",
              "      <td>0.978889</td>\n",
              "      <td>train</td>\n",
              "    </tr>\n",
              "    <tr>\n",
              "      <th>11627</th>\n",
              "      <td>tumor_slide_005_split_80_21.png</td>\n",
              "      <td>5</td>\n",
              "      <td>1</td>\n",
              "      <td>0</td>\n",
              "      <td>0.822222</td>\n",
              "      <td>train</td>\n",
              "    </tr>\n",
              "  </tbody>\n",
              "</table>\n",
              "</div>"
            ],
            "text/plain": [
              "                             file_name  img_id  include label  non_gray_ratio  \\\n",
              "11567  tumor_slide_005_split_90_25.png       5        1     0        0.476667   \n",
              "11582  tumor_slide_005_split_87_15.png       5        1     0        0.966667   \n",
              "11608  tumor_slide_005_split_89_10.png       5        1     0        0.805278   \n",
              "11618  tumor_slide_005_split_89_11.png       5        1     0        0.978889   \n",
              "11627  tumor_slide_005_split_80_21.png       5        1     0        0.822222   \n",
              "\n",
              "        type  \n",
              "11567  train  \n",
              "11582  train  \n",
              "11608  train  \n",
              "11618  train  \n",
              "11627  train  "
            ]
          },
          "metadata": {
            "tags": []
          },
          "execution_count": 15
        }
      ]
    },
    {
      "metadata": {
        "id": "EwX-WbvxsY87",
        "colab_type": "code",
        "outputId": "f8bf0e3c-919d-4468-9e42-0d65ce0875ea",
        "colab": {
          "base_uri": "https://localhost:8080/",
          "height": 198
        }
      },
      "cell_type": "code",
      "source": [
        "# get patches with sufficient tissue\n",
        "df_val = df_meta_greyscale.loc[(df_meta_greyscale.include == 1) & (df_meta_greyscale['type'] == 'val'),:]\n",
        "\n",
        "df_val.head()"
      ],
      "execution_count": 16,
      "outputs": [
        {
          "output_type": "execute_result",
          "data": {
            "text/html": [
              "<div>\n",
              "<style scoped>\n",
              "    .dataframe tbody tr th:only-of-type {\n",
              "        vertical-align: middle;\n",
              "    }\n",
              "\n",
              "    .dataframe tbody tr th {\n",
              "        vertical-align: top;\n",
              "    }\n",
              "\n",
              "    .dataframe thead th {\n",
              "        text-align: right;\n",
              "    }\n",
              "</style>\n",
              "<table border=\"1\" class=\"dataframe\">\n",
              "  <thead>\n",
              "    <tr style=\"text-align: right;\">\n",
              "      <th></th>\n",
              "      <th>file_name</th>\n",
              "      <th>img_id</th>\n",
              "      <th>include</th>\n",
              "      <th>label</th>\n",
              "      <th>non_gray_ratio</th>\n",
              "      <th>type</th>\n",
              "    </tr>\n",
              "  </thead>\n",
              "  <tbody>\n",
              "    <tr>\n",
              "      <th>5</th>\n",
              "      <td>tumor_slide_001_split_70_33.png</td>\n",
              "      <td>1</td>\n",
              "      <td>1</td>\n",
              "      <td>0</td>\n",
              "      <td>0.975833</td>\n",
              "      <td>val</td>\n",
              "    </tr>\n",
              "    <tr>\n",
              "      <th>9</th>\n",
              "      <td>tumor_slide_001_split_70_27.png</td>\n",
              "      <td>1</td>\n",
              "      <td>1</td>\n",
              "      <td>0</td>\n",
              "      <td>0.985556</td>\n",
              "      <td>val</td>\n",
              "    </tr>\n",
              "    <tr>\n",
              "      <th>28</th>\n",
              "      <td>tumor_slide_001_split_0_46.png</td>\n",
              "      <td>1</td>\n",
              "      <td>1</td>\n",
              "      <td>0</td>\n",
              "      <td>0.666944</td>\n",
              "      <td>val</td>\n",
              "    </tr>\n",
              "    <tr>\n",
              "      <th>45</th>\n",
              "      <td>tumor_slide_001_split_60_22.png</td>\n",
              "      <td>1</td>\n",
              "      <td>1</td>\n",
              "      <td>0</td>\n",
              "      <td>0.960278</td>\n",
              "      <td>val</td>\n",
              "    </tr>\n",
              "    <tr>\n",
              "      <th>52</th>\n",
              "      <td>tumor_slide_001_split_41_13.png</td>\n",
              "      <td>1</td>\n",
              "      <td>1</td>\n",
              "      <td>0</td>\n",
              "      <td>0.997500</td>\n",
              "      <td>val</td>\n",
              "    </tr>\n",
              "  </tbody>\n",
              "</table>\n",
              "</div>"
            ],
            "text/plain": [
              "                          file_name  img_id  include label  non_gray_ratio  \\\n",
              "5   tumor_slide_001_split_70_33.png       1        1     0        0.975833   \n",
              "9   tumor_slide_001_split_70_27.png       1        1     0        0.985556   \n",
              "28   tumor_slide_001_split_0_46.png       1        1     0        0.666944   \n",
              "45  tumor_slide_001_split_60_22.png       1        1     0        0.960278   \n",
              "52  tumor_slide_001_split_41_13.png       1        1     0        0.997500   \n",
              "\n",
              "   type  \n",
              "5   val  \n",
              "9   val  \n",
              "28  val  \n",
              "45  val  \n",
              "52  val  "
            ]
          },
          "metadata": {
            "tags": []
          },
          "execution_count": 16
        }
      ]
    },
    {
      "metadata": {
        "id": "lQ4Y9BExPpN_",
        "colab_type": "code",
        "outputId": "590d01d6-7ad7-4af1-daed-6d0db5862b4a",
        "colab": {
          "base_uri": "https://localhost:8080/",
          "height": 198
        }
      },
      "cell_type": "code",
      "source": [
        "# get patches with sufficient tissue\n",
        "df_test = df_meta_greyscale.loc[(df_meta_greyscale.include == 1) & (df_meta_greyscale['type'] == 'test'),:]\n",
        "\n",
        "df_test.head()"
      ],
      "execution_count": 17,
      "outputs": [
        {
          "output_type": "execute_result",
          "data": {
            "text/html": [
              "<div>\n",
              "<style scoped>\n",
              "    .dataframe tbody tr th:only-of-type {\n",
              "        vertical-align: middle;\n",
              "    }\n",
              "\n",
              "    .dataframe tbody tr th {\n",
              "        vertical-align: top;\n",
              "    }\n",
              "\n",
              "    .dataframe thead th {\n",
              "        text-align: right;\n",
              "    }\n",
              "</style>\n",
              "<table border=\"1\" class=\"dataframe\">\n",
              "  <thead>\n",
              "    <tr style=\"text-align: right;\">\n",
              "      <th></th>\n",
              "      <th>file_name</th>\n",
              "      <th>img_id</th>\n",
              "      <th>include</th>\n",
              "      <th>label</th>\n",
              "      <th>non_gray_ratio</th>\n",
              "      <th>type</th>\n",
              "    </tr>\n",
              "  </thead>\n",
              "  <tbody>\n",
              "    <tr>\n",
              "      <th>5777</th>\n",
              "      <td>tumor_slide_002_split_52_16.png</td>\n",
              "      <td>2</td>\n",
              "      <td>1</td>\n",
              "      <td>0</td>\n",
              "      <td>0.422500</td>\n",
              "      <td>test</td>\n",
              "    </tr>\n",
              "    <tr>\n",
              "      <th>5783</th>\n",
              "      <td>tumor_slide_002_split_55_23.png</td>\n",
              "      <td>2</td>\n",
              "      <td>1</td>\n",
              "      <td>0</td>\n",
              "      <td>0.912500</td>\n",
              "      <td>test</td>\n",
              "    </tr>\n",
              "    <tr>\n",
              "      <th>5803</th>\n",
              "      <td>tumor_slide_002_split_63_36.png</td>\n",
              "      <td>2</td>\n",
              "      <td>1</td>\n",
              "      <td>0</td>\n",
              "      <td>0.886389</td>\n",
              "      <td>test</td>\n",
              "    </tr>\n",
              "    <tr>\n",
              "      <th>5854</th>\n",
              "      <td>tumor_slide_002_split_61_33.png</td>\n",
              "      <td>2</td>\n",
              "      <td>1</td>\n",
              "      <td>0</td>\n",
              "      <td>0.938333</td>\n",
              "      <td>test</td>\n",
              "    </tr>\n",
              "    <tr>\n",
              "      <th>5903</th>\n",
              "      <td>tumor_slide_002_split_50_13.png</td>\n",
              "      <td>2</td>\n",
              "      <td>1</td>\n",
              "      <td>0</td>\n",
              "      <td>0.949444</td>\n",
              "      <td>test</td>\n",
              "    </tr>\n",
              "  </tbody>\n",
              "</table>\n",
              "</div>"
            ],
            "text/plain": [
              "                            file_name  img_id  include label  non_gray_ratio  \\\n",
              "5777  tumor_slide_002_split_52_16.png       2        1     0        0.422500   \n",
              "5783  tumor_slide_002_split_55_23.png       2        1     0        0.912500   \n",
              "5803  tumor_slide_002_split_63_36.png       2        1     0        0.886389   \n",
              "5854  tumor_slide_002_split_61_33.png       2        1     0        0.938333   \n",
              "5903  tumor_slide_002_split_50_13.png       2        1     0        0.949444   \n",
              "\n",
              "      type  \n",
              "5777  test  \n",
              "5783  test  \n",
              "5803  test  \n",
              "5854  test  \n",
              "5903  test  "
            ]
          },
          "metadata": {
            "tags": []
          },
          "execution_count": 17
        }
      ]
    },
    {
      "metadata": {
        "id": "YFfNpxAF9IDC",
        "colab_type": "code",
        "outputId": "93802780-8a1a-4529-a9d5-6e93f47c00a7",
        "colab": {
          "base_uri": "https://localhost:8080/",
          "height": 69
        }
      },
      "cell_type": "code",
      "source": [
        "# downsampled df \n",
        "df_train['label'].value_counts()\n"
      ],
      "execution_count": 18,
      "outputs": [
        {
          "output_type": "execute_result",
          "data": {
            "text/plain": [
              "0    3967\n",
              "1     695\n",
              "Name: label, dtype: int64"
            ]
          },
          "metadata": {
            "tags": []
          },
          "execution_count": 18
        }
      ]
    },
    {
      "metadata": {
        "id": "KxUi4ESC9fGp",
        "colab_type": "code",
        "colab": {}
      },
      "cell_type": "code",
      "source": [
        "df_down = pd.concat([df_train[df_train['label'] == '0'].sample(1000), df_train[df_train['label'] == '1']], axis = 0)"
      ],
      "execution_count": 0,
      "outputs": []
    },
    {
      "metadata": {
        "id": "DJntrC93Dqwl",
        "colab_type": "code",
        "outputId": "b9752e94-9c84-4bd8-dc3d-b6e2a473e76a",
        "colab": {
          "base_uri": "https://localhost:8080/",
          "height": 198
        }
      },
      "cell_type": "code",
      "source": [
        "df_down.head()"
      ],
      "execution_count": 20,
      "outputs": [
        {
          "output_type": "execute_result",
          "data": {
            "text/html": [
              "<div>\n",
              "<style scoped>\n",
              "    .dataframe tbody tr th:only-of-type {\n",
              "        vertical-align: middle;\n",
              "    }\n",
              "\n",
              "    .dataframe tbody tr th {\n",
              "        vertical-align: top;\n",
              "    }\n",
              "\n",
              "    .dataframe thead th {\n",
              "        text-align: right;\n",
              "    }\n",
              "</style>\n",
              "<table border=\"1\" class=\"dataframe\">\n",
              "  <thead>\n",
              "    <tr style=\"text-align: right;\">\n",
              "      <th></th>\n",
              "      <th>file_name</th>\n",
              "      <th>img_id</th>\n",
              "      <th>include</th>\n",
              "      <th>label</th>\n",
              "      <th>non_gray_ratio</th>\n",
              "      <th>type</th>\n",
              "    </tr>\n",
              "  </thead>\n",
              "  <tbody>\n",
              "    <tr>\n",
              "      <th>84760</th>\n",
              "      <td>tumor_slide_101_split_31_24.png</td>\n",
              "      <td>101</td>\n",
              "      <td>1</td>\n",
              "      <td>0</td>\n",
              "      <td>0.750000</td>\n",
              "      <td>train</td>\n",
              "    </tr>\n",
              "    <tr>\n",
              "      <th>68732</th>\n",
              "      <td>tumor_slide_075_split_9_38.png</td>\n",
              "      <td>75</td>\n",
              "      <td>1</td>\n",
              "      <td>0</td>\n",
              "      <td>0.736667</td>\n",
              "      <td>train</td>\n",
              "    </tr>\n",
              "    <tr>\n",
              "      <th>69141</th>\n",
              "      <td>tumor_slide_075_split_13_36.png</td>\n",
              "      <td>75</td>\n",
              "      <td>1</td>\n",
              "      <td>0</td>\n",
              "      <td>0.596944</td>\n",
              "      <td>train</td>\n",
              "    </tr>\n",
              "    <tr>\n",
              "      <th>79471</th>\n",
              "      <td>tumor_slide_094_split_35_20.png</td>\n",
              "      <td>94</td>\n",
              "      <td>1</td>\n",
              "      <td>0</td>\n",
              "      <td>0.555278</td>\n",
              "      <td>train</td>\n",
              "    </tr>\n",
              "    <tr>\n",
              "      <th>81476</th>\n",
              "      <td>tumor_slide_096_split_10_26.png</td>\n",
              "      <td>96</td>\n",
              "      <td>1</td>\n",
              "      <td>0</td>\n",
              "      <td>0.988056</td>\n",
              "      <td>train</td>\n",
              "    </tr>\n",
              "  </tbody>\n",
              "</table>\n",
              "</div>"
            ],
            "text/plain": [
              "                             file_name  img_id  include label  non_gray_ratio  \\\n",
              "84760  tumor_slide_101_split_31_24.png     101        1     0        0.750000   \n",
              "68732   tumor_slide_075_split_9_38.png      75        1     0        0.736667   \n",
              "69141  tumor_slide_075_split_13_36.png      75        1     0        0.596944   \n",
              "79471  tumor_slide_094_split_35_20.png      94        1     0        0.555278   \n",
              "81476  tumor_slide_096_split_10_26.png      96        1     0        0.988056   \n",
              "\n",
              "        type  \n",
              "84760  train  \n",
              "68732  train  \n",
              "69141  train  \n",
              "79471  train  \n",
              "81476  train  "
            ]
          },
          "metadata": {
            "tags": []
          },
          "execution_count": 20
        }
      ]
    },
    {
      "metadata": {
        "id": "uwad5EJaGEQD",
        "colab_type": "code",
        "colab": {}
      },
      "cell_type": "code",
      "source": [
        "df_up = pd.concat([df_train, df_train[df_train['label'] == '1'].sample(3500, replace=True)], axis = 0)"
      ],
      "execution_count": 0,
      "outputs": []
    },
    {
      "metadata": {
        "id": "H-T2HTotGMZE",
        "colab_type": "code",
        "outputId": "1ab46a2a-78af-490d-bc75-e05faa13bef3",
        "colab": {
          "base_uri": "https://localhost:8080/",
          "height": 69
        }
      },
      "cell_type": "code",
      "source": [
        "df_up.label.value_counts()"
      ],
      "execution_count": 22,
      "outputs": [
        {
          "output_type": "execute_result",
          "data": {
            "text/plain": [
              "1    4195\n",
              "0    3967\n",
              "Name: label, dtype: int64"
            ]
          },
          "metadata": {
            "tags": []
          },
          "execution_count": 22
        }
      ]
    },
    {
      "metadata": {
        "id": "MrzA5-KhmUq4",
        "colab_type": "code",
        "outputId": "2ce6e806-f074-434e-fb3d-1b8467e8b5a0",
        "colab": {
          "base_uri": "https://localhost:8080/",
          "height": 35
        }
      },
      "cell_type": "code",
      "source": [
        "# specify image data generator with augmentation\n",
        "datagen = tf.keras.preprocessing.image.ImageDataGenerator(rescale=1./255,\n",
        "                                                         rotation_range=180,\n",
        "                                                         horizontal_flip=True,\n",
        "                                                         vertical_flip = True)\n",
        "\n",
        "# datagen = tf.keras.preprocessing.image.ImageDataGenerator(rescale=1./255)\n",
        "\n",
        "# read data from the train directory\n",
        "train_generator = datagen.flow_from_dataframe(dataframe = df_up, \n",
        "                                              directory = 'zoom_5_60_60_partition/train/slide',\n",
        "                                              x_col = 'file_name', \n",
        "                                              y_col='label',\n",
        "                                              class_mode='binary', \n",
        "                                              target_size=(60,60), \n",
        "                                              batch_size=32,\n",
        "                                              drop_duplicates=False)\n",
        "\n"
      ],
      "execution_count": 23,
      "outputs": [
        {
          "output_type": "stream",
          "text": [
            "Found 8162 images belonging to 2 classes.\n"
          ],
          "name": "stdout"
        }
      ]
    },
    {
      "metadata": {
        "id": "xtcfsYoBiMg7",
        "colab_type": "code",
        "outputId": "e0f53c16-24e8-4690-8263-ee4da7280d3d",
        "colab": {
          "base_uri": "https://localhost:8080/",
          "height": 35
        }
      },
      "cell_type": "code",
      "source": [
        "len(train_generator)"
      ],
      "execution_count": 24,
      "outputs": [
        {
          "output_type": "execute_result",
          "data": {
            "text/plain": [
              "256"
            ]
          },
          "metadata": {
            "tags": []
          },
          "execution_count": 24
        }
      ]
    },
    {
      "metadata": {
        "id": "VQb6Vw_eP8DF",
        "colab_type": "code",
        "outputId": "5e321dd2-dee7-4951-c5cb-efa5d372bcc8",
        "colab": {
          "base_uri": "https://localhost:8080/",
          "height": 35
        }
      },
      "cell_type": "code",
      "source": [
        "# specify image data generator with augmentation\n",
        "datagen = tf.keras.preprocessing.image.ImageDataGenerator(rescale=1./255)\n",
        "\n",
        "# read data from the train directory\n",
        "val_generator = datagen.flow_from_dataframe(dataframe = df_val, \n",
        "                                              directory = 'zoom_5_60_60_partition/val/slide',\n",
        "                                              x_col = 'file_name', \n",
        "                                              y_col='label',\n",
        "                                              class_mode='binary', \n",
        "                                              target_size=(60,60), \n",
        "                                              batch_size=32)\n",
        "\n"
      ],
      "execution_count": 25,
      "outputs": [
        {
          "output_type": "stream",
          "text": [
            "Found 1283 images belonging to 2 classes.\n"
          ],
          "name": "stdout"
        }
      ]
    },
    {
      "metadata": {
        "id": "2y4r0qoAjBlC",
        "colab_type": "code",
        "outputId": "bda8974b-3012-4fd7-85cf-369cb8a30df0",
        "colab": {
          "base_uri": "https://localhost:8080/",
          "height": 35
        }
      },
      "cell_type": "code",
      "source": [
        "len(val_generator)"
      ],
      "execution_count": 26,
      "outputs": [
        {
          "output_type": "execute_result",
          "data": {
            "text/plain": [
              "41"
            ]
          },
          "metadata": {
            "tags": []
          },
          "execution_count": 26
        }
      ]
    },
    {
      "metadata": {
        "id": "JN3UZpAyJ4FH",
        "colab_type": "code",
        "outputId": "b63c94b0-c21d-4a8f-ce50-98317ee22b0d",
        "colab": {
          "base_uri": "https://localhost:8080/",
          "height": 159
        }
      },
      "cell_type": "code",
      "source": [
        "# plot augmented images\n",
        "def plotImages(images_arr):\n",
        "    fig, axes = plt.subplots(1, 5, figsize=(10,10))\n",
        "    axes = axes.flatten()\n",
        "    for img, ax in zip( images_arr, axes):\n",
        "        ax.grid(False)\n",
        "        ax.imshow(img)\n",
        "    plt.tight_layout()\n",
        "    plt.show()\n",
        "    \n",
        "    \n",
        "augmented_images = [train_generator[0][0][0] for i in range(5)]\n",
        "\n",
        "plotImages(augmented_images)"
      ],
      "execution_count": 27,
      "outputs": [
        {
          "output_type": "display_data",
          "data": {
            "image/png": "[encoded data removed]",
            "text/plain": [
              "<Figure size 720x720 with 5 Axes>"
            ]
          },
          "metadata": {
            "tags": []
          }
        }
      ]
    },
    {
      "metadata": {
        "id": "9cdGLMMdQ9Ce",
        "colab_type": "text"
      },
      "cell_type": "markdown",
      "source": [
        "##  Baseline model"
      ]
    },
    {
      "metadata": {
        "id": "T83cXCxGJuZl",
        "colab_type": "code",
        "outputId": "42284948-ed6f-4516-a421-f974934b38b1",
        "colab": {
          "base_uri": "https://localhost:8080/",
          "height": 89
        }
      },
      "cell_type": "code",
      "source": [
        "# specify model architecture\n",
        "model = tf.keras.Sequential()\n",
        "model.add(tf.keras.layers.Conv2D(64, (3, 3), activation='relu', input_shape=(60, 60, 3)))\n",
        "model.add(tf.keras.layers.Conv2D(128, (3, 3), activation='relu'))\n",
        "#model.add(tf.keras.layers.MaxPooling2D((2, 2)))\n",
        "model.add(tf.keras.layers.Conv2D(256, (3, 3), activation='relu'))\n",
        "#model.add(tf.keras.layers.Conv2D(128, (3, 3), activation='relu'))\n",
        "model.add(tf.keras.layers.MaxPooling2D((2, 2)))\n",
        "model.add(tf.keras.layers.Flatten())\n",
        "#model.add(tf.keras.layers.Dropout(0.2))\n",
        "model.add(tf.keras.layers.Dense(128, activation='relu'))\n",
        "model.add(tf.keras.layers.Dense(1, activation='sigmoid'))\n"
      ],
      "execution_count": 37,
      "outputs": [
        {
          "output_type": "stream",
          "text": [
            "WARNING:tensorflow:From /usr/local/lib/python3.6/dist-packages/tensorflow/python/ops/resource_variable_ops.py:435: colocate_with (from tensorflow.python.framework.ops) is deprecated and will be removed in a future version.\n",
            "Instructions for updating:\n",
            "Colocations handled automatically by placer.\n"
          ],
          "name": "stdout"
        }
      ]
    },
    {
      "metadata": {
        "id": "V8TmDpGWeM06",
        "colab_type": "code",
        "outputId": "aba943e2-ac65-4f61-938d-2e73b0def51e",
        "colab": {
          "base_uri": "https://localhost:8080/",
          "height": 380
        }
      },
      "cell_type": "code",
      "source": [
        "# compile model\n",
        "model.compile(optimizer='adam', \n",
        "              loss='binary_crossentropy', \n",
        "              metrics=['accuracy'])\n",
        "\n",
        "# print model architecture\n",
        "model.summary()"
      ],
      "execution_count": 38,
      "outputs": [
        {
          "output_type": "stream",
          "text": [
            "_________________________________________________________________\n",
            "Layer (type)                 Output Shape              Param #   \n",
            "=================================================================\n",
            "conv2d (Conv2D)              (None, 58, 58, 64)        1792      \n",
            "_________________________________________________________________\n",
            "conv2d_1 (Conv2D)            (None, 56, 56, 128)       73856     \n",
            "_________________________________________________________________\n",
            "conv2d_2 (Conv2D)            (None, 54, 54, 256)       295168    \n",
            "_________________________________________________________________\n",
            "max_pooling2d (MaxPooling2D) (None, 27, 27, 256)       0         \n",
            "_________________________________________________________________\n",
            "flatten (Flatten)            (None, 186624)            0         \n",
            "_________________________________________________________________\n",
            "dense (Dense)                (None, 128)               23888000  \n",
            "_________________________________________________________________\n",
            "dense_1 (Dense)              (None, 1)                 129       \n",
            "=================================================================\n",
            "Total params: 24,258,945\n",
            "Trainable params: 24,258,945\n",
            "Non-trainable params: 0\n",
            "_________________________________________________________________\n"
          ],
          "name": "stdout"
        }
      ]
    },
    {
      "metadata": {
        "id": "B3EGiVZjLYCU",
        "colab_type": "code",
        "outputId": "ce9e3200-e2f2-4ed8-99ef-0f725ee12e2e",
        "colab": {
          "base_uri": "https://localhost:8080/",
          "height": 1125
        }
      },
      "cell_type": "code",
      "source": [
        "EPOCHS = 20\n",
        "\n",
        "history_1 = model.fit_generator(train_generator,\n",
        "                   epochs = EPOCHS,\n",
        "                   validation_data = val_generator,\n",
        "                   verbose=1)"
      ],
      "execution_count": 39,
      "outputs": [
        {
          "output_type": "stream",
          "text": [
            "WARNING:tensorflow:From /usr/local/lib/python3.6/dist-packages/tensorflow/python/ops/math_ops.py:3066: to_int32 (from tensorflow.python.ops.math_ops) is deprecated and will be removed in a future version.\n",
            "Instructions for updating:\n",
            "Use tf.cast instead.\n",
            "Epoch 1/20\n",
            "41/41 [==============================] - 1s 31ms/step - loss: 0.5171 - acc: 0.7553\n",
            "256/256 [==============================] - 22s 84ms/step - loss: 0.6145 - acc: 0.6971 - val_loss: 0.5171 - val_acc: 0.7553\n",
            "Epoch 2/20\n",
            "41/41 [==============================] - 1s 28ms/step - loss: 0.4810 - acc: 0.8480\n",
            "256/256 [==============================] - 18s 69ms/step - loss: 0.4781 - acc: 0.7623 - val_loss: 0.4810 - val_acc: 0.8480\n",
            "Epoch 3/20\n",
            "41/41 [==============================] - 1s 28ms/step - loss: 0.3819 - acc: 0.8807\n",
            "256/256 [==============================] - 19s 73ms/step - loss: 0.4573 - acc: 0.7719 - val_loss: 0.3819 - val_acc: 0.8807\n",
            "Epoch 4/20\n",
            "41/41 [==============================] - 1s 27ms/step - loss: 0.3738 - acc: 0.8807\n",
            "256/256 [==============================] - 18s 69ms/step - loss: 0.4522 - acc: 0.7757 - val_loss: 0.3738 - val_acc: 0.8807\n",
            "Epoch 5/20\n",
            "41/41 [==============================] - 1s 32ms/step - loss: 0.4512 - acc: 0.8807\n",
            "256/256 [==============================] - 18s 70ms/step - loss: 0.4263 - acc: 0.7931 - val_loss: 0.4512 - val_acc: 0.8807\n",
            "Epoch 6/20\n",
            "41/41 [==============================] - 1s 27ms/step - loss: 0.4895 - acc: 0.8613\n",
            "256/256 [==============================] - 18s 70ms/step - loss: 0.4276 - acc: 0.7928 - val_loss: 0.4895 - val_acc: 0.8613\n",
            "Epoch 7/20\n",
            "41/41 [==============================] - 1s 32ms/step - loss: 0.4407 - acc: 0.8807\n",
            "256/256 [==============================] - 19s 74ms/step - loss: 0.3987 - acc: 0.8036 - val_loss: 0.4407 - val_acc: 0.8807\n",
            "Epoch 8/20\n",
            "41/41 [==============================] - 1s 28ms/step - loss: 0.4621 - acc: 0.8675\n",
            "256/256 [==============================] - 18s 68ms/step - loss: 0.3960 - acc: 0.8073 - val_loss: 0.4621 - val_acc: 0.8675\n",
            "Epoch 9/20\n",
            "41/41 [==============================] - 1s 28ms/step - loss: 0.4952 - acc: 0.8558\n",
            "256/256 [==============================] - 18s 68ms/step - loss: 0.3722 - acc: 0.8223 - val_loss: 0.4952 - val_acc: 0.8558\n",
            "Epoch 10/20\n",
            "41/41 [==============================] - 1s 28ms/step - loss: 0.3287 - acc: 0.8815\n",
            "256/256 [==============================] - 18s 69ms/step - loss: 0.3672 - acc: 0.8290 - val_loss: 0.3287 - val_acc: 0.8815\n",
            "Epoch 11/20\n",
            "41/41 [==============================] - 1s 28ms/step - loss: 0.4313 - acc: 0.8558\n",
            "256/256 [==============================] - 18s 69ms/step - loss: 0.3397 - acc: 0.8437 - val_loss: 0.4313 - val_acc: 0.8558\n",
            "Epoch 12/20\n",
            "41/41 [==============================] - 1s 28ms/step - loss: 0.5247 - acc: 0.7911\n",
            "256/256 [==============================] - 19s 73ms/step - loss: 0.3151 - acc: 0.8595 - val_loss: 0.5247 - val_acc: 0.7911\n",
            "Epoch 13/20\n",
            "41/41 [==============================] - 1s 28ms/step - loss: 0.6813 - acc: 0.7514\n",
            "256/256 [==============================] - 18s 69ms/step - loss: 0.3357 - acc: 0.8464 - val_loss: 0.6813 - val_acc: 0.7514\n",
            "Epoch 14/20\n",
            "41/41 [==============================] - 1s 28ms/step - loss: 0.8254 - acc: 0.6290\n",
            "256/256 [==============================] - 18s 69ms/step - loss: 0.3033 - acc: 0.8614 - val_loss: 0.8254 - val_acc: 0.6290\n",
            "Epoch 15/20\n",
            "41/41 [==============================] - 1s 28ms/step - loss: 0.3742 - acc: 0.8620\n",
            "256/256 [==============================] - 17s 68ms/step - loss: 0.3098 - acc: 0.8601 - val_loss: 0.3742 - val_acc: 0.8620\n",
            "Epoch 16/20\n",
            "41/41 [==============================] - 1s 32ms/step - loss: 0.8226 - acc: 0.6111\n",
            "256/256 [==============================] - 19s 73ms/step - loss: 0.3033 - acc: 0.8619 - val_loss: 0.8226 - val_acc: 0.6111\n",
            "Epoch 17/20\n",
            "41/41 [==============================] - 1s 33ms/step - loss: 0.6505 - acc: 0.7303\n",
            "256/256 [==============================] - 19s 72ms/step - loss: 0.3000 - acc: 0.8631 - val_loss: 0.6505 - val_acc: 0.7303\n",
            "Epoch 18/20\n",
            "41/41 [==============================] - 1s 27ms/step - loss: 0.6991 - acc: 0.7178\n",
            "256/256 [==============================] - 18s 71ms/step - loss: 0.3027 - acc: 0.8649 - val_loss: 0.6991 - val_acc: 0.7178\n",
            "Epoch 19/20\n",
            "41/41 [==============================] - 1s 28ms/step - loss: 0.5129 - acc: 0.8324\n",
            "256/256 [==============================] - 18s 68ms/step - loss: 0.2845 - acc: 0.8717 - val_loss: 0.5129 - val_acc: 0.8324\n",
            "Epoch 20/20\n",
            "41/41 [==============================] - 1s 29ms/step - loss: 0.5832 - acc: 0.7506\n",
            "256/256 [==============================] - 18s 69ms/step - loss: 0.2774 - acc: 0.8764 - val_loss: 0.5832 - val_acc: 0.7506\n"
          ],
          "name": "stdout"
        }
      ]
    },
    {
      "metadata": {
        "id": "Y-3ZsSabkHY7",
        "colab_type": "text"
      },
      "cell_type": "markdown",
      "source": [
        "## Adjusted class weights model"
      ]
    },
    {
      "metadata": {
        "id": "EKuuoJG-Y_FU",
        "colab_type": "code",
        "colab": {
          "base_uri": "https://localhost:8080/",
          "height": 35
        },
        "outputId": "03bc64c9-454b-4574-facc-5a1d6154e148"
      },
      "cell_type": "code",
      "source": [
        "# try again with balanced class weights\n",
        "import sklearn\n",
        "import numpy as np\n",
        "\n",
        "y_train = df_train['label']\n",
        "\n",
        "class_weights = sklearn.utils.class_weight.compute_class_weight('balanced',\n",
        "                                                 np.unique(y_train),\n",
        "                                                 y_train)\n",
        "\n",
        "class_weights"
      ],
      "execution_count": 47,
      "outputs": [
        {
          "output_type": "execute_result",
          "data": {
            "text/plain": [
              "array([0.58759768, 3.35395683])"
            ]
          },
          "metadata": {
            "tags": []
          },
          "execution_count": 47
        }
      ]
    },
    {
      "metadata": {
        "id": "oPh0egB2jeCu",
        "colab_type": "code",
        "colab": {
          "base_uri": "https://localhost:8080/",
          "height": 35
        },
        "outputId": "7049730f-ad30-4ab8-d9ad-11ab5a31e2ad"
      },
      "cell_type": "code",
      "source": [
        "# create class weights dictionary\n",
        "cw = dict(zip([0,1], class_weights))\n",
        "# doesnt work for some reason \n",
        "cw"
      ],
      "execution_count": 48,
      "outputs": [
        {
          "output_type": "execute_result",
          "data": {
            "text/plain": [
              "{0: 0.587597680867154, 1: 3.353956834532374}"
            ]
          },
          "metadata": {
            "tags": []
          },
          "execution_count": 48
        }
      ]
    },
    {
      "metadata": {
        "id": "762pzh9RmfJA",
        "colab_type": "code",
        "colab": {}
      },
      "cell_type": "code",
      "source": [
        "# specify model architecture\n",
        "model_2 = tf.keras.Sequential()\n",
        "\n",
        "model_2.add(tf.keras.layers.Conv2D(64, (3, 3), activation='relu', input_shape=(60, 60, 3)))\n",
        "model_2.add(tf.keras.layers.Conv2D(64, (3, 3), activation='relu'))\n",
        "model_2.add(tf.keras.layers.MaxPooling2D((2, 2)))\n",
        "model_2.add(tf.keras.layers.Conv2D(64, (3, 3), activation='relu'))\n",
        "model_2.add(tf.keras.layers.Conv2D(64, (3, 3), activation='relu'))\n",
        "model_2.add(tf.keras.layers.MaxPooling2D((2, 2)))\n",
        "\n",
        "model_2.add(tf.keras.layers.Flatten())\n",
        "model_2.add(tf.keras.layers.Flatten(input_shape = (60, 60, 3)))\n",
        "model_2.add(tf.keras.layers.Dense(256, activation='relu'))\n",
        "model_2.add(tf.keras.layers.Dense(128, activation='tanh'))\n",
        "model_2.add(tf.keras.layers.Dense(1, activation='sigmoid'))\n"
      ],
      "execution_count": 0,
      "outputs": []
    },
    {
      "metadata": {
        "id": "wGAR-3M-er-L",
        "colab_type": "code",
        "outputId": "b5e15d3c-509a-4c8f-9e93-9be52741f273",
        "colab": {
          "base_uri": "https://localhost:8080/",
          "height": 518
        }
      },
      "cell_type": "code",
      "source": [
        "# recompile model\n",
        "model_2.compile(optimizer='adam', \n",
        "              loss='binary_crossentropy', \n",
        "              metrics=['accuracy'])\n",
        "\n",
        "model_2.summary()"
      ],
      "execution_count": 50,
      "outputs": [
        {
          "output_type": "stream",
          "text": [
            "_________________________________________________________________\n",
            "Layer (type)                 Output Shape              Param #   \n",
            "=================================================================\n",
            "conv2d (Conv2D)              (None, 58, 58, 64)        1792      \n",
            "_________________________________________________________________\n",
            "conv2d_1 (Conv2D)            (None, 56, 56, 64)        36928     \n",
            "_________________________________________________________________\n",
            "max_pooling2d (MaxPooling2D) (None, 28, 28, 64)        0         \n",
            "_________________________________________________________________\n",
            "conv2d_2 (Conv2D)            (None, 26, 26, 64)        36928     \n",
            "_________________________________________________________________\n",
            "conv2d_3 (Conv2D)            (None, 24, 24, 64)        36928     \n",
            "_________________________________________________________________\n",
            "max_pooling2d_1 (MaxPooling2 (None, 12, 12, 64)        0         \n",
            "_________________________________________________________________\n",
            "flatten_3 (Flatten)          (None, 9216)              0         \n",
            "_________________________________________________________________\n",
            "flatten_4 (Flatten)          (None, 9216)              0         \n",
            "_________________________________________________________________\n",
            "dense_9 (Dense)              (None, 256)               2359552   \n",
            "_________________________________________________________________\n",
            "dense_10 (Dense)             (None, 128)               32896     \n",
            "_________________________________________________________________\n",
            "dense_11 (Dense)             (None, 1)                 129       \n",
            "=================================================================\n",
            "Total params: 2,505,153\n",
            "Trainable params: 2,505,153\n",
            "Non-trainable params: 0\n",
            "_________________________________________________________________\n"
          ],
          "name": "stdout"
        }
      ]
    },
    {
      "metadata": {
        "id": "mVrZmaTWde1G",
        "colab_type": "code",
        "outputId": "7de0a5cc-7ab4-42e7-d874-8418b497e6cc",
        "colab": {
          "base_uri": "https://localhost:8080/",
          "height": 2090
        }
      },
      "cell_type": "code",
      "source": [
        "EPOCHS = 40\n",
        "\n",
        "history_2 = model_2.fit_generator(train_generator,\n",
        "                   epochs = EPOCHS,\n",
        "                   validation_data = val_generator,\n",
        "                   class_weight = class_weights,\n",
        "                   shuffle=True)"
      ],
      "execution_count": 51,
      "outputs": [
        {
          "output_type": "stream",
          "text": [
            "Epoch 1/40\n",
            "41/41 [==============================] - 1s 27ms/step - loss: 0.4047 - acc: 0.8807\n",
            "256/256 [==============================] - 16s 61ms/step - loss: 0.6417 - acc: 0.6007 - val_loss: 0.4047 - val_acc: 0.8807\n",
            "Epoch 2/40\n",
            "41/41 [==============================] - 1s 27ms/step - loss: 0.3819 - acc: 0.8807\n",
            "256/256 [==============================] - 16s 62ms/step - loss: 0.4836 - acc: 0.7635 - val_loss: 0.3819 - val_acc: 0.8807\n",
            "Epoch 3/40\n",
            "41/41 [==============================] - 1s 27ms/step - loss: 0.4504 - acc: 0.8691\n",
            "256/256 [==============================] - 15s 59ms/step - loss: 0.4575 - acc: 0.7765 - val_loss: 0.4504 - val_acc: 0.8691\n",
            "Epoch 4/40\n",
            "41/41 [==============================] - 1s 31ms/step - loss: 0.3667 - acc: 0.8807\n",
            "256/256 [==============================] - 16s 63ms/step - loss: 0.4310 - acc: 0.7904 - val_loss: 0.3667 - val_acc: 0.8807\n",
            "Epoch 5/40\n",
            "41/41 [==============================] - 1s 26ms/step - loss: 0.3291 - acc: 0.8807\n",
            "256/256 [==============================] - 15s 60ms/step - loss: 0.4260 - acc: 0.7937 - val_loss: 0.3291 - val_acc: 0.8807\n",
            "Epoch 6/40\n",
            "41/41 [==============================] - 1s 26ms/step - loss: 0.3884 - acc: 0.8714\n",
            "256/256 [==============================] - 15s 59ms/step - loss: 0.4070 - acc: 0.8051 - val_loss: 0.3884 - val_acc: 0.8714\n",
            "Epoch 7/40\n",
            "41/41 [==============================] - 1s 25ms/step - loss: 0.3195 - acc: 0.8807\n",
            "256/256 [==============================] - 15s 59ms/step - loss: 0.4011 - acc: 0.8127 - val_loss: 0.3195 - val_acc: 0.8807\n",
            "Epoch 8/40\n",
            "41/41 [==============================] - 1s 27ms/step - loss: 0.4832 - acc: 0.7763\n",
            "256/256 [==============================] - 15s 59ms/step - loss: 0.3818 - acc: 0.8285 - val_loss: 0.4832 - val_acc: 0.7763\n",
            "Epoch 9/40\n",
            "41/41 [==============================] - 1s 32ms/step - loss: 0.3196 - acc: 0.8769\n",
            "256/256 [==============================] - 15s 61ms/step - loss: 0.3877 - acc: 0.8246 - val_loss: 0.3196 - val_acc: 0.8769\n",
            "Epoch 10/40\n",
            "41/41 [==============================] - 1s 27ms/step - loss: 0.4630 - acc: 0.7903\n",
            "256/256 [==============================] - 16s 63ms/step - loss: 0.4084 - acc: 0.8076 - val_loss: 0.4630 - val_acc: 0.7903\n",
            "Epoch 11/40\n",
            "41/41 [==============================] - 1s 25ms/step - loss: 0.6134 - acc: 0.6984\n",
            "256/256 [==============================] - 15s 58ms/step - loss: 0.3761 - acc: 0.8292 - val_loss: 0.6134 - val_acc: 0.6984\n",
            "Epoch 12/40\n",
            "41/41 [==============================] - 1s 27ms/step - loss: 0.6855 - acc: 0.6726\n",
            "256/256 [==============================] - 15s 59ms/step - loss: 0.3589 - acc: 0.8396 - val_loss: 0.6855 - val_acc: 0.6726\n",
            "Epoch 13/40\n",
            "41/41 [==============================] - 1s 26ms/step - loss: 0.7504 - acc: 0.5900\n",
            "256/256 [==============================] - 15s 58ms/step - loss: 0.3485 - acc: 0.8438 - val_loss: 0.7504 - val_acc: 0.5900\n",
            "Epoch 14/40\n",
            "41/41 [==============================] - 1s 31ms/step - loss: 0.5005 - acc: 0.7849\n",
            "256/256 [==============================] - 16s 62ms/step - loss: 0.3298 - acc: 0.8488 - val_loss: 0.5005 - val_acc: 0.7849\n",
            "Epoch 15/40\n",
            "41/41 [==============================] - 1s 26ms/step - loss: 0.5224 - acc: 0.7857\n",
            "256/256 [==============================] - 16s 64ms/step - loss: 0.3292 - acc: 0.8525 - val_loss: 0.5224 - val_acc: 0.7857\n",
            "Epoch 16/40\n",
            "41/41 [==============================] - 1s 25ms/step - loss: 0.4384 - acc: 0.8301\n",
            "256/256 [==============================] - 15s 58ms/step - loss: 0.3209 - acc: 0.8547 - val_loss: 0.4384 - val_acc: 0.8301\n",
            "Epoch 17/40\n",
            "41/41 [==============================] - 1s 28ms/step - loss: 0.4815 - acc: 0.8106\n",
            "256/256 [==============================] - 15s 59ms/step - loss: 0.3103 - acc: 0.8609 - val_loss: 0.4815 - val_acc: 0.8106\n",
            "Epoch 18/40\n",
            "41/41 [==============================] - 1s 26ms/step - loss: 1.3411 - acc: 0.4770\n",
            "256/256 [==============================] - 15s 59ms/step - loss: 0.3150 - acc: 0.8603 - val_loss: 1.3411 - val_acc: 0.4770\n",
            "Epoch 19/40\n",
            "41/41 [==============================] - 1s 26ms/step - loss: 0.5112 - acc: 0.8176\n",
            "256/256 [==============================] - 15s 58ms/step - loss: 0.3156 - acc: 0.8603 - val_loss: 0.5112 - val_acc: 0.8176\n",
            "Epoch 20/40\n",
            "41/41 [==============================] - 1s 26ms/step - loss: 0.3449 - acc: 0.8652\n",
            "256/256 [==============================] - 16s 64ms/step - loss: 0.2955 - acc: 0.8647 - val_loss: 0.3449 - val_acc: 0.8652\n",
            "Epoch 21/40\n",
            "41/41 [==============================] - 1s 27ms/step - loss: 0.4407 - acc: 0.8145\n",
            "256/256 [==============================] - 15s 59ms/step - loss: 0.3115 - acc: 0.8618 - val_loss: 0.4407 - val_acc: 0.8145\n",
            "Epoch 22/40\n",
            "41/41 [==============================] - 1s 26ms/step - loss: 0.9402 - acc: 0.6500\n",
            "256/256 [==============================] - 16s 62ms/step - loss: 0.2760 - acc: 0.8770 - val_loss: 0.9402 - val_acc: 0.6500\n",
            "Epoch 23/40\n",
            "41/41 [==============================] - 1s 26ms/step - loss: 0.3859 - acc: 0.8449\n",
            "256/256 [==============================] - 15s 58ms/step - loss: 0.2986 - acc: 0.8684 - val_loss: 0.3859 - val_acc: 0.8449\n",
            "Epoch 24/40\n",
            "41/41 [==============================] - 1s 26ms/step - loss: 0.3481 - acc: 0.8644\n",
            "256/256 [==============================] - 15s 58ms/step - loss: 0.2780 - acc: 0.8749 - val_loss: 0.3481 - val_acc: 0.8644\n",
            "Epoch 25/40\n",
            "41/41 [==============================] - 1s 30ms/step - loss: 0.5696 - acc: 0.7888\n",
            "256/256 [==============================] - 16s 63ms/step - loss: 0.2849 - acc: 0.8680 - val_loss: 0.5696 - val_acc: 0.7888\n",
            "Epoch 26/40\n",
            "41/41 [==============================] - 1s 26ms/step - loss: 0.3559 - acc: 0.8652\n",
            "256/256 [==============================] - 15s 59ms/step - loss: 0.2755 - acc: 0.8763 - val_loss: 0.3559 - val_acc: 0.8652\n",
            "Epoch 27/40\n",
            "41/41 [==============================] - 1s 26ms/step - loss: 0.4198 - acc: 0.8379\n",
            "256/256 [==============================] - 15s 59ms/step - loss: 0.2742 - acc: 0.8760 - val_loss: 0.4198 - val_acc: 0.8379\n",
            "Epoch 28/40\n",
            "41/41 [==============================] - 1s 26ms/step - loss: 0.8967 - acc: 0.6867\n",
            "256/256 [==============================] - 15s 58ms/step - loss: 0.2574 - acc: 0.8851 - val_loss: 0.8967 - val_acc: 0.6867\n",
            "Epoch 29/40\n",
            "41/41 [==============================] - 1s 27ms/step - loss: 0.5214 - acc: 0.7794\n",
            "256/256 [==============================] - 15s 59ms/step - loss: 0.2630 - acc: 0.8840 - val_loss: 0.5214 - val_acc: 0.7794\n",
            "Epoch 30/40\n",
            "41/41 [==============================] - 1s 31ms/step - loss: 1.1089 - acc: 0.6150\n",
            "256/256 [==============================] - 15s 60ms/step - loss: 0.2573 - acc: 0.8843 - val_loss: 1.1089 - val_acc: 0.6150\n",
            "Epoch 31/40\n",
            "41/41 [==============================] - 1s 26ms/step - loss: 0.4701 - acc: 0.8340\n",
            "256/256 [==============================] - 16s 62ms/step - loss: 0.2562 - acc: 0.8868 - val_loss: 0.4701 - val_acc: 0.8340\n",
            "Epoch 32/40\n",
            "41/41 [==============================] - 1s 26ms/step - loss: 0.8197 - acc: 0.7132\n",
            "256/256 [==============================] - 15s 58ms/step - loss: 0.2501 - acc: 0.8840 - val_loss: 0.8197 - val_acc: 0.7132\n",
            "Epoch 33/40\n",
            "41/41 [==============================] - 1s 26ms/step - loss: 0.8583 - acc: 0.7233\n",
            "256/256 [==============================] - 15s 58ms/step - loss: 0.2439 - acc: 0.8901 - val_loss: 0.8583 - val_acc: 0.7233\n",
            "Epoch 34/40\n",
            "41/41 [==============================] - 1s 26ms/step - loss: 0.6020 - acc: 0.8036\n",
            "256/256 [==============================] - 15s 58ms/step - loss: 0.2511 - acc: 0.8880 - val_loss: 0.6020 - val_acc: 0.8036\n",
            "Epoch 35/40\n",
            "41/41 [==============================] - 1s 27ms/step - loss: 0.8077 - acc: 0.6773\n",
            "256/256 [==============================] - 17s 65ms/step - loss: 0.2478 - acc: 0.8885 - val_loss: 0.8077 - val_acc: 0.6773\n",
            "Epoch 36/40\n",
            "41/41 [==============================] - 1s 26ms/step - loss: 0.7168 - acc: 0.7264\n",
            "256/256 [==============================] - 16s 63ms/step - loss: 0.2336 - acc: 0.8962 - val_loss: 0.7168 - val_acc: 0.7264\n",
            "Epoch 37/40\n",
            "41/41 [==============================] - 1s 26ms/step - loss: 0.4491 - acc: 0.8402\n",
            "256/256 [==============================] - 15s 59ms/step - loss: 0.2372 - acc: 0.8930 - val_loss: 0.4491 - val_acc: 0.8402\n",
            "Epoch 38/40\n",
            "41/41 [==============================] - 1s 26ms/step - loss: 0.5667 - acc: 0.7662\n",
            "256/256 [==============================] - 15s 58ms/step - loss: 0.2282 - acc: 0.8998 - val_loss: 0.5667 - val_acc: 0.7662\n",
            "Epoch 39/40\n",
            "41/41 [==============================] - 1s 25ms/step - loss: 0.5672 - acc: 0.7708\n",
            "256/256 [==============================] - 15s 58ms/step - loss: 0.2274 - acc: 0.8982 - val_loss: 0.5672 - val_acc: 0.7708\n",
            "Epoch 40/40\n",
            "41/41 [==============================] - 1s 27ms/step - loss: 0.7063 - acc: 0.7896\n",
            "256/256 [==============================] - 15s 58ms/step - loss: 0.2212 - acc: 0.8989 - val_loss: 0.7063 - val_acc: 0.7896\n"
          ],
          "name": "stdout"
        }
      ]
    },
    {
      "metadata": {
        "id": "c3IoQaWoPnKy",
        "colab_type": "code",
        "outputId": "b67d08c7-a165-4758-92be-d7d6f28aa048",
        "colab": {
          "base_uri": "https://localhost:8080/",
          "height": 134
        }
      },
      "cell_type": "code",
      "source": [
        "model.predict(val_generator)"
      ],
      "execution_count": 0,
      "outputs": [
        {
          "output_type": "execute_result",
          "data": {
            "text/plain": [
              "array([[0.2554441 ],\n",
              "       [0.90633047],\n",
              "       [0.2586465 ],\n",
              "       ...,\n",
              "       [0.09441949],\n",
              "       [0.0263592 ],\n",
              "       [0.3309168 ]], dtype=float32)"
            ]
          },
          "metadata": {
            "tags": []
          },
          "execution_count": 32
        }
      ]
    },
    {
      "metadata": {
        "id": "W4fYbpnfP6Jo",
        "colab_type": "code",
        "outputId": "e7c8a3b6-dfb3-4afe-8412-c62c984a419a",
        "colab": {
          "base_uri": "https://localhost:8080/",
          "height": 67
        }
      },
      "cell_type": "code",
      "source": [
        "y_val = df_val['label']\n",
        "y_val.value_counts(normalize=True)"
      ],
      "execution_count": 0,
      "outputs": [
        {
          "output_type": "execute_result",
          "data": {
            "text/plain": [
              "0    0.880748\n",
              "1    0.119252\n",
              "Name: label, dtype: float64"
            ]
          },
          "metadata": {
            "tags": []
          },
          "execution_count": 33
        }
      ]
    },
    {
      "metadata": {
        "id": "imnc8jJGchfz",
        "colab_type": "text"
      },
      "cell_type": "markdown",
      "source": [
        "## Use Transfer Learning"
      ]
    },
    {
      "metadata": {
        "id": "v0Ah7FAzqQop",
        "colab_type": "code",
        "colab": {}
      },
      "cell_type": "code",
      "source": [
        "from tensorflow.keras.applications import VGG16"
      ],
      "execution_count": 0,
      "outputs": []
    },
    {
      "metadata": {
        "id": "7HhL28WS8hd9",
        "colab_type": "code",
        "colab": {}
      },
      "cell_type": "code",
      "source": [
        "conv_base_1 = VGG16(weights='imagenet',\n",
        "                    include_top=False, \n",
        "                    input_shape=(60, 60, 3))\n"
      ],
      "execution_count": 0,
      "outputs": []
    },
    {
      "metadata": {
        "id": "nXFeFJH3p7dY",
        "colab_type": "code",
        "colab": {
          "base_uri": "https://localhost:8080/",
          "height": 795
        },
        "outputId": "e164bcac-46f3-4f5c-e354-205597a0575e"
      },
      "cell_type": "code",
      "source": [
        "conv_base_1.summary()"
      ],
      "execution_count": 37,
      "outputs": [
        {
          "output_type": "stream",
          "text": [
            "_________________________________________________________________\n",
            "Layer (type)                 Output Shape              Param #   \n",
            "=================================================================\n",
            "input_1 (InputLayer)         (None, 60, 60, 3)         0         \n",
            "_________________________________________________________________\n",
            "block1_conv1 (Conv2D)        (None, 60, 60, 64)        1792      \n",
            "_________________________________________________________________\n",
            "block1_conv2 (Conv2D)        (None, 60, 60, 64)        36928     \n",
            "_________________________________________________________________\n",
            "block1_pool (MaxPooling2D)   (None, 30, 30, 64)        0         \n",
            "_________________________________________________________________\n",
            "block2_conv1 (Conv2D)        (None, 30, 30, 128)       73856     \n",
            "_________________________________________________________________\n",
            "block2_conv2 (Conv2D)        (None, 30, 30, 128)       147584    \n",
            "_________________________________________________________________\n",
            "block2_pool (MaxPooling2D)   (None, 15, 15, 128)       0         \n",
            "_________________________________________________________________\n",
            "block3_conv1 (Conv2D)        (None, 15, 15, 256)       295168    \n",
            "_________________________________________________________________\n",
            "block3_conv2 (Conv2D)        (None, 15, 15, 256)       590080    \n",
            "_________________________________________________________________\n",
            "block3_conv3 (Conv2D)        (None, 15, 15, 256)       590080    \n",
            "_________________________________________________________________\n",
            "block3_pool (MaxPooling2D)   (None, 7, 7, 256)         0         \n",
            "_________________________________________________________________\n",
            "block4_conv1 (Conv2D)        (None, 7, 7, 512)         1180160   \n",
            "_________________________________________________________________\n",
            "block4_conv2 (Conv2D)        (None, 7, 7, 512)         2359808   \n",
            "_________________________________________________________________\n",
            "block4_conv3 (Conv2D)        (None, 7, 7, 512)         2359808   \n",
            "_________________________________________________________________\n",
            "block4_pool (MaxPooling2D)   (None, 3, 3, 512)         0         \n",
            "_________________________________________________________________\n",
            "block5_conv1 (Conv2D)        (None, 3, 3, 512)         2359808   \n",
            "_________________________________________________________________\n",
            "block5_conv2 (Conv2D)        (None, 3, 3, 512)         2359808   \n",
            "_________________________________________________________________\n",
            "block5_conv3 (Conv2D)        (None, 3, 3, 512)         2359808   \n",
            "_________________________________________________________________\n",
            "block5_pool (MaxPooling2D)   (None, 1, 1, 512)         0         \n",
            "=================================================================\n",
            "Total params: 14,714,688\n",
            "Trainable params: 14,714,688\n",
            "Non-trainable params: 0\n",
            "_________________________________________________________________\n"
          ],
          "name": "stdout"
        }
      ]
    },
    {
      "metadata": {
        "id": "aGBUClEhoeRF",
        "colab_type": "code",
        "colab": {}
      },
      "cell_type": "code",
      "source": [
        "# instantiate model\n",
        "model_1 = tf.keras.models.Sequential()\n",
        "\n",
        "model_1.add(conv_base_1)\n",
        "model_1.add(tf.keras.layers.Flatten())\n",
        "model_1.add(tf.keras.layers.Dense(512, activation='relu'))\n",
        "model_1.add(tf.keras.layers.Dense(256, activation='relu'))\n",
        "model_1.add(tf.keras.layers.Dense(1, activation='sigmoid'))\n",
        "\n",
        "conv_base_1.trainable = False\n",
        "\n",
        "model_1.compile(loss='binary_crossentropy',\n",
        "              optimizer='adam',\n",
        "              metrics=['acc'])"
      ],
      "execution_count": 0,
      "outputs": []
    },
    {
      "metadata": {
        "id": "FOuCylvyowVZ",
        "colab_type": "code",
        "colab": {
          "base_uri": "https://localhost:8080/",
          "height": 311
        },
        "outputId": "86d87b36-b71c-4791-a6f9-c6dc9b6e3c4b"
      },
      "cell_type": "code",
      "source": [
        "model_1.summary()"
      ],
      "execution_count": 45,
      "outputs": [
        {
          "output_type": "stream",
          "text": [
            "_________________________________________________________________\n",
            "Layer (type)                 Output Shape              Param #   \n",
            "=================================================================\n",
            "vgg16 (Model)                (None, 1, 1, 512)         14714688  \n",
            "_________________________________________________________________\n",
            "flatten_2 (Flatten)          (None, 512)               0         \n",
            "_________________________________________________________________\n",
            "dense_6 (Dense)              (None, 512)               262656    \n",
            "_________________________________________________________________\n",
            "dense_7 (Dense)              (None, 256)               131328    \n",
            "_________________________________________________________________\n",
            "dense_8 (Dense)              (None, 1)                 257       \n",
            "=================================================================\n",
            "Total params: 15,108,929\n",
            "Trainable params: 394,241\n",
            "Non-trainable params: 14,714,688\n",
            "_________________________________________________________________\n"
          ],
          "name": "stdout"
        }
      ]
    },
    {
      "metadata": {
        "id": "AqgXczp0v9vQ",
        "colab_type": "code",
        "colab": {
          "base_uri": "https://localhost:8080/",
          "height": 1071
        },
        "outputId": "38ca8f73-f43b-48aa-b464-21e429388984"
      },
      "cell_type": "code",
      "source": [
        "model_1.fit_generator(train_generator,\n",
        "                   epochs = 20,\n",
        "                   validation_data = val_generator,\n",
        "                   verbose=1)"
      ],
      "execution_count": 46,
      "outputs": [
        {
          "output_type": "stream",
          "text": [
            "Epoch 1/20\n",
            "41/41 [==============================] - 1s 35ms/step - loss: 0.5900 - acc: 0.6399\n",
            "256/256 [==============================] - 20s 76ms/step - loss: 0.5748 - acc: 0.6925 - val_loss: 0.5900 - val_acc: 0.6399\n",
            "Epoch 2/20\n",
            "41/41 [==============================] - 1s 30ms/step - loss: 0.3532 - acc: 0.8683\n",
            "256/256 [==============================] - 15s 60ms/step - loss: 0.5027 - acc: 0.7458 - val_loss: 0.3532 - val_acc: 0.8683\n",
            "Epoch 3/20\n",
            "41/41 [==============================] - 1s 34ms/step - loss: 0.5914 - acc: 0.6921\n",
            "256/256 [==============================] - 17s 65ms/step - loss: 0.4770 - acc: 0.7585 - val_loss: 0.5914 - val_acc: 0.6921\n",
            "Epoch 4/20\n",
            "41/41 [==============================] - 1s 30ms/step - loss: 0.4964 - acc: 0.7607\n",
            "256/256 [==============================] - 16s 61ms/step - loss: 0.4774 - acc: 0.7618 - val_loss: 0.4964 - val_acc: 0.7607\n",
            "Epoch 5/20\n",
            "41/41 [==============================] - 1s 30ms/step - loss: 0.4580 - acc: 0.7903\n",
            "256/256 [==============================] - 15s 60ms/step - loss: 0.4674 - acc: 0.7634 - val_loss: 0.4580 - val_acc: 0.7903\n",
            "Epoch 6/20\n",
            "41/41 [==============================] - 1s 29ms/step - loss: 0.3899 - acc: 0.8527\n",
            "256/256 [==============================] - 16s 61ms/step - loss: 0.4471 - acc: 0.7771 - val_loss: 0.3899 - val_acc: 0.8527\n",
            "Epoch 7/20\n",
            "41/41 [==============================] - 1s 30ms/step - loss: 0.3921 - acc: 0.8581\n",
            "256/256 [==============================] - 15s 60ms/step - loss: 0.4418 - acc: 0.7835 - val_loss: 0.3921 - val_acc: 0.8581\n",
            "Epoch 8/20\n",
            "41/41 [==============================] - 1s 35ms/step - loss: 0.4709 - acc: 0.7896\n",
            "256/256 [==============================] - 16s 63ms/step - loss: 0.4321 - acc: 0.7830 - val_loss: 0.4709 - val_acc: 0.7896\n",
            "Epoch 9/20\n",
            "41/41 [==============================] - 1s 29ms/step - loss: 0.4081 - acc: 0.8504\n",
            "256/256 [==============================] - 17s 66ms/step - loss: 0.4263 - acc: 0.7839 - val_loss: 0.4081 - val_acc: 0.8504\n",
            "Epoch 10/20\n",
            "41/41 [==============================] - 1s 29ms/step - loss: 0.3832 - acc: 0.8745\n",
            "256/256 [==============================] - 15s 60ms/step - loss: 0.4184 - acc: 0.7937 - val_loss: 0.3832 - val_acc: 0.8745\n",
            "Epoch 11/20\n",
            "41/41 [==============================] - 1s 30ms/step - loss: 0.4585 - acc: 0.7872\n",
            "256/256 [==============================] - 15s 60ms/step - loss: 0.4219 - acc: 0.7933 - val_loss: 0.4585 - val_acc: 0.7872\n",
            "Epoch 12/20\n",
            "41/41 [==============================] - 1s 29ms/step - loss: 0.4147 - acc: 0.8262\n",
            "256/256 [==============================] - 15s 60ms/step - loss: 0.4154 - acc: 0.7933 - val_loss: 0.4147 - val_acc: 0.8262\n",
            "Epoch 13/20\n",
            "41/41 [==============================] - 1s 34ms/step - loss: 0.4097 - acc: 0.8285\n",
            "256/256 [==============================] - 16s 64ms/step - loss: 0.4110 - acc: 0.7980 - val_loss: 0.4097 - val_acc: 0.8285\n",
            "Epoch 14/20\n",
            "41/41 [==============================] - 1s 30ms/step - loss: 0.4007 - acc: 0.8504\n",
            "256/256 [==============================] - 16s 62ms/step - loss: 0.4057 - acc: 0.8013 - val_loss: 0.4007 - val_acc: 0.8504\n",
            "Epoch 15/20\n",
            "41/41 [==============================] - 1s 29ms/step - loss: 0.4266 - acc: 0.8137\n",
            "256/256 [==============================] - 15s 60ms/step - loss: 0.4005 - acc: 0.8013 - val_loss: 0.4266 - val_acc: 0.8137\n",
            "Epoch 16/20\n",
            "41/41 [==============================] - 1s 29ms/step - loss: 0.3826 - acc: 0.8706\n",
            "256/256 [==============================] - 15s 60ms/step - loss: 0.4039 - acc: 0.7983 - val_loss: 0.3826 - val_acc: 0.8706\n",
            "Epoch 17/20\n",
            "41/41 [==============================] - 1s 30ms/step - loss: 0.4045 - acc: 0.8613\n",
            "256/256 [==============================] - 16s 61ms/step - loss: 0.3892 - acc: 0.8111 - val_loss: 0.4045 - val_acc: 0.8613\n",
            "Epoch 18/20\n",
            "41/41 [==============================] - 1s 34ms/step - loss: 0.4177 - acc: 0.8441\n",
            "256/256 [==============================] - 16s 62ms/step - loss: 0.3956 - acc: 0.8034 - val_loss: 0.4177 - val_acc: 0.8441\n",
            "Epoch 19/20\n",
            "41/41 [==============================] - 1s 29ms/step - loss: 0.4157 - acc: 0.8589\n",
            "256/256 [==============================] - 16s 64ms/step - loss: 0.3961 - acc: 0.8054 - val_loss: 0.4157 - val_acc: 0.8589\n",
            "Epoch 20/20\n",
            "41/41 [==============================] - 1s 29ms/step - loss: 0.4285 - acc: 0.8293\n",
            "256/256 [==============================] - 15s 60ms/step - loss: 0.3918 - acc: 0.8070 - val_loss: 0.4285 - val_acc: 0.8293\n"
          ],
          "name": "stdout"
        },
        {
          "output_type": "execute_result",
          "data": {
            "text/plain": [
              "<tensorflow.python.keras.callbacks.History at 0x7f5158b55a90>"
            ]
          },
          "metadata": {
            "tags": []
          },
          "execution_count": 46
        }
      ]
    },
    {
      "metadata": {
        "id": "h51wu8qa4crA",
        "colab_type": "text"
      },
      "cell_type": "markdown",
      "source": [
        "## Grid search model"
      ]
    },
    {
      "metadata": {
        "id": "NitMEGDZd3jK",
        "colab_type": "code",
        "colab": {}
      },
      "cell_type": "code",
      "source": [
        "def make_model(units_1, units_2, reg_str_1, reg_str_2):\n",
        "  \n",
        "  conv_base_1 = VGG16(weights='imagenet',\n",
        "                    include_top=False, \n",
        "                    input_shape=(60, 60, 3))\n",
        "  \n",
        "  model = tf.keras.models.Sequential()\n",
        "  \n",
        "  model_1.add(conv_base_1)\n",
        "  \n",
        "  model_1.add(tf.keras.layers.Flatten())\n",
        "  \n",
        "  model_1.add(tf.keras.layers.Dense(units_1, activation='relu',\n",
        "                                   kernel_regularizer=keras.regularizers.l2(l= reg_str_1)))\n",
        "  \n",
        "  model_1.add(tf.keras.layers.Dense(units_2, activation='relu',\n",
        "                                   kernel_regularizer=keras.regularizers.l2(l= reg_str_2)))\n",
        "  \n",
        "  model_1.add(tf.keras.layers.Dense(1, activation='sigmoid'))\n",
        "  \n",
        "  conv_base_1.trainable = False\n",
        "\n",
        "  model.compile(optimizer = 'adam', \n",
        "                  loss='binary_crossentropy',\n",
        "                 metrics=['acc'])\n",
        "  \n",
        "  return model"
      ],
      "execution_count": 0,
      "outputs": []
    },
    {
      "metadata": {
        "id": "131veQyP8ddo",
        "colab_type": "code",
        "colab": {}
      },
      "cell_type": "code",
      "source": [
        "from keras.wrappers.scikit_learn import KerasClassifier\n",
        "from sklearn.model_selection import GridSearchCV, StratifiedShuffleSplit "
      ],
      "execution_count": 0,
      "outputs": []
    },
    {
      "metadata": {
        "id": "MtK5D4Y8j8zF",
        "colab_type": "code",
        "outputId": "47469cec-2a2f-4279-e031-570a100b74c7",
        "colab": {
          "base_uri": "https://localhost:8080/",
          "height": 200
        }
      },
      "cell_type": "code",
      "source": [
        "clf = KerasClassifier(make_model)\n",
        "\n",
        "param_grid = {'epochs': [30],\n",
        "              'units_1': [128,256], \n",
        "              'units_2': [64,128],\n",
        "              'reg_str_1': np.logspace(-3,3,3),\n",
        "              'reg_str_2': np.logspace(-3,3,3)\n",
        "             }\n",
        "\n",
        "grid = GridSearchCV(clf, param_grid=param_grid, cv= StratifiedShuffleSplit(1))\n",
        "grid.fit(X_train, y_train)"
      ],
      "execution_count": 59,
      "outputs": [
        {
          "output_type": "error",
          "ename": "NameError",
          "evalue": "ignored",
          "traceback": [
            "\u001b[0;31m---------------------------------------------------------------------------\u001b[0m",
            "\u001b[0;31mNameError\u001b[0m                                 Traceback (most recent call last)",
            "\u001b[0;32m<ipython-input-59-17b733c4a930>\u001b[0m in \u001b[0;36m<module>\u001b[0;34m()\u001b[0m\n\u001b[1;32m      9\u001b[0m \u001b[0;34m\u001b[0m\u001b[0m\n\u001b[1;32m     10\u001b[0m \u001b[0mgrid\u001b[0m \u001b[0;34m=\u001b[0m \u001b[0mGridSearchCV\u001b[0m\u001b[0;34m(\u001b[0m\u001b[0mclf\u001b[0m\u001b[0;34m,\u001b[0m \u001b[0mparam_grid\u001b[0m\u001b[0;34m=\u001b[0m\u001b[0mparam_grid\u001b[0m\u001b[0;34m,\u001b[0m \u001b[0mcv\u001b[0m\u001b[0;34m=\u001b[0m \u001b[0mStratifiedShuffleSplit\u001b[0m\u001b[0;34m(\u001b[0m\u001b[0;36m1\u001b[0m\u001b[0;34m)\u001b[0m\u001b[0;34m)\u001b[0m\u001b[0;34m\u001b[0m\u001b[0;34m\u001b[0m\u001b[0m\n\u001b[0;32m---> 11\u001b[0;31m \u001b[0mgrid\u001b[0m\u001b[0;34m.\u001b[0m\u001b[0mfit\u001b[0m\u001b[0;34m(\u001b[0m\u001b[0mX_train\u001b[0m\u001b[0;34m,\u001b[0m \u001b[0my_train\u001b[0m\u001b[0;34m)\u001b[0m\u001b[0;34m\u001b[0m\u001b[0;34m\u001b[0m\u001b[0m\n\u001b[0m",
            "\u001b[0;31mNameError\u001b[0m: name 'X_train' is not defined"
          ]
        }
      ]
    }
  ]
}