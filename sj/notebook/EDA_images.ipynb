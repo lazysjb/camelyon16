{
 "cells": [
  {
   "cell_type": "code",
   "execution_count": 1,
   "metadata": {},
   "outputs": [],
   "source": [
    "from glob import glob\n",
    "import os\n",
    "\n",
    "import matplotlib.pyplot as plt\n",
    "import numpy as np\n",
    "import pandas as pd\n",
    "from openslide import open_slide "
   ]
  },
  {
   "cell_type": "code",
   "execution_count": 2,
   "metadata": {},
   "outputs": [],
   "source": [
    "# plt.rcParams['image.cmap']\n",
    "\n",
    "# #plt.rcParams['image.cmap'] = 'Greys'\n",
    "# plt.rcParams['image.cmap'] = 'viridis'"
   ]
  },
  {
   "cell_type": "code",
   "execution_count": null,
   "metadata": {},
   "outputs": [],
   "source": []
  },
  {
   "cell_type": "code",
   "execution_count": 3,
   "metadata": {},
   "outputs": [],
   "source": [
    "SOURCE_IMG_DIR = '/home/sjb/Projects/Columbia/Applied_DL/CamelyonProject/data/source_data/'"
   ]
  },
  {
   "cell_type": "code",
   "execution_count": 4,
   "metadata": {},
   "outputs": [],
   "source": [
    "all_img_paths = glob(SOURCE_IMG_DIR + '*.tif')"
   ]
  },
  {
   "cell_type": "code",
   "execution_count": 5,
   "metadata": {},
   "outputs": [],
   "source": [
    "all_img_filenames = [os.path.basename(x) for x in all_img_paths]"
   ]
  },
  {
   "cell_type": "code",
   "execution_count": 6,
   "metadata": {},
   "outputs": [],
   "source": [
    "all_img_ids = np.unique([x.split('.')[0].split('_')[1] for x in all_img_filenames])"
   ]
  },
  {
   "cell_type": "code",
   "execution_count": 7,
   "metadata": {},
   "outputs": [
    {
     "data": {
      "text/plain": [
       "22"
      ]
     },
     "execution_count": 7,
     "metadata": {},
     "output_type": "execute_result"
    }
   ],
   "source": [
    "len(all_img_ids)"
   ]
  },
  {
   "cell_type": "code",
   "execution_count": null,
   "metadata": {},
   "outputs": [],
   "source": []
  },
  {
   "cell_type": "code",
   "execution_count": 8,
   "metadata": {},
   "outputs": [],
   "source": [
    "img_ids_to_ignore = []\n",
    "\n",
    "for img_id in all_img_ids:\n",
    "    slide_img_filename = 'tumor_{}.tif'.format(img_id)\n",
    "    mask_img_filename = 'tumor_{}_mask.tif'.format(img_id)\n",
    "    \n",
    "    if (slide_img_filename not in all_img_filenames) or\\\n",
    "        (mask_img_filename not in all_img_filenames):\n",
    "        img_ids_to_ignore.append(img_id)"
   ]
  },
  {
   "cell_type": "code",
   "execution_count": 9,
   "metadata": {},
   "outputs": [
    {
     "data": {
      "text/plain": [
       "['038']"
      ]
     },
     "execution_count": 9,
     "metadata": {},
     "output_type": "execute_result"
    }
   ],
   "source": [
    "img_ids_to_ignore"
   ]
  },
  {
   "cell_type": "code",
   "execution_count": 10,
   "metadata": {},
   "outputs": [],
   "source": [
    "all_img_ids = np.setdiff1d(all_img_ids, img_ids_to_ignore)"
   ]
  },
  {
   "cell_type": "code",
   "execution_count": 11,
   "metadata": {},
   "outputs": [
    {
     "data": {
      "text/plain": [
       "array(['001', '002', '005', '012', '016', '019', '023', '031', '035',\n",
       "       '057', '059', '064', '075', '078', '081', '084', '091', '094',\n",
       "       '096', '101', '110'], dtype='<U3')"
      ]
     },
     "execution_count": 11,
     "metadata": {},
     "output_type": "execute_result"
    }
   ],
   "source": [
    "all_img_ids"
   ]
  },
  {
   "cell_type": "code",
   "execution_count": 12,
   "metadata": {},
   "outputs": [],
   "source": [
    "# Read a region from the slide\n",
    "# Return a numpy RBG array\n",
    "def read_slide(slide, x, y, level, width, height, as_float=False):\n",
    "    im = slide.read_region((x,y), level, (width, height))\n",
    "    im = im.convert('RGB') # drop the alpha channel\n",
    "    if as_float:\n",
    "        im = np.asarray(im, dtype=np.float32)\n",
    "    else:\n",
    "        im = np.asarray(im)\n",
    "    assert im.shape == (height, width, 3)\n",
    "    return im"
   ]
  },
  {
   "cell_type": "code",
   "execution_count": 13,
   "metadata": {},
   "outputs": [],
   "source": [
    "meta_infos = []\n",
    "\n",
    "for img_id in all_img_ids:\n",
    "    slide_img_filename = 'tumor_{}.tif'.format(img_id)\n",
    "    mask_img_filename = 'tumor_{}_mask.tif'.format(img_id)\n",
    "    \n",
    "    slide = open_slide(os.path.join(SOURCE_IMG_DIR, slide_img_filename))\n",
    "    mask = open_slide(os.path.join(SOURCE_IMG_DIR, mask_img_filename))\n",
    "    \n",
    "    level_dimensions = slide.level_dimensions\n",
    "    level_downsamples = slide.level_downsamples\n",
    "    \n",
    "    level_5_size = level_dimensions[5][0] * level_dimensions[5][1]\n",
    "    level_5_mask_img = read_slide(mask, \n",
    "                                  x=0,\n",
    "                                  y=0,\n",
    "                                  level=5,\n",
    "                                  width=slide.level_dimensions[5][0],\n",
    "                                  height=slide.level_dimensions[5][1])\n",
    "    level_5_mask_img = level_5_mask_img[:, :, 0]\n",
    "    level_5_mask_size = level_5_mask_img.sum()    \n",
    "    \n",
    "    # In some cases slide level dimensions is more\n",
    "    # Sanity check 1\n",
    "    for i, dims in enumerate(mask.level_dimensions):\n",
    "        assert slide.level_dimensions[i] == dims\n",
    "        \n",
    "    # Sanity check 2\n",
    "    for i, dims in enumerate(slide.level_dimensions):\n",
    "        assert (slide.level_downsamples[i] * np.array(dims)\n",
    "                == np.array(slide.level_dimensions[0])).all()\n",
    "    \n",
    "    for i, dims in enumerate(mask.level_dimensions):\n",
    "        assert (mask.level_downsamples[i] * np.array(dims)\n",
    "                == np.array(mask.level_dimensions[0])).all()\n",
    "        \n",
    "    # Sanity check 3\n",
    "    assert (slide.level_count - mask.level_count) in [0, 1]\n",
    "    \n",
    "    \n",
    "    meta_info = {\n",
    "        'img_id': img_id,\n",
    "        'slide_img_filename': slide_img_filename,\n",
    "        'mask_img_filename': mask_img_filename,\n",
    "        'level_dimensions': level_dimensions,\n",
    "        'level_downsamples': level_downsamples,\n",
    "        'level_5_img_size': level_5_size,\n",
    "        'level_5_mask_area': level_5_mask_size,\n",
    "        'mask_proportion': (level_5_mask_size / level_5_size) * 100\n",
    "    }\n",
    "    \n",
    "    meta_infos.append(meta_info)"
   ]
  },
  {
   "cell_type": "code",
   "execution_count": 14,
   "metadata": {},
   "outputs": [],
   "source": [
    "meta_info_df = pd.DataFrame(meta_infos)"
   ]
  },
  {
   "cell_type": "code",
   "execution_count": 16,
   "metadata": {},
   "outputs": [
    {
     "data": {
      "text/html": [
       "<div>\n",
       "<style scoped>\n",
       "    .dataframe tbody tr th:only-of-type {\n",
       "        vertical-align: middle;\n",
       "    }\n",
       "\n",
       "    .dataframe tbody tr th {\n",
       "        vertical-align: top;\n",
       "    }\n",
       "\n",
       "    .dataframe thead th {\n",
       "        text-align: right;\n",
       "    }\n",
       "</style>\n",
       "<table border=\"1\" class=\"dataframe\">\n",
       "  <thead>\n",
       "    <tr style=\"text-align: right;\">\n",
       "      <th></th>\n",
       "      <th>img_id</th>\n",
       "      <th>level_5_img_size</th>\n",
       "      <th>level_5_mask_area</th>\n",
       "      <th>level_dimensions</th>\n",
       "      <th>level_downsamples</th>\n",
       "      <th>mask_img_filename</th>\n",
       "      <th>mask_proportion</th>\n",
       "      <th>slide_img_filename</th>\n",
       "    </tr>\n",
       "  </thead>\n",
       "  <tbody>\n",
       "    <tr>\n",
       "      <th>0</th>\n",
       "      <td>001</td>\n",
       "      <td>21123072</td>\n",
       "      <td>11116</td>\n",
       "      <td>((97792, 221184), (48896, 110592), (24448, 552...</td>\n",
       "      <td>(1.0, 2.0, 4.0, 8.0, 16.0, 32.0, 64.0, 128.0, ...</td>\n",
       "      <td>tumor_001_mask.tif</td>\n",
       "      <td>0.052625</td>\n",
       "      <td>tumor_001.tif</td>\n",
       "    </tr>\n",
       "    <tr>\n",
       "      <th>1</th>\n",
       "      <td>002</td>\n",
       "      <td>20976384</td>\n",
       "      <td>938</td>\n",
       "      <td>((97792, 219648), (48896, 109824), (24448, 549...</td>\n",
       "      <td>(1.0, 2.0, 4.0, 8.0, 16.0, 32.0, 64.0, 128.0, ...</td>\n",
       "      <td>tumor_002_mask.tif</td>\n",
       "      <td>0.004472</td>\n",
       "      <td>tumor_002.tif</td>\n",
       "    </tr>\n",
       "    <tr>\n",
       "      <th>2</th>\n",
       "      <td>005</td>\n",
       "      <td>20976384</td>\n",
       "      <td>2323</td>\n",
       "      <td>((97792, 219648), (48896, 109824), (24448, 549...</td>\n",
       "      <td>(1.0, 2.0, 4.0, 8.0, 16.0, 32.0, 64.0, 128.0, ...</td>\n",
       "      <td>tumor_005_mask.tif</td>\n",
       "      <td>0.011074</td>\n",
       "      <td>tumor_005.tif</td>\n",
       "    </tr>\n",
       "    <tr>\n",
       "      <th>3</th>\n",
       "      <td>012</td>\n",
       "      <td>20585216</td>\n",
       "      <td>1115</td>\n",
       "      <td>((97792, 215552), (48896, 107776), (24448, 538...</td>\n",
       "      <td>(1.0, 2.0, 4.0, 8.0, 16.0, 32.0, 64.0, 128.0, ...</td>\n",
       "      <td>tumor_012_mask.tif</td>\n",
       "      <td>0.005417</td>\n",
       "      <td>tumor_012.tif</td>\n",
       "    </tr>\n",
       "    <tr>\n",
       "      <th>4</th>\n",
       "      <td>016</td>\n",
       "      <td>21123072</td>\n",
       "      <td>156981</td>\n",
       "      <td>((97792, 221184), (48896, 110592), (24448, 552...</td>\n",
       "      <td>(1.0, 2.0, 4.0, 8.0, 16.0, 32.0, 64.0, 128.0, ...</td>\n",
       "      <td>tumor_016_mask.tif</td>\n",
       "      <td>0.743173</td>\n",
       "      <td>tumor_016.tif</td>\n",
       "    </tr>\n",
       "  </tbody>\n",
       "</table>\n",
       "</div>"
      ],
      "text/plain": [
       "  img_id  level_5_img_size  level_5_mask_area  \\\n",
       "0    001          21123072              11116   \n",
       "1    002          20976384                938   \n",
       "2    005          20976384               2323   \n",
       "3    012          20585216               1115   \n",
       "4    016          21123072             156981   \n",
       "\n",
       "                                    level_dimensions  \\\n",
       "0  ((97792, 221184), (48896, 110592), (24448, 552...   \n",
       "1  ((97792, 219648), (48896, 109824), (24448, 549...   \n",
       "2  ((97792, 219648), (48896, 109824), (24448, 549...   \n",
       "3  ((97792, 215552), (48896, 107776), (24448, 538...   \n",
       "4  ((97792, 221184), (48896, 110592), (24448, 552...   \n",
       "\n",
       "                                   level_downsamples   mask_img_filename  \\\n",
       "0  (1.0, 2.0, 4.0, 8.0, 16.0, 32.0, 64.0, 128.0, ...  tumor_001_mask.tif   \n",
       "1  (1.0, 2.0, 4.0, 8.0, 16.0, 32.0, 64.0, 128.0, ...  tumor_002_mask.tif   \n",
       "2  (1.0, 2.0, 4.0, 8.0, 16.0, 32.0, 64.0, 128.0, ...  tumor_005_mask.tif   \n",
       "3  (1.0, 2.0, 4.0, 8.0, 16.0, 32.0, 64.0, 128.0, ...  tumor_012_mask.tif   \n",
       "4  (1.0, 2.0, 4.0, 8.0, 16.0, 32.0, 64.0, 128.0, ...  tumor_016_mask.tif   \n",
       "\n",
       "   mask_proportion slide_img_filename  \n",
       "0         0.052625      tumor_001.tif  \n",
       "1         0.004472      tumor_002.tif  \n",
       "2         0.011074      tumor_005.tif  \n",
       "3         0.005417      tumor_012.tif  \n",
       "4         0.743173      tumor_016.tif  "
      ]
     },
     "execution_count": 16,
     "metadata": {},
     "output_type": "execute_result"
    }
   ],
   "source": [
    "meta_info_df.head()"
   ]
  },
  {
   "cell_type": "code",
   "execution_count": 35,
   "metadata": {},
   "outputs": [],
   "source": [
    "meta_info_df.to_pickle('../test/tumor_img_meta_info.pkl')"
   ]
  },
  {
   "cell_type": "code",
   "execution_count": 31,
   "metadata": {},
   "outputs": [],
   "source": [
    "binwidth = 0.2"
   ]
  },
  {
   "cell_type": "code",
   "execution_count": 33,
   "metadata": {},
   "outputs": [
    {
     "data": {
      "text/plain": [
       "<matplotlib.axes._subplots.AxesSubplot at 0x7fa0d6b56898>"
      ]
     },
     "execution_count": 33,
     "metadata": {},
     "output_type": "execute_result"
    },
    {
     "data": {
      "image/png": "[encoded data removed]",
      "text/plain": [
       "<Figure size 432x288 with 1 Axes>"
      ]
     },
     "metadata": {
      "needs_background": "light"
     },
     "output_type": "display_data"
    }
   ],
   "source": [
    "mask_proportions = meta_info_df['mask_proportion']\n",
    "mask_proportions.hist(bins=np.arange(mask_proportions.min(), \n",
    "                                     mask_proportions.max() + binwidth,\n",
    "                                     binwidth))"
   ]
  },
  {
   "cell_type": "code",
   "execution_count": 17,
   "metadata": {},
   "outputs": [
    {
     "data": {
      "text/plain": [
       "(1.0, 2.0, 4.0, 8.0, 16.0, 32.0, 64.0, 128.0, 256.0, 512.0)    13\n",
       "(1.0, 2.0, 4.0, 8.0, 16.0, 32.0, 64.0, 128.0, 256.0)            7\n",
       "(1.0, 2.0, 4.0, 8.0, 16.0, 32.0, 64.0, 128.0)                   1\n",
       "Name: level_downsamples, dtype: int64"
      ]
     },
     "execution_count": 17,
     "metadata": {},
     "output_type": "execute_result"
    }
   ],
   "source": [
    "meta_info_df['level_downsamples'].value_counts()"
   ]
  },
  {
   "cell_type": "code",
   "execution_count": 20,
   "metadata": {},
   "outputs": [],
   "source": [
    "orig_img_sizes = meta_info_df['level_dimensions'].str[5].values"
   ]
  },
  {
   "cell_type": "code",
   "execution_count": 21,
   "metadata": {},
   "outputs": [],
   "source": [
    "img_heights = [x[0] for x in orig_img_sizes]\n",
    "img_widths = [x[1] for x in orig_img_sizes]"
   ]
  },
  {
   "cell_type": "code",
   "execution_count": 22,
   "metadata": {},
   "outputs": [
    {
     "data": {
      "text/plain": [
       "<matplotlib.collections.PathCollection at 0x7fa0d6fa0c88>"
      ]
     },
     "execution_count": 22,
     "metadata": {},
     "output_type": "execute_result"
    },
    {
     "data": {
      "image/png": "[encoded data removed]",
      "text/plain": [
       "<Figure size 432x288 with 1 Axes>"
      ]
     },
     "metadata": {
      "needs_background": "light"
     },
     "output_type": "display_data"
    }
   ],
   "source": [
    "plt.scatter(img_widths, img_heights)"
   ]
  },
  {
   "cell_type": "code",
   "execution_count": 34,
   "metadata": {},
   "outputs": [],
   "source": [
    "# my rationale for using Zoom = 5 / img_window = 256 *256"
   ]
  },
  {
   "cell_type": "code",
   "execution_count": null,
   "metadata": {},
   "outputs": [],
   "source": [
    "256 * 256"
   ]
  },
  {
   "cell_type": "code",
   "execution_count": null,
   "metadata": {},
   "outputs": [],
   "source": [
    "ZOOM_LEVEL = 5"
   ]
  },
  {
   "cell_type": "code",
   "execution_count": null,
   "metadata": {},
   "outputs": [],
   "source": [
    "DEST_FILE_DIR = '/home/sjb/Projects/Columbia/Applied_DL/CamelyonProject/data/slide_and_mask_comparison'"
   ]
  },
  {
   "cell_type": "code",
   "execution_count": null,
   "metadata": {},
   "outputs": [],
   "source": []
  },
  {
   "cell_type": "code",
   "execution_count": null,
   "metadata": {},
   "outputs": [],
   "source": [
    "def plot_slide_and_mask_images(slide_image,\n",
    "                               mask_image,\n",
    "                               image_id):\n",
    "    title = 'Image_{}'.format(image_id)\n",
    "    filename = 'image_{}_slide_and_mask_200dpi.png'.format(image_id)\n",
    "    \n",
    "    fig, axes = plt.subplots(1, 3, figsize=(30, 30), dpi=200)\n",
    "    axes[0].imshow(slide_image,)#, aspect='auto')\n",
    "    \n",
    "    axes[1].imshow(slide_image)\n",
    "    axes[1].imshow(mask_image, alpha=0.5)\n",
    "    \n",
    "    axes[2].imshow(mask_image,)# aspect='auto')\n",
    "    \n",
    "    fig.suptitle(title, fontsize=30)\n",
    "    fig.subplots_adjust(top=0.88)\n",
    "    #fig.tight_layout()\n",
    "    fig.tight_layout()\n",
    "    plt.savefig(os.path.join(DEST_FILE_DIR, filename))\n",
    "    plt.close()\n",
    "    #plt.show()"
   ]
  },
  {
   "cell_type": "code",
   "execution_count": null,
   "metadata": {},
   "outputs": [],
   "source": [
    "for img_id in all_img_ids:\n",
    "    slide_img_filename = 'tumor_{}.tif'.format(img_id)\n",
    "    mask_img_filename = 'tumor_{}_mask.tif'.format(img_id)\n",
    "    \n",
    "    slide = open_slide(os.path.join(SOURCE_IMG_DIR, slide_img_filename))\n",
    "    mask = open_slide(os.path.join(SOURCE_IMG_DIR, mask_img_filename))\n",
    "    \n",
    "    slide_image = read_slide(slide, \n",
    "                             x=0, \n",
    "                             y=0, \n",
    "                             level=ZOOM_LEVEL, \n",
    "                             width=slide.level_dimensions[ZOOM_LEVEL][0], \n",
    "                             height=slide.level_dimensions[ZOOM_LEVEL][1])\n",
    "    mask_image = read_slide(mask, \n",
    "                             x=0, \n",
    "                             y=0, \n",
    "                             level=ZOOM_LEVEL, \n",
    "                             width=slide.level_dimensions[ZOOM_LEVEL][0], \n",
    "                             height=slide.level_dimensions[ZOOM_LEVEL][1])\n",
    "    mask_image = mask_image[:, :, 0]\n",
    "    \n",
    "    plot_slide_and_mask_images(slide_image,\n",
    "                               mask_image,\n",
    "                               img_id)"
   ]
  },
  {
   "cell_type": "code",
   "execution_count": null,
   "metadata": {},
   "outputs": [],
   "source": []
  },
  {
   "cell_type": "code",
   "execution_count": null,
   "metadata": {},
   "outputs": [],
   "source": []
  },
  {
   "cell_type": "code",
   "execution_count": null,
   "metadata": {},
   "outputs": [],
   "source": []
  }
 ],
 "metadata": {
  "kernelspec": {
   "display_name": "Python 3",
   "language": "python",
   "name": "python3"
  },
  "language_info": {
   "codemirror_mode": {
    "name": "ipython",
    "version": 3
   },
   "file_extension": ".py",
   "mimetype": "text/x-python",
   "name": "python",
   "nbconvert_exporter": "python",
   "pygments_lexer": "ipython3",
   "version": "3.6.8"
  }
 },
 "nbformat": 4,
 "nbformat_minor": 2
}
