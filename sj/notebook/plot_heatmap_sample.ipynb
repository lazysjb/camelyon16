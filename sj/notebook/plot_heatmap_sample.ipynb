{
 "cells": [
  {
   "cell_type": "markdown",
   "metadata": {},
   "source": [
    "### Plot Prediction Result to a Heatmap"
   ]
  },
  {
   "cell_type": "code",
   "execution_count": 1,
   "metadata": {},
   "outputs": [],
   "source": [
    "import sys\n",
    "sys.path.append('../../')"
   ]
  },
  {
   "cell_type": "code",
   "execution_count": 2,
   "metadata": {},
   "outputs": [],
   "source": [
    "from common.utils.image_preprocess import read_slide"
   ]
  },
  {
   "cell_type": "code",
   "execution_count": 3,
   "metadata": {},
   "outputs": [],
   "source": [
    "import os\n",
    "from openslide import open_slide\n",
    "import matplotlib.pyplot as plt\n",
    "import math\n",
    "import numpy as np\n",
    "from PIL import Image\n",
    "from glob import glob\n",
    "import pandas as pd\n",
    "from tqdm import tqdm"
   ]
  },
  {
   "cell_type": "code",
   "execution_count": 10,
   "metadata": {},
   "outputs": [],
   "source": [
    "SOURCE_IMG_DATA_DIR = '/Users/seung-jae_bang/Personal/Columbia/Applied_DL/Camelyon_Project/data/source_data/'\n",
    "SAMPLE_PRED_DATA_DIR = '/home/sjb/Projects/Columbia/Applied_DL/CamelyonProject/data/sample_data/'\n",
    "\n",
    "ZOOM_LEVEL = 5"
   ]
  },
  {
   "cell_type": "code",
   "execution_count": 11,
   "metadata": {},
   "outputs": [],
   "source": [
    "source_slide_img_file_name = 'tumor_002.tif'\n",
    "source_mask_img_file_name = 'tumor_002_mask.tif'"
   ]
  },
  {
   "cell_type": "code",
   "execution_count": 12,
   "metadata": {},
   "outputs": [],
   "source": [
    "# slide = open_slide(os.path.join(SOURCE_IMG_DATA_DIR, source_slide_img_file_name))\n",
    "mask = open_slide(os.path.join(SOURCE_IMG_DATA_DIR, source_mask_img_file_name))"
   ]
  },
  {
   "cell_type": "code",
   "execution_count": 13,
   "metadata": {},
   "outputs": [
    {
     "data": {
      "text/plain": [
       "((97792, 219648),\n",
       " (48896, 109824),\n",
       " (24448, 54912),\n",
       " (12224, 27456),\n",
       " (6112, 13728),\n",
       " (3056, 6864),\n",
       " (1528, 3432),\n",
       " (764, 1716),\n",
       " (382, 858))"
      ]
     },
     "execution_count": 13,
     "metadata": {},
     "output_type": "execute_result"
    }
   ],
   "source": [
    "mask.level_dimensions"
   ]
  },
  {
   "cell_type": "code",
   "execution_count": 15,
   "metadata": {},
   "outputs": [
    {
     "data": {
      "text/plain": [
       "<matplotlib.image.AxesImage at 0x11d7d9828>"
      ]
     },
     "execution_count": 15,
     "metadata": {},
     "output_type": "execute_result"
    },
    {
     "data": {
      "image/png": "[encoded data removed]",
      "text/plain": [
       "<Figure size 800x800 with 1 Axes>"
      ]
     },
     "metadata": {
      "needs_background": "light"
     },
     "output_type": "display_data"
    }
   ],
   "source": [
    "# slide_img = read_slide(slide, \n",
    "#                          x=0, \n",
    "#                          y=0, \n",
    "#                          level=5, \n",
    "#                          width=slide.level_dimensions[5][0], \n",
    "#                          height=slide.level_dimensions[5][1])\n",
    "\n",
    "mask_img = read_slide(mask,\n",
    "                      x=0,\n",
    "                      y=0,\n",
    "                      level=5,\n",
    "                      width=mask.level_dimensions[5][0],\n",
    "                      height=mask.level_dimensions[5][1])[:, :, 0]\n",
    "\n",
    "plt.figure(figsize=(8,8), dpi=100)\n",
    "# plt.imshow(slide_img)\n",
    "plt.imshow(mask_img)"
   ]
  },
  {
   "cell_type": "code",
   "execution_count": 16,
   "metadata": {},
   "outputs": [
    {
     "data": {
      "text/plain": [
       "(6864, 3056)"
      ]
     },
     "execution_count": 16,
     "metadata": {},
     "output_type": "execute_result"
    }
   ],
   "source": [
    "mask_img.shape"
   ]
  },
  {
   "cell_type": "code",
   "execution_count": null,
   "metadata": {},
   "outputs": [],
   "source": []
  },
  {
   "cell_type": "markdown",
   "metadata": {},
   "source": [
    "#### Post Process Prediction Mask"
   ]
  },
  {
   "cell_type": "code",
   "execution_count": 17,
   "metadata": {},
   "outputs": [],
   "source": [
    "def get_row_col_id_from_file_name(file_name, component_idxes):\n",
    "    components = file_name.split('.')[0].split('_')\n",
    "    return (components[component_idxes[0]], components[component_idxes[1]])\n",
    "\n",
    "def get_row_col_ids_from_file_name_list(file_name_list, component_idxes=(4, 5)):\n",
    "    temp = [get_row_col_id_from_file_name(f, component_idxes=component_idxes) for f in file_name_list]\n",
    "    \n",
    "    row_ids, col_ids = list(zip(*temp))\n",
    "    row_ids = np.sort(np.unique(row_ids).astype(int))\n",
    "    col_ids = np.sort(np.unique(col_ids).astype(int))\n",
    "    \n",
    "    return (row_ids, col_ids)"
   ]
  },
  {
   "cell_type": "code",
   "execution_count": 18,
   "metadata": {},
   "outputs": [],
   "source": [
    "def get_mask_range_for_pred(pred_row_id, pred_col_id, pred_width, pred_height, zoom_factor):\n",
    "    \n",
    "    x_start = int((pred_row_id * pred_height) / zoom_factor)\n",
    "    x_end = int(((pred_row_id + 1) * pred_height) / zoom_factor)\n",
    "    \n",
    "    y_start = int((pred_col_id * pred_width) / zoom_factor)\n",
    "    y_end = int(((pred_col_id + 1) * pred_width) / zoom_factor)\n",
    "    \n",
    "    return x_start, x_end, y_start, y_end"
   ]
  },
  {
   "cell_type": "code",
   "execution_count": null,
   "metadata": {},
   "outputs": [],
   "source": []
  },
  {
   "cell_type": "code",
   "execution_count": null,
   "metadata": {},
   "outputs": [],
   "source": [
    "inference_file_name = 'zoom_2_200_200_slide_091_sample_pred.csv'"
   ]
  },
  {
   "cell_type": "code",
   "execution_count": null,
   "metadata": {},
   "outputs": [],
   "source": [
    "inference_df = pd.read_csv(os.path.join(SAMPLE_PRED_DATA_DIR, inference_file_name))"
   ]
  },
  {
   "cell_type": "code",
   "execution_count": null,
   "metadata": {},
   "outputs": [],
   "source": [
    "inference_df.head()"
   ]
  },
  {
   "cell_type": "code",
   "execution_count": null,
   "metadata": {},
   "outputs": [],
   "source": [
    "pred_mask = np.zeros_like(mask_img).astype(float)"
   ]
  },
  {
   "cell_type": "code",
   "execution_count": null,
   "metadata": {},
   "outputs": [],
   "source": [
    "pred_mask.sum()"
   ]
  },
  {
   "cell_type": "code",
   "execution_count": null,
   "metadata": {},
   "outputs": [],
   "source": [
    "downsample_factors = slide.level_downsamples"
   ]
  },
  {
   "cell_type": "code",
   "execution_count": null,
   "metadata": {},
   "outputs": [],
   "source": [
    "factor_ratio = downsample_factors[5] / downsample_factors[2]"
   ]
  },
  {
   "cell_type": "code",
   "execution_count": null,
   "metadata": {},
   "outputs": [],
   "source": [
    "factor_ratio"
   ]
  },
  {
   "cell_type": "code",
   "execution_count": null,
   "metadata": {},
   "outputs": [],
   "source": [
    "for idx, row in inference_df.iterrows():\n",
    "    pred_row_id, pred_col_id = get_row_col_id_from_file_name(row['file_name'],\n",
    "                                                             component_idxes=(4, 5))\n",
    "    pred_row_id, pred_col_id = int(pred_row_id), int(pred_col_id)\n",
    "    x_start, x_end, y_start, y_end = get_mask_range_for_pred(pred_row_id, \n",
    "                                                             pred_col_id, \n",
    "                                                             200, \n",
    "                                                             200, \n",
    "                                                             8)\n",
    "    pred_mask[x_start:x_end, y_start:y_end] = row['y_pred_prob']"
   ]
  },
  {
   "cell_type": "code",
   "execution_count": null,
   "metadata": {},
   "outputs": [],
   "source": [
    "pred_mask.sum()"
   ]
  },
  {
   "cell_type": "code",
   "execution_count": null,
   "metadata": {},
   "outputs": [],
   "source": [
    "inference_df['y_pred_prob'].sum() * 625"
   ]
  },
  {
   "cell_type": "code",
   "execution_count": null,
   "metadata": {},
   "outputs": [],
   "source": [
    "plt.figure(figsize=(8,8), dpi=100)\n",
    "plt.imshow(slide_img)\n",
    "plt.imshow(pred_mask, alpha=0.3)"
   ]
  },
  {
   "cell_type": "code",
   "execution_count": null,
   "metadata": {},
   "outputs": [],
   "source": [
    "plt.figure(figsize=(8,8), dpi=100)\n",
    "plt.imshow(mask_img)"
   ]
  },
  {
   "cell_type": "code",
   "execution_count": null,
   "metadata": {},
   "outputs": [],
   "source": [
    "plt.figure(figsize=(8,8), dpi=100)\n",
    "plt.imshow(pred_mask, cmap='jet', interpolation='nearest')\n",
    "# plt.imshow(mask_img, cmap='jet', alpha=0.1)\n",
    "plt.colorbar()"
   ]
  },
  {
   "cell_type": "code",
   "execution_count": null,
   "metadata": {},
   "outputs": [],
   "source": [
    "# plt.imshow(heat_map, cmap='jet', interpolation='nearest')\n",
    "#             plt.colorbar()\n",
    "#             plt.clim(0.00, 1.00)\n",
    "#             plt.axis([0, heatmap_rgb.shape[1], 0, heatmap_rgb.shape[0]])\n",
    "#             plt.savefig(heatmap_filename)\n",
    "#             plt.clf()"
   ]
  }
 ],
 "metadata": {
  "kernelspec": {
   "display_name": "Python 3",
   "language": "python",
   "name": "python3"
  },
  "language_info": {
   "codemirror_mode": {
    "name": "ipython",
    "version": 3
   },
   "file_extension": ".py",
   "mimetype": "text/x-python",
   "name": "python",
   "nbconvert_exporter": "python",
   "pygments_lexer": "ipython3",
   "version": "3.7.3"
  }
 },
 "nbformat": 4,
 "nbformat_minor": 2
}
