{
 "cells": [
  {
   "cell_type": "code",
   "execution_count": 4,
   "metadata": {},
   "outputs": [],
   "source": [
    "import json\n",
    "import pandas as pd\n",
    "import os"
   ]
  },
  {
   "cell_type": "code",
   "execution_count": 10,
   "metadata": {},
   "outputs": [],
   "source": [
    "SOURCE_DIR = '/Users/seungjaebang/Projects/Personal/Columbia/applied_dl/Camelyon_Project/data/'"
   ]
  },
  {
   "cell_type": "code",
   "execution_count": 22,
   "metadata": {},
   "outputs": [],
   "source": [
    "label_file = 'zoom_5_60_60_partition_labels.json'\n",
    "grayscale_file = 'zoom_5_60_60_partition_grayscale_info.json'\n",
    "train_test_split_file = 'train_val_test_split.json'"
   ]
  },
  {
   "cell_type": "code",
   "execution_count": 13,
   "metadata": {},
   "outputs": [],
   "source": [
    "label_df = pd.read_json(os.path.join(SOURCE_DIR, \n",
    "                                     'zoom_5_60_60_partition',\n",
    "                                     'meta',\n",
    "                                     label_file), dtype=False)\n",
    "grayscale_df = pd.read_json(os.path.join(SOURCE_DIR, \n",
    "                                         'zoom_5_60_60_partition',\n",
    "                                         'meta',\n",
    "                                         grayscale_file), dtype=False)"
   ]
  },
  {
   "cell_type": "code",
   "execution_count": 23,
   "metadata": {},
   "outputs": [],
   "source": [
    "train_test_split_df = pd.read_json(os.path.join(SOURCE_DIR,\n",
    "                                                train_test_split_file), dtype=False)"
   ]
  },
  {
   "cell_type": "code",
   "execution_count": 25,
   "metadata": {},
   "outputs": [
    {
     "data": {
      "text/plain": [
       "((88228, 3), (88228, 3), (21, 2))"
      ]
     },
     "execution_count": 25,
     "metadata": {},
     "output_type": "execute_result"
    }
   ],
   "source": [
    "label_df.shape, grayscale_df.shape, train_test_split_df.shape"
   ]
  },
  {
   "cell_type": "code",
   "execution_count": 28,
   "metadata": {},
   "outputs": [],
   "source": [
    "all_df = grayscale_df.merge(\n",
    "    label_df.drop('img_id', axis=1), on='file_name').merge(\n",
    "        train_test_split_df, on='img_id')"
   ]
  },
  {
   "cell_type": "code",
   "execution_count": 29,
   "metadata": {},
   "outputs": [
    {
     "data": {
      "text/plain": [
       "(88228, 5)"
      ]
     },
     "execution_count": 29,
     "metadata": {},
     "output_type": "execute_result"
    }
   ],
   "source": [
    "all_df.shape"
   ]
  },
  {
   "cell_type": "code",
   "execution_count": 39,
   "metadata": {},
   "outputs": [],
   "source": [
    "GRAYSCALE_TOL = 0.4"
   ]
  },
  {
   "cell_type": "code",
   "execution_count": 40,
   "metadata": {},
   "outputs": [],
   "source": [
    "all_df['include'] = (all_df['non_gray_ratio'] >= GRAYSCALE_TOL).astype(int)"
   ]
  },
  {
   "cell_type": "code",
   "execution_count": 42,
   "metadata": {},
   "outputs": [
    {
     "data": {
      "text/plain": [
       "0    80757\n",
       "1     7471\n",
       "Name: include, dtype: int64"
      ]
     },
     "execution_count": 42,
     "metadata": {},
     "output_type": "execute_result"
    }
   ],
   "source": [
    "all_df['include'].value_counts()"
   ]
  },
  {
   "cell_type": "code",
   "execution_count": 43,
   "metadata": {},
   "outputs": [],
   "source": [
    "list_of_records = all_df.to_dict('records')"
   ]
  },
  {
   "cell_type": "code",
   "execution_count": 45,
   "metadata": {},
   "outputs": [],
   "source": [
    "output_filename = 'all_info_0.4_grayscale_tol.json'"
   ]
  },
  {
   "cell_type": "code",
   "execution_count": 46,
   "metadata": {},
   "outputs": [],
   "source": [
    "with open(os.path.join(SOURCE_DIR, \n",
    "                       'zoom_5_60_60_partition',\n",
    "                       'meta',\n",
    "                       output_filename), 'w') as f:\n",
    "    json.dump(list_of_records, f, indent=4)"
   ]
  },
  {
   "cell_type": "code",
   "execution_count": null,
   "metadata": {},
   "outputs": [],
   "source": []
  }
 ],
 "metadata": {
  "kernelspec": {
   "display_name": "Python 3",
   "language": "python",
   "name": "python3"
  },
  "language_info": {
   "codemirror_mode": {
    "name": "ipython",
    "version": 3
   },
   "file_extension": ".py",
   "mimetype": "text/x-python",
   "name": "python",
   "nbconvert_exporter": "python",
   "pygments_lexer": "ipython3",
   "version": "3.6.4"
  }
 },
 "nbformat": 4,
 "nbformat_minor": 2
}
