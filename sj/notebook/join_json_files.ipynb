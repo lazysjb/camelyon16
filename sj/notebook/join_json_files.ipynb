{
 "cells": [
  {
   "cell_type": "code",
   "execution_count": 1,
   "metadata": {},
   "outputs": [],
   "source": [
    "import json\n",
    "import pandas as pd\n",
    "import os"
   ]
  },
  {
   "cell_type": "code",
   "execution_count": 5,
   "metadata": {},
   "outputs": [],
   "source": [
    "SOURCE_DIR = '/home/sjb/Projects/Columbia/Applied_DL/CamelyonProject/data/'"
   ]
  },
  {
   "cell_type": "code",
   "execution_count": 6,
   "metadata": {},
   "outputs": [],
   "source": [
    "label_file = 'zoom_1_256_256_partition_labels.json'\n",
    "grayscale_file = 'zoom_1_256_256_partition_grayscale_info.json'\n",
    "train_test_split_file = 'train_val_test_split.json'"
   ]
  },
  {
   "cell_type": "code",
   "execution_count": 7,
   "metadata": {},
   "outputs": [],
   "source": [
    "label_df = pd.read_json(os.path.join(SOURCE_DIR, \n",
    "                                     'zoom_1_256_256_partition',\n",
    "                                     'meta',\n",
    "                                     label_file), dtype=False)\n",
    "grayscale_df = pd.read_json(os.path.join(SOURCE_DIR, \n",
    "                                         'zoom_1_256_256_partition',\n",
    "                                         'meta',\n",
    "                                         grayscale_file), dtype=False)"
   ]
  },
  {
   "cell_type": "code",
   "execution_count": 8,
   "metadata": {},
   "outputs": [],
   "source": [
    "train_test_split_df = pd.read_json(os.path.join(SOURCE_DIR,\n",
    "                                                train_test_split_file), dtype=False)"
   ]
  },
  {
   "cell_type": "code",
   "execution_count": 9,
   "metadata": {},
   "outputs": [
    {
     "data": {
      "text/plain": [
       "((1266294, 3), (1266294, 3), (21, 2))"
      ]
     },
     "execution_count": 9,
     "metadata": {},
     "output_type": "execute_result"
    }
   ],
   "source": [
    "label_df.shape, grayscale_df.shape, train_test_split_df.shape"
   ]
  },
  {
   "cell_type": "code",
   "execution_count": 10,
   "metadata": {},
   "outputs": [],
   "source": [
    "all_df = grayscale_df.merge(\n",
    "    label_df.drop('img_id', axis=1), on='file_name').merge(\n",
    "        train_test_split_df, on='img_id')"
   ]
  },
  {
   "cell_type": "code",
   "execution_count": 11,
   "metadata": {},
   "outputs": [
    {
     "data": {
      "text/plain": [
       "(1266294, 5)"
      ]
     },
     "execution_count": 11,
     "metadata": {},
     "output_type": "execute_result"
    }
   ],
   "source": [
    "all_df.shape"
   ]
  },
  {
   "cell_type": "code",
   "execution_count": 13,
   "metadata": {},
   "outputs": [
    {
     "data": {
      "text/plain": [
       "(1266294, 3)"
      ]
     },
     "execution_count": 13,
     "metadata": {},
     "output_type": "execute_result"
    }
   ],
   "source": [
    "grayscale_df.shape"
   ]
  },
  {
   "cell_type": "code",
   "execution_count": 14,
   "metadata": {},
   "outputs": [],
   "source": [
    "GRAYSCALE_TOL = 0.4"
   ]
  },
  {
   "cell_type": "code",
   "execution_count": 15,
   "metadata": {},
   "outputs": [],
   "source": [
    "all_df['include'] = (all_df['non_gray_ratio'] >= GRAYSCALE_TOL).astype(int)"
   ]
  },
  {
   "cell_type": "code",
   "execution_count": 16,
   "metadata": {},
   "outputs": [
    {
     "data": {
      "text/plain": [
       "0    1163719\n",
       "1     102575\n",
       "Name: include, dtype: int64"
      ]
     },
     "execution_count": 16,
     "metadata": {},
     "output_type": "execute_result"
    }
   ],
   "source": [
    "all_df['include'].value_counts()"
   ]
  },
  {
   "cell_type": "code",
   "execution_count": 17,
   "metadata": {},
   "outputs": [
    {
     "data": {
      "text/html": [
       "<div>\n",
       "<style scoped>\n",
       "    .dataframe tbody tr th:only-of-type {\n",
       "        vertical-align: middle;\n",
       "    }\n",
       "\n",
       "    .dataframe tbody tr th {\n",
       "        vertical-align: top;\n",
       "    }\n",
       "\n",
       "    .dataframe thead th {\n",
       "        text-align: right;\n",
       "    }\n",
       "</style>\n",
       "<table border=\"1\" class=\"dataframe\">\n",
       "  <thead>\n",
       "    <tr style=\"text-align: right;\">\n",
       "      <th></th>\n",
       "      <th>file_name</th>\n",
       "      <th>img_id</th>\n",
       "      <th>non_gray_ratio</th>\n",
       "      <th>label</th>\n",
       "      <th>type</th>\n",
       "      <th>include</th>\n",
       "    </tr>\n",
       "  </thead>\n",
       "  <tbody>\n",
       "    <tr>\n",
       "      <th>0</th>\n",
       "      <td>tumor_slide_001_split_249_24.png</td>\n",
       "      <td>001</td>\n",
       "      <td>0.016266</td>\n",
       "      <td>0</td>\n",
       "      <td>val</td>\n",
       "      <td>0</td>\n",
       "    </tr>\n",
       "    <tr>\n",
       "      <th>1</th>\n",
       "      <td>tumor_slide_001_split_31_127.png</td>\n",
       "      <td>001</td>\n",
       "      <td>0.004410</td>\n",
       "      <td>0</td>\n",
       "      <td>val</td>\n",
       "      <td>0</td>\n",
       "    </tr>\n",
       "    <tr>\n",
       "      <th>2</th>\n",
       "      <td>tumor_slide_001_split_108_188.png</td>\n",
       "      <td>001</td>\n",
       "      <td>0.000320</td>\n",
       "      <td>0</td>\n",
       "      <td>val</td>\n",
       "      <td>0</td>\n",
       "    </tr>\n",
       "    <tr>\n",
       "      <th>3</th>\n",
       "      <td>tumor_slide_001_split_406_51.png</td>\n",
       "      <td>001</td>\n",
       "      <td>0.000000</td>\n",
       "      <td>0</td>\n",
       "      <td>val</td>\n",
       "      <td>0</td>\n",
       "    </tr>\n",
       "    <tr>\n",
       "      <th>4</th>\n",
       "      <td>tumor_slide_001_split_160_72.png</td>\n",
       "      <td>001</td>\n",
       "      <td>0.720123</td>\n",
       "      <td>0</td>\n",
       "      <td>val</td>\n",
       "      <td>1</td>\n",
       "    </tr>\n",
       "  </tbody>\n",
       "</table>\n",
       "</div>"
      ],
      "text/plain": [
       "                           file_name img_id  non_gray_ratio  label type  \\\n",
       "0   tumor_slide_001_split_249_24.png    001        0.016266      0  val   \n",
       "1   tumor_slide_001_split_31_127.png    001        0.004410      0  val   \n",
       "2  tumor_slide_001_split_108_188.png    001        0.000320      0  val   \n",
       "3   tumor_slide_001_split_406_51.png    001        0.000000      0  val   \n",
       "4   tumor_slide_001_split_160_72.png    001        0.720123      0  val   \n",
       "\n",
       "   include  \n",
       "0        0  \n",
       "1        0  \n",
       "2        0  \n",
       "3        0  \n",
       "4        1  "
      ]
     },
     "execution_count": 17,
     "metadata": {},
     "output_type": "execute_result"
    }
   ],
   "source": [
    "all_df.head()"
   ]
  },
  {
   "cell_type": "code",
   "execution_count": 18,
   "metadata": {},
   "outputs": [],
   "source": [
    "mask = (all_df['label'] == 1) & (all_df['include'] == 0) "
   ]
  },
  {
   "cell_type": "code",
   "execution_count": 22,
   "metadata": {},
   "outputs": [],
   "source": [
    "list_of_records = all_df.to_dict('records')"
   ]
  },
  {
   "cell_type": "code",
   "execution_count": 23,
   "metadata": {},
   "outputs": [],
   "source": [
    "output_filename = 'all_info_0.4_grayscale_tol.json'"
   ]
  },
  {
   "cell_type": "code",
   "execution_count": 24,
   "metadata": {},
   "outputs": [],
   "source": [
    "with open(os.path.join(SOURCE_DIR, \n",
    "                       'zoom_1_256_256_partition',\n",
    "                       'meta',\n",
    "                       output_filename), 'w') as f:\n",
    "    json.dump(list_of_records, f, indent=4)"
   ]
  },
  {
   "cell_type": "code",
   "execution_count": null,
   "metadata": {},
   "outputs": [],
   "source": []
  }
 ],
 "metadata": {
  "kernelspec": {
   "display_name": "Python 3",
   "language": "python",
   "name": "python3"
  },
  "language_info": {
   "codemirror_mode": {
    "name": "ipython",
    "version": 3
   },
   "file_extension": ".py",
   "mimetype": "text/x-python",
   "name": "python",
   "nbconvert_exporter": "python",
   "pygments_lexer": "ipython3",
   "version": "3.6.8"
  }
 },
 "nbformat": 4,
 "nbformat_minor": 2
}
