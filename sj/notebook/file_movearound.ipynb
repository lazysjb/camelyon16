{
 "cells": [
  {
   "cell_type": "code",
   "execution_count": 1,
   "metadata": {},
   "outputs": [],
   "source": [
    "import shutil\n",
    "from glob import glob\n",
    "import pandas as pd\n",
    "import os\n",
    "import numpy as np"
   ]
  },
  {
   "cell_type": "code",
   "execution_count": null,
   "metadata": {},
   "outputs": [],
   "source": []
  },
  {
   "cell_type": "code",
   "execution_count": 2,
   "metadata": {},
   "outputs": [],
   "source": [
    "meta_info_df = pd.read_pickle('../../../data/tumor_img_meta_info.pkl')\n",
    "train_test_split_df = pd.read_pickle('../../../data/train_val_test_split.pkl')"
   ]
  },
  {
   "cell_type": "code",
   "execution_count": 3,
   "metadata": {},
   "outputs": [],
   "source": [
    "meta_info_df = meta_info_df.merge(train_test_split_df, on='img_id')"
   ]
  },
  {
   "cell_type": "code",
   "execution_count": 4,
   "metadata": {},
   "outputs": [
    {
     "data": {
      "text/html": [
       "<div>\n",
       "<style scoped>\n",
       "    .dataframe tbody tr th:only-of-type {\n",
       "        vertical-align: middle;\n",
       "    }\n",
       "\n",
       "    .dataframe tbody tr th {\n",
       "        vertical-align: top;\n",
       "    }\n",
       "\n",
       "    .dataframe thead th {\n",
       "        text-align: right;\n",
       "    }\n",
       "</style>\n",
       "<table border=\"1\" class=\"dataframe\">\n",
       "  <thead>\n",
       "    <tr style=\"text-align: right;\">\n",
       "      <th></th>\n",
       "      <th>img_id</th>\n",
       "      <th>level_5_img_size</th>\n",
       "      <th>level_5_mask_area</th>\n",
       "      <th>level_dimensions</th>\n",
       "      <th>level_downsamples</th>\n",
       "      <th>mask_img_filename</th>\n",
       "      <th>mask_proportion</th>\n",
       "      <th>slide_img_filename</th>\n",
       "      <th>type</th>\n",
       "    </tr>\n",
       "  </thead>\n",
       "  <tbody>\n",
       "    <tr>\n",
       "      <th>0</th>\n",
       "      <td>001</td>\n",
       "      <td>21123072</td>\n",
       "      <td>11116</td>\n",
       "      <td>((97792, 221184), (48896, 110592), (24448, 552...</td>\n",
       "      <td>(1.0, 2.0, 4.0, 8.0, 16.0, 32.0, 64.0, 128.0, ...</td>\n",
       "      <td>tumor_001_mask.tif</td>\n",
       "      <td>0.052625</td>\n",
       "      <td>tumor_001.tif</td>\n",
       "      <td>val</td>\n",
       "    </tr>\n",
       "    <tr>\n",
       "      <th>1</th>\n",
       "      <td>002</td>\n",
       "      <td>20976384</td>\n",
       "      <td>938</td>\n",
       "      <td>((97792, 219648), (48896, 109824), (24448, 549...</td>\n",
       "      <td>(1.0, 2.0, 4.0, 8.0, 16.0, 32.0, 64.0, 128.0, ...</td>\n",
       "      <td>tumor_002_mask.tif</td>\n",
       "      <td>0.004472</td>\n",
       "      <td>tumor_002.tif</td>\n",
       "      <td>test</td>\n",
       "    </tr>\n",
       "    <tr>\n",
       "      <th>2</th>\n",
       "      <td>005</td>\n",
       "      <td>20976384</td>\n",
       "      <td>2323</td>\n",
       "      <td>((97792, 219648), (48896, 109824), (24448, 549...</td>\n",
       "      <td>(1.0, 2.0, 4.0, 8.0, 16.0, 32.0, 64.0, 128.0, ...</td>\n",
       "      <td>tumor_005_mask.tif</td>\n",
       "      <td>0.011074</td>\n",
       "      <td>tumor_005.tif</td>\n",
       "      <td>train</td>\n",
       "    </tr>\n",
       "    <tr>\n",
       "      <th>3</th>\n",
       "      <td>012</td>\n",
       "      <td>20585216</td>\n",
       "      <td>1115</td>\n",
       "      <td>((97792, 215552), (48896, 107776), (24448, 538...</td>\n",
       "      <td>(1.0, 2.0, 4.0, 8.0, 16.0, 32.0, 64.0, 128.0, ...</td>\n",
       "      <td>tumor_012_mask.tif</td>\n",
       "      <td>0.005417</td>\n",
       "      <td>tumor_012.tif</td>\n",
       "      <td>val</td>\n",
       "    </tr>\n",
       "    <tr>\n",
       "      <th>4</th>\n",
       "      <td>016</td>\n",
       "      <td>21123072</td>\n",
       "      <td>156981</td>\n",
       "      <td>((97792, 221184), (48896, 110592), (24448, 552...</td>\n",
       "      <td>(1.0, 2.0, 4.0, 8.0, 16.0, 32.0, 64.0, 128.0, ...</td>\n",
       "      <td>tumor_016_mask.tif</td>\n",
       "      <td>0.743173</td>\n",
       "      <td>tumor_016.tif</td>\n",
       "      <td>train</td>\n",
       "    </tr>\n",
       "  </tbody>\n",
       "</table>\n",
       "</div>"
      ],
      "text/plain": [
       "  img_id  level_5_img_size  level_5_mask_area  \\\n",
       "0    001          21123072              11116   \n",
       "1    002          20976384                938   \n",
       "2    005          20976384               2323   \n",
       "3    012          20585216               1115   \n",
       "4    016          21123072             156981   \n",
       "\n",
       "                                    level_dimensions  \\\n",
       "0  ((97792, 221184), (48896, 110592), (24448, 552...   \n",
       "1  ((97792, 219648), (48896, 109824), (24448, 549...   \n",
       "2  ((97792, 219648), (48896, 109824), (24448, 549...   \n",
       "3  ((97792, 215552), (48896, 107776), (24448, 538...   \n",
       "4  ((97792, 221184), (48896, 110592), (24448, 552...   \n",
       "\n",
       "                                   level_downsamples   mask_img_filename  \\\n",
       "0  (1.0, 2.0, 4.0, 8.0, 16.0, 32.0, 64.0, 128.0, ...  tumor_001_mask.tif   \n",
       "1  (1.0, 2.0, 4.0, 8.0, 16.0, 32.0, 64.0, 128.0, ...  tumor_002_mask.tif   \n",
       "2  (1.0, 2.0, 4.0, 8.0, 16.0, 32.0, 64.0, 128.0, ...  tumor_005_mask.tif   \n",
       "3  (1.0, 2.0, 4.0, 8.0, 16.0, 32.0, 64.0, 128.0, ...  tumor_012_mask.tif   \n",
       "4  (1.0, 2.0, 4.0, 8.0, 16.0, 32.0, 64.0, 128.0, ...  tumor_016_mask.tif   \n",
       "\n",
       "   mask_proportion slide_img_filename   type  \n",
       "0         0.052625      tumor_001.tif    val  \n",
       "1         0.004472      tumor_002.tif   test  \n",
       "2         0.011074      tumor_005.tif  train  \n",
       "3         0.005417      tumor_012.tif    val  \n",
       "4         0.743173      tumor_016.tif  train  "
      ]
     },
     "execution_count": 4,
     "metadata": {},
     "output_type": "execute_result"
    }
   ],
   "source": [
    "meta_info_df.head()"
   ]
  },
  {
   "cell_type": "code",
   "execution_count": null,
   "metadata": {},
   "outputs": [],
   "source": []
  },
  {
   "cell_type": "code",
   "execution_count": 5,
   "metadata": {},
   "outputs": [],
   "source": [
    "SOURCE_PARTITION_DIR = '/home/sjb/Projects/Columbia/Applied_DL/CamelyonProject/data/temp_partitions_dir/'\n",
    "DEST_DIR = '/home/sjb/Projects/Columbia/Applied_DL/CamelyonProject/data/zoom_5_60_60_partition'"
   ]
  },
  {
   "cell_type": "code",
   "execution_count": 6,
   "metadata": {},
   "outputs": [],
   "source": [
    "# for split_type in ['train', 'val', 'test']:\n",
    "    \n",
    "#     dest_sub_dir = os.path.join(DEST_DIR, split_type)\n",
    "    \n",
    "#     if not os.path.exists(dest_sub_dir):\n",
    "#         os.mkdir(dest_sub_dir)\n",
    "#         print('Creating directory', dest_sub_dir)\n",
    "    \n",
    "#     filtered_df = meta_info_df[meta_info_df['type'] == split_type]\n",
    "#     img_id_list = filtered_df['img_id'].values\n",
    "    \n",
    "#     for img_type in ['slide', 'mask']:\n",
    "#         dest_sub_sub_dir = os.path.join(dest_sub_dir, img_type)\n",
    "        \n",
    "#         if not os.path.exists(dest_sub_sub_dir):\n",
    "#             os.mkdir(dest_sub_sub_dir)\n",
    "#             print('Creating directory', dest_sub_sub_dir)\n",
    "        \n",
    "#         for img_id in img_id_list:\n",
    "#             file_prefix = 'tumor_{}_{}_split'.format(img_type, img_id)\n",
    "            \n",
    "#             if img_type == 'slide':\n",
    "#                 source_file_paths = glob(os.path.join(SOURCE_PARTITION_DIR, file_prefix) + '*.png')\n",
    "#             else:\n",
    "#                 source_file_paths = glob(os.path.join(SOURCE_PARTITION_DIR, file_prefix) + '*.npy')\n",
    "            \n",
    "#             for source_file_path in source_file_paths:\n",
    "#                 basename = os.path.basename(source_file_path)\n",
    "#                 dest_file_path = os.path.join(dest_sub_sub_dir, basename)\n",
    "#                 shutil.copy2(source_file_path, dest_file_path)"
   ]
  },
  {
   "cell_type": "code",
   "execution_count": null,
   "metadata": {},
   "outputs": [],
   "source": []
  },
  {
   "cell_type": "code",
   "execution_count": null,
   "metadata": {},
   "outputs": [],
   "source": []
  },
  {
   "cell_type": "markdown",
   "metadata": {},
   "source": [
    "## Sanity Check"
   ]
  },
  {
   "cell_type": "code",
   "execution_count": 7,
   "metadata": {},
   "outputs": [],
   "source": [
    "infos = []"
   ]
  },
  {
   "cell_type": "code",
   "execution_count": 8,
   "metadata": {},
   "outputs": [],
   "source": [
    "for split_type in ['train', 'val', 'test']:\n",
    "    sub_dir = os.path.join(DEST_DIR, split_type)\n",
    "    \n",
    "    for img_type in ['slide', 'mask']:\n",
    "        sub_sub_dir = os.path.join(sub_dir, img_type)\n",
    "        \n",
    "        png_files = glob(sub_sub_dir + '/*.png')\n",
    "        npy_files = glob(sub_sub_dir + '/*.npy')\n",
    "        \n",
    "        if img_type == 'slide':\n",
    "            valid_files = png_files\n",
    "        else:\n",
    "            valid_files = npy_files\n",
    "            \n",
    "        uniq_imgs = np.unique([os.path.basename(x).split('_')[2] for x in valid_files])\n",
    "        \n",
    "        info = {\n",
    "            'split_type': split_type,\n",
    "            'img_type': img_type,\n",
    "            'n_png': len(png_files),\n",
    "            'n_npy': len(npy_files),\n",
    "            'uniq_imgs': uniq_imgs\n",
    "        }\n",
    "        infos.append(info)\n",
    "        \n",
    "        "
   ]
  },
  {
   "cell_type": "code",
   "execution_count": 9,
   "metadata": {},
   "outputs": [],
   "source": [
    "info_df = pd.DataFrame(infos)"
   ]
  },
  {
   "cell_type": "code",
   "execution_count": 10,
   "metadata": {},
   "outputs": [
    {
     "data": {
      "text/html": [
       "<div>\n",
       "<style scoped>\n",
       "    .dataframe tbody tr th:only-of-type {\n",
       "        vertical-align: middle;\n",
       "    }\n",
       "\n",
       "    .dataframe tbody tr th {\n",
       "        vertical-align: top;\n",
       "    }\n",
       "\n",
       "    .dataframe thead th {\n",
       "        text-align: right;\n",
       "    }\n",
       "</style>\n",
       "<table border=\"1\" class=\"dataframe\">\n",
       "  <thead>\n",
       "    <tr style=\"text-align: right;\">\n",
       "      <th></th>\n",
       "      <th>img_type</th>\n",
       "      <th>n_npy</th>\n",
       "      <th>n_png</th>\n",
       "      <th>split_type</th>\n",
       "      <th>uniq_imgs</th>\n",
       "    </tr>\n",
       "  </thead>\n",
       "  <tbody>\n",
       "    <tr>\n",
       "      <th>0</th>\n",
       "      <td>slide</td>\n",
       "      <td>0</td>\n",
       "      <td>50339</td>\n",
       "      <td>train</td>\n",
       "      <td>[005, 016, 019, 023, 035, 059, 075, 081, 084, ...</td>\n",
       "    </tr>\n",
       "    <tr>\n",
       "      <th>1</th>\n",
       "      <td>mask</td>\n",
       "      <td>50339</td>\n",
       "      <td>0</td>\n",
       "      <td>train</td>\n",
       "      <td>[005, 016, 019, 023, 035, 059, 075, 081, 084, ...</td>\n",
       "    </tr>\n",
       "    <tr>\n",
       "      <th>2</th>\n",
       "      <td>slide</td>\n",
       "      <td>0</td>\n",
       "      <td>22800</td>\n",
       "      <td>val</td>\n",
       "      <td>[001, 012, 031, 064]</td>\n",
       "    </tr>\n",
       "    <tr>\n",
       "      <th>3</th>\n",
       "      <td>mask</td>\n",
       "      <td>22800</td>\n",
       "      <td>0</td>\n",
       "      <td>val</td>\n",
       "      <td>[001, 012, 031, 064]</td>\n",
       "    </tr>\n",
       "    <tr>\n",
       "      <th>4</th>\n",
       "      <td>slide</td>\n",
       "      <td>0</td>\n",
       "      <td>15089</td>\n",
       "      <td>test</td>\n",
       "      <td>[002, 057, 078, 091]</td>\n",
       "    </tr>\n",
       "    <tr>\n",
       "      <th>5</th>\n",
       "      <td>mask</td>\n",
       "      <td>15089</td>\n",
       "      <td>0</td>\n",
       "      <td>test</td>\n",
       "      <td>[002, 057, 078, 091]</td>\n",
       "    </tr>\n",
       "  </tbody>\n",
       "</table>\n",
       "</div>"
      ],
      "text/plain": [
       "  img_type  n_npy  n_png split_type  \\\n",
       "0    slide      0  50339      train   \n",
       "1     mask  50339      0      train   \n",
       "2    slide      0  22800        val   \n",
       "3     mask  22800      0        val   \n",
       "4    slide      0  15089       test   \n",
       "5     mask  15089      0       test   \n",
       "\n",
       "                                           uniq_imgs  \n",
       "0  [005, 016, 019, 023, 035, 059, 075, 081, 084, ...  \n",
       "1  [005, 016, 019, 023, 035, 059, 075, 081, 084, ...  \n",
       "2                               [001, 012, 031, 064]  \n",
       "3                               [001, 012, 031, 064]  \n",
       "4                               [002, 057, 078, 091]  \n",
       "5                               [002, 057, 078, 091]  "
      ]
     },
     "execution_count": 10,
     "metadata": {},
     "output_type": "execute_result"
    }
   ],
   "source": [
    "info_df"
   ]
  },
  {
   "cell_type": "code",
   "execution_count": 11,
   "metadata": {},
   "outputs": [],
   "source": [
    "all_files = glob(SOURCE_PARTITION_DIR + '*')"
   ]
  },
  {
   "cell_type": "code",
   "execution_count": 12,
   "metadata": {},
   "outputs": [
    {
     "data": {
      "text/plain": [
       "176456"
      ]
     },
     "execution_count": 12,
     "metadata": {},
     "output_type": "execute_result"
    }
   ],
   "source": [
    "len(all_files)"
   ]
  },
  {
   "cell_type": "code",
   "execution_count": 15,
   "metadata": {},
   "outputs": [
    {
     "data": {
      "text/plain": [
       "176456"
      ]
     },
     "execution_count": 15,
     "metadata": {},
     "output_type": "execute_result"
    }
   ],
   "source": [
    "info_df[['n_npy', 'n_png']].sum().sum()"
   ]
  },
  {
   "cell_type": "code",
   "execution_count": 23,
   "metadata": {},
   "outputs": [
    {
     "data": {
      "text/plain": [
       "array(['002', '057', '078', '091'], dtype='<U3')"
      ]
     },
     "execution_count": 23,
     "metadata": {},
     "output_type": "execute_result"
    }
   ],
   "source": [
    "info_df.iloc[4]['uniq_imgs']"
   ]
  },
  {
   "cell_type": "code",
   "execution_count": 22,
   "metadata": {},
   "outputs": [
    {
     "data": {
      "text/plain": [
       "array(['002', '057', '078', '091'], dtype=object)"
      ]
     },
     "execution_count": 22,
     "metadata": {},
     "output_type": "execute_result"
    }
   ],
   "source": [
    "meta_info_df[meta_info_df['type'] == 'test']['img_id'].values"
   ]
  },
  {
   "cell_type": "code",
   "execution_count": null,
   "metadata": {},
   "outputs": [],
   "source": []
  }
 ],
 "metadata": {
  "kernelspec": {
   "display_name": "Python 3",
   "language": "python",
   "name": "python3"
  },
  "language_info": {
   "codemirror_mode": {
    "name": "ipython",
    "version": 3
   },
   "file_extension": ".py",
   "mimetype": "text/x-python",
   "name": "python",
   "nbconvert_exporter": "python",
   "pygments_lexer": "ipython3",
   "version": "3.6.8"
  }
 },
 "nbformat": 4,
 "nbformat_minor": 2
}
