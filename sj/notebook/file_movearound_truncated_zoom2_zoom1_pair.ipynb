{
 "cells": [
  {
   "cell_type": "code",
   "execution_count": 1,
   "metadata": {},
   "outputs": [],
   "source": [
    "import shutil\n",
    "from glob import glob\n",
    "import pandas as pd\n",
    "import os\n",
    "import numpy as np\n",
    "import matplotlib.pyplot as plt\n",
    "from tqdm import tqdm"
   ]
  },
  {
   "cell_type": "code",
   "execution_count": null,
   "metadata": {},
   "outputs": [],
   "source": []
  },
  {
   "cell_type": "markdown",
   "metadata": {},
   "source": [
    "### Lets make a truncated directory with the images within ROI and lets only copy over the slide (not mask)"
   ]
  },
  {
   "cell_type": "code",
   "execution_count": 2,
   "metadata": {},
   "outputs": [],
   "source": [
    "img_names_df = pd.read_json('../../../data/zoom_1_256_256_partition/meta/all_info_0.4_grayscale_tol_with_roi.json',\n",
    "                   dtype=False).reset_index(drop=True)"
   ]
  },
  {
   "cell_type": "code",
   "execution_count": 3,
   "metadata": {},
   "outputs": [],
   "source": [
    "img_names_df_trunc = img_names_df[(img_names_df['is_roi'] == 1) & \n",
    "                            (img_names_df['non_gray_ratio'] > 0.2)].copy()"
   ]
  },
  {
   "cell_type": "code",
   "execution_count": 4,
   "metadata": {},
   "outputs": [
    {
     "data": {
      "text/plain": [
       "(116768, 7)"
      ]
     },
     "execution_count": 4,
     "metadata": {},
     "output_type": "execute_result"
    }
   ],
   "source": [
    "img_names_df_trunc.shape"
   ]
  },
  {
   "cell_type": "code",
   "execution_count": 5,
   "metadata": {},
   "outputs": [
    {
     "data": {
      "text/html": [
       "<div>\n",
       "<style scoped>\n",
       "    .dataframe tbody tr th:only-of-type {\n",
       "        vertical-align: middle;\n",
       "    }\n",
       "\n",
       "    .dataframe tbody tr th {\n",
       "        vertical-align: top;\n",
       "    }\n",
       "\n",
       "    .dataframe thead th {\n",
       "        text-align: right;\n",
       "    }\n",
       "</style>\n",
       "<table border=\"1\" class=\"dataframe\">\n",
       "  <thead>\n",
       "    <tr style=\"text-align: right;\">\n",
       "      <th></th>\n",
       "      <th>file_name</th>\n",
       "      <th>img_id</th>\n",
       "      <th>include</th>\n",
       "      <th>label</th>\n",
       "      <th>non_gray_ratio</th>\n",
       "      <th>type</th>\n",
       "      <th>is_roi</th>\n",
       "    </tr>\n",
       "  </thead>\n",
       "  <tbody>\n",
       "    <tr>\n",
       "      <th>34</th>\n",
       "      <td>tumor_slide_035_split_176_75.png</td>\n",
       "      <td>035</td>\n",
       "      <td>1</td>\n",
       "      <td>0</td>\n",
       "      <td>0.942184</td>\n",
       "      <td>train</td>\n",
       "      <td>1</td>\n",
       "    </tr>\n",
       "    <tr>\n",
       "      <th>133</th>\n",
       "      <td>tumor_slide_035_split_140_68.png</td>\n",
       "      <td>035</td>\n",
       "      <td>1</td>\n",
       "      <td>0</td>\n",
       "      <td>0.919449</td>\n",
       "      <td>train</td>\n",
       "      <td>1</td>\n",
       "    </tr>\n",
       "    <tr>\n",
       "      <th>171</th>\n",
       "      <td>tumor_slide_035_split_193_53.png</td>\n",
       "      <td>035</td>\n",
       "      <td>1</td>\n",
       "      <td>0</td>\n",
       "      <td>0.412689</td>\n",
       "      <td>train</td>\n",
       "      <td>1</td>\n",
       "    </tr>\n",
       "    <tr>\n",
       "      <th>202</th>\n",
       "      <td>tumor_slide_035_split_186_64.png</td>\n",
       "      <td>035</td>\n",
       "      <td>1</td>\n",
       "      <td>0</td>\n",
       "      <td>0.722992</td>\n",
       "      <td>train</td>\n",
       "      <td>1</td>\n",
       "    </tr>\n",
       "    <tr>\n",
       "      <th>203</th>\n",
       "      <td>tumor_slide_035_split_190_72.png</td>\n",
       "      <td>035</td>\n",
       "      <td>1</td>\n",
       "      <td>0</td>\n",
       "      <td>0.950317</td>\n",
       "      <td>train</td>\n",
       "      <td>1</td>\n",
       "    </tr>\n",
       "  </tbody>\n",
       "</table>\n",
       "</div>"
      ],
      "text/plain": [
       "                            file_name img_id  include  label  non_gray_ratio  \\\n",
       "34   tumor_slide_035_split_176_75.png    035        1      0        0.942184   \n",
       "133  tumor_slide_035_split_140_68.png    035        1      0        0.919449   \n",
       "171  tumor_slide_035_split_193_53.png    035        1      0        0.412689   \n",
       "202  tumor_slide_035_split_186_64.png    035        1      0        0.722992   \n",
       "203  tumor_slide_035_split_190_72.png    035        1      0        0.950317   \n",
       "\n",
       "      type  is_roi  \n",
       "34   train       1  \n",
       "133  train       1  \n",
       "171  train       1  \n",
       "202  train       1  \n",
       "203  train       1  "
      ]
     },
     "execution_count": 5,
     "metadata": {},
     "output_type": "execute_result"
    }
   ],
   "source": [
    "img_names_df_trunc.head()"
   ]
  },
  {
   "cell_type": "code",
   "execution_count": 6,
   "metadata": {},
   "outputs": [
    {
     "data": {
      "text/plain": [
       "0    102613\n",
       "1     14155\n",
       "Name: label, dtype: int64"
      ]
     },
     "execution_count": 6,
     "metadata": {},
     "output_type": "execute_result"
    }
   ],
   "source": [
    "img_names_df_trunc['label'].value_counts()"
   ]
  },
  {
   "cell_type": "code",
   "execution_count": 7,
   "metadata": {},
   "outputs": [
    {
     "data": {
      "text/plain": [
       "0    1251920\n",
       "1      14374\n",
       "Name: label, dtype: int64"
      ]
     },
     "execution_count": 7,
     "metadata": {},
     "output_type": "execute_result"
    }
   ],
   "source": [
    "img_names_df['label'].value_counts()"
   ]
  },
  {
   "cell_type": "code",
   "execution_count": 22,
   "metadata": {},
   "outputs": [
    {
     "data": {
      "text/plain": [
       "train    73600\n",
       "test     23626\n",
       "val      19542\n",
       "Name: type, dtype: int64"
      ]
     },
     "execution_count": 22,
     "metadata": {},
     "output_type": "execute_result"
    }
   ],
   "source": [
    "img_names_df_trunc['type'].value_counts()"
   ]
  },
  {
   "cell_type": "code",
   "execution_count": null,
   "metadata": {},
   "outputs": [],
   "source": []
  },
  {
   "cell_type": "code",
   "execution_count": 8,
   "metadata": {},
   "outputs": [],
   "source": [
    "meta_info_df = pd.read_json('../../../data/tumor_img_meta_info.json', dtype=False)\n",
    "train_test_split_df = pd.read_json('../../../data/train_val_test_split.json', dtype=False)"
   ]
  },
  {
   "cell_type": "code",
   "execution_count": 9,
   "metadata": {},
   "outputs": [],
   "source": [
    "meta_info_df = meta_info_df.merge(train_test_split_df, on='img_id')"
   ]
  },
  {
   "cell_type": "code",
   "execution_count": 10,
   "metadata": {},
   "outputs": [
    {
     "data": {
      "text/html": [
       "<div>\n",
       "<style scoped>\n",
       "    .dataframe tbody tr th:only-of-type {\n",
       "        vertical-align: middle;\n",
       "    }\n",
       "\n",
       "    .dataframe tbody tr th {\n",
       "        vertical-align: top;\n",
       "    }\n",
       "\n",
       "    .dataframe thead th {\n",
       "        text-align: right;\n",
       "    }\n",
       "</style>\n",
       "<table border=\"1\" class=\"dataframe\">\n",
       "  <thead>\n",
       "    <tr style=\"text-align: right;\">\n",
       "      <th></th>\n",
       "      <th>img_id</th>\n",
       "      <th>level_5_img_size</th>\n",
       "      <th>level_5_mask_area</th>\n",
       "      <th>level_dimensions</th>\n",
       "      <th>level_downsamples</th>\n",
       "      <th>mask_img_filename</th>\n",
       "      <th>mask_proportion</th>\n",
       "      <th>slide_img_filename</th>\n",
       "      <th>type</th>\n",
       "    </tr>\n",
       "  </thead>\n",
       "  <tbody>\n",
       "    <tr>\n",
       "      <th>0</th>\n",
       "      <td>001</td>\n",
       "      <td>21123072</td>\n",
       "      <td>11116</td>\n",
       "      <td>[[97792, 221184], [48896, 110592], [24448, 552...</td>\n",
       "      <td>[1.0, 2.0, 4.0, 8.0, 16.0, 32.0, 64.0, 128.0, ...</td>\n",
       "      <td>tumor_001_mask.tif</td>\n",
       "      <td>0.052625</td>\n",
       "      <td>tumor_001.tif</td>\n",
       "      <td>val</td>\n",
       "    </tr>\n",
       "    <tr>\n",
       "      <th>1</th>\n",
       "      <td>002</td>\n",
       "      <td>20976384</td>\n",
       "      <td>938</td>\n",
       "      <td>[[97792, 219648], [48896, 109824], [24448, 549...</td>\n",
       "      <td>[1.0, 2.0, 4.0, 8.0, 16.0, 32.0, 64.0, 128.0, ...</td>\n",
       "      <td>tumor_002_mask.tif</td>\n",
       "      <td>0.004472</td>\n",
       "      <td>tumor_002.tif</td>\n",
       "      <td>test</td>\n",
       "    </tr>\n",
       "    <tr>\n",
       "      <th>2</th>\n",
       "      <td>005</td>\n",
       "      <td>20976384</td>\n",
       "      <td>2323</td>\n",
       "      <td>[[97792, 219648], [48896, 109824], [24448, 549...</td>\n",
       "      <td>[1.0, 2.0, 4.0, 8.0, 16.0, 32.0, 64.0, 128.0, ...</td>\n",
       "      <td>tumor_005_mask.tif</td>\n",
       "      <td>0.011074</td>\n",
       "      <td>tumor_005.tif</td>\n",
       "      <td>train</td>\n",
       "    </tr>\n",
       "    <tr>\n",
       "      <th>3</th>\n",
       "      <td>012</td>\n",
       "      <td>20585216</td>\n",
       "      <td>1115</td>\n",
       "      <td>[[97792, 215552], [48896, 107776], [24448, 538...</td>\n",
       "      <td>[1.0, 2.0, 4.0, 8.0, 16.0, 32.0, 64.0, 128.0, ...</td>\n",
       "      <td>tumor_012_mask.tif</td>\n",
       "      <td>0.005417</td>\n",
       "      <td>tumor_012.tif</td>\n",
       "      <td>val</td>\n",
       "    </tr>\n",
       "    <tr>\n",
       "      <th>4</th>\n",
       "      <td>016</td>\n",
       "      <td>21123072</td>\n",
       "      <td>156981</td>\n",
       "      <td>[[97792, 221184], [48896, 110592], [24448, 552...</td>\n",
       "      <td>[1.0, 2.0, 4.0, 8.0, 16.0, 32.0, 64.0, 128.0, ...</td>\n",
       "      <td>tumor_016_mask.tif</td>\n",
       "      <td>0.743173</td>\n",
       "      <td>tumor_016.tif</td>\n",
       "      <td>train</td>\n",
       "    </tr>\n",
       "  </tbody>\n",
       "</table>\n",
       "</div>"
      ],
      "text/plain": [
       "  img_id  level_5_img_size  level_5_mask_area  \\\n",
       "0    001          21123072              11116   \n",
       "1    002          20976384                938   \n",
       "2    005          20976384               2323   \n",
       "3    012          20585216               1115   \n",
       "4    016          21123072             156981   \n",
       "\n",
       "                                    level_dimensions  \\\n",
       "0  [[97792, 221184], [48896, 110592], [24448, 552...   \n",
       "1  [[97792, 219648], [48896, 109824], [24448, 549...   \n",
       "2  [[97792, 219648], [48896, 109824], [24448, 549...   \n",
       "3  [[97792, 215552], [48896, 107776], [24448, 538...   \n",
       "4  [[97792, 221184], [48896, 110592], [24448, 552...   \n",
       "\n",
       "                                   level_downsamples   mask_img_filename  \\\n",
       "0  [1.0, 2.0, 4.0, 8.0, 16.0, 32.0, 64.0, 128.0, ...  tumor_001_mask.tif   \n",
       "1  [1.0, 2.0, 4.0, 8.0, 16.0, 32.0, 64.0, 128.0, ...  tumor_002_mask.tif   \n",
       "2  [1.0, 2.0, 4.0, 8.0, 16.0, 32.0, 64.0, 128.0, ...  tumor_005_mask.tif   \n",
       "3  [1.0, 2.0, 4.0, 8.0, 16.0, 32.0, 64.0, 128.0, ...  tumor_012_mask.tif   \n",
       "4  [1.0, 2.0, 4.0, 8.0, 16.0, 32.0, 64.0, 128.0, ...  tumor_016_mask.tif   \n",
       "\n",
       "   mask_proportion slide_img_filename   type  \n",
       "0         0.052625      tumor_001.tif    val  \n",
       "1         0.004472      tumor_002.tif   test  \n",
       "2         0.011074      tumor_005.tif  train  \n",
       "3         0.005417      tumor_012.tif    val  \n",
       "4         0.743173      tumor_016.tif  train  "
      ]
     },
     "execution_count": 10,
     "metadata": {},
     "output_type": "execute_result"
    }
   ],
   "source": [
    "meta_info_df.head()"
   ]
  },
  {
   "cell_type": "code",
   "execution_count": 11,
   "metadata": {},
   "outputs": [
    {
     "data": {
      "text/plain": [
       "(21, 9)"
      ]
     },
     "execution_count": 11,
     "metadata": {},
     "output_type": "execute_result"
    }
   ],
   "source": [
    "meta_info_df.shape"
   ]
  },
  {
   "cell_type": "code",
   "execution_count": null,
   "metadata": {},
   "outputs": [],
   "source": []
  },
  {
   "cell_type": "code",
   "execution_count": null,
   "metadata": {},
   "outputs": [],
   "source": [
    "SOURCE_PARTITION_DIR = '/home/sjb/Projects/Columbia/Applied_DL/CamelyonProject/data/zoom_2_256_256_zoom_1_pair'\n",
    "DEST_PARTITION_DIR = '/home/sjb/Projects/Columbia/Applied_DL/CamelyonProject/data/zoom_2_256_256_zoom_1_pair_truncated'"
   ]
  },
  {
   "cell_type": "code",
   "execution_count": 13,
   "metadata": {},
   "outputs": [],
   "source": [
    "include_images = set(img_names_df_trunc['file_name'])"
   ]
  },
  {
   "cell_type": "code",
   "execution_count": 14,
   "metadata": {},
   "outputs": [
    {
     "data": {
      "text/plain": [
       "116768"
      ]
     },
     "execution_count": 14,
     "metadata": {},
     "output_type": "execute_result"
    }
   ],
   "source": [
    "len(include_images)"
   ]
  },
  {
   "cell_type": "code",
   "execution_count": 15,
   "metadata": {},
   "outputs": [
    {
     "name": "stderr",
     "output_type": "stream",
     "text": [
      "  0%|          | 0/13 [00:00<?, ?it/s]"
     ]
    },
    {
     "name": "stdout",
     "output_type": "stream",
     "text": [
      "Creating directory /home/sjb/Projects/Columbia/Applied_DL/CamelyonProject/data/zoom_1_256_256_partition_truncated/train\n",
      "Creating directory /home/sjb/Projects/Columbia/Applied_DL/CamelyonProject/data/zoom_1_256_256_partition_truncated/train/slide\n"
     ]
    },
    {
     "name": "stderr",
     "output_type": "stream",
     "text": [
      "100%|██████████| 13/13 [01:10<00:00, 11.55s/it]\n",
      "  0%|          | 0/4 [00:00<?, ?it/s]"
     ]
    },
    {
     "name": "stdout",
     "output_type": "stream",
     "text": [
      "Creating directory /home/sjb/Projects/Columbia/Applied_DL/CamelyonProject/data/zoom_1_256_256_partition_truncated/val\n",
      "Creating directory /home/sjb/Projects/Columbia/Applied_DL/CamelyonProject/data/zoom_1_256_256_partition_truncated/val/slide\n"
     ]
    },
    {
     "name": "stderr",
     "output_type": "stream",
     "text": [
      "100%|██████████| 4/4 [02:40<00:00, 43.97s/it]\n"
     ]
    }
   ],
   "source": [
    "for split_type in ['train', 'val']:\n",
    "    \n",
    "    dest_sub_dir = os.path.join(DEST_PARTITION_DIR, split_type)\n",
    "    \n",
    "    if not os.path.exists(dest_sub_dir):\n",
    "        os.mkdir(dest_sub_dir)\n",
    "        print('Creating directory', dest_sub_dir)\n",
    "    \n",
    "    filtered_df = meta_info_df[meta_info_df['type'] == split_type]\n",
    "    img_id_list = filtered_df['img_id'].values\n",
    "    \n",
    "    for img_type in ['slide']:\n",
    "        dest_sub_sub_dir = os.path.join(dest_sub_dir, img_type)\n",
    "        \n",
    "        if not os.path.exists(dest_sub_sub_dir):\n",
    "            os.mkdir(dest_sub_sub_dir)\n",
    "            print('Creating directory', dest_sub_sub_dir)\n",
    "        \n",
    "        for img_id in tqdm(img_id_list):\n",
    "            file_prefix = 'tumor_{}_{}_split'.format(img_type, img_id)\n",
    "            \n",
    "            source_file_paths_long = glob(os.path.join(SOURCE_PARTITION_DIR,\n",
    "                                                       split_type,\n",
    "                                                       img_type,\n",
    "                                                       file_prefix) + '*.png')\n",
    "            source_file_paths_base = [os.path.basename(x) for x in source_file_paths_long]\n",
    "            \n",
    "            for source_file_path, source_file_name in zip(source_file_paths_long,\n",
    "                                                          source_file_paths_base):\n",
    "                if source_file_name in include_images:\n",
    "                    dest_file_path = os.path.join(dest_sub_sub_dir, source_file_name)\n",
    "                    shutil.copy2(source_file_path, dest_file_path)\n",
    "\n"
   ]
  },
  {
   "cell_type": "code",
   "execution_count": null,
   "metadata": {},
   "outputs": [],
   "source": []
  },
  {
   "cell_type": "markdown",
   "metadata": {},
   "source": [
    "## Sanity Check"
   ]
  },
  {
   "cell_type": "code",
   "execution_count": 16,
   "metadata": {},
   "outputs": [],
   "source": [
    "infos = []"
   ]
  },
  {
   "cell_type": "code",
   "execution_count": 17,
   "metadata": {},
   "outputs": [],
   "source": [
    "for split_type in ['train', 'val', ]:\n",
    "    sub_dir = os.path.join(DEST_PARTITION_DIR, split_type)\n",
    "    \n",
    "    for img_type in ['slide']:\n",
    "        sub_sub_dir = os.path.join(sub_dir, img_type)\n",
    "        \n",
    "        valid_files = glob(sub_sub_dir + '/*.png')\n",
    "        \n",
    "        uniq_imgs = np.unique([os.path.basename(x).split('_')[2] for x in valid_files])\n",
    "        \n",
    "        info = {\n",
    "            'split_type': split_type,\n",
    "            'img_type': img_type,\n",
    "            'n_png': len(valid_files),\n",
    "            'uniq_imgs': uniq_imgs\n",
    "        }\n",
    "        infos.append(info)\n",
    "        \n",
    "        "
   ]
  },
  {
   "cell_type": "code",
   "execution_count": 18,
   "metadata": {},
   "outputs": [],
   "source": [
    "info_df = pd.DataFrame(infos)"
   ]
  },
  {
   "cell_type": "code",
   "execution_count": 19,
   "metadata": {},
   "outputs": [
    {
     "data": {
      "text/html": [
       "<div>\n",
       "<style scoped>\n",
       "    .dataframe tbody tr th:only-of-type {\n",
       "        vertical-align: middle;\n",
       "    }\n",
       "\n",
       "    .dataframe tbody tr th {\n",
       "        vertical-align: top;\n",
       "    }\n",
       "\n",
       "    .dataframe thead th {\n",
       "        text-align: right;\n",
       "    }\n",
       "</style>\n",
       "<table border=\"1\" class=\"dataframe\">\n",
       "  <thead>\n",
       "    <tr style=\"text-align: right;\">\n",
       "      <th></th>\n",
       "      <th>img_type</th>\n",
       "      <th>n_png</th>\n",
       "      <th>split_type</th>\n",
       "      <th>uniq_imgs</th>\n",
       "    </tr>\n",
       "  </thead>\n",
       "  <tbody>\n",
       "    <tr>\n",
       "      <th>0</th>\n",
       "      <td>slide</td>\n",
       "      <td>73600</td>\n",
       "      <td>train</td>\n",
       "      <td>[005, 016, 019, 023, 035, 059, 075, 081, 084, ...</td>\n",
       "    </tr>\n",
       "    <tr>\n",
       "      <th>1</th>\n",
       "      <td>slide</td>\n",
       "      <td>19542</td>\n",
       "      <td>val</td>\n",
       "      <td>[001, 012, 031, 064]</td>\n",
       "    </tr>\n",
       "  </tbody>\n",
       "</table>\n",
       "</div>"
      ],
      "text/plain": [
       "  img_type  n_png split_type  \\\n",
       "0    slide  73600      train   \n",
       "1    slide  19542        val   \n",
       "\n",
       "                                           uniq_imgs  \n",
       "0  [005, 016, 019, 023, 035, 059, 075, 081, 084, ...  \n",
       "1                               [001, 012, 031, 064]  "
      ]
     },
     "execution_count": 19,
     "metadata": {},
     "output_type": "execute_result"
    }
   ],
   "source": [
    "info_df.head()"
   ]
  },
  {
   "cell_type": "code",
   "execution_count": 20,
   "metadata": {},
   "outputs": [
    {
     "data": {
      "text/plain": [
       "(2, 4)"
      ]
     },
     "execution_count": 20,
     "metadata": {},
     "output_type": "execute_result"
    }
   ],
   "source": [
    "info_df.shape"
   ]
  },
  {
   "cell_type": "code",
   "execution_count": 21,
   "metadata": {},
   "outputs": [
    {
     "data": {
      "text/plain": [
       "93142"
      ]
     },
     "execution_count": 21,
     "metadata": {},
     "output_type": "execute_result"
    }
   ],
   "source": [
    "info_df['n_png'].sum()"
   ]
  },
  {
   "cell_type": "code",
   "execution_count": null,
   "metadata": {},
   "outputs": [],
   "source": []
  }
 ],
 "metadata": {
  "kernelspec": {
   "display_name": "Python 3",
   "language": "python",
   "name": "python3"
  },
  "language_info": {
   "codemirror_mode": {
    "name": "ipython",
    "version": 3
   },
   "file_extension": ".py",
   "mimetype": "text/x-python",
   "name": "python",
   "nbconvert_exporter": "python",
   "pygments_lexer": "ipython3",
   "version": "3.6.8"
  }
 },
 "nbformat": 4,
 "nbformat_minor": 2
}
