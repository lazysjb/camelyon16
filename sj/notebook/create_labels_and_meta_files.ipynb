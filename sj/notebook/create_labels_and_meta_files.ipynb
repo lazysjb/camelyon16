{
 "cells": [
  {
   "cell_type": "code",
   "execution_count": 8,
   "metadata": {},
   "outputs": [],
   "source": [
    "from glob import glob\n",
    "import os\n",
    "import pandas as pd\n",
    "import numpy as np\n",
    "from tqdm import tqdm\n",
    "import matplotlib.pyplot as plt\n",
    "from PIL import Image\n",
    "from skimage.color import rgb2gray"
   ]
  },
  {
   "cell_type": "code",
   "execution_count": 9,
   "metadata": {},
   "outputs": [],
   "source": [
    "INPUT_DIRECTORY = '../../../../data/zoom_5_60_60_partition/'"
   ]
  },
  {
   "cell_type": "code",
   "execution_count": 10,
   "metadata": {},
   "outputs": [],
   "source": [
    "TRAIN_TEST_SPLIT_FILE = '../../../../data/train_val_test_split.pkl'\n",
    "META_DATA_FILE = '../../../../data/tumor_img_meta_info.pkl'"
   ]
  },
  {
   "cell_type": "code",
   "execution_count": 11,
   "metadata": {},
   "outputs": [],
   "source": [
    "# meta_df[['img_id', 'type']]"
   ]
  },
  {
   "cell_type": "code",
   "execution_count": 12,
   "metadata": {},
   "outputs": [],
   "source": [
    "meta_df = pd.read_pickle(META_DATA_FILE)\n",
    "train_test_split_df = pd.read_pickle(TRAIN_TEST_SPLIT_FILE)\n",
    "meta_df = meta_df.merge(train_test_split_df, on='img_id').copy()"
   ]
  },
  {
   "cell_type": "code",
   "execution_count": 13,
   "metadata": {},
   "outputs": [
    {
     "data": {
      "text/html": [
       "<div>\n",
       "<style scoped>\n",
       "    .dataframe tbody tr th:only-of-type {\n",
       "        vertical-align: middle;\n",
       "    }\n",
       "\n",
       "    .dataframe tbody tr th {\n",
       "        vertical-align: top;\n",
       "    }\n",
       "\n",
       "    .dataframe thead th {\n",
       "        text-align: right;\n",
       "    }\n",
       "</style>\n",
       "<table border=\"1\" class=\"dataframe\">\n",
       "  <thead>\n",
       "    <tr style=\"text-align: right;\">\n",
       "      <th></th>\n",
       "      <th>img_id</th>\n",
       "      <th>level_5_img_size</th>\n",
       "      <th>level_5_mask_area</th>\n",
       "      <th>level_dimensions</th>\n",
       "      <th>level_downsamples</th>\n",
       "      <th>mask_img_filename</th>\n",
       "      <th>mask_proportion</th>\n",
       "      <th>slide_img_filename</th>\n",
       "      <th>type</th>\n",
       "    </tr>\n",
       "  </thead>\n",
       "  <tbody>\n",
       "    <tr>\n",
       "      <th>0</th>\n",
       "      <td>001</td>\n",
       "      <td>21123072</td>\n",
       "      <td>11116</td>\n",
       "      <td>((97792, 221184), (48896, 110592), (24448, 552...</td>\n",
       "      <td>(1.0, 2.0, 4.0, 8.0, 16.0, 32.0, 64.0, 128.0, ...</td>\n",
       "      <td>tumor_001_mask.tif</td>\n",
       "      <td>0.052625</td>\n",
       "      <td>tumor_001.tif</td>\n",
       "      <td>val</td>\n",
       "    </tr>\n",
       "    <tr>\n",
       "      <th>1</th>\n",
       "      <td>002</td>\n",
       "      <td>20976384</td>\n",
       "      <td>938</td>\n",
       "      <td>((97792, 219648), (48896, 109824), (24448, 549...</td>\n",
       "      <td>(1.0, 2.0, 4.0, 8.0, 16.0, 32.0, 64.0, 128.0, ...</td>\n",
       "      <td>tumor_002_mask.tif</td>\n",
       "      <td>0.004472</td>\n",
       "      <td>tumor_002.tif</td>\n",
       "      <td>test</td>\n",
       "    </tr>\n",
       "    <tr>\n",
       "      <th>2</th>\n",
       "      <td>005</td>\n",
       "      <td>20976384</td>\n",
       "      <td>2323</td>\n",
       "      <td>((97792, 219648), (48896, 109824), (24448, 549...</td>\n",
       "      <td>(1.0, 2.0, 4.0, 8.0, 16.0, 32.0, 64.0, 128.0, ...</td>\n",
       "      <td>tumor_005_mask.tif</td>\n",
       "      <td>0.011074</td>\n",
       "      <td>tumor_005.tif</td>\n",
       "      <td>train</td>\n",
       "    </tr>\n",
       "    <tr>\n",
       "      <th>3</th>\n",
       "      <td>012</td>\n",
       "      <td>20585216</td>\n",
       "      <td>1115</td>\n",
       "      <td>((97792, 215552), (48896, 107776), (24448, 538...</td>\n",
       "      <td>(1.0, 2.0, 4.0, 8.0, 16.0, 32.0, 64.0, 128.0, ...</td>\n",
       "      <td>tumor_012_mask.tif</td>\n",
       "      <td>0.005417</td>\n",
       "      <td>tumor_012.tif</td>\n",
       "      <td>val</td>\n",
       "    </tr>\n",
       "    <tr>\n",
       "      <th>4</th>\n",
       "      <td>016</td>\n",
       "      <td>21123072</td>\n",
       "      <td>156981</td>\n",
       "      <td>((97792, 221184), (48896, 110592), (24448, 552...</td>\n",
       "      <td>(1.0, 2.0, 4.0, 8.0, 16.0, 32.0, 64.0, 128.0, ...</td>\n",
       "      <td>tumor_016_mask.tif</td>\n",
       "      <td>0.743173</td>\n",
       "      <td>tumor_016.tif</td>\n",
       "      <td>train</td>\n",
       "    </tr>\n",
       "  </tbody>\n",
       "</table>\n",
       "</div>"
      ],
      "text/plain": [
       "  img_id  level_5_img_size  level_5_mask_area  \\\n",
       "0    001          21123072              11116   \n",
       "1    002          20976384                938   \n",
       "2    005          20976384               2323   \n",
       "3    012          20585216               1115   \n",
       "4    016          21123072             156981   \n",
       "\n",
       "                                    level_dimensions  \\\n",
       "0  ((97792, 221184), (48896, 110592), (24448, 552...   \n",
       "1  ((97792, 219648), (48896, 109824), (24448, 549...   \n",
       "2  ((97792, 219648), (48896, 109824), (24448, 549...   \n",
       "3  ((97792, 215552), (48896, 107776), (24448, 538...   \n",
       "4  ((97792, 221184), (48896, 110592), (24448, 552...   \n",
       "\n",
       "                                   level_downsamples   mask_img_filename  \\\n",
       "0  (1.0, 2.0, 4.0, 8.0, 16.0, 32.0, 64.0, 128.0, ...  tumor_001_mask.tif   \n",
       "1  (1.0, 2.0, 4.0, 8.0, 16.0, 32.0, 64.0, 128.0, ...  tumor_002_mask.tif   \n",
       "2  (1.0, 2.0, 4.0, 8.0, 16.0, 32.0, 64.0, 128.0, ...  tumor_005_mask.tif   \n",
       "3  (1.0, 2.0, 4.0, 8.0, 16.0, 32.0, 64.0, 128.0, ...  tumor_012_mask.tif   \n",
       "4  (1.0, 2.0, 4.0, 8.0, 16.0, 32.0, 64.0, 128.0, ...  tumor_016_mask.tif   \n",
       "\n",
       "   mask_proportion slide_img_filename   type  \n",
       "0         0.052625      tumor_001.tif    val  \n",
       "1         0.004472      tumor_002.tif   test  \n",
       "2         0.011074      tumor_005.tif  train  \n",
       "3         0.005417      tumor_012.tif    val  \n",
       "4         0.743173      tumor_016.tif  train  "
      ]
     },
     "execution_count": 13,
     "metadata": {},
     "output_type": "execute_result"
    }
   ],
   "source": [
    "meta_df.head()"
   ]
  },
  {
   "cell_type": "code",
   "execution_count": 14,
   "metadata": {},
   "outputs": [],
   "source": [
    "def get_img_files_for_img_id(img_id, \n",
    "                             data_type):\n",
    "    file_prefix = 'tumor_slide_{}_split'.format(img_id)\n",
    "    file_dir = os.path.join(INPUT_DIRECTORY, data_type, 'slide')\n",
    "    return glob(os.path.join(file_dir, file_prefix + '*.png'))\n",
    "\n",
    "def get_matching_mask_for_img_file(img_filepath):\n",
    "    \n",
    "    basename = os.path.basename(img_filepath)\n",
    "    data_type = img_filepath.split('/')[-3]\n",
    "    \n",
    "    img_id = basename.split('_')[2]\n",
    "    \n",
    "    file_path_components = img_filepath.split('/')\n",
    "    mask_basename = basename.replace('slide', 'mask').replace('.png', '.npy')\n",
    "    file_path_components[-2] = 'mask'\n",
    "    file_path_components[-1] = mask_basename\n",
    "    return '/'.join(file_path_components)\n",
    "    "
   ]
  },
  {
   "cell_type": "code",
   "execution_count": 15,
   "metadata": {},
   "outputs": [],
   "source": [
    "result = []"
   ]
  },
  {
   "cell_type": "code",
   "execution_count": 16,
   "metadata": {},
   "outputs": [
    {
     "name": "stderr",
     "output_type": "stream",
     "text": [
      "21it [00:55,  2.65s/it]\n"
     ]
    }
   ],
   "source": [
    "for idx, row in tqdm(meta_df.iterrows()):\n",
    "    img_id = row['img_id']\n",
    "    data_type = row['type']\n",
    "    img_file_paths = get_img_files_for_img_id(img_id, data_type)\n",
    "    \n",
    "    # total_mask_size_for_img = 0\n",
    "    for img_file_path in img_file_paths:\n",
    "        img_basename = os.path.basename(img_file_path)\n",
    "        mask_file_path = get_matching_mask_for_img_file(img_file_path)\n",
    "        mask_pixel_count = np.load(mask_file_path).sum()\n",
    "        # total_mask_size_for_img += mask_pixel_count\n",
    "        label = int(mask_pixel_count > 0)\n",
    "\n",
    "        result.append({\n",
    "            'img_id': img_id, \n",
    "            'file_name': img_basename,\n",
    "            'label': label,\n",
    "            # 'total_mask_size_for_img': int(total_mask_size_for_img)\n",
    "        })"
   ]
  },
  {
   "cell_type": "code",
   "execution_count": 17,
   "metadata": {},
   "outputs": [],
   "source": [
    "result_df = pd.DataFrame(result)"
   ]
  },
  {
   "cell_type": "code",
   "execution_count": null,
   "metadata": {},
   "outputs": [],
   "source": [
    "#temp = result_df.drop_duplicates('img_id').copy()"
   ]
  },
  {
   "cell_type": "code",
   "execution_count": null,
   "metadata": {},
   "outputs": [],
   "source": [
    "#temp = result_df.groupby('img_id')['total_mask_size_for_img'].max().reset_index().merge(meta_df, on='img_id')"
   ]
  },
  {
   "cell_type": "code",
   "execution_count": null,
   "metadata": {},
   "outputs": [],
   "source": [
    "result_df['label'].value_counts()"
   ]
  },
  {
   "cell_type": "code",
   "execution_count": null,
   "metadata": {},
   "outputs": [],
   "source": [
    "# result_df.to_pickle('../../../../data/zoom_5_60_60_partition_labels.pkl')"
   ]
  },
  {
   "cell_type": "code",
   "execution_count": null,
   "metadata": {},
   "outputs": [],
   "source": [
    "img_file_path"
   ]
  },
  {
   "cell_type": "code",
   "execution_count": null,
   "metadata": {},
   "outputs": [],
   "source": [
    "sample_file_path = '../../../../data/zoom_5_60_60_partition/train/slide/tumor_slide_110_split_30_40.png'"
   ]
  },
  {
   "cell_type": "code",
   "execution_count": null,
   "metadata": {},
   "outputs": [],
   "source": [
    "tmp = Image.open(sample_file_path)"
   ]
  },
  {
   "cell_type": "code",
   "execution_count": null,
   "metadata": {},
   "outputs": [],
   "source": [
    "tmp"
   ]
  },
  {
   "cell_type": "code",
   "execution_count": 18,
   "metadata": {},
   "outputs": [],
   "source": [
    "def calc_non_gray_ratio(image, intensity=0.8):\n",
    "    im_gray = rgb2gray(image/255)\n",
    "    im_gray_mask = (im_gray <= intensity)\n",
    "    return (im_gray_mask.mean())"
   ]
  },
  {
   "cell_type": "code",
   "execution_count": null,
   "metadata": {},
   "outputs": [],
   "source": [
    "tmp"
   ]
  },
  {
   "cell_type": "code",
   "execution_count": 19,
   "metadata": {},
   "outputs": [],
   "source": [
    "infos = []"
   ]
  },
  {
   "cell_type": "code",
   "execution_count": 20,
   "metadata": {},
   "outputs": [
    {
     "name": "stderr",
     "output_type": "stream",
     "text": [
      "21it [01:02,  2.99s/it]\n"
     ]
    }
   ],
   "source": [
    "for idx, row in tqdm(meta_df.iterrows()):\n",
    "    img_id = row['img_id']\n",
    "    data_type = row['type']\n",
    "    img_file_paths = get_img_files_for_img_id(img_id, data_type)\n",
    "    \n",
    "    # total_mask_size_for_img = 0\n",
    "    for img_file_path in img_file_paths:\n",
    "        img_basename = os.path.basename(img_file_path)\n",
    "        img_arr = np.asarray(Image.open(img_file_path))\n",
    "        \n",
    "        non_gray_ratio = calc_non_gray_ratio(img_arr, intensity=0.8)\n",
    "        \n",
    "        infos.append({\n",
    "            'img_id': img_id, \n",
    "            'file_name': img_basename,\n",
    "            'non_gray_ratio': non_gray_ratio,\n",
    "            # 'total_mask_size_for_img': int(total_mask_size_for_img)\n",
    "        })"
   ]
  },
  {
   "cell_type": "code",
   "execution_count": 21,
   "metadata": {},
   "outputs": [],
   "source": [
    "temp_df = pd.DataFrame(infos)"
   ]
  },
  {
   "cell_type": "code",
   "execution_count": 62,
   "metadata": {},
   "outputs": [
    {
     "data": {
      "text/html": [
       "<div>\n",
       "<style scoped>\n",
       "    .dataframe tbody tr th:only-of-type {\n",
       "        vertical-align: middle;\n",
       "    }\n",
       "\n",
       "    .dataframe tbody tr th {\n",
       "        vertical-align: top;\n",
       "    }\n",
       "\n",
       "    .dataframe thead th {\n",
       "        text-align: right;\n",
       "    }\n",
       "</style>\n",
       "<table border=\"1\" class=\"dataframe\">\n",
       "  <thead>\n",
       "    <tr style=\"text-align: right;\">\n",
       "      <th></th>\n",
       "      <th>file_name</th>\n",
       "      <th>img_id</th>\n",
       "      <th>non_gray_ratio</th>\n",
       "    </tr>\n",
       "  </thead>\n",
       "  <tbody>\n",
       "    <tr>\n",
       "      <th>74940</th>\n",
       "      <td>tumor_slide_081_split_9_37.png</td>\n",
       "      <td>081</td>\n",
       "      <td>0.400278</td>\n",
       "    </tr>\n",
       "    <tr>\n",
       "      <th>82051</th>\n",
       "      <td>tumor_slide_096_split_11_11.png</td>\n",
       "      <td>096</td>\n",
       "      <td>0.400278</td>\n",
       "    </tr>\n",
       "    <tr>\n",
       "      <th>80084</th>\n",
       "      <td>tumor_slide_094_split_10_55.png</td>\n",
       "      <td>094</td>\n",
       "      <td>0.400278</td>\n",
       "    </tr>\n",
       "    <tr>\n",
       "      <th>82337</th>\n",
       "      <td>tumor_slide_096_split_15_59.png</td>\n",
       "      <td>096</td>\n",
       "      <td>0.400278</td>\n",
       "    </tr>\n",
       "    <tr>\n",
       "      <th>50428</th>\n",
       "      <td>tumor_slide_035_split_114_25.png</td>\n",
       "      <td>035</td>\n",
       "      <td>0.400556</td>\n",
       "    </tr>\n",
       "  </tbody>\n",
       "</table>\n",
       "</div>"
      ],
      "text/plain": [
       "                              file_name img_id  non_gray_ratio\n",
       "74940    tumor_slide_081_split_9_37.png    081        0.400278\n",
       "82051   tumor_slide_096_split_11_11.png    096        0.400278\n",
       "80084   tumor_slide_094_split_10_55.png    094        0.400278\n",
       "82337   tumor_slide_096_split_15_59.png    096        0.400278\n",
       "50428  tumor_slide_035_split_114_25.png    035        0.400556"
      ]
     },
     "execution_count": 62,
     "metadata": {},
     "output_type": "execute_result"
    }
   ],
   "source": [
    "temp_df[temp_df['non_gray_ratio'] > 0.4].sort_values('non_gray_ratio').head()"
   ]
  },
  {
   "cell_type": "code",
   "execution_count": 24,
   "metadata": {},
   "outputs": [],
   "source": [
    "# temp_df.sort_values('non_gray_ratio')"
   ]
  },
  {
   "cell_type": "code",
   "execution_count": 63,
   "metadata": {},
   "outputs": [
    {
     "data": {
      "text/plain": [
       "'0.24.2'"
      ]
     },
     "execution_count": 63,
     "metadata": {},
     "output_type": "execute_result"
    }
   ],
   "source": [
    "pd.__version__"
   ]
  },
  {
   "cell_type": "code",
   "execution_count": null,
   "metadata": {},
   "outputs": [],
   "source": [
    "pd.read_"
   ]
  },
  {
   "cell_type": "code",
   "execution_count": null,
   "metadata": {},
   "outputs": [],
   "source": []
  },
  {
   "cell_type": "code",
   "execution_count": 59,
   "metadata": {},
   "outputs": [],
   "source": [
    "sample_path = os.path.join(INPUT_DIRECTORY, 'train', 'slide', 'tumor_slide_081_split_9_37.png')"
   ]
  },
  {
   "cell_type": "code",
   "execution_count": 60,
   "metadata": {},
   "outputs": [],
   "source": [
    "temp = Image.open(sample_path)"
   ]
  },
  {
   "cell_type": "code",
   "execution_count": 61,
   "metadata": {},
   "outputs": [
    {
     "data": {
      "image/png": "[encoded data removed]",
      "text/plain": [
       "<PIL.PngImagePlugin.PngImageFile image mode=RGB size=60x60 at 0x10E44C6A0>"
      ]
     },
     "execution_count": 61,
     "metadata": {},
     "output_type": "execute_result"
    }
   ],
   "source": [
    "temp"
   ]
  },
  {
   "cell_type": "code",
   "execution_count": null,
   "metadata": {},
   "outputs": [],
   "source": [
    "#temp_df.to_pickle('../../../../data/zoom_5_60_60_partition_grayscale_info.pkl')"
   ]
  },
  {
   "cell_type": "code",
   "execution_count": null,
   "metadata": {},
   "outputs": [],
   "source": [
    "temp_df['non_gray_ratio'].hist(bins=10, range=[0, 0.2])"
   ]
  },
  {
   "cell_type": "code",
   "execution_count": null,
   "metadata": {},
   "outputs": [],
   "source": [
    "TOL = 1e-3"
   ]
  },
  {
   "cell_type": "code",
   "execution_count": null,
   "metadata": {},
   "outputs": [],
   "source": [
    "temp_df[temp_df['non_gray_ratio'] > TOL].shape"
   ]
  },
  {
   "cell_type": "code",
   "execution_count": null,
   "metadata": {},
   "outputs": [],
   "source": []
  },
  {
   "cell_type": "code",
   "execution_count": null,
   "metadata": {},
   "outputs": [],
   "source": []
  },
  {
   "cell_type": "code",
   "execution_count": null,
   "metadata": {},
   "outputs": [],
   "source": []
  }
 ],
 "metadata": {
  "kernelspec": {
   "display_name": "Python 3",
   "language": "python",
   "name": "python3"
  },
  "language_info": {
   "codemirror_mode": {
    "name": "ipython",
    "version": 3
   },
   "file_extension": ".py",
   "mimetype": "text/x-python",
   "name": "python",
   "nbconvert_exporter": "python",
   "pygments_lexer": "ipython3",
   "version": "3.6.4"
  }
 },
 "nbformat": 4,
 "nbformat_minor": 2
}
