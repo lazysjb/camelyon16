{
 "cells": [
  {
   "cell_type": "code",
   "execution_count": 1,
   "metadata": {},
   "outputs": [],
   "source": [
    "%load_ext autoreload\n",
    "%autoreload 2"
   ]
  },
  {
   "cell_type": "code",
   "execution_count": 2,
   "metadata": {},
   "outputs": [],
   "source": [
    "import sys\n",
    "sys.path.append('../../')"
   ]
  },
  {
   "cell_type": "code",
   "execution_count": 3,
   "metadata": {},
   "outputs": [],
   "source": [
    "from common.utils.image_preprocess import (\n",
    "    read_slide_partitions_with_overlap, read_slide\n",
    ")"
   ]
  },
  {
   "cell_type": "code",
   "execution_count": 4,
   "metadata": {},
   "outputs": [],
   "source": [
    "import os\n",
    "from openslide import open_slide\n",
    "import matplotlib.pyplot as plt\n",
    "import math\n",
    "import numpy as np\n",
    "from PIL import Image\n",
    "from glob import glob\n",
    "import pandas as pd\n",
    "from tqdm import tqdm"
   ]
  },
  {
   "cell_type": "code",
   "execution_count": 5,
   "metadata": {},
   "outputs": [],
   "source": [
    "meta_info = pd.read_json('../../../data/tumor_img_meta_info.json', dtype=False)"
   ]
  },
  {
   "cell_type": "code",
   "execution_count": 6,
   "metadata": {},
   "outputs": [
    {
     "data": {
      "text/html": [
       "<div>\n",
       "<style scoped>\n",
       "    .dataframe tbody tr th:only-of-type {\n",
       "        vertical-align: middle;\n",
       "    }\n",
       "\n",
       "    .dataframe tbody tr th {\n",
       "        vertical-align: top;\n",
       "    }\n",
       "\n",
       "    .dataframe thead th {\n",
       "        text-align: right;\n",
       "    }\n",
       "</style>\n",
       "<table border=\"1\" class=\"dataframe\">\n",
       "  <thead>\n",
       "    <tr style=\"text-align: right;\">\n",
       "      <th></th>\n",
       "      <th>img_id</th>\n",
       "      <th>level_5_img_size</th>\n",
       "      <th>level_5_mask_area</th>\n",
       "      <th>level_dimensions</th>\n",
       "      <th>level_downsamples</th>\n",
       "      <th>mask_img_filename</th>\n",
       "      <th>mask_proportion</th>\n",
       "      <th>slide_img_filename</th>\n",
       "    </tr>\n",
       "  </thead>\n",
       "  <tbody>\n",
       "    <tr>\n",
       "      <th>0</th>\n",
       "      <td>001</td>\n",
       "      <td>21123072</td>\n",
       "      <td>11116</td>\n",
       "      <td>[[97792, 221184], [48896, 110592], [24448, 552...</td>\n",
       "      <td>[1.0, 2.0, 4.0, 8.0, 16.0, 32.0, 64.0, 128.0, ...</td>\n",
       "      <td>tumor_001_mask.tif</td>\n",
       "      <td>0.052625</td>\n",
       "      <td>tumor_001.tif</td>\n",
       "    </tr>\n",
       "    <tr>\n",
       "      <th>1</th>\n",
       "      <td>002</td>\n",
       "      <td>20976384</td>\n",
       "      <td>938</td>\n",
       "      <td>[[97792, 219648], [48896, 109824], [24448, 549...</td>\n",
       "      <td>[1.0, 2.0, 4.0, 8.0, 16.0, 32.0, 64.0, 128.0, ...</td>\n",
       "      <td>tumor_002_mask.tif</td>\n",
       "      <td>0.004472</td>\n",
       "      <td>tumor_002.tif</td>\n",
       "    </tr>\n",
       "    <tr>\n",
       "      <th>2</th>\n",
       "      <td>005</td>\n",
       "      <td>20976384</td>\n",
       "      <td>2323</td>\n",
       "      <td>[[97792, 219648], [48896, 109824], [24448, 549...</td>\n",
       "      <td>[1.0, 2.0, 4.0, 8.0, 16.0, 32.0, 64.0, 128.0, ...</td>\n",
       "      <td>tumor_005_mask.tif</td>\n",
       "      <td>0.011074</td>\n",
       "      <td>tumor_005.tif</td>\n",
       "    </tr>\n",
       "    <tr>\n",
       "      <th>3</th>\n",
       "      <td>012</td>\n",
       "      <td>20585216</td>\n",
       "      <td>1115</td>\n",
       "      <td>[[97792, 215552], [48896, 107776], [24448, 538...</td>\n",
       "      <td>[1.0, 2.0, 4.0, 8.0, 16.0, 32.0, 64.0, 128.0, ...</td>\n",
       "      <td>tumor_012_mask.tif</td>\n",
       "      <td>0.005417</td>\n",
       "      <td>tumor_012.tif</td>\n",
       "    </tr>\n",
       "    <tr>\n",
       "      <th>4</th>\n",
       "      <td>016</td>\n",
       "      <td>21123072</td>\n",
       "      <td>156981</td>\n",
       "      <td>[[97792, 221184], [48896, 110592], [24448, 552...</td>\n",
       "      <td>[1.0, 2.0, 4.0, 8.0, 16.0, 32.0, 64.0, 128.0, ...</td>\n",
       "      <td>tumor_016_mask.tif</td>\n",
       "      <td>0.743173</td>\n",
       "      <td>tumor_016.tif</td>\n",
       "    </tr>\n",
       "  </tbody>\n",
       "</table>\n",
       "</div>"
      ],
      "text/plain": [
       "  img_id  level_5_img_size  level_5_mask_area  \\\n",
       "0    001          21123072              11116   \n",
       "1    002          20976384                938   \n",
       "2    005          20976384               2323   \n",
       "3    012          20585216               1115   \n",
       "4    016          21123072             156981   \n",
       "\n",
       "                                    level_dimensions  \\\n",
       "0  [[97792, 221184], [48896, 110592], [24448, 552...   \n",
       "1  [[97792, 219648], [48896, 109824], [24448, 549...   \n",
       "2  [[97792, 219648], [48896, 109824], [24448, 549...   \n",
       "3  [[97792, 215552], [48896, 107776], [24448, 538...   \n",
       "4  [[97792, 221184], [48896, 110592], [24448, 552...   \n",
       "\n",
       "                                   level_downsamples   mask_img_filename  \\\n",
       "0  [1.0, 2.0, 4.0, 8.0, 16.0, 32.0, 64.0, 128.0, ...  tumor_001_mask.tif   \n",
       "1  [1.0, 2.0, 4.0, 8.0, 16.0, 32.0, 64.0, 128.0, ...  tumor_002_mask.tif   \n",
       "2  [1.0, 2.0, 4.0, 8.0, 16.0, 32.0, 64.0, 128.0, ...  tumor_005_mask.tif   \n",
       "3  [1.0, 2.0, 4.0, 8.0, 16.0, 32.0, 64.0, 128.0, ...  tumor_012_mask.tif   \n",
       "4  [1.0, 2.0, 4.0, 8.0, 16.0, 32.0, 64.0, 128.0, ...  tumor_016_mask.tif   \n",
       "\n",
       "   mask_proportion slide_img_filename  \n",
       "0         0.052625      tumor_001.tif  \n",
       "1         0.004472      tumor_002.tif  \n",
       "2         0.011074      tumor_005.tif  \n",
       "3         0.005417      tumor_012.tif  \n",
       "4         0.743173      tumor_016.tif  "
      ]
     },
     "execution_count": 6,
     "metadata": {},
     "output_type": "execute_result"
    }
   ],
   "source": [
    "meta_info.head()"
   ]
  },
  {
   "cell_type": "code",
   "execution_count": 7,
   "metadata": {},
   "outputs": [
    {
     "data": {
      "text/plain": [
       "(21, 8)"
      ]
     },
     "execution_count": 7,
     "metadata": {},
     "output_type": "execute_result"
    }
   ],
   "source": [
    "meta_info.shape"
   ]
  },
  {
   "cell_type": "code",
   "execution_count": null,
   "metadata": {},
   "outputs": [],
   "source": []
  },
  {
   "cell_type": "code",
   "execution_count": 8,
   "metadata": {},
   "outputs": [],
   "source": [
    "SOURCE_IMG_DATA_DIR = '/home/sjb/Projects/Columbia/Applied_DL/CamelyonProject/data/source_data/'\n",
    "PARTITIONED_IMG_DATA_DIR = '/home/sjb/Projects/Columbia/Applied_DL/CamelyonProject/data/temp_partitions_dir/'\n",
    "#ZOOM_1_PARTITION_DATA_DIR = '/home/sjb/Projects/Columbia/Applied_DL/CamelyonProject/data/zoom_1_256_256_partition/test/slide/'"
   ]
  },
  {
   "cell_type": "code",
   "execution_count": 9,
   "metadata": {},
   "outputs": [],
   "source": [
    "ZOOM_LEVEL = 2\n",
    "\n",
    "PARTITION_WIDTH = 256\n",
    "PARTITION_HEIGHT = 256\n",
    "OFFSET_COORD = (64, 64)\n",
    "OVERLAP = 128"
   ]
  },
  {
   "cell_type": "code",
   "execution_count": 10,
   "metadata": {},
   "outputs": [
    {
     "data": {
      "text/plain": [
       "'/home/sjb/Projects/Columbia/Applied_DL/CamelyonProject/data/temp_partitions_dir/'"
      ]
     },
     "execution_count": 10,
     "metadata": {},
     "output_type": "execute_result"
    }
   ],
   "source": [
    "PARTITIONED_IMG_DATA_DIR"
   ]
  },
  {
   "cell_type": "code",
   "execution_count": 11,
   "metadata": {},
   "outputs": [
    {
     "name": "stderr",
     "output_type": "stream",
     "text": [
      "0it [00:00, ?it/s]"
     ]
    },
    {
     "name": "stdout",
     "output_type": "stream",
     "text": [
      "Saving under the file name patterns:  /home/sjb/Projects/Columbia/Applied_DL/CamelyonProject/data/temp_partitions_dir/tumor_slide_001_split_{row_id}_{col_id}_overlap_{overlap}_offset_{offset}.png\n"
     ]
    },
    {
     "name": "stderr",
     "output_type": "stream",
     "text": [
      "1it [13:31, 811.32s/it]"
     ]
    },
    {
     "name": "stdout",
     "output_type": "stream",
     "text": [
      "Saving under the file name patterns:  /home/sjb/Projects/Columbia/Applied_DL/CamelyonProject/data/temp_partitions_dir/tumor_slide_002_split_{row_id}_{col_id}_overlap_{overlap}_offset_{offset}.png\n"
     ]
    },
    {
     "name": "stderr",
     "output_type": "stream",
     "text": [
      "2it [20:52, 700.41s/it]"
     ]
    },
    {
     "name": "stdout",
     "output_type": "stream",
     "text": [
      "Saving under the file name patterns:  /home/sjb/Projects/Columbia/Applied_DL/CamelyonProject/data/temp_partitions_dir/tumor_slide_005_split_{row_id}_{col_id}_overlap_{overlap}_offset_{offset}.png\n"
     ]
    },
    {
     "name": "stderr",
     "output_type": "stream",
     "text": [
      "3it [27:46, 614.49s/it]"
     ]
    },
    {
     "name": "stdout",
     "output_type": "stream",
     "text": [
      "Saving under the file name patterns:  /home/sjb/Projects/Columbia/Applied_DL/CamelyonProject/data/temp_partitions_dir/tumor_slide_012_split_{row_id}_{col_id}_overlap_{overlap}_offset_{offset}.png\n"
     ]
    },
    {
     "name": "stderr",
     "output_type": "stream",
     "text": [
      "4it [34:53, 558.17s/it]"
     ]
    },
    {
     "name": "stdout",
     "output_type": "stream",
     "text": [
      "Saving under the file name patterns:  /home/sjb/Projects/Columbia/Applied_DL/CamelyonProject/data/temp_partitions_dir/tumor_slide_016_split_{row_id}_{col_id}_overlap_{overlap}_offset_{offset}.png\n"
     ]
    },
    {
     "name": "stderr",
     "output_type": "stream",
     "text": [
      "5it [42:13, 522.66s/it]"
     ]
    },
    {
     "name": "stdout",
     "output_type": "stream",
     "text": [
      "Saving under the file name patterns:  /home/sjb/Projects/Columbia/Applied_DL/CamelyonProject/data/temp_partitions_dir/tumor_slide_019_split_{row_id}_{col_id}_overlap_{overlap}_offset_{offset}.png\n"
     ]
    },
    {
     "name": "stderr",
     "output_type": "stream",
     "text": [
      "6it [50:25, 513.38s/it]"
     ]
    },
    {
     "name": "stdout",
     "output_type": "stream",
     "text": [
      "Saving under the file name patterns:  /home/sjb/Projects/Columbia/Applied_DL/CamelyonProject/data/temp_partitions_dir/tumor_slide_023_split_{row_id}_{col_id}_overlap_{overlap}_offset_{offset}.png\n"
     ]
    },
    {
     "name": "stderr",
     "output_type": "stream",
     "text": [
      "7it [58:47, 510.14s/it]"
     ]
    },
    {
     "name": "stdout",
     "output_type": "stream",
     "text": [
      "Saving under the file name patterns:  /home/sjb/Projects/Columbia/Applied_DL/CamelyonProject/data/temp_partitions_dir/tumor_slide_031_split_{row_id}_{col_id}_overlap_{overlap}_offset_{offset}.png\n"
     ]
    },
    {
     "name": "stderr",
     "output_type": "stream",
     "text": [
      "8it [1:06:07, 489.08s/it]"
     ]
    },
    {
     "name": "stdout",
     "output_type": "stream",
     "text": [
      "Saving under the file name patterns:  /home/sjb/Projects/Columbia/Applied_DL/CamelyonProject/data/temp_partitions_dir/tumor_slide_035_split_{row_id}_{col_id}_overlap_{overlap}_offset_{offset}.png\n"
     ]
    },
    {
     "name": "stderr",
     "output_type": "stream",
     "text": [
      "9it [1:13:56, 482.85s/it]"
     ]
    },
    {
     "name": "stdout",
     "output_type": "stream",
     "text": [
      "Saving under the file name patterns:  /home/sjb/Projects/Columbia/Applied_DL/CamelyonProject/data/temp_partitions_dir/tumor_slide_057_split_{row_id}_{col_id}_overlap_{overlap}_offset_{offset}.png\n"
     ]
    },
    {
     "name": "stderr",
     "output_type": "stream",
     "text": [
      "10it [1:20:49, 461.88s/it]"
     ]
    },
    {
     "name": "stdout",
     "output_type": "stream",
     "text": [
      "Saving under the file name patterns:  /home/sjb/Projects/Columbia/Applied_DL/CamelyonProject/data/temp_partitions_dir/tumor_slide_059_split_{row_id}_{col_id}_overlap_{overlap}_offset_{offset}.png\n"
     ]
    },
    {
     "name": "stderr",
     "output_type": "stream",
     "text": [
      "11it [1:27:50, 449.89s/it]"
     ]
    },
    {
     "name": "stdout",
     "output_type": "stream",
     "text": [
      "Saving under the file name patterns:  /home/sjb/Projects/Columbia/Applied_DL/CamelyonProject/data/temp_partitions_dir/tumor_slide_064_split_{row_id}_{col_id}_overlap_{overlap}_offset_{offset}.png\n"
     ]
    },
    {
     "name": "stderr",
     "output_type": "stream",
     "text": [
      "12it [1:35:47, 458.02s/it]"
     ]
    },
    {
     "name": "stdout",
     "output_type": "stream",
     "text": [
      "Saving under the file name patterns:  /home/sjb/Projects/Columbia/Applied_DL/CamelyonProject/data/temp_partitions_dir/tumor_slide_075_split_{row_id}_{col_id}_overlap_{overlap}_offset_{offset}.png\n"
     ]
    },
    {
     "name": "stderr",
     "output_type": "stream",
     "text": [
      "13it [1:39:02, 379.06s/it]"
     ]
    },
    {
     "name": "stdout",
     "output_type": "stream",
     "text": [
      "Saving under the file name patterns:  /home/sjb/Projects/Columbia/Applied_DL/CamelyonProject/data/temp_partitions_dir/tumor_slide_078_split_{row_id}_{col_id}_overlap_{overlap}_offset_{offset}.png\n"
     ]
    },
    {
     "name": "stderr",
     "output_type": "stream",
     "text": [
      "14it [1:44:39, 366.35s/it]"
     ]
    },
    {
     "name": "stdout",
     "output_type": "stream",
     "text": [
      "Saving under the file name patterns:  /home/sjb/Projects/Columbia/Applied_DL/CamelyonProject/data/temp_partitions_dir/tumor_slide_081_split_{row_id}_{col_id}_overlap_{overlap}_offset_{offset}.png\n"
     ]
    },
    {
     "name": "stderr",
     "output_type": "stream",
     "text": [
      "15it [1:48:41, 329.01s/it]"
     ]
    },
    {
     "name": "stdout",
     "output_type": "stream",
     "text": [
      "Saving under the file name patterns:  /home/sjb/Projects/Columbia/Applied_DL/CamelyonProject/data/temp_partitions_dir/tumor_slide_084_split_{row_id}_{col_id}_overlap_{overlap}_offset_{offset}.png\n"
     ]
    },
    {
     "name": "stderr",
     "output_type": "stream",
     "text": [
      "16it [1:51:31, 281.46s/it]"
     ]
    },
    {
     "name": "stdout",
     "output_type": "stream",
     "text": [
      "Saving under the file name patterns:  /home/sjb/Projects/Columbia/Applied_DL/CamelyonProject/data/temp_partitions_dir/tumor_slide_091_split_{row_id}_{col_id}_overlap_{overlap}_offset_{offset}.png\n"
     ]
    },
    {
     "name": "stderr",
     "output_type": "stream",
     "text": [
      "17it [1:53:16, 228.52s/it]"
     ]
    },
    {
     "name": "stdout",
     "output_type": "stream",
     "text": [
      "Saving under the file name patterns:  /home/sjb/Projects/Columbia/Applied_DL/CamelyonProject/data/temp_partitions_dir/tumor_slide_094_split_{row_id}_{col_id}_overlap_{overlap}_offset_{offset}.png\n"
     ]
    },
    {
     "name": "stderr",
     "output_type": "stream",
     "text": [
      "18it [1:59:49, 277.91s/it]"
     ]
    },
    {
     "name": "stdout",
     "output_type": "stream",
     "text": [
      "Saving under the file name patterns:  /home/sjb/Projects/Columbia/Applied_DL/CamelyonProject/data/temp_partitions_dir/tumor_slide_096_split_{row_id}_{col_id}_overlap_{overlap}_offset_{offset}.png\n"
     ]
    },
    {
     "name": "stderr",
     "output_type": "stream",
     "text": [
      "19it [2:04:11, 272.88s/it]"
     ]
    },
    {
     "name": "stdout",
     "output_type": "stream",
     "text": [
      "Saving under the file name patterns:  /home/sjb/Projects/Columbia/Applied_DL/CamelyonProject/data/temp_partitions_dir/tumor_slide_101_split_{row_id}_{col_id}_overlap_{overlap}_offset_{offset}.png\n"
     ]
    },
    {
     "name": "stderr",
     "output_type": "stream",
     "text": [
      "20it [2:08:58, 277.20s/it]"
     ]
    },
    {
     "name": "stdout",
     "output_type": "stream",
     "text": [
      "Saving under the file name patterns:  /home/sjb/Projects/Columbia/Applied_DL/CamelyonProject/data/temp_partitions_dir/tumor_slide_110_split_{row_id}_{col_id}_overlap_{overlap}_offset_{offset}.png\n"
     ]
    },
    {
     "name": "stderr",
     "output_type": "stream",
     "text": [
      "21it [2:12:17, 253.70s/it]\n"
     ]
    }
   ],
   "source": [
    "for idx, row in tqdm(meta_info.iterrows()):\n",
    "    slide_img_file_path = os.path.join(SOURCE_IMG_DATA_DIR, row['slide_img_filename'])\n",
    "    slide = open_slide(slide_img_file_path)\n",
    "    \n",
    "    img_id = row['img_id']\n",
    "    slide_img_partition_file_prefix = os.path.join(PARTITIONED_IMG_DATA_DIR, 'tumor_slide_{}_split'.format(img_id))\n",
    "    \n",
    "    read_slide_partitions_with_overlap(\n",
    "        slide,\n",
    "        ZOOM_LEVEL,\n",
    "        partition_width=PARTITION_WIDTH,\n",
    "        partition_height=PARTITION_HEIGHT,\n",
    "        offset=OFFSET_COORD,\n",
    "        overlap=OVERLAP,\n",
    "        save_file_prefix=slide_img_partition_file_prefix)\n",
    "\n",
    "    slide.close()"
   ]
  },
  {
   "cell_type": "code",
   "execution_count": null,
   "metadata": {},
   "outputs": [],
   "source": []
  },
  {
   "cell_type": "code",
   "execution_count": null,
   "metadata": {},
   "outputs": [],
   "source": []
  },
  {
   "cell_type": "markdown",
   "metadata": {},
   "source": [
    "### Playground - testing for a sample zoom1 vs. zoom2 pair"
   ]
  },
  {
   "cell_type": "code",
   "execution_count": null,
   "metadata": {},
   "outputs": [],
   "source": [
    "def get_row_col_id_from_file_name(file_name, component_idxes=(3, 4)):\n",
    "    components = file_name.split('.')[0].split('_')\n",
    "    return (components[component_idxes[0]], components[component_idxes[1]])\n",
    "\n",
    "def get_row_col_ids_from_file_name_list(file_name_list, component_idxes=(3, 4)):\n",
    "    temp = [get_row_col_id_from_file_name(f, component_idxes=component_idxes) for f in file_name_list]\n",
    "    \n",
    "    row_ids, col_ids = list(zip(*temp))\n",
    "    row_ids = np.sort(np.unique(row_ids).astype(int))\n",
    "    col_ids = np.sort(np.unique(col_ids).astype(int))\n",
    "    \n",
    "    return (row_ids, col_ids)"
   ]
  },
  {
   "cell_type": "code",
   "execution_count": null,
   "metadata": {},
   "outputs": [],
   "source": [
    "SOURCE_IMG_DATA_DIR = '/home/sjb/Projects/Columbia/Applied_DL/CamelyonProject/data/source_data/'\n",
    "PARTITIONED_IMG_DATA_DIR = './temp/zoom_2_091_img_partition_with_overlap/'\n",
    "ZOOM_1_PARTITION_DATA_DIR = '/home/sjb/Projects/'"
   ]
  },
  {
   "cell_type": "code",
   "execution_count": null,
   "metadata": {},
   "outputs": [],
   "source": [
    "slide = open_slide(source_slide_img_path)\n",
    "mask = open_slide(source_mask_img_path)\n",
    "\n",
    "slide_img = read_slide(slide, \n",
    "                         x=0, \n",
    "                         y=0, \n",
    "                         level=5, \n",
    "                         width=slide.level_dimensions[5][0], \n",
    "                         height=slide.level_dimensions[5][1])\n",
    "\n",
    "mask_img = read_slide(mask,\n",
    "                      x=0,\n",
    "                      y=0,\n",
    "                      level=5,\n",
    "                      width=slide.level_dimensions[5][0],\n",
    "                      height=slide.level_dimensions[5][1])[:, :, 0]\n",
    "\n",
    "plt.figure(figsize=(8,8), dpi=100)\n",
    "plt.imshow(slide_img)\n",
    "plt.imshow(mask_img, alpha=0.3)"
   ]
  },
  {
   "cell_type": "code",
   "execution_count": null,
   "metadata": {},
   "outputs": [],
   "source": [
    "slide_img_partition_file_paths = glob(PARTITIONED_IMG_DATA_DIR + '*.png')\n",
    "slide_img_partition_file_names = [os.path.basename(x) for x  in slide_img_partition_file_paths]"
   ]
  },
  {
   "cell_type": "code",
   "execution_count": null,
   "metadata": {},
   "outputs": [],
   "source": [
    "slide_img_partition_file_paths_zoom_1 = glob(ZOOM_1_PARTITION_DATA_DIR + 'tumor_slide_091_split_*.png')\n",
    "slide_img_partition_file_names_zoom_1 = [os.path.basename(x) for x in slide_img_partition_file_paths_zoom_1]"
   ]
  },
  {
   "cell_type": "code",
   "execution_count": null,
   "metadata": {},
   "outputs": [],
   "source": [
    "row_ids, col_ids = get_row_col_ids_from_file_name_list(slide_img_partition_file_names, component_idxes=(3, 4))"
   ]
  },
  {
   "cell_type": "code",
   "execution_count": null,
   "metadata": {},
   "outputs": [],
   "source": [
    "row_ids_zoom_1, col_ids_zoom_1 = get_row_col_ids_from_file_name_list(slide_img_partition_file_names_zoom_1, \n",
    "                                                                     component_idxes=(4, 5))"
   ]
  },
  {
   "cell_type": "code",
   "execution_count": null,
   "metadata": {},
   "outputs": [],
   "source": [
    "np.setdiff1d(row_ids_zoom_1, row_ids)"
   ]
  },
  {
   "cell_type": "code",
   "execution_count": null,
   "metadata": {},
   "outputs": [],
   "source": [
    "np.setdiff1d(col_ids_zoom_1, col_ids)"
   ]
  },
  {
   "cell_type": "code",
   "execution_count": null,
   "metadata": {},
   "outputs": [],
   "source": [
    "len(slide_img_partition_file_names_zoom_1) - len(slide_img_partition_file_names)"
   ]
  },
  {
   "cell_type": "code",
   "execution_count": null,
   "metadata": {},
   "outputs": [],
   "source": [
    "slide_img_partition_file_names_zoom_1[0]"
   ]
  },
  {
   "cell_type": "code",
   "execution_count": null,
   "metadata": {},
   "outputs": [],
   "source": [
    "sample_coord = (48, 50)"
   ]
  },
  {
   "cell_type": "code",
   "execution_count": null,
   "metadata": {},
   "outputs": [],
   "source": [
    "temp = Image.open(os.path.join(ZOOM_1_PARTITION_DATA_DIR, \n",
    "                               'tumor_slide_091_split_{}_{}.png'.format(sample_coord[0], sample_coord[1])))\n",
    "temp2 = Image.open(os.path.join(PARTITIONED_IMG_DATA_DIR, \n",
    "                                'tumor_091_split_{}_{}_overlap_128_offset_64.png'.format(\n",
    "                                sample_coord[0], sample_coord[1])))"
   ]
  },
  {
   "cell_type": "code",
   "execution_count": null,
   "metadata": {},
   "outputs": [],
   "source": [
    "zoom_1_slide_img = np.asarray(temp)\n",
    "zoom_2_slide_img = np.asarray(temp2)"
   ]
  },
  {
   "cell_type": "code",
   "execution_count": null,
   "metadata": {},
   "outputs": [],
   "source": []
  },
  {
   "cell_type": "code",
   "execution_count": null,
   "metadata": {},
   "outputs": [],
   "source": [
    "fig, axes = plt.subplots(1, 2, figsize=(15, 30))\n",
    "\n",
    "axes[0].imshow(zoom_1_slide_img)\n",
    "axes[1].imshow(zoom_2_slide_img)"
   ]
  },
  {
   "cell_type": "code",
   "execution_count": null,
   "metadata": {},
   "outputs": [],
   "source": []
  }
 ],
 "metadata": {
  "kernelspec": {
   "display_name": "Python 3",
   "language": "python",
   "name": "python3"
  },
  "language_info": {
   "codemirror_mode": {
    "name": "ipython",
    "version": 3
   },
   "file_extension": ".py",
   "mimetype": "text/x-python",
   "name": "python",
   "nbconvert_exporter": "python",
   "pygments_lexer": "ipython3",
   "version": "3.6.8"
  }
 },
 "nbformat": 4,
 "nbformat_minor": 2
}
