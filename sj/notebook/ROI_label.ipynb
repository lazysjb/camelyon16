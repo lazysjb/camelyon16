{
 "cells": [
  {
   "cell_type": "code",
   "execution_count": 1,
   "metadata": {},
   "outputs": [],
   "source": [
    "import pandas as pd\n",
    "from glob import glob\n",
    "import numpy as np\n",
    "import os\n",
    "import matplotlib.pyplot as plt\n",
    "from tqdm import tqdm"
   ]
  },
  {
   "cell_type": "code",
   "execution_count": 2,
   "metadata": {},
   "outputs": [],
   "source": [
    "ROI_MASK_DIR = '/home/sjb/Projects/Columbia/Applied_DL/CamelyonProject/data/bounding_boxes/mask/'"
   ]
  },
  {
   "cell_type": "code",
   "execution_count": 3,
   "metadata": {},
   "outputs": [],
   "source": [
    "roi_mask_file_paths = glob(ROI_MASK_DIR + 'zoom5_opening*.npy')"
   ]
  },
  {
   "cell_type": "code",
   "execution_count": 4,
   "metadata": {},
   "outputs": [
    {
     "data": {
      "text/plain": [
       "['/home/sjb/Projects/Columbia/Applied_DL/CamelyonProject/data/bounding_boxes/mask/zoom5_opening_mask_tumor_081.npy',\n",
       " '/home/sjb/Projects/Columbia/Applied_DL/CamelyonProject/data/bounding_boxes/mask/zoom5_opening_mask_tumor_035.npy',\n",
       " '/home/sjb/Projects/Columbia/Applied_DL/CamelyonProject/data/bounding_boxes/mask/zoom5_opening_mask_tumor_012.npy',\n",
       " '/home/sjb/Projects/Columbia/Applied_DL/CamelyonProject/data/bounding_boxes/mask/zoom5_opening_mask_tumor_023.npy',\n",
       " '/home/sjb/Projects/Columbia/Applied_DL/CamelyonProject/data/bounding_boxes/mask/zoom5_opening_mask_tumor_057.npy',\n",
       " '/home/sjb/Projects/Columbia/Applied_DL/CamelyonProject/data/bounding_boxes/mask/zoom5_opening_mask_tumor_059.npy',\n",
       " '/home/sjb/Projects/Columbia/Applied_DL/CamelyonProject/data/bounding_boxes/mask/zoom5_opening_mask_tumor_094.npy',\n",
       " '/home/sjb/Projects/Columbia/Applied_DL/CamelyonProject/data/bounding_boxes/mask/zoom5_opening_mask_tumor_101.npy',\n",
       " '/home/sjb/Projects/Columbia/Applied_DL/CamelyonProject/data/bounding_boxes/mask/zoom5_opening_mask_tumor_075.npy',\n",
       " '/home/sjb/Projects/Columbia/Applied_DL/CamelyonProject/data/bounding_boxes/mask/zoom5_opening_mask_tumor_002.npy',\n",
       " '/home/sjb/Projects/Columbia/Applied_DL/CamelyonProject/data/bounding_boxes/mask/zoom5_opening_mask_tumor_078.npy',\n",
       " '/home/sjb/Projects/Columbia/Applied_DL/CamelyonProject/data/bounding_boxes/mask/zoom5_opening_mask_tumor_064.npy',\n",
       " '/home/sjb/Projects/Columbia/Applied_DL/CamelyonProject/data/bounding_boxes/mask/zoom5_opening_mask_tumor_038.npy',\n",
       " '/home/sjb/Projects/Columbia/Applied_DL/CamelyonProject/data/bounding_boxes/mask/zoom5_opening_mask_tumor_091.npy',\n",
       " '/home/sjb/Projects/Columbia/Applied_DL/CamelyonProject/data/bounding_boxes/mask/zoom5_opening_mask_tumor_016.npy',\n",
       " '/home/sjb/Projects/Columbia/Applied_DL/CamelyonProject/data/bounding_boxes/mask/zoom5_opening_mask_tumor_019.npy',\n",
       " '/home/sjb/Projects/Columbia/Applied_DL/CamelyonProject/data/bounding_boxes/mask/zoom5_opening_mask_tumor_110.npy',\n",
       " '/home/sjb/Projects/Columbia/Applied_DL/CamelyonProject/data/bounding_boxes/mask/zoom5_opening_mask_tumor_001.npy',\n",
       " '/home/sjb/Projects/Columbia/Applied_DL/CamelyonProject/data/bounding_boxes/mask/zoom5_opening_mask_tumor_096.npy',\n",
       " '/home/sjb/Projects/Columbia/Applied_DL/CamelyonProject/data/bounding_boxes/mask/zoom5_opening_mask_tumor_031.npy',\n",
       " '/home/sjb/Projects/Columbia/Applied_DL/CamelyonProject/data/bounding_boxes/mask/zoom5_opening_mask_tumor_084.npy',\n",
       " '/home/sjb/Projects/Columbia/Applied_DL/CamelyonProject/data/bounding_boxes/mask/zoom5_opening_mask_tumor_005.npy']"
      ]
     },
     "execution_count": 4,
     "metadata": {},
     "output_type": "execute_result"
    }
   ],
   "source": [
    "roi_mask_file_paths"
   ]
  },
  {
   "cell_type": "code",
   "execution_count": 8,
   "metadata": {},
   "outputs": [],
   "source": [
    "meta_file_path = '../../../data/zoom_1_256_256_partition/meta/all_info_0.4_grayscale_tol.json'"
   ]
  },
  {
   "cell_type": "code",
   "execution_count": 9,
   "metadata": {},
   "outputs": [],
   "source": [
    "meta_df = pd.read_json(meta_file_path, dtype=False)"
   ]
  },
  {
   "cell_type": "code",
   "execution_count": 10,
   "metadata": {},
   "outputs": [
    {
     "data": {
      "text/html": [
       "<div>\n",
       "<style scoped>\n",
       "    .dataframe tbody tr th:only-of-type {\n",
       "        vertical-align: middle;\n",
       "    }\n",
       "\n",
       "    .dataframe tbody tr th {\n",
       "        vertical-align: top;\n",
       "    }\n",
       "\n",
       "    .dataframe thead th {\n",
       "        text-align: right;\n",
       "    }\n",
       "</style>\n",
       "<table border=\"1\" class=\"dataframe\">\n",
       "  <thead>\n",
       "    <tr style=\"text-align: right;\">\n",
       "      <th></th>\n",
       "      <th>file_name</th>\n",
       "      <th>img_id</th>\n",
       "      <th>include</th>\n",
       "      <th>label</th>\n",
       "      <th>non_gray_ratio</th>\n",
       "      <th>type</th>\n",
       "    </tr>\n",
       "  </thead>\n",
       "  <tbody>\n",
       "    <tr>\n",
       "      <th>0</th>\n",
       "      <td>tumor_slide_001_split_249_24.png</td>\n",
       "      <td>001</td>\n",
       "      <td>0</td>\n",
       "      <td>0</td>\n",
       "      <td>0.016266</td>\n",
       "      <td>val</td>\n",
       "    </tr>\n",
       "    <tr>\n",
       "      <th>1</th>\n",
       "      <td>tumor_slide_001_split_31_127.png</td>\n",
       "      <td>001</td>\n",
       "      <td>0</td>\n",
       "      <td>0</td>\n",
       "      <td>0.004410</td>\n",
       "      <td>val</td>\n",
       "    </tr>\n",
       "    <tr>\n",
       "      <th>2</th>\n",
       "      <td>tumor_slide_001_split_108_188.png</td>\n",
       "      <td>001</td>\n",
       "      <td>0</td>\n",
       "      <td>0</td>\n",
       "      <td>0.000320</td>\n",
       "      <td>val</td>\n",
       "    </tr>\n",
       "    <tr>\n",
       "      <th>3</th>\n",
       "      <td>tumor_slide_001_split_406_51.png</td>\n",
       "      <td>001</td>\n",
       "      <td>0</td>\n",
       "      <td>0</td>\n",
       "      <td>0.000000</td>\n",
       "      <td>val</td>\n",
       "    </tr>\n",
       "    <tr>\n",
       "      <th>4</th>\n",
       "      <td>tumor_slide_001_split_160_72.png</td>\n",
       "      <td>001</td>\n",
       "      <td>1</td>\n",
       "      <td>0</td>\n",
       "      <td>0.720123</td>\n",
       "      <td>val</td>\n",
       "    </tr>\n",
       "  </tbody>\n",
       "</table>\n",
       "</div>"
      ],
      "text/plain": [
       "                           file_name img_id  include  label  non_gray_ratio  \\\n",
       "0   tumor_slide_001_split_249_24.png    001        0      0        0.016266   \n",
       "1   tumor_slide_001_split_31_127.png    001        0      0        0.004410   \n",
       "2  tumor_slide_001_split_108_188.png    001        0      0        0.000320   \n",
       "3   tumor_slide_001_split_406_51.png    001        0      0        0.000000   \n",
       "4   tumor_slide_001_split_160_72.png    001        1      0        0.720123   \n",
       "\n",
       "  type  \n",
       "0  val  \n",
       "1  val  \n",
       "2  val  \n",
       "3  val  \n",
       "4  val  "
      ]
     },
     "execution_count": 10,
     "metadata": {},
     "output_type": "execute_result"
    }
   ],
   "source": [
    "meta_df.head()"
   ]
  },
  {
   "cell_type": "code",
   "execution_count": 11,
   "metadata": {},
   "outputs": [
    {
     "data": {
      "text/plain": [
       "(1266294, 6)"
      ]
     },
     "execution_count": 11,
     "metadata": {},
     "output_type": "execute_result"
    }
   ],
   "source": [
    "meta_df.shape"
   ]
  },
  {
   "cell_type": "code",
   "execution_count": 14,
   "metadata": {},
   "outputs": [],
   "source": [
    "file_name_to_roi_map = {}"
   ]
  },
  {
   "cell_type": "code",
   "execution_count": 15,
   "metadata": {},
   "outputs": [],
   "source": [
    "PATCH_HEIGHT = 256\n",
    "PATCH_WIDTH = 256"
   ]
  },
  {
   "cell_type": "code",
   "execution_count": 18,
   "metadata": {},
   "outputs": [],
   "source": [
    "DOWN_SAMPLE_FACTOR = 16 # ratio between zoom level 1 (img) and zoom level 5 (mask)"
   ]
  },
  {
   "cell_type": "code",
   "execution_count": 19,
   "metadata": {},
   "outputs": [
    {
     "name": "stderr",
     "output_type": "stream",
     "text": [
      "100%|██████████| 21/21 [00:27<00:00,  1.36it/s]\n"
     ]
    }
   ],
   "source": [
    "for img_id, meta_df_for_img in tqdm(meta_df.groupby('img_id')):\n",
    "    \n",
    "    roi_mask_file_name = 'zoom5_opening_mask_tumor_{}.npy'.format(img_id)\n",
    "    roi_mask = np.load(os.path.join(ROI_MASK_DIR, roi_mask_file_name))\n",
    "    \n",
    "    for img_file_name in meta_df_for_img['file_name'].values:\n",
    "        row_id = int(img_file_name.split('_')[-2])\n",
    "        col_id = int(img_file_name.split('_')[-1].split('.')[0])\n",
    "\n",
    "        x_start = row_id * PATCH_HEIGHT // DOWN_SAMPLE_FACTOR\n",
    "        x_end = x_start + PATCH_HEIGHT // DOWN_SAMPLE_FACTOR\n",
    "        y_start = col_id * PATCH_WIDTH // DOWN_SAMPLE_FACTOR\n",
    "        y_end = y_start + PATCH_WIDTH // DOWN_SAMPLE_FACTOR\n",
    "\n",
    "        opening_patch = roi_mask[x_start:x_end, y_start:y_end]\n",
    "\n",
    "        if opening_patch.sum() > 1:\n",
    "            is_roi = True\n",
    "        else:\n",
    "            is_roi = False\n",
    "        \n",
    "        file_name_to_roi_map[img_file_name] = is_roi"
   ]
  },
  {
   "cell_type": "code",
   "execution_count": null,
   "metadata": {},
   "outputs": [],
   "source": []
  },
  {
   "cell_type": "code",
   "execution_count": null,
   "metadata": {},
   "outputs": [],
   "source": []
  },
  {
   "cell_type": "code",
   "execution_count": 21,
   "metadata": {},
   "outputs": [],
   "source": [
    "meta_df['is_roi'] = meta_df['file_name'].map(file_name_to_roi_map)"
   ]
  },
  {
   "cell_type": "code",
   "execution_count": 22,
   "metadata": {},
   "outputs": [],
   "source": [
    "meta_df['is_roi'] = meta_df['is_roi'].astype(int)"
   ]
  },
  {
   "cell_type": "code",
   "execution_count": 25,
   "metadata": {},
   "outputs": [],
   "source": [
    "meta_df.to_json('../../../data/zoom_1_256_256_partition/meta/all_info_0.4_grayscale_tol_with_roi.json')"
   ]
  },
  {
   "cell_type": "code",
   "execution_count": 24,
   "metadata": {},
   "outputs": [
    {
     "data": {
      "text/html": [
       "<div>\n",
       "<style scoped>\n",
       "    .dataframe tbody tr th:only-of-type {\n",
       "        vertical-align: middle;\n",
       "    }\n",
       "\n",
       "    .dataframe tbody tr th {\n",
       "        vertical-align: top;\n",
       "    }\n",
       "\n",
       "    .dataframe thead th {\n",
       "        text-align: right;\n",
       "    }\n",
       "</style>\n",
       "<table border=\"1\" class=\"dataframe\">\n",
       "  <thead>\n",
       "    <tr style=\"text-align: right;\">\n",
       "      <th></th>\n",
       "      <th>file_name</th>\n",
       "      <th>img_id</th>\n",
       "      <th>include</th>\n",
       "      <th>label</th>\n",
       "      <th>non_gray_ratio</th>\n",
       "      <th>type</th>\n",
       "      <th>is_roi</th>\n",
       "    </tr>\n",
       "  </thead>\n",
       "  <tbody>\n",
       "    <tr>\n",
       "      <th>0</th>\n",
       "      <td>tumor_slide_001_split_249_24.png</td>\n",
       "      <td>001</td>\n",
       "      <td>0</td>\n",
       "      <td>0</td>\n",
       "      <td>0.016266</td>\n",
       "      <td>val</td>\n",
       "      <td>0</td>\n",
       "    </tr>\n",
       "    <tr>\n",
       "      <th>1</th>\n",
       "      <td>tumor_slide_001_split_31_127.png</td>\n",
       "      <td>001</td>\n",
       "      <td>0</td>\n",
       "      <td>0</td>\n",
       "      <td>0.004410</td>\n",
       "      <td>val</td>\n",
       "      <td>0</td>\n",
       "    </tr>\n",
       "    <tr>\n",
       "      <th>2</th>\n",
       "      <td>tumor_slide_001_split_108_188.png</td>\n",
       "      <td>001</td>\n",
       "      <td>0</td>\n",
       "      <td>0</td>\n",
       "      <td>0.000320</td>\n",
       "      <td>val</td>\n",
       "      <td>0</td>\n",
       "    </tr>\n",
       "    <tr>\n",
       "      <th>3</th>\n",
       "      <td>tumor_slide_001_split_406_51.png</td>\n",
       "      <td>001</td>\n",
       "      <td>0</td>\n",
       "      <td>0</td>\n",
       "      <td>0.000000</td>\n",
       "      <td>val</td>\n",
       "      <td>0</td>\n",
       "    </tr>\n",
       "    <tr>\n",
       "      <th>4</th>\n",
       "      <td>tumor_slide_001_split_160_72.png</td>\n",
       "      <td>001</td>\n",
       "      <td>1</td>\n",
       "      <td>0</td>\n",
       "      <td>0.720123</td>\n",
       "      <td>val</td>\n",
       "      <td>1</td>\n",
       "    </tr>\n",
       "  </tbody>\n",
       "</table>\n",
       "</div>"
      ],
      "text/plain": [
       "                           file_name img_id  include  label  non_gray_ratio  \\\n",
       "0   tumor_slide_001_split_249_24.png    001        0      0        0.016266   \n",
       "1   tumor_slide_001_split_31_127.png    001        0      0        0.004410   \n",
       "2  tumor_slide_001_split_108_188.png    001        0      0        0.000320   \n",
       "3   tumor_slide_001_split_406_51.png    001        0      0        0.000000   \n",
       "4   tumor_slide_001_split_160_72.png    001        1      0        0.720123   \n",
       "\n",
       "  type  is_roi  \n",
       "0  val       0  \n",
       "1  val       0  \n",
       "2  val       0  \n",
       "3  val       0  \n",
       "4  val       1  "
      ]
     },
     "execution_count": 24,
     "metadata": {},
     "output_type": "execute_result"
    }
   ],
   "source": [
    "meta_df.head()"
   ]
  },
  {
   "cell_type": "code",
   "execution_count": 27,
   "metadata": {},
   "outputs": [],
   "source": [
    "# meta_df[(meta_df['label'] == 1) & (meta_df['is_roi'] == False)]"
   ]
  },
  {
   "cell_type": "code",
   "execution_count": 28,
   "metadata": {},
   "outputs": [
    {
     "data": {
      "text/plain": [
       "(85372, 7)"
      ]
     },
     "execution_count": 28,
     "metadata": {},
     "output_type": "execute_result"
    }
   ],
   "source": [
    "meta_df[(meta_df['is_roi'] == True) & (meta_df['include'] == False)].shape"
   ]
  },
  {
   "cell_type": "code",
   "execution_count": 33,
   "metadata": {},
   "outputs": [],
   "source": [
    "# investigate - too many is_roi = False"
   ]
  },
  {
   "cell_type": "code",
   "execution_count": 29,
   "metadata": {},
   "outputs": [
    {
     "data": {
      "text/plain": [
       "(8409, 7)"
      ]
     },
     "execution_count": 29,
     "metadata": {},
     "output_type": "execute_result"
    }
   ],
   "source": [
    "meta_df[(meta_df['include'] == True) & (meta_df['is_roi'] == False)].shape"
   ]
  },
  {
   "cell_type": "code",
   "execution_count": 30,
   "metadata": {},
   "outputs": [
    {
     "data": {
      "text/plain": [
       "(94166, 7)"
      ]
     },
     "execution_count": 30,
     "metadata": {},
     "output_type": "execute_result"
    }
   ],
   "source": [
    "meta_df[(meta_df['include'] == True) & (meta_df['is_roi'] == True)].shape"
   ]
  },
  {
   "cell_type": "code",
   "execution_count": 31,
   "metadata": {},
   "outputs": [
    {
     "data": {
      "text/plain": [
       "(1078347, 7)"
      ]
     },
     "execution_count": 31,
     "metadata": {},
     "output_type": "execute_result"
    }
   ],
   "source": [
    "meta_df[(meta_df['include'] == False) & (meta_df['is_roi'] == False)].shape"
   ]
  },
  {
   "cell_type": "code",
   "execution_count": null,
   "metadata": {},
   "outputs": [],
   "source": []
  },
  {
   "cell_type": "code",
   "execution_count": 32,
   "metadata": {},
   "outputs": [
    {
     "data": {
      "text/plain": [
       "<matplotlib.image.AxesImage at 0x7f72f677c908>"
      ]
     },
     "execution_count": 32,
     "metadata": {},
     "output_type": "execute_result"
    },
    {
     "data": {
      "image/png": "[encoded data removed]",
      "text/plain": [
       "<Figure size 720x720 with 1 Axes>"
      ]
     },
     "metadata": {
      "needs_background": "light"
     },
     "output_type": "display_data"
    }
   ],
   "source": [
    "plt.figure(figsize=(10, 10))\n",
    "plt.imshow(roi_mask)"
   ]
  },
  {
   "cell_type": "code",
   "execution_count": null,
   "metadata": {},
   "outputs": [],
   "source": []
  },
  {
   "cell_type": "markdown",
   "metadata": {},
   "source": [
    "#### Dummy - lets delete the below"
   ]
  },
  {
   "cell_type": "code",
   "execution_count": 7,
   "metadata": {},
   "outputs": [],
   "source": [
    "meta_df = pd.read_json('../../../data/zoom_1_256_256_partition/meta/all_info_0.4_grayscale_tol_with_roi.json', \n",
    "                   dtype=False)"
   ]
  },
  {
   "cell_type": "code",
   "execution_count": 8,
   "metadata": {},
   "outputs": [
    {
     "data": {
      "text/html": [
       "<div>\n",
       "<style scoped>\n",
       "    .dataframe tbody tr th:only-of-type {\n",
       "        vertical-align: middle;\n",
       "    }\n",
       "\n",
       "    .dataframe tbody tr th {\n",
       "        vertical-align: top;\n",
       "    }\n",
       "\n",
       "    .dataframe thead th {\n",
       "        text-align: right;\n",
       "    }\n",
       "</style>\n",
       "<table border=\"1\" class=\"dataframe\">\n",
       "  <thead>\n",
       "    <tr style=\"text-align: right;\">\n",
       "      <th></th>\n",
       "      <th>file_name</th>\n",
       "      <th>img_id</th>\n",
       "      <th>include</th>\n",
       "      <th>label</th>\n",
       "      <th>non_gray_ratio</th>\n",
       "      <th>type</th>\n",
       "      <th>is_roi</th>\n",
       "    </tr>\n",
       "  </thead>\n",
       "  <tbody>\n",
       "    <tr>\n",
       "      <th>0</th>\n",
       "      <td>tumor_slide_001_split_249_24.png</td>\n",
       "      <td>001</td>\n",
       "      <td>0</td>\n",
       "      <td>0</td>\n",
       "      <td>0.016266</td>\n",
       "      <td>val</td>\n",
       "      <td>0</td>\n",
       "    </tr>\n",
       "    <tr>\n",
       "      <th>1</th>\n",
       "      <td>tumor_slide_001_split_31_127.png</td>\n",
       "      <td>001</td>\n",
       "      <td>0</td>\n",
       "      <td>0</td>\n",
       "      <td>0.004410</td>\n",
       "      <td>val</td>\n",
       "      <td>0</td>\n",
       "    </tr>\n",
       "    <tr>\n",
       "      <th>10</th>\n",
       "      <td>tumor_slide_001_split_327_7.png</td>\n",
       "      <td>001</td>\n",
       "      <td>0</td>\n",
       "      <td>0</td>\n",
       "      <td>0.000015</td>\n",
       "      <td>val</td>\n",
       "      <td>0</td>\n",
       "    </tr>\n",
       "    <tr>\n",
       "      <th>100</th>\n",
       "      <td>tumor_slide_001_split_89_149.png</td>\n",
       "      <td>001</td>\n",
       "      <td>0</td>\n",
       "      <td>0</td>\n",
       "      <td>0.000000</td>\n",
       "      <td>val</td>\n",
       "      <td>0</td>\n",
       "    </tr>\n",
       "    <tr>\n",
       "      <th>1000</th>\n",
       "      <td>tumor_slide_001_split_211_167.png</td>\n",
       "      <td>001</td>\n",
       "      <td>0</td>\n",
       "      <td>0</td>\n",
       "      <td>0.002487</td>\n",
       "      <td>val</td>\n",
       "      <td>0</td>\n",
       "    </tr>\n",
       "  </tbody>\n",
       "</table>\n",
       "</div>"
      ],
      "text/plain": [
       "                              file_name img_id  include  label  \\\n",
       "0      tumor_slide_001_split_249_24.png    001        0      0   \n",
       "1      tumor_slide_001_split_31_127.png    001        0      0   \n",
       "10      tumor_slide_001_split_327_7.png    001        0      0   \n",
       "100    tumor_slide_001_split_89_149.png    001        0      0   \n",
       "1000  tumor_slide_001_split_211_167.png    001        0      0   \n",
       "\n",
       "      non_gray_ratio type  is_roi  \n",
       "0           0.016266  val       0  \n",
       "1           0.004410  val       0  \n",
       "10          0.000015  val       0  \n",
       "100         0.000000  val       0  \n",
       "1000        0.002487  val       0  "
      ]
     },
     "execution_count": 8,
     "metadata": {},
     "output_type": "execute_result"
    }
   ],
   "source": [
    "meta_df.head()"
   ]
  },
  {
   "cell_type": "code",
   "execution_count": 14,
   "metadata": {},
   "outputs": [
    {
     "data": {
      "text/plain": [
       "(14346, 7)"
      ]
     },
     "execution_count": 14,
     "metadata": {},
     "output_type": "execute_result"
    }
   ],
   "source": [
    "meta_df[(meta_df['label'] == 1) & (meta_df['is_roi'] == True)].shape"
   ]
  },
  {
   "cell_type": "code",
   "execution_count": 16,
   "metadata": {},
   "outputs": [
    {
     "data": {
      "text/plain": [
       "(28, 7)"
      ]
     },
     "execution_count": 16,
     "metadata": {},
     "output_type": "execute_result"
    }
   ],
   "source": [
    "meta_df[(meta_df['label'] == 1) & (meta_df['is_roi'] == False)].shape"
   ]
  },
  {
   "cell_type": "code",
   "execution_count": 17,
   "metadata": {},
   "outputs": [
    {
     "data": {
      "text/plain": [
       "(165192, 7)"
      ]
     },
     "execution_count": 17,
     "metadata": {},
     "output_type": "execute_result"
    }
   ],
   "source": [
    "meta_df[(meta_df['label'] == 0) & (meta_df['is_roi'] == True)].shape"
   ]
  },
  {
   "cell_type": "code",
   "execution_count": 18,
   "metadata": {},
   "outputs": [
    {
     "data": {
      "text/plain": [
       "(1086728, 7)"
      ]
     },
     "execution_count": 18,
     "metadata": {},
     "output_type": "execute_result"
    }
   ],
   "source": [
    "meta_df[(meta_df['label'] == 0) & (meta_df['is_roi'] == False)].shape"
   ]
  },
  {
   "cell_type": "code",
   "execution_count": 19,
   "metadata": {},
   "outputs": [
    {
     "data": {
      "text/plain": [
       "(13804, 7)"
      ]
     },
     "execution_count": 19,
     "metadata": {},
     "output_type": "execute_result"
    }
   ],
   "source": [
    "meta_df[(meta_df['label'] == 1) & (meta_df['include'] == True)].shape"
   ]
  },
  {
   "cell_type": "code",
   "execution_count": 20,
   "metadata": {},
   "outputs": [
    {
     "data": {
      "text/plain": [
       "(570, 7)"
      ]
     },
     "execution_count": 20,
     "metadata": {},
     "output_type": "execute_result"
    }
   ],
   "source": [
    "meta_df[(meta_df['label'] == 1) & (meta_df['include'] == False)].shape"
   ]
  },
  {
   "cell_type": "code",
   "execution_count": 21,
   "metadata": {},
   "outputs": [
    {
     "data": {
      "text/plain": [
       "(88771, 7)"
      ]
     },
     "execution_count": 21,
     "metadata": {},
     "output_type": "execute_result"
    }
   ],
   "source": [
    "meta_df[(meta_df['label'] == 0) & (meta_df['include'] == True)].shape"
   ]
  },
  {
   "cell_type": "code",
   "execution_count": 22,
   "metadata": {},
   "outputs": [
    {
     "data": {
      "text/plain": [
       "(1163149, 7)"
      ]
     },
     "execution_count": 22,
     "metadata": {},
     "output_type": "execute_result"
    }
   ],
   "source": [
    "meta_df[(meta_df['label'] == 0) & (meta_df['include'] == False)].shape"
   ]
  },
  {
   "cell_type": "code",
   "execution_count": null,
   "metadata": {},
   "outputs": [],
   "source": []
  },
  {
   "cell_type": "code",
   "execution_count": null,
   "metadata": {},
   "outputs": [],
   "source": []
  },
  {
   "cell_type": "code",
   "execution_count": 11,
   "metadata": {},
   "outputs": [],
   "source": [
    "sub_df = meta_df[meta_df['is_roi'] == True].copy()"
   ]
  },
  {
   "cell_type": "code",
   "execution_count": 12,
   "metadata": {},
   "outputs": [
    {
     "data": {
      "text/plain": [
       "(179538, 7)"
      ]
     },
     "execution_count": 12,
     "metadata": {},
     "output_type": "execute_result"
    }
   ],
   "source": [
    "sub_df.shape"
   ]
  },
  {
   "cell_type": "code",
   "execution_count": 13,
   "metadata": {},
   "outputs": [
    {
     "data": {
      "text/plain": [
       "0    165192\n",
       "1     14346\n",
       "Name: label, dtype: int64"
      ]
     },
     "execution_count": 13,
     "metadata": {},
     "output_type": "execute_result"
    }
   ],
   "source": [
    "sub_df['label'].value_counts()"
   ]
  },
  {
   "cell_type": "code",
   "execution_count": 25,
   "metadata": {},
   "outputs": [],
   "source": [
    "temp_df = meta_df[meta_df['include'] == True]"
   ]
  },
  {
   "cell_type": "code",
   "execution_count": 29,
   "metadata": {},
   "outputs": [
    {
     "data": {
      "text/plain": [
       "(8409, 7)"
      ]
     },
     "execution_count": 29,
     "metadata": {},
     "output_type": "execute_result"
    }
   ],
   "source": [
    "temp_df[temp_df['is_roi'] == False].shape"
   ]
  },
  {
   "cell_type": "code",
   "execution_count": 30,
   "metadata": {},
   "outputs": [
    {
     "data": {
      "text/plain": [
       "(102575, 7)"
      ]
     },
     "execution_count": 30,
     "metadata": {},
     "output_type": "execute_result"
    }
   ],
   "source": [
    "temp_df.shape"
   ]
  },
  {
   "cell_type": "code",
   "execution_count": null,
   "metadata": {},
   "outputs": [],
   "source": []
  }
 ],
 "metadata": {
  "kernelspec": {
   "display_name": "Python 3",
   "language": "python",
   "name": "python3"
  },
  "language_info": {
   "codemirror_mode": {
    "name": "ipython",
    "version": 3
   },
   "file_extension": ".py",
   "mimetype": "text/x-python",
   "name": "python",
   "nbconvert_exporter": "python",
   "pygments_lexer": "ipython3",
   "version": "3.6.8"
  }
 },
 "nbformat": 4,
 "nbformat_minor": 2
}
